{
  "nbformat": 4,
  "nbformat_minor": 0,
  "metadata": {
    "colab": {
      "provenance": [],
      "toc_visible": true
    },
    "kernelspec": {
      "name": "python3",
      "display_name": "Python 3"
    },
    "language_info": {
      "name": "python"
    }
  },
  "cells": [
    {
      "cell_type": "markdown",
      "source": [
        "Here are a selection of questions for you to practise the topics we have seen in the lectures. These questions are not marked, they are just for you to practise your coding.\n",
        "\n",
        "Coding is best learnt by doing, so do have a go at all the questions below.\n",
        "\n",
        "In the seminars Jason and Mark will help you with any of the questions where you are struggling or need assistance."
      ],
      "metadata": {
        "id": "jTp_XTqeKynF"
      }
    },
    {
      "cell_type": "markdown",
      "source": [
        "#Python Basics"
      ],
      "metadata": {
        "id": "sVdeAvwtS_8n"
      }
    },
    {
      "cell_type": "markdown",
      "source": [
        "##Question 1\n",
        "Use Python to compute the following mathematical operations:\n",
        "\n",
        "\n",
        "1.   $2340 - 120$\n",
        "2.   $1120 + 2321$\n",
        "3.   $123 \\times 22$\n",
        "4.   $\\frac{965}{23}$\n",
        "5.   $25^4$\n",
        "6.   $(24\\times 76)-500$\n",
        "7.   $\\frac{5784-4368}{243}$\n",
        "8.   $2^{16}-2^{32}$\n",
        "\n"
      ],
      "metadata": {
        "id": "karEFPS6TD8P"
      }
    },
    {
      "cell_type": "code",
      "execution_count": null,
      "metadata": {
        "id": "0hSrQe48S51C"
      },
      "outputs": [],
      "source": [
        "# Answers to Question 1\n"
      ]
    },
    {
      "cell_type": "markdown",
      "source": [
        "##Question 2\n",
        "\n",
        "\n",
        "1.   Set the variable \"name\" as a string containing your name.\n",
        "2.   Set the variable \"studentID\" as a string containing your student number.\n",
        "3.   Set the variable studentNumber as the number (int) in the student ID (everything except the N).\n",
        "4.   Check if studentID and studentNumber are equal.\n",
        "\n",
        "\n"
      ],
      "metadata": {
        "id": "hesSAA2EVAVp"
      }
    },
    {
      "cell_type": "code",
      "source": [
        "# Answers to Question 2\n"
      ],
      "metadata": {
        "id": "1TPLlPaQYcxa"
      },
      "execution_count": null,
      "outputs": []
    },
    {
      "cell_type": "markdown",
      "source": [
        "##Question 3\n",
        "\n",
        "a) Print \"Hello World!\" in interactive interpreter:\n",
        "\n",
        "1.   Open the interactive interpreter (In Windows use powershell, VS Code, cmd prompt, or other IDE. In MacOS use terminal).\n",
        "2.   Type `print(\"Hello World!\")`.\n",
        "3.   Press enter.\n",
        "\n",
        "b) Print \"Hello World!\" by running a Python file:\n",
        "1.   Open a text file (e.g. using notebook).\n",
        "2.   Type `print(\"Hello World!\")` in the new file.\n",
        "3.   Save the file as HelloWorld.py.\n",
        "4.   Open the terminal (powershell, cmd prompt, or terminal).\n",
        "5.   Navigate to the folder where you just saved the file (the easy way to do this is to type `cd ` and then drag and drop the folder into the terminal).\n",
        "6.   In the terminal type \"python HelloWorld.py\" and press enter.\n",
        "\n",
        "c) Print \"Hello World!\" in this notebook:\n",
        "1.   Create a new cell below, by clicking \"cell\" just below this text.\n",
        "2.   In the new cell type `print(\"Hello World!\")`.\n",
        "3.   Click the run button on the left side of the new cell (the triangle in a circle).\n",
        "\n"
      ],
      "metadata": {
        "id": "P460aQ01YfC9"
      }
    },
    {
      "cell_type": "markdown",
      "source": [
        "## Question 4\n",
        "\n",
        "Try and fix the following errors by reading the error messages"
      ],
      "metadata": {
        "id": "4FdmvHQIb9uu"
      }
    },
    {
      "cell_type": "code",
      "source": [
        "# Question 4a\n",
        "# This code should print the string: Why will you not work!\n",
        "print(Why will you not work!)"
      ],
      "metadata": {
        "colab": {
          "base_uri": "https://localhost:8080/",
          "height": 106
        },
        "id": "wyPKTVr5fF9J",
        "outputId": "97ea2f87-18dc-49b0-8a89-ce24228d1a5a"
      },
      "execution_count": null,
      "outputs": [
        {
          "output_type": "error",
          "ename": "SyntaxError",
          "evalue": "invalid syntax. Perhaps you forgot a comma? (<ipython-input-4-4e54c7f1160d>, line 2)",
          "traceback": [
            "\u001b[0;36m  File \u001b[0;32m\"<ipython-input-4-4e54c7f1160d>\"\u001b[0;36m, line \u001b[0;32m2\u001b[0m\n\u001b[0;31m    print(Why will you not work!)\u001b[0m\n\u001b[0m          ^\u001b[0m\n\u001b[0;31mSyntaxError\u001b[0m\u001b[0;31m:\u001b[0m invalid syntax. Perhaps you forgot a comma?\n"
          ]
        }
      ]
    },
    {
      "cell_type": "code",
      "source": [
        "# Question 4b\n",
        "# This code should set the variable a as the string Hello World!\n",
        "a == \"Hello World!\""
      ],
      "metadata": {
        "colab": {
          "base_uri": "https://localhost:8080/",
          "height": 159
        },
        "id": "PetY1SpyfZhA",
        "outputId": "ba187ba9-4350-47c3-abab-d662d63749d2"
      },
      "execution_count": null,
      "outputs": [
        {
          "output_type": "error",
          "ename": "NameError",
          "evalue": "name 'a' is not defined",
          "traceback": [
            "\u001b[0;31m---------------------------------------------------------------------------\u001b[0m",
            "\u001b[0;31mNameError\u001b[0m                                 Traceback (most recent call last)",
            "\u001b[0;32m<ipython-input-5-491be7a2b245>\u001b[0m in \u001b[0;36m<cell line: 2>\u001b[0;34m()\u001b[0m\n\u001b[1;32m      1\u001b[0m \u001b[0;31m#Question 4b\u001b[0m\u001b[0;34m\u001b[0m\u001b[0;34m\u001b[0m\u001b[0m\n\u001b[0;32m----> 2\u001b[0;31m \u001b[0ma\u001b[0m \u001b[0;34m==\u001b[0m \u001b[0;34m\"Hello World!\"\u001b[0m\u001b[0;34m\u001b[0m\u001b[0;34m\u001b[0m\u001b[0m\n\u001b[0m",
            "\u001b[0;31mNameError\u001b[0m: name 'a' is not defined"
          ]
        }
      ]
    },
    {
      "cell_type": "code",
      "source": [
        "# Question 4c\n",
        "# This code should set the variable a equal to 23 times 32\n",
        "a = 23 x 32"
      ],
      "metadata": {
        "colab": {
          "base_uri": "https://localhost:8080/",
          "height": 106
        },
        "id": "XEaqLKtNfh54",
        "outputId": "6cd13454-74b8-4a1c-f13a-4476b3ab8935"
      },
      "execution_count": null,
      "outputs": [
        {
          "output_type": "error",
          "ename": "SyntaxError",
          "evalue": "invalid syntax (<ipython-input-6-bf0a78e3e7ad>, line 2)",
          "traceback": [
            "\u001b[0;36m  File \u001b[0;32m\"<ipython-input-6-bf0a78e3e7ad>\"\u001b[0;36m, line \u001b[0;32m2\u001b[0m\n\u001b[0;31m    a = 23 x 32\u001b[0m\n\u001b[0m           ^\u001b[0m\n\u001b[0;31mSyntaxError\u001b[0m\u001b[0;31m:\u001b[0m invalid syntax\n"
          ]
        }
      ]
    },
    {
      "cell_type": "code",
      "source": [
        "# Question 4d\n",
        "# This code should print: Arrrrrggggghhhhhh!\n",
        "print(\"Arrrrrggggghhhhhh!\""
      ],
      "metadata": {
        "colab": {
          "base_uri": "https://localhost:8080/",
          "height": 106
        },
        "id": "yzdWLdp2gTrc",
        "outputId": "5b2423d5-8ddc-486e-ab56-eee9afe04607"
      },
      "execution_count": null,
      "outputs": [
        {
          "output_type": "error",
          "ename": "SyntaxError",
          "evalue": "incomplete input (<ipython-input-7-1202a51bf4cb>, line 3)",
          "traceback": [
            "\u001b[0;36m  File \u001b[0;32m\"<ipython-input-7-1202a51bf4cb>\"\u001b[0;36m, line \u001b[0;32m3\u001b[0m\n\u001b[0;31m    print(\"Arrrrrggggghhhhhh!\"\u001b[0m\n\u001b[0m                              ^\u001b[0m\n\u001b[0;31mSyntaxError\u001b[0m\u001b[0;31m:\u001b[0m incomplete input\n"
          ]
        }
      ]
    },
    {
      "cell_type": "code",
      "source": [
        "# Question 4e\n",
        "# This code sets the variable a equal to 2 plus 3, then prints whether a is equal to 5\n",
        "a=2+3\n",
        "print(5=a)"
      ],
      "metadata": {
        "colab": {
          "base_uri": "https://localhost:8080/",
          "height": 106
        },
        "id": "_SGbc6nFhhDn",
        "outputId": "f8f46664-ad83-4de2-c4de-99a305e97a76"
      },
      "execution_count": null,
      "outputs": [
        {
          "output_type": "error",
          "ename": "SyntaxError",
          "evalue": "expression cannot contain assignment, perhaps you meant \"==\"? (<ipython-input-8-87a3be072b6d>, line 4)",
          "traceback": [
            "\u001b[0;36m  File \u001b[0;32m\"<ipython-input-8-87a3be072b6d>\"\u001b[0;36m, line \u001b[0;32m4\u001b[0m\n\u001b[0;31m    print(5=a)\u001b[0m\n\u001b[0m          ^\u001b[0m\n\u001b[0;31mSyntaxError\u001b[0m\u001b[0;31m:\u001b[0m expression cannot contain assignment, perhaps you meant \"==\"?\n"
          ]
        }
      ]
    },
    {
      "cell_type": "markdown",
      "source": [
        "# Types"
      ],
      "metadata": {
        "id": "nbRXRrpEtNSw"
      }
    },
    {
      "cell_type": "markdown",
      "source": [
        "## Question 5\n",
        "Determine whether each of the following is an int, float, string, or boolean. At first try and determine the type by looking at how it is written below, then verify your answer using the `type` and `isinstance` functions.\n",
        "\n"
      ],
      "metadata": {
        "id": "kcNj3LPgtRtq"
      }
    },
    {
      "cell_type": "code",
      "source": [
        "a = 4\n",
        "b = 4.0\n",
        "c = \"4\"\n",
        "d = \"four\"\n",
        "e = True\n",
        "f = \"True\"\n",
        "\n",
        "# Answers to Question 5\n"
      ],
      "metadata": {
        "id": "9HYH1CJnwl3n"
      },
      "execution_count": null,
      "outputs": []
    },
    {
      "cell_type": "markdown",
      "source": [
        "## Question 6\n",
        "Declare the variable w as the float 22.3. Then convert it to the following types:\n",
        "\n",
        "\n",
        "1.   Convert w to a string, call this x and print it.\n",
        "2.   Convert w to an int, call this y and print it.\n",
        "3.   Convert y to a boolean, call this z and print it.\n",
        "4.   Convert y to a float, call this a, print a, and check if a and w are equal.\n",
        "5.   Convert w to a float, call this b, print b, and check if b and w are equal.\n"
      ],
      "metadata": {
        "id": "n-ukUZKrxOPY"
      }
    },
    {
      "cell_type": "code",
      "source": [
        "# Answers to Question 6\n"
      ],
      "metadata": {
        "id": "3mbL8h-kzvrN"
      },
      "execution_count": null,
      "outputs": []
    },
    {
      "cell_type": "markdown",
      "source": [
        "## Question 7\n",
        "In this question we will use the built in string functions, a good summary of the functions is available [here](https://www.w3schools.com/python/python_ref_string.asp), along with examples.\n",
        "Note that to use these functions on a string X you do `X.function_name()`.\n",
        "\n",
        "\n",
        "1.   Set the variable `studentID` as a string containing your student ID.\n",
        "2.   Use the `count` function to count how many 1's are in your student number, and print the result.\n",
        "3.   Use the `find` function to determine the position of the first 4 in your student id, and print the result.\n",
        "4.   Use the `replace` function to change all 0's to 9's in your studentID, and print the result.\n",
        "5.   Create a new string called `statement` by adding the string \"My student id is \" and `studentID`, then print `statement`.\n",
        "6.   Use `[1:]` to get just the numeric part of your student ID, and call this studentNumber.\n",
        "7.   Test if studentNumber only contains numbers using the function `isnumeric`.\n",
        "8.   Convert studentNumber into an int, and assign it to the variable studentNumberInt.\n",
        "9.   Create a string that says \"The last digit of my student number is \" followed by the actual last digit of your student number.\n",
        "\n"
      ],
      "metadata": {
        "id": "O3Ya3GI4zzGG"
      }
    },
    {
      "cell_type": "code",
      "source": [
        "# Answers to Question 7\n"
      ],
      "metadata": {
        "id": "1UhhpZz8Sqe7"
      },
      "execution_count": null,
      "outputs": []
    },
    {
      "cell_type": "markdown",
      "source": [
        "## Question 8\n",
        "\n",
        "For this question we will use the studentNumber you defined in Question 7, so make sure that the have completed question 7, and run the cell containing your answers. Or assign the variable studentNumber as a string of the numeric part of your student id in the cell below.\n",
        "\n",
        "Recall that we access the i'th element of a string using `[i]`. And we can convert element to an int using int().\n",
        "\n",
        "For each of the following print a boolean indicating if the statement is true or false:\n",
        "\n",
        "1.    The 4th digit in your student number is strictly less than the 6th digit of your student number.\n",
        "2.    The 1st digit in your student number is equal to the last digit of your student number.\n",
        "3.    The 1st digit in your student number is less than or equal to the second and strictly greater than the third.\n",
        "4.    The 3rd digit in your student number is not equal to the 4th digit.\n",
        "5.    The 4th digit of your student number is even.\n",
        "5.    The 2nd digit of your student number is a multiple of 3."
      ],
      "metadata": {
        "id": "qYW-TWwiY9L8"
      }
    },
    {
      "cell_type": "code",
      "source": [
        "# Answers to Question 8\n"
      ],
      "metadata": {
        "id": "YHdIv1l5ZCfQ"
      },
      "execution_count": null,
      "outputs": []
    },
    {
      "cell_type": "markdown",
      "source": [
        "#Lists, Tuples, Sets, and Dicts"
      ],
      "metadata": {
        "id": "Bem3zsaZdHJb"
      }
    },
    {
      "cell_type": "markdown",
      "source": [
        "## Question 9\n",
        "\n",
        "\n",
        "\n",
        "1.   Create a list containing 10 different animals, as strings, call the list `animals`.\n",
        "2.   Create, and print, a boolean testing if `animals` contains \"rabbit\".\n",
        "3.   Make a copy of animals, and call it `mammals`.\n",
        "4.   For every element in `mammals` that is not a mammal, change it to a mammal.\n",
        "5.   Convert `mammals` to a tuple, again calling the tuple `mammals`.\n",
        "6.   Print animals and ensure it has remained unchanged.\n",
        "7.   Create sets called `mammals_set` and `animals_set`, which contain the elements of `mammals` and `animals`, respectively.\n",
        "8.   Print the intersection of `mammals_set` and `animals_set`.\n"
      ],
      "metadata": {
        "id": "tQNe0nbPdNZN"
      }
    },
    {
      "cell_type": "code",
      "source": [
        "# Answers to Question 9\n"
      ],
      "metadata": {
        "id": "O4PZtNBegXNJ"
      },
      "execution_count": null,
      "outputs": []
    },
    {
      "cell_type": "markdown",
      "source": [
        "## Question 10\n",
        "Consider the list `letters` defined below.\n",
        "\n",
        "1.    Convert `letters` to a tuple and call it `tuple_of_letters`.\n",
        "2.    Convert  `letters` to a set and call it `set_of_letters`.\n",
        "3.    Convert `set_of_letters` into a tuple and call it `new_letters`.\n",
        "4.    Check if `letters` is equal to `new_letters`.\n",
        "5.    Check if `letters[2:]` is equal to `new_letters`.\n",
        "5.    Print the length of `new_letters` using the `len()` function.\n",
        "6.    Use the capitalize() function to replace the 'a' in letters with 'A'.\n",
        "7.    Use append() to add 'E' at to the end of `letters`.\n",
        "8.    Use insert() to add 'E' at the start of `letters`."
      ],
      "metadata": {
        "id": "nZgzwynPgZog"
      }
    },
    {
      "cell_type": "code",
      "source": [
        "# Answers to Question 10\n",
        "letters = ['d','c','b','a','b','c','d',]\n"
      ],
      "metadata": {
        "id": "9MghykvNiJ96"
      },
      "execution_count": 1,
      "outputs": []
    },
    {
      "cell_type": "markdown",
      "source": [
        "## Question 11\n",
        "For each of the following mathematical functions create a dictionary (called whatever you want) with keys $1,2,3,4,5,6,7,8,9,10$, and for each key $i$ associate to it the value $f(i)$:\n",
        "1.    $f(x) = x^2$\n",
        "2.    $f(x) = 2x+1$\n",
        "3.    $f(x) = \\frac{x^3+2x}{4}$\n",
        "4.    $f(x) = x^3-x^2-7$"
      ],
      "metadata": {
        "id": "-CMl-F3IiKVT"
      }
    },
    {
      "cell_type": "code",
      "source": [
        "# Answers to Question 11\n"
      ],
      "metadata": {
        "id": "X22UfCGhkgGf"
      },
      "execution_count": null,
      "outputs": []
    },
    {
      "cell_type": "markdown",
      "source": [
        "## Question 12\n",
        "Read the error messages and fix the following snippets of code"
      ],
      "metadata": {
        "id": "n-HT6NyTosm1"
      }
    },
    {
      "cell_type": "code",
      "source": [
        "# Question 12a\n",
        "# This code takes a list of the number 1,2,3, and changes 3 to 4\n",
        "numbers = [1,2,3]\n",
        "numbers[3]=4"
      ],
      "metadata": {
        "colab": {
          "base_uri": "https://localhost:8080/",
          "height": 176
        },
        "id": "zIgE6N2_oyRj",
        "outputId": "96f85a5b-1af7-47b1-ad80-821de068a69e"
      },
      "execution_count": null,
      "outputs": [
        {
          "output_type": "error",
          "ename": "IndexError",
          "evalue": "list assignment index out of range",
          "traceback": [
            "\u001b[0;31m---------------------------------------------------------------------------\u001b[0m",
            "\u001b[0;31mIndexError\u001b[0m                                Traceback (most recent call last)",
            "\u001b[0;32m<ipython-input-5-3b4233b20eed>\u001b[0m in \u001b[0;36m<cell line: 4>\u001b[0;34m()\u001b[0m\n\u001b[1;32m      2\u001b[0m \u001b[0;31m# This code takes a list of the number 1,2,3, and changes 3 to 4\u001b[0m\u001b[0;34m\u001b[0m\u001b[0;34m\u001b[0m\u001b[0m\n\u001b[1;32m      3\u001b[0m \u001b[0mnumbers\u001b[0m \u001b[0;34m=\u001b[0m \u001b[0;34m[\u001b[0m\u001b[0;36m1\u001b[0m\u001b[0;34m,\u001b[0m\u001b[0;36m2\u001b[0m\u001b[0;34m,\u001b[0m\u001b[0;36m3\u001b[0m\u001b[0;34m]\u001b[0m\u001b[0;34m\u001b[0m\u001b[0;34m\u001b[0m\u001b[0m\n\u001b[0;32m----> 4\u001b[0;31m \u001b[0mnumbers\u001b[0m\u001b[0;34m[\u001b[0m\u001b[0;36m3\u001b[0m\u001b[0;34m]\u001b[0m\u001b[0;34m=\u001b[0m\u001b[0;36m4\u001b[0m\u001b[0;34m\u001b[0m\u001b[0;34m\u001b[0m\u001b[0m\n\u001b[0m",
            "\u001b[0;31mIndexError\u001b[0m: list assignment index out of range"
          ]
        }
      ]
    },
    {
      "cell_type": "code",
      "source": [
        "# Question 12b\n",
        "# This code create a dictionary which convert the strings of the first 5 letters of the alphabet into their position in the alphabet\n",
        "alphabet_to_number = {a:1, b:2, c:3, d:4, e:5}"
      ],
      "metadata": {
        "colab": {
          "base_uri": "https://localhost:8080/",
          "height": 176
        },
        "id": "C193xyx7pDbP",
        "outputId": "b7222c35-4efb-4db6-fb78-715e23aecf30"
      },
      "execution_count": null,
      "outputs": [
        {
          "output_type": "error",
          "ename": "NameError",
          "evalue": "name 'a' is not defined",
          "traceback": [
            "\u001b[0;31m---------------------------------------------------------------------------\u001b[0m",
            "\u001b[0;31mNameError\u001b[0m                                 Traceback (most recent call last)",
            "\u001b[0;32m<ipython-input-6-95e7e30c184e>\u001b[0m in \u001b[0;36m<cell line: 3>\u001b[0;34m()\u001b[0m\n\u001b[1;32m      1\u001b[0m \u001b[0;31m# Question 12b\u001b[0m\u001b[0;34m\u001b[0m\u001b[0;34m\u001b[0m\u001b[0m\n\u001b[1;32m      2\u001b[0m \u001b[0;31m# This code create a dictionary which convert the the first 5 letters of the alphabet into their position in the alphabet\u001b[0m\u001b[0;34m\u001b[0m\u001b[0;34m\u001b[0m\u001b[0m\n\u001b[0;32m----> 3\u001b[0;31m \u001b[0malphabet_to_number\u001b[0m \u001b[0;34m=\u001b[0m \u001b[0;34m{\u001b[0m\u001b[0ma\u001b[0m\u001b[0;34m:\u001b[0m\u001b[0;36m1\u001b[0m\u001b[0;34m,\u001b[0m \u001b[0mb\u001b[0m\u001b[0;34m:\u001b[0m\u001b[0;36m2\u001b[0m\u001b[0;34m,\u001b[0m \u001b[0mc\u001b[0m\u001b[0;34m:\u001b[0m\u001b[0;36m3\u001b[0m\u001b[0;34m,\u001b[0m \u001b[0md\u001b[0m\u001b[0;34m:\u001b[0m\u001b[0;36m4\u001b[0m\u001b[0;34m,\u001b[0m \u001b[0me\u001b[0m\u001b[0;34m:\u001b[0m\u001b[0;36m5\u001b[0m\u001b[0;34m}\u001b[0m\u001b[0;34m\u001b[0m\u001b[0;34m\u001b[0m\u001b[0m\n\u001b[0m",
            "\u001b[0;31mNameError\u001b[0m: name 'a' is not defined"
          ]
        }
      ]
    },
    {
      "cell_type": "code",
      "source": [
        "# Question 12c\n",
        "# This code sets A as the empty set and then add 0 to A\n",
        "A = {}\n",
        "A.add(0)"
      ],
      "metadata": {
        "colab": {
          "base_uri": "https://localhost:8080/",
          "height": 176
        },
        "id": "gUX8zf6oqYfP",
        "outputId": "c44f21e5-6790-4063-d66c-16bcfa089c2b"
      },
      "execution_count": null,
      "outputs": [
        {
          "output_type": "error",
          "ename": "AttributeError",
          "evalue": "'dict' object has no attribute 'add'",
          "traceback": [
            "\u001b[0;31m---------------------------------------------------------------------------\u001b[0m",
            "\u001b[0;31mAttributeError\u001b[0m                            Traceback (most recent call last)",
            "\u001b[0;32m<ipython-input-7-d0e14445e7d1>\u001b[0m in \u001b[0;36m<cell line: 4>\u001b[0;34m()\u001b[0m\n\u001b[1;32m      2\u001b[0m \u001b[0;31m# This code\u001b[0m\u001b[0;34m\u001b[0m\u001b[0;34m\u001b[0m\u001b[0m\n\u001b[1;32m      3\u001b[0m \u001b[0mA\u001b[0m \u001b[0;34m=\u001b[0m \u001b[0;34m{\u001b[0m\u001b[0;34m}\u001b[0m\u001b[0;34m\u001b[0m\u001b[0;34m\u001b[0m\u001b[0m\n\u001b[0;32m----> 4\u001b[0;31m \u001b[0mA\u001b[0m\u001b[0;34m.\u001b[0m\u001b[0madd\u001b[0m\u001b[0;34m(\u001b[0m\u001b[0;36m0\u001b[0m\u001b[0;34m)\u001b[0m\u001b[0;34m\u001b[0m\u001b[0;34m\u001b[0m\u001b[0m\n\u001b[0m",
            "\u001b[0;31mAttributeError\u001b[0m: 'dict' object has no attribute 'add'"
          ]
        }
      ]
    },
    {
      "cell_type": "code",
      "source": [
        "# Question 12d\n",
        "# This code creates a dictionary whose keys are pairs of integers, and the value is the sum of the pair\n",
        "A = {[1,2]:3 , [2,3]:5, [5,6]:11}"
      ],
      "metadata": {
        "colab": {
          "base_uri": "https://localhost:8080/",
          "height": 176
        },
        "id": "tJZUVgSarAfI",
        "outputId": "c917d740-defd-4d8c-8671-c315f49ae17a"
      },
      "execution_count": null,
      "outputs": [
        {
          "output_type": "error",
          "ename": "TypeError",
          "evalue": "unhashable type: 'list'",
          "traceback": [
            "\u001b[0;31m---------------------------------------------------------------------------\u001b[0m",
            "\u001b[0;31mTypeError\u001b[0m                                 Traceback (most recent call last)",
            "\u001b[0;32m<ipython-input-8-397f077d6fdc>\u001b[0m in \u001b[0;36m<cell line: 3>\u001b[0;34m()\u001b[0m\n\u001b[1;32m      1\u001b[0m \u001b[0;31m# Question 12d\u001b[0m\u001b[0;34m\u001b[0m\u001b[0;34m\u001b[0m\u001b[0m\n\u001b[1;32m      2\u001b[0m \u001b[0;31m# This code creates a dictionary whose keys are pairs of integers, and the value is the sum of the par\u001b[0m\u001b[0;34m\u001b[0m\u001b[0;34m\u001b[0m\u001b[0m\n\u001b[0;32m----> 3\u001b[0;31m \u001b[0mA\u001b[0m \u001b[0;34m=\u001b[0m \u001b[0;34m{\u001b[0m\u001b[0;34m[\u001b[0m\u001b[0;36m1\u001b[0m\u001b[0;34m,\u001b[0m\u001b[0;36m2\u001b[0m\u001b[0;34m]\u001b[0m\u001b[0;34m:\u001b[0m\u001b[0;36m3\u001b[0m \u001b[0;34m,\u001b[0m \u001b[0;34m[\u001b[0m\u001b[0;36m2\u001b[0m\u001b[0;34m,\u001b[0m\u001b[0;36m3\u001b[0m\u001b[0;34m]\u001b[0m\u001b[0;34m:\u001b[0m\u001b[0;36m5\u001b[0m\u001b[0;34m,\u001b[0m \u001b[0;34m[\u001b[0m\u001b[0;36m5\u001b[0m\u001b[0;34m,\u001b[0m\u001b[0;36m6\u001b[0m\u001b[0;34m]\u001b[0m\u001b[0;34m:\u001b[0m\u001b[0;36m11\u001b[0m\u001b[0;34m}\u001b[0m\u001b[0;34m\u001b[0m\u001b[0;34m\u001b[0m\u001b[0m\n\u001b[0m",
            "\u001b[0;31mTypeError\u001b[0m: unhashable type: 'list'"
          ]
        }
      ]
    },
    {
      "cell_type": "markdown",
      "source": [
        "# Conditionals and Loops"
      ],
      "metadata": {
        "id": "2k_Zt2d3sqJr"
      }
    },
    {
      "cell_type": "markdown",
      "source": [
        "##Question 13\n",
        "Consider the list `cake` defined below.\n",
        "1. Create an if statement that checks whether `cake` contains `chocolate`, if it does print \"Chocolate Cake!\".\n",
        "2. Create an if statement to check if `cake` contains `vanilla`, if it does not then add `vanilla` to `cake`.\n",
        "3. Create an if statement that checks if `cake` contains `flour`, if it does then print \"Not Gluten Free\", if it does not then print \"Gluten Free\".\n",
        "4. Create an if statement that checks if the cake contains `vanilla` and `chocolate`, if it does then remove `vanilla` from cake, if it does not contain both but does contain `vanilla`, then add `chocolate` and otherwise print `cake`."
      ],
      "metadata": {
        "id": "HoLvJ9K8svQD"
      }
    },
    {
      "cell_type": "code",
      "source": [
        "# Answers for Question 13\n",
        "cake = ['sugar', 'eggs', 'flour', 'chocolate', 'baking powder']\n"
      ],
      "metadata": {
        "id": "X7zxnBlkvnXc"
      },
      "execution_count": null,
      "outputs": []
    },
    {
      "cell_type": "markdown",
      "source": [
        "##Question 14\n",
        "1.   Set the variable `ohh` as an empty string.\n",
        "2.   Create a for loop that adds 10 copies of the letter o to `ohh`.\n",
        "3.   Create a for loop that changes every even position of `ohh` to the letter a.\n",
        "4.   Create a while loop that adds the letter h onto the end of `ohh` until the length of `ohh` is equal to 15.\n",
        "5.   Print `ohh`.\n",
        "6.   Create a dictionary called `i_to_ohh` that maps the number $i=0,1,2,\\ldots,14$ to the letter in position i in `ohh`.\n",
        "7.   Use `i_to_ohh` to print the letter in position 10 of `ohh`."
      ],
      "metadata": {
        "id": "AEMK-2pUxqaD"
      }
    },
    {
      "cell_type": "code",
      "source": [
        "# Answers to Question 15\n"
      ],
      "metadata": {
        "id": "ZGumbj4Vv2Ih"
      },
      "execution_count": null,
      "outputs": []
    },
    {
      "cell_type": "markdown",
      "source": [
        "## Question 15\n",
        "Consider the list `countries_and_cities` below. All countries in the list have even length and all cities have odd length.\n",
        "\n",
        "\n",
        "1.   Using a loop and if statements create two new lists, one called `cities` containing all cities and one called `countries` containing all countries.\n",
        "2.   Capitalise the first letter of every country in the list `countries`.\n",
        "3.   Create a dictionary called `geography` whose keys are the cities, and the value is the country in which that city is located.\n",
        "4.   Use a for loop and if statements to print all elements of `countries` which are not values in `geography`.\n",
        "\n"
      ],
      "metadata": {
        "id": "iv1DXbF4Ncv0"
      }
    },
    {
      "cell_type": "code",
      "source": [
        "# Answers to Question 15\n",
        "countries_and_cities = ['france', 'paris', 'derby', 'jordan', 'mongolia', 'glasgow', 'stockholm', 'sweden', 'bangkok', 'united kingdom', 'thailand']\n"
      ],
      "metadata": {
        "id": "5PKVGFZ9PKDz"
      },
      "execution_count": null,
      "outputs": []
    },
    {
      "cell_type": "markdown",
      "source": [
        "## Question 16\n",
        "1.    Use loops and conditionals to make a list called `seventeen` of all pairs (i,j) (as a tuple) satisfying\n",
        " *    $0\\le i<10$;\n",
        " *    $3 \\le j < 13$;\n",
        " *    $i+j=17$.\n",
        "\n",
        "2.    Create a new list called `seventeen_sets` which contains every element of `seventeen` converted into sets.\n",
        "3.    Create a set called `set_of_seventeen` by converting `seventeen` into a set, and print the new set.\n",
        "4.    Create a new list called `seventeen_increasing` containing all pairs from `seventeen` where the first number is smaller than the second, and print the new list.\n",
        "5.    From `seventeen` remove all pairs where the first number is smaller than the second number, and then print the new list (i.e. alter the list in place, rather than create a new list as in part 4).\n",
        "6.   To check you've done 4) and 5) correctly,  verify that `seventeen` and `seventeen_increasing` are equal.\n",
        "\n",
        "\n"
      ],
      "metadata": {
        "id": "s9yFYRSsUDWD"
      }
    },
    {
      "cell_type": "code",
      "source": [
        "# Answers to Question 16\n"
      ],
      "metadata": {
        "id": "g2v2J7v6Zeq2"
      },
      "execution_count": null,
      "outputs": []
    },
    {
      "cell_type": "markdown",
      "source": [
        "# Functions and Objects"
      ],
      "metadata": {
        "id": "6oSpt_JKZhy5"
      }
    },
    {
      "cell_type": "markdown",
      "source": [
        "## Question 17\n",
        "1.    Create a function called `one_over` which takes an input $x$ and returns $\\frac{1}{x}$.\n",
        "2.    Try calling `one_over(0)`.\n",
        "3.    Add an if statement to your function, so when $x=0$ print \"Error cannot divide by zero\" and then returns `None`. \\\n",
        "(None is a special type in Python used to represent nothing.)\n",
        "4.    Create a new function called `cubed` which takes $x$ and returns $x^3$.\n",
        "5.    Create a third function called `one_over_cubed` which takes $x$ and returns $\\frac{1}{x^3}$ by calling `one_over` and `cubed`.\n"
      ],
      "metadata": {
        "id": "w7gH9C0UZl3g"
      }
    },
    {
      "cell_type": "code",
      "source": [
        "# Answers to Question 17\n"
      ],
      "metadata": {
        "id": "qHeMp5FmaJG4"
      },
      "execution_count": null,
      "outputs": []
    },
    {
      "cell_type": "markdown",
      "source": [
        "## Question 18\n",
        "Recall that the factorial function is defined as $$n!=n \\times (n-1) \\times (n-2) \\times\\ldots\\times2\\times 1.$$ So $4!=4\\times3\\times2\\times1=24$.\n",
        "\n",
        "1.    Write a function called `factorial` which takes as input a number $n$, uses a loop to compute $n!$ and then returns the value $n!$.\n",
        "2.    Write a function called `factorial_recursion` which also computes the factorial of $n$. However, in this function compute the factorial using ``n*factorial_recursion(n-1)``. Note that you will need an if statement to deal with the end of the recursion, so when $n=1$ you need to return 0.\n",
        "3.    Use both functions to compute $20!$ and verify that both give the same answer."
      ],
      "metadata": {
        "id": "I5mRgCIraMBp"
      }
    },
    {
      "cell_type": "code",
      "source": [
        "# Answers to Question 18\n"
      ],
      "metadata": {
        "id": "bvQGDqmwb4iZ"
      },
      "execution_count": null,
      "outputs": []
    },
    {
      "cell_type": "markdown",
      "source": [
        "## Question 19\n",
        "Create a function called `what_type` which takes an input and tests its type (the `isinstance()` and `type()` functions will be useful), and does the following:\n",
        "\n",
        "*   If the input is a string, then print \"This is a string which says\" and then print the inputted string;\n",
        "*   If the input is an int or a float, then print \"The number x has been inputted\" where x is replaced with the inputted number;\n",
        "*   If the input is a Boolean, then print \"A Boolean has been inputted\";\n",
        "*   If any other type has been inputted, then print \"The input has type \" followed by the type of the input.\n",
        "\n",
        "Run the function on a variety of inputs to check it is working as intended.\n"
      ],
      "metadata": {
        "id": "h8_-yQ9Mne-9"
      }
    },
    {
      "cell_type": "code",
      "source": [
        "# Answers to Question 19\n"
      ],
      "metadata": {
        "id": "HjFTWnALngzR"
      },
      "execution_count": null,
      "outputs": []
    },
    {
      "cell_type": "markdown",
      "source": [
        "##Question 20\n",
        "Consider the `car` class defined below.\n",
        "\n",
        "\n",
        "1.   Create a car object called `this_is_a_car`.\n",
        "2.   Change the car_make, car_model and car_number_plate in `this_is_a_car`.\n",
        "3.   Call the `summary` function of your car object.\n",
        "4.   Add a class variable called `construction_date` to the car class.\n",
        "5.   Edit the `summary` function so that it also prints the construction date.\n",
        "6.   Change the `construction_date` variable in `this_is_a_car`, and call the summary function.\n",
        "\n"
      ],
      "metadata": {
        "id": "OVvV3FJVni74"
      }
    },
    {
      "cell_type": "code",
      "source": [
        "# Answers to Question 20\n",
        "class car:\n",
        "    car_make = \"DefaultCarManufacturer\"\n",
        "    car_model = \"DefaultCarModel\"\n",
        "    car_number_plate = \"DefaultNumberPlate\"\n",
        "    def summary(self):\n",
        "        print(\"This is a \"+self.car_model+\" produced by \"+self.car_make+\" the number plate is \"+self.car_number_plate)\n",
        "\n"
      ],
      "metadata": {
        "id": "35BjeFVynusK"
      },
      "execution_count": null,
      "outputs": []
    },
    {
      "cell_type": "markdown",
      "source": [
        "# Packages"
      ],
      "metadata": {
        "id": "EnRKWrx62rnj"
      }
    },
    {
      "cell_type": "markdown",
      "source": [
        "## Question 21\n",
        "\n",
        "In this question we will use the time package, the documentation is [here](https://docs.python.org/3/library/time.html).\n",
        "\n",
        "1.     Import the package `time`.\n",
        "2.     Print the current time using time.ctime().\n",
        "3.     Create a function called `time_record` which:\n",
        "     *    Takes as input a list;\n",
        "     *    Add the current time to the end of the list;\n",
        "     *    Prints \"The function has been called at the following times\" followed by all times in the list.\n",
        "4.     Create a function called `wait_a_bit` which:\n",
        "     *    Takes as input a number n;\n",
        "     *    Records the start time as `starttime = time.time()`;\n",
        "     *    Waits for n seconds (use the `time.sleep` function);\n",
        "     *    Prints the elapsed time using `time.time()-starttime`.\n",
        "\n"
      ],
      "metadata": {
        "id": "TKr4i9h02vEK"
      }
    },
    {
      "cell_type": "code",
      "source": [
        "# Answers to Question 21\n"
      ],
      "metadata": {
        "id": "hE63RgOf8us1"
      },
      "execution_count": null,
      "outputs": []
    },
    {
      "cell_type": "markdown",
      "source": [
        "## Question 22\n",
        "\n",
        "In this question we will use:\n",
        "*    the math package, the documentation is [here](https://docs.python.org/3/library/math.html), a nice summary of the package is [here](https://www.w3schools.com/python/module_math.asp);\n",
        "*    the random package, the documentation is [here](https://docs.python.org/3/library/random.html), a nice summary of the package is [here](https://www.w3schools.com/python/module_random.asp).\n",
        "\n",
        "1.    Import the `math` and `random` packages.\n",
        "2.    Use the `factorial` function of the math package to compute $20!$, and check it is equal to your answer in Question 18.\n",
        "3.    Use the `randint` function of the random package to generate a random number between 0 and 100, call it x.\n",
        "4.    Use the `sin` function of `math` to compute, and print, sin(x).\n",
        "5.    Use the `gcd` function of `math` to compute, and print, the greatest common divider of x and 36.\n",
        "6.    Create a function called `quadratic` which takes as input a, b and c and returns the results of the quadratic formula\n",
        "$$x=\\frac{-b\\pm\\sqrt{b^2-4ac}}{2a}.$$\n",
        "7.    Test the `quadratic` function with some random values for a, b, and c.\n"
      ],
      "metadata": {
        "id": "3RrBgY378woc"
      }
    },
    {
      "cell_type": "code",
      "source": [
        "# Answers to Question 22\n"
      ],
      "metadata": {
        "id": "FvEKlfLxDXXc"
      },
      "execution_count": null,
      "outputs": []
    },
    {
      "cell_type": "markdown",
      "source": [
        "## Question 23\n",
        "\n",
        "In this question we will use the [numpy](https://numpy.org/doc/stable/index.html) packages.\n",
        "\n",
        "1.    Import `numpy` and `scipy`.\n",
        "2.    Create a 1D numpy array of random numbers between 0 and 1 using `numpy.random.rand`, call it `probs`.\n",
        "3.    Calculate the mean of `probs` using `numpy.mean`.\n",
        "4.    Create a numpy array of all zeros of shape (5,5), call it M.\n",
        "5.    Change some of the entries of M to non zero values.\n",
        "6.    Import `numpy.linalg`.\n",
        "7.    Use `numpy.linalg.det` to compute the determinant of M.\n",
        "8.    Create two random arrays of shape (3,3), call them A and B, and then multiply them together using `numpy.linalg.matmul`.\n"
      ],
      "metadata": {
        "id": "IrzAuRkp_MQD"
      }
    },
    {
      "cell_type": "code",
      "source": [
        "# Answers to Question 23\n"
      ],
      "metadata": {
        "id": "-UmlywPaD49-"
      },
      "execution_count": null,
      "outputs": []
    },
    {
      "cell_type": "markdown",
      "source": [
        "## Question 24\n",
        "\n",
        "In this question we will use package [matplotlib](https://matplotlib.org/stable/users/index.html).\n",
        "\n",
        "First import matplotlib.pyplot, we normally use the alias plt for this\n",
        "1.    \n",
        "    *    Let `studentID` be a list of the single digit integers in your student number e.g. `studentID=[0,1,2,3,4,5,6,7]`.\n",
        "    *    Make a plot of your student ID where the x axis is the position in your ID and the y axis is the value in that position. Play around and change your plot up:\n",
        "        *    Try making a line, a scatter plot, bar chart, etc;\n",
        "        *    Change the colour;\n",
        "        *    Change the style;\n",
        "        *    Add labels and titles.\n",
        "3.    *    Using the `numpy` or `random` packages to create two random lists/arrays of length 100, called x and y, then make a scatter plot of x against y.\n",
        "    *    Create a third random list/array call it `values`, and include this in your scatter plot using `scatter(x,y,s=values)`.\n",
        "4.   *     Use the `math` package to create a plot of sin.\n",
        "    *    Try and make a figure with 3 plots on showing: sin, cos, and tan."
      ],
      "metadata": {
        "id": "TaBi1eKeGgVm"
      }
    },
    {
      "cell_type": "code",
      "source": [
        "# Answers to Question 24.1\n"
      ],
      "metadata": {
        "id": "FDhaRyEyLDAB"
      },
      "execution_count": null,
      "outputs": []
    },
    {
      "cell_type": "code",
      "source": [
        "# Answers to Question 24.2\n"
      ],
      "metadata": {
        "id": "GjD2ZGkmLU7V"
      },
      "execution_count": null,
      "outputs": []
    },
    {
      "cell_type": "code",
      "source": [
        "# Answers to Question 24.3\n"
      ],
      "metadata": {
        "id": "qyw4ZhXULVZc"
      },
      "execution_count": null,
      "outputs": []
    }
  ]
}
