{
  "nbformat": 4,
  "nbformat_minor": 0,
  "metadata": {
    "colab": {
      "provenance": [],
      "toc_visible": true
    },
    "kernelspec": {
      "name": "python3",
      "display_name": "Python 3"
    },
    "language_info": {
      "name": "python"
    }
  },
  "cells": [
    {
      "cell_type": "markdown",
      "source": [
        "# Lecture 1: Python Basics"
      ],
      "metadata": {
        "id": "jFfA2QddPz7g"
      }
    },
    {
      "cell_type": "markdown",
      "source": [
        "## Using Python\n",
        "\n",
        "There are three main ways to use Python\n",
        "1.    Interactive interpreter\n",
        "2.    Run a Python file\n",
        "3.    Notebooks\n"
      ],
      "metadata": {
        "id": "B4_BjXUtQFHl"
      }
    },
    {
      "cell_type": "code",
      "execution_count": null,
      "metadata": {
        "colab": {
          "base_uri": "https://localhost:8080/"
        },
        "id": "sXVDx23hPt1c",
        "outputId": "6a2b34d6-ad5b-4574-9053-3cdd3732f177"
      },
      "outputs": [
        {
          "output_type": "stream",
          "name": "stdout",
          "text": [
            "Hello World!\n"
          ]
        }
      ],
      "source": [
        "# Hello World demonstration\n",
        "\n",
        "print(\"Hello World!\")"
      ]
    },
    {
      "cell_type": "markdown",
      "source": [
        "|            | Advantages |\n",
        "| ---------- | ---------- |\n",
        "|Interactive |   Quick to start, easier for small computations |\n",
        "|Python File | Easier for large programs, with lots of interacting parts |\n",
        "|Notebook    | Stores workings, Easily change earlier code, Displays plots|"
      ],
      "metadata": {
        "id": "iGVTClIXRWAr"
      }
    },
    {
      "cell_type": "markdown",
      "source": [
        "Python3 is the latest version of Python. But many people still use Python2.\n",
        "\n",
        "They are very very similar, but there are certain syntax differences between them. So just be aware of which version of Python you are using.\n",
        "\n",
        "I recommend to always use Python3."
      ],
      "metadata": {
        "id": "dsOg9M7ZbmL1"
      }
    },
    {
      "cell_type": "markdown",
      "source": [
        "## Arithmetic\n",
        "\n",
        "Most simple mathematical operations are done as you would in a calculator. The four main arithmetic operations are:\n",
        "\n",
        "\n",
        "*   Addition: \\+    \n",
        "*   Subtraction: \\-\n",
        "*   Multiplication: \\*\n",
        "*   Division: /\n",
        "*   Power: **\n",
        "\n"
      ],
      "metadata": {
        "id": "Du6lzR6dTBeo"
      }
    },
    {
      "cell_type": "code",
      "source": [
        "# Basic maths operations\n",
        "1+2"
      ],
      "metadata": {
        "colab": {
          "base_uri": "https://localhost:8080/"
        },
        "id": "ixwsatSkR_IW",
        "outputId": "aa9bdcbd-09c1-4ec6-e500-8045d8e42fe9"
      },
      "execution_count": null,
      "outputs": [
        {
          "output_type": "execute_result",
          "data": {
            "text/plain": [
              "3"
            ]
          },
          "metadata": {},
          "execution_count": 6
        }
      ]
    },
    {
      "cell_type": "code",
      "source": [
        "1-2"
      ],
      "metadata": {
        "colab": {
          "base_uri": "https://localhost:8080/"
        },
        "id": "0h2qJKdWTv0p",
        "outputId": "a47c96d5-36d1-4b37-d0a3-1bb44f9fc30d"
      },
      "execution_count": null,
      "outputs": [
        {
          "output_type": "execute_result",
          "data": {
            "text/plain": [
              "-1"
            ]
          },
          "metadata": {},
          "execution_count": 4
        }
      ]
    },
    {
      "cell_type": "code",
      "source": [
        "2*3"
      ],
      "metadata": {
        "colab": {
          "base_uri": "https://localhost:8080/"
        },
        "id": "W7C4M7BVTjUW",
        "outputId": "1eabd923-b9cd-46cd-d7b8-3a10c3187c05"
      },
      "execution_count": null,
      "outputs": [
        {
          "output_type": "execute_result",
          "data": {
            "text/plain": [
              "6"
            ]
          },
          "metadata": {},
          "execution_count": 3
        }
      ]
    },
    {
      "cell_type": "code",
      "source": [
        "6/2"
      ],
      "metadata": {
        "colab": {
          "base_uri": "https://localhost:8080/"
        },
        "id": "W5ZPNwXfVDzn",
        "outputId": "03aa5719-4253-434a-a814-16fd7fb1dc6f"
      },
      "execution_count": null,
      "outputs": [
        {
          "output_type": "execute_result",
          "data": {
            "text/plain": [
              "3.0"
            ]
          },
          "metadata": {},
          "execution_count": 10
        }
      ]
    },
    {
      "cell_type": "code",
      "source": [
        "9**2"
      ],
      "metadata": {
        "colab": {
          "base_uri": "https://localhost:8080/"
        },
        "id": "58QySwHoVGdz",
        "outputId": "a0e5b13b-21fd-4888-e0ce-efea7d561c4f"
      },
      "execution_count": null,
      "outputs": [
        {
          "output_type": "execute_result",
          "data": {
            "text/plain": [
              "81"
            ]
          },
          "metadata": {},
          "execution_count": 12
        }
      ]
    },
    {
      "cell_type": "markdown",
      "source": [
        "In a notebook only the last operation will be displayed. To display them all you must use `print` for each statement"
      ],
      "metadata": {
        "id": "KEuO9tNET-ay"
      }
    },
    {
      "cell_type": "code",
      "source": [
        "# Multiple operations without print\n",
        "1+2\n",
        "1-2\n",
        "2*3"
      ],
      "metadata": {
        "colab": {
          "base_uri": "https://localhost:8080/"
        },
        "id": "15JImEg0UCum",
        "outputId": "f22b48e6-ecf5-4a75-f712-517f9e169d4d"
      },
      "execution_count": null,
      "outputs": [
        {
          "output_type": "execute_result",
          "data": {
            "text/plain": [
              "6"
            ]
          },
          "metadata": {},
          "execution_count": 8
        }
      ]
    },
    {
      "cell_type": "code",
      "source": [
        "# Multiple operations with print\n",
        "print(1+2)\n",
        "print(1-2)\n",
        "print(2*3)"
      ],
      "metadata": {
        "colab": {
          "base_uri": "https://localhost:8080/"
        },
        "id": "X309PHK5UDu5",
        "outputId": "33f32577-9769-4bbb-8e8d-610c234e9a54"
      },
      "execution_count": null,
      "outputs": [
        {
          "output_type": "stream",
          "name": "stdout",
          "text": [
            "3\n",
            "-1\n",
            "6\n"
          ]
        }
      ]
    },
    {
      "cell_type": "markdown",
      "source": [
        "## Strings\n",
        "\n",
        "To store text in Python we use Strings. A string is created by putting something between two speech marks or two quote marks."
      ],
      "metadata": {
        "id": "9_UWhYw3Z6rL"
      }
    },
    {
      "cell_type": "code",
      "source": [
        "# Prints some strings\n",
        "print(\"This is a string\")\n",
        "print('This is also a string')"
      ],
      "metadata": {
        "colab": {
          "base_uri": "https://localhost:8080/"
        },
        "id": "4CkvMCoUaMbM",
        "outputId": "a23d92af-7533-45c2-e25f-f6595616f854"
      },
      "execution_count": null,
      "outputs": [
        {
          "output_type": "stream",
          "name": "stdout",
          "text": [
            "This is a string\n",
            "This is also a string\n"
          ]
        }
      ]
    },
    {
      "cell_type": "markdown",
      "source": [
        "If you try and write text without it being a String you will get an error:"
      ],
      "metadata": {
        "id": "1Ja6aS5paY0M"
      }
    },
    {
      "cell_type": "code",
      "source": [
        "# Incorrect way to print a String\n",
        "print(This gives an error)"
      ],
      "metadata": {
        "colab": {
          "base_uri": "https://localhost:8080/",
          "height": 106
        },
        "id": "hy9PjueSaU0X",
        "outputId": "a1fd364a-0f97-41c8-ac7f-349f9e17b71e"
      },
      "execution_count": null,
      "outputs": [
        {
          "output_type": "error",
          "ename": "SyntaxError",
          "evalue": "invalid syntax. Perhaps you forgot a comma? (<ipython-input-23-105a43589b5d>, line 1)",
          "traceback": [
            "\u001b[0;36m  File \u001b[0;32m\"<ipython-input-23-105a43589b5d>\"\u001b[0;36m, line \u001b[0;32m1\u001b[0m\n\u001b[0;31m    print(This gives an error)\u001b[0m\n\u001b[0m          ^\u001b[0m\n\u001b[0;31mSyntaxError\u001b[0m\u001b[0;31m:\u001b[0m invalid syntax. Perhaps you forgot a comma?\n"
          ]
        }
      ]
    },
    {
      "cell_type": "markdown",
      "source": [
        "## Comments\n",
        "\n",
        "Comments in code are bits of text that are not executed, and are used to explain what the code is doing. Python comments are created by #. Anything on a line after # will be ignored by Python."
      ],
      "metadata": {
        "id": "503Q--XNVNcm"
      }
    },
    {
      "cell_type": "code",
      "source": [
        "# Examples of comments\n",
        "# This adds together the numbers 1 and 2, and prints the result\n",
        "print(1+2)\n",
        "\n",
        "print(3**2) #This computes 3 squared and prints the result"
      ],
      "metadata": {
        "colab": {
          "base_uri": "https://localhost:8080/"
        },
        "id": "xIjhkCJ_Vlbp",
        "outputId": "1c29804f-92f9-4358-87df-b49f381d8e8d"
      },
      "execution_count": null,
      "outputs": [
        {
          "output_type": "stream",
          "name": "stdout",
          "text": [
            "3\n",
            "9\n"
          ]
        }
      ]
    },
    {
      "cell_type": "markdown",
      "source": [
        "Code should almost always include comments, explaining what the code is doing. The above comments are bad examples, you do not need comments to explain each individual part of the code. Your comments should explain the purpose of the code, and explain what parts are doing when it is not immediately clear from the code itself."
      ],
      "metadata": {
        "id": "Zl7wVkvyXPAz"
      }
    },
    {
      "cell_type": "markdown",
      "source": [
        "## Variables\n",
        "\n",
        "Often we want to store some information or result for later use, for which we use variables. A variable is simple where we set a letter or word (or gibberish) equal to something:"
      ],
      "metadata": {
        "id": "JPk44MWXXOAq"
      }
    },
    {
      "cell_type": "code",
      "source": [
        "# Create and print variables\n",
        "a = 3\n",
        "print(a)\n",
        "b = \"Godzilla\"\n",
        "print(b)"
      ],
      "metadata": {
        "colab": {
          "base_uri": "https://localhost:8080/"
        },
        "id": "V3uNupZcZcmx",
        "outputId": "1d5fb899-d049-4ca2-a074-043ec64c45df"
      },
      "execution_count": null,
      "outputs": [
        {
          "output_type": "stream",
          "name": "stdout",
          "text": [
            "3\n",
            "Godzilla\n"
          ]
        }
      ]
    },
    {
      "cell_type": "markdown",
      "source": [
        "Variables can be reassigned, but just setting them equal to something else"
      ],
      "metadata": {
        "id": "iXxx5hH2dOWX"
      }
    },
    {
      "cell_type": "code",
      "source": [
        "# Create, then reassign a variable\n",
        "a = 1\n",
        "print(a)\n",
        "a = 2\n",
        "print(a)"
      ],
      "metadata": {
        "id": "MyzvSXDbdWbH"
      },
      "execution_count": null,
      "outputs": []
    },
    {
      "cell_type": "markdown",
      "source": [
        "Variables can be updated with values of other variables, and changed by adding things to them"
      ],
      "metadata": {
        "id": "WDi65elXdVtw"
      }
    },
    {
      "cell_type": "code",
      "source": [
        "# Altering variables\n",
        "a = 1\n",
        "b = 2\n",
        "print(a)\n",
        "a = b\n",
        "print(a)\n",
        "a = a+1\n",
        "print(a)\n",
        "a = a+b\n",
        "print(a)"
      ],
      "metadata": {
        "colab": {
          "base_uri": "https://localhost:8080/"
        },
        "id": "CyX3zgBDdjf-",
        "outputId": "5137dc57-3e26-4541-df14-b2d51c7515f7"
      },
      "execution_count": null,
      "outputs": [
        {
          "output_type": "stream",
          "name": "stdout",
          "text": [
            "1\n",
            "2\n",
            "3\n",
            "5\n"
          ]
        }
      ]
    },
    {
      "cell_type": "markdown",
      "source": [
        "## Equality\n",
        "\n",
        "To check if two things are equal we use `==`."
      ],
      "metadata": {
        "id": "70CHRp-rd5FS"
      }
    },
    {
      "cell_type": "code",
      "source": [
        "# Check if things are equal\n",
        "2==3"
      ],
      "metadata": {
        "colab": {
          "base_uri": "https://localhost:8080/"
        },
        "id": "8329HSfYeI2X",
        "outputId": "acc7d272-997e-4418-efa6-33484f588bf2"
      },
      "execution_count": null,
      "outputs": [
        {
          "output_type": "execute_result",
          "data": {
            "text/plain": [
              "False"
            ]
          },
          "metadata": {},
          "execution_count": 30
        }
      ]
    },
    {
      "cell_type": "code",
      "source": [
        "1==1"
      ],
      "metadata": {
        "colab": {
          "base_uri": "https://localhost:8080/"
        },
        "id": "LVqClpvKeLZd",
        "outputId": "ce314156-f9f4-418b-bce6-c655c10fee0b"
      },
      "execution_count": null,
      "outputs": [
        {
          "output_type": "execute_result",
          "data": {
            "text/plain": [
              "True"
            ]
          },
          "metadata": {},
          "execution_count": 31
        }
      ]
    },
    {
      "cell_type": "code",
      "source": [
        "\"Hello\"==\"Hi\""
      ],
      "metadata": {
        "colab": {
          "base_uri": "https://localhost:8080/"
        },
        "id": "wT96X_o8eNuB",
        "outputId": "7fc00c07-4ead-4b86-9c2e-274f5c039c54"
      },
      "execution_count": null,
      "outputs": [
        {
          "output_type": "execute_result",
          "data": {
            "text/plain": [
              "False"
            ]
          },
          "metadata": {},
          "execution_count": 32
        }
      ]
    },
    {
      "cell_type": "code",
      "source": [
        "\"Hello\"==\"Hello\""
      ],
      "metadata": {
        "colab": {
          "base_uri": "https://localhost:8080/"
        },
        "id": "KpcHOxCBeVFc",
        "outputId": "82cc4a35-eec5-432a-de21-b4233687e809"
      },
      "execution_count": null,
      "outputs": [
        {
          "output_type": "execute_result",
          "data": {
            "text/plain": [
              "True"
            ]
          },
          "metadata": {},
          "execution_count": 33
        }
      ]
    },
    {
      "cell_type": "code",
      "source": [
        "2==\"2\""
      ],
      "metadata": {
        "colab": {
          "base_uri": "https://localhost:8080/"
        },
        "id": "xWhgSCl6eYBb",
        "outputId": "5ec146ca-9fb2-4e47-995d-592a8a00d52d"
      },
      "execution_count": null,
      "outputs": [
        {
          "output_type": "execute_result",
          "data": {
            "text/plain": [
              "False"
            ]
          },
          "metadata": {},
          "execution_count": 34
        }
      ]
    },
    {
      "cell_type": "markdown",
      "source": [
        "Make sure you understand the difference between `=` and `==`.\n",
        "\n",
        "\n",
        "*   We use `=` to assign a variable\n",
        "*   We use `==` to check if two things are equal\n",
        "\n"
      ],
      "metadata": {
        "id": "MAE2aMZuec3n"
      }
    },
    {
      "cell_type": "markdown",
      "source": [
        "## Errors and Documentation\n",
        "\n",
        "You will make mistakes when writing code, everyone does. One of the biggest difference between a good coder and a bad, is good coders **read their error messages**.\n",
        "\n",
        "Python has very useful error messages when things go wrong (not all languages do), which will often tell you what the problem is. For example:"
      ],
      "metadata": {
        "id": "yFUDQXIX4f01"
      }
    },
    {
      "cell_type": "code",
      "source": [
        "# An error using an unassigned variable\n",
        "a=5\n",
        "a==this_variable\n",
        "#The error message here tells me that there is no variable called 'this_variable', so Python can't tell me whether it equals a. It even tells me what line the error occurred on, line 2."
      ],
      "metadata": {
        "colab": {
          "base_uri": "https://localhost:8080/",
          "height": 159
        },
        "id": "40rWalAT45aC",
        "outputId": "d878e572-8d6f-494a-d992-54b39f3522e6"
      },
      "execution_count": null,
      "outputs": [
        {
          "output_type": "error",
          "ename": "NameError",
          "evalue": "name 'this_variable' is not defined",
          "traceback": [
            "\u001b[0;31m---------------------------------------------------------------------------\u001b[0m",
            "\u001b[0;31mNameError\u001b[0m                                 Traceback (most recent call last)",
            "\u001b[0;32m<ipython-input-33-33aeef347714>\u001b[0m in \u001b[0;36m<cell line: 2>\u001b[0;34m()\u001b[0m\n\u001b[1;32m      1\u001b[0m \u001b[0ma\u001b[0m\u001b[0;34m=\u001b[0m\u001b[0;36m5\u001b[0m\u001b[0;34m\u001b[0m\u001b[0;34m\u001b[0m\u001b[0m\n\u001b[0;32m----> 2\u001b[0;31m \u001b[0ma\u001b[0m\u001b[0;34m==\u001b[0m\u001b[0mthis_variable\u001b[0m\u001b[0;34m\u001b[0m\u001b[0;34m\u001b[0m\u001b[0m\n\u001b[0m",
            "\u001b[0;31mNameError\u001b[0m: name 'this_variable' is not defined"
          ]
        }
      ]
    },
    {
      "cell_type": "markdown",
      "source": [
        "The error message won't always tell you exactly what went wrong, especially as your programs get more complex. But they will at least give you a place to start, Python even gives you a line number.\n",
        "\n",
        "The more you start to understand the Python syntax, the easier it will become to read the errors.\n",
        "\n",
        "So when you get an error, before asking for help, read the error message and see if you can work out what you did wrong.\n",
        "\n",
        "\n",
        "The next thing to do is to read the documentation. Python has very good documentation, which tells you what syntax you are supposed to use and how to use everything. The documentation can be found [here](https://docs.python.org/3/). When just starting out there is a lot of information there, but as you get more experienced you will find the documentation invaluable.\n"
      ],
      "metadata": {
        "id": "R_J2BwB64_mF"
      }
    },
    {
      "cell_type": "markdown",
      "source": [
        "# Lecture 2: Types"
      ],
      "metadata": {
        "id": "tFUiY8N3hzYZ"
      }
    },
    {
      "cell_type": "markdown",
      "source": [
        "Types are a fundamental part of almost all modern programming languages. They are used to distinguish things such as number from text.\n",
        "\n",
        "Python has what is known as *dynamic typing*, so in many cases will automatically determine the type of things for you. Compared to a language such as C++, where you must tell the computer what type every object is when creating it.\n",
        "\n",
        "Python has the following built-in data type:\n",
        "\n",
        "| type of types | types                         |\n",
        "| ------------- | ----------                    |\n",
        "| Text          |   str                         |\n",
        "| Numbers       | int, float, complex           |\n",
        "| Collections   | list, tuple, set, dict, range |\n",
        "| Other         | bool, NoneType                |\n",
        "\n",
        "There are some others as well, which we won't cover here, but can be found in the [documentation](https://docs.python.org/3/library/stdtypes.html).\n",
        "\n",
        "Today we will talk about str, int, float, and bool. We will encounter the others later.\n",
        "\n",
        "You can find out what type a variable is using the function type()"
      ],
      "metadata": {
        "id": "9KkcmCheh2xs"
      }
    },
    {
      "cell_type": "code",
      "source": [
        "# Determine the type of some variables\n",
        "a = 4\n",
        "type(a)"
      ],
      "metadata": {
        "colab": {
          "base_uri": "https://localhost:8080/"
        },
        "id": "m1c7ELrFuVWe",
        "outputId": "52e34afe-618c-443e-f12b-b3971447d2c2"
      },
      "execution_count": null,
      "outputs": [
        {
          "output_type": "execute_result",
          "data": {
            "text/plain": [
              "int"
            ]
          },
          "metadata": {},
          "execution_count": 1
        }
      ]
    },
    {
      "cell_type": "code",
      "source": [
        "a=\"Hello\"\n",
        "type(a)"
      ],
      "metadata": {
        "colab": {
          "base_uri": "https://localhost:8080/"
        },
        "id": "NWOOXObuvWzC",
        "outputId": "b357c1d7-64b5-4575-833c-38c58bddf7c7"
      },
      "execution_count": null,
      "outputs": [
        {
          "output_type": "execute_result",
          "data": {
            "text/plain": [
              "str"
            ]
          },
          "metadata": {},
          "execution_count": 3
        }
      ]
    },
    {
      "cell_type": "code",
      "source": [
        "print(type(\"hello\"))"
      ],
      "metadata": {
        "colab": {
          "base_uri": "https://localhost:8080/"
        },
        "id": "R-xIpi8d8oN0",
        "outputId": "9c3db2fa-de28-43d4-cd0f-e4f431959ffa"
      },
      "execution_count": null,
      "outputs": [
        {
          "output_type": "stream",
          "name": "stdout",
          "text": [
            "<class 'str'>\n"
          ]
        }
      ]
    },
    {
      "cell_type": "markdown",
      "source": [
        "We can also check if something is of a particular type using `isinstance(variable,type)`"
      ],
      "metadata": {
        "id": "DRVUNKghz7WZ"
      }
    },
    {
      "cell_type": "code",
      "source": [
        "# Check if something is of a certain type\n",
        "isinstance(2,int)"
      ],
      "metadata": {
        "colab": {
          "base_uri": "https://localhost:8080/"
        },
        "id": "jmStuTgt0Cl-",
        "outputId": "893059ae-7e7e-4181-e67c-c0301535eb8a"
      },
      "execution_count": null,
      "outputs": [
        {
          "output_type": "execute_result",
          "data": {
            "text/plain": [
              "True"
            ]
          },
          "metadata": {},
          "execution_count": 1
        }
      ]
    },
    {
      "cell_type": "code",
      "source": [
        "isinstance('hello',float)"
      ],
      "metadata": {
        "id": "y-9Ugify0HaP",
        "colab": {
          "base_uri": "https://localhost:8080/"
        },
        "outputId": "fd6063ce-21cf-4ee6-9ef8-cfedb4e123b0"
      },
      "execution_count": null,
      "outputs": [
        {
          "output_type": "execute_result",
          "data": {
            "text/plain": [
              "False"
            ]
          },
          "metadata": {},
          "execution_count": 1
        }
      ]
    },
    {
      "cell_type": "code",
      "source": [
        "isinstance('hello',str)"
      ],
      "metadata": {
        "colab": {
          "base_uri": "https://localhost:8080/"
        },
        "id": "Sr49a2AP0J92",
        "outputId": "ebd25e1d-40bd-410b-8f66-5380721da8b4"
      },
      "execution_count": null,
      "outputs": [
        {
          "output_type": "execute_result",
          "data": {
            "text/plain": [
              "True"
            ]
          },
          "metadata": {},
          "execution_count": 4
        }
      ]
    },
    {
      "cell_type": "markdown",
      "source": [
        "## Numeric types\n",
        "\n",
        "The two main numeric types are int and float (there is also complex numbers, but we'll ignore them for now).\n",
        "\n",
        "An int is a whole number, i.e. the integers.\n",
        "\n",
        "A float is a real number.\n",
        "\n",
        "A good rule to distinguish them is: A number with a decimal point is a float, without is an int."
      ],
      "metadata": {
        "id": "30tMi2Y_vd9x"
      }
    },
    {
      "cell_type": "code",
      "source": [
        "# Some floats and some ints\n",
        "a=4\n",
        "type(a)"
      ],
      "metadata": {
        "colab": {
          "base_uri": "https://localhost:8080/"
        },
        "id": "0XB0ghJFwGSP",
        "outputId": "19acd313-b450-4996-ac3e-ef1ec278fe75"
      },
      "execution_count": null,
      "outputs": [
        {
          "output_type": "execute_result",
          "data": {
            "text/plain": [
              "int"
            ]
          },
          "metadata": {},
          "execution_count": 5
        }
      ]
    },
    {
      "cell_type": "code",
      "source": [
        "b=4.0\n",
        "type(b)"
      ],
      "metadata": {
        "colab": {
          "base_uri": "https://localhost:8080/"
        },
        "id": "r6s3UBxKwavL",
        "outputId": "0e7cf553-1c0a-4751-8631-7ff6effb82ae"
      },
      "execution_count": null,
      "outputs": [
        {
          "output_type": "execute_result",
          "data": {
            "text/plain": [
              "float"
            ]
          },
          "metadata": {},
          "execution_count": 6
        }
      ]
    },
    {
      "cell_type": "markdown",
      "source": [
        "It is important to understand what type of number you are using, as operations can be different depending on the type.\n",
        "\n",
        "If you add an int to a float, you will get a float. And the same is true for multiplication and subtraction."
      ],
      "metadata": {
        "id": "rlY0K91jwhLr"
      }
    },
    {
      "cell_type": "code",
      "source": [
        "# Combining floats and ints\n",
        "a=4\n",
        "b=4.0\n",
        "c=a*b\n",
        "type(c)"
      ],
      "metadata": {
        "colab": {
          "base_uri": "https://localhost:8080/"
        },
        "id": "Mreg1KnJwz74",
        "outputId": "5aa559bf-3bad-405b-fd0a-82394530b1a7"
      },
      "execution_count": null,
      "outputs": [
        {
          "output_type": "execute_result",
          "data": {
            "text/plain": [
              "float"
            ]
          },
          "metadata": {},
          "execution_count": 8
        }
      ]
    },
    {
      "cell_type": "markdown",
      "source": [
        "We must be careful with division.\n",
        "\n",
        "If we divide two ints together, we get always get a float back. This is because we know that dividing integers does not guarantee an integer."
      ],
      "metadata": {
        "id": "kHWqeg9axAD4"
      }
    },
    {
      "cell_type": "code",
      "source": [
        "# Dividing ints gives a float\n",
        "a = 5/2\n",
        "print(a)\n",
        "type(a)"
      ],
      "metadata": {
        "colab": {
          "base_uri": "https://localhost:8080/"
        },
        "id": "OmdUSTsfxLBT",
        "outputId": "d5b27162-5924-4e3d-cdfe-9e66477e71d4"
      },
      "execution_count": null,
      "outputs": [
        {
          "output_type": "stream",
          "name": "stdout",
          "text": [
            "2.5\n"
          ]
        },
        {
          "output_type": "execute_result",
          "data": {
            "text/plain": [
              "float"
            ]
          },
          "metadata": {},
          "execution_count": 13
        }
      ]
    },
    {
      "cell_type": "code",
      "source": [
        "a=4/2\n",
        "print(a)\n",
        "type(a)"
      ],
      "metadata": {
        "colab": {
          "base_uri": "https://localhost:8080/"
        },
        "id": "OahLExH2xa8k",
        "outputId": "f087f235-3662-4709-d396-8b67ead05cd2"
      },
      "execution_count": null,
      "outputs": [
        {
          "output_type": "stream",
          "name": "stdout",
          "text": [
            "2.0\n"
          ]
        },
        {
          "output_type": "execute_result",
          "data": {
            "text/plain": [
              "float"
            ]
          },
          "metadata": {},
          "execution_count": 14
        }
      ]
    },
    {
      "cell_type": "markdown",
      "source": [
        "There is a notion of integer division, using //, which will return an integer, and discard any remainder."
      ],
      "metadata": {
        "id": "CK8aKqKdxgXj"
      }
    },
    {
      "cell_type": "code",
      "source": [
        "# Integer division using //\n",
        "a=5//2\n",
        "print(a)\n",
        "type(a)"
      ],
      "metadata": {
        "colab": {
          "base_uri": "https://localhost:8080/"
        },
        "id": "x3MB0MR7xmoK",
        "outputId": "059b7983-509c-448f-a0a4-c1a61ecb0d95"
      },
      "execution_count": null,
      "outputs": [
        {
          "output_type": "stream",
          "name": "stdout",
          "text": [
            "2\n"
          ]
        },
        {
          "output_type": "execute_result",
          "data": {
            "text/plain": [
              "int"
            ]
          },
          "metadata": {},
          "execution_count": 15
        }
      ]
    },
    {
      "cell_type": "markdown",
      "source": [
        "We also have the modulus operator (%), which returns just the remainder from division. We will explore the mathematics of the modulus operator later this term in Foundations of Pure Mathematics. The modulus operator is particularly useful for testing if a number is even or odd."
      ],
      "metadata": {
        "id": "iELcknOxymLP"
      }
    },
    {
      "cell_type": "code",
      "source": [
        "# Using the Modulus operator\n",
        "a=7%4\n",
        "print(a)"
      ],
      "metadata": {
        "colab": {
          "base_uri": "https://localhost:8080/"
        },
        "id": "puBwybw4y24x",
        "outputId": "aa4fa558-4705-4fe6-f63c-da9e792c1939"
      },
      "execution_count": null,
      "outputs": [
        {
          "output_type": "stream",
          "name": "stdout",
          "text": [
            "3\n"
          ]
        }
      ]
    },
    {
      "cell_type": "code",
      "source": [
        "# Test if even or odd using %\n",
        "a=5\n",
        "print(5%2)\n",
        "print(5%2 == 0)"
      ],
      "metadata": {
        "id": "HA9KEQJqdmGj"
      },
      "execution_count": null,
      "outputs": []
    },
    {
      "cell_type": "markdown",
      "source": [
        "Integers are easy for a computer to store, they just use binary. But it is difficult for a computer to accurately store decimal numbers. So floats are actually an approximation of a decimal number and can sometimes behave slightly differently than you would expect. For example:"
      ],
      "metadata": {
        "id": "ypndB_NszyVa"
      }
    },
    {
      "cell_type": "code",
      "source": [
        "# A misbehaving float\n",
        "1.33%1"
      ],
      "metadata": {
        "colab": {
          "base_uri": "https://localhost:8080/"
        },
        "id": "VGy99RTozYaD",
        "outputId": "d6b5c548-e2ae-4c3d-9579-e9fbaa32e5ea"
      },
      "execution_count": null,
      "outputs": [
        {
          "output_type": "execute_result",
          "data": {
            "text/plain": [
              "0.33000000000000007"
            ]
          },
          "metadata": {},
          "execution_count": 20
        }
      ]
    },
    {
      "cell_type": "markdown",
      "source": [
        "So it is generally best to always use an int, unless you actually need a float, and when using float always be a little bit careful!"
      ],
      "metadata": {
        "id": "bN8yzbVW0Wbr"
      }
    },
    {
      "cell_type": "markdown",
      "source": [
        "## Strings\n",
        "\n",
        "We briefly mentioned strings before, but strings are actually a type, denoted by str, that stores letters, words and sentences.\n",
        "\n",
        "As mention before, strings are created by enclosing it in \"\" or ''."
      ],
      "metadata": {
        "id": "oAzVDYXo0-Pn"
      }
    },
    {
      "cell_type": "code",
      "source": [
        "# Create a string\n",
        "a=\"hello\"\n",
        "type(a)"
      ],
      "metadata": {
        "colab": {
          "base_uri": "https://localhost:8080/"
        },
        "id": "f1CEePfz1RfN",
        "outputId": "e01846ba-5cfa-44d5-b027-87d79f7aef54"
      },
      "execution_count": null,
      "outputs": [
        {
          "output_type": "execute_result",
          "data": {
            "text/plain": [
              "str"
            ]
          },
          "metadata": {},
          "execution_count": 22
        }
      ]
    },
    {
      "cell_type": "code",
      "source": [
        "b='goodbye'\n",
        "type(b)"
      ],
      "metadata": {
        "colab": {
          "base_uri": "https://localhost:8080/"
        },
        "id": "xCEWLgoH1cS0",
        "outputId": "77d60dcd-252b-4b44-c1ec-ac651b1c1554"
      },
      "execution_count": null,
      "outputs": [
        {
          "output_type": "execute_result",
          "data": {
            "text/plain": [
              "str"
            ]
          },
          "metadata": {},
          "execution_count": 23
        }
      ]
    },
    {
      "cell_type": "markdown",
      "source": [
        "We can join strings together using +, this is called concatenation:\n",
        "\n"
      ],
      "metadata": {
        "id": "Au_P3ztq1lmZ"
      }
    },
    {
      "cell_type": "code",
      "source": [
        "# Adding strings\n",
        "a=\"One Two Three Four Five,\"\n",
        "b=\" once I caught a fish alive\"\n",
        "print(a+b)"
      ],
      "metadata": {
        "colab": {
          "base_uri": "https://localhost:8080/"
        },
        "id": "LWpYHrJb2Ry8",
        "outputId": "25f93a15-d3e2-4f3c-f278-1a23bee5f78f"
      },
      "execution_count": null,
      "outputs": [
        {
          "output_type": "stream",
          "name": "stdout",
          "text": [
            "One Two Three Four Five, once I caught a fish alive\n"
          ]
        }
      ]
    },
    {
      "cell_type": "markdown",
      "source": [
        "We can extract substrings using [].\n",
        "If x is a string, then x[i] will return the i'th letter of x.\n",
        "\n",
        "And x[a,b] will return all the letters from position a to position b-1"
      ],
      "metadata": {
        "id": "moNISIBX28h3"
      }
    },
    {
      "cell_type": "code",
      "source": [
        "# Print single characters and substrings of a string\n",
        "a=\"One Two Three Four Five,\"\n",
        "print(a[0])\n",
        "print(a[5])\n",
        "print(a[1:3])\n",
        "print(a[0:6])"
      ],
      "metadata": {
        "colab": {
          "base_uri": "https://localhost:8080/"
        },
        "id": "QKX6ghzt3Lfx",
        "outputId": "6a08d372-1513-4bf2-e8d9-89d7635bc80e"
      },
      "execution_count": null,
      "outputs": [
        {
          "output_type": "stream",
          "name": "stdout",
          "text": [
            "O\n",
            "w\n",
            "ne\n",
            "One Tw\n"
          ]
        }
      ]
    },
    {
      "cell_type": "markdown",
      "source": [
        "Some important things to note:\n",
        "\n",
        "\n",
        "*   **The first letter is position 0** (computer scientist like to count from zero, mathematicians like to count from 1, it causes much continued confusion, you will almost certainly cause a bug at some point in your life because of this).\n",
        "*   x[a,b] does not return the b'th letter, it returns the letters before position b.\n",
        "\n"
      ],
      "metadata": {
        "id": "1oVPi_c53wMa"
      }
    },
    {
      "cell_type": "markdown",
      "source": [
        "Strings have lots of built in functions that can do nice things (we will come back to what a function is in a couple of weeks). A full list is available [here](https://docs.python.org/3/library/stdtypes.html#string-methods).\n",
        "\n",
        "There are many useful operations, for example you can take the string and capitalise the first letter (note most code uses American spellings, so here we use captilize):"
      ],
      "metadata": {
        "id": "0xDAr4zX6IXe"
      }
    },
    {
      "cell_type": "code",
      "source": [
        "# Using the capitalize function\n",
        "a = \"who is there?\"\n",
        "print(a)\n",
        "print(a.capitalize())"
      ],
      "metadata": {
        "colab": {
          "base_uri": "https://localhost:8080/"
        },
        "id": "ZNae3hyY7Gft",
        "outputId": "f8fd4198-a2ae-443d-9f37-0778934ca56c"
      },
      "execution_count": null,
      "outputs": [
        {
          "output_type": "stream",
          "name": "stdout",
          "text": [
            "who is there?\n",
            "Who is there?\n"
          ]
        }
      ]
    },
    {
      "cell_type": "markdown",
      "source": [
        "We can remove any spaces before or after the string:"
      ],
      "metadata": {
        "id": "ENI6f3II7QWP"
      }
    },
    {
      "cell_type": "code",
      "source": [
        "# Using the strip function\n",
        "a = \"      space the final frontier     \"\n",
        "print(a)\n",
        "print(a.strip())"
      ],
      "metadata": {
        "colab": {
          "base_uri": "https://localhost:8080/"
        },
        "id": "AP-KIxt27UBb",
        "outputId": "e5524b82-7ec4-4fd0-8504-33192f14af64"
      },
      "execution_count": null,
      "outputs": [
        {
          "output_type": "stream",
          "name": "stdout",
          "text": [
            "      space the final frontier     \n",
            "space the final frontier\n"
          ]
        }
      ]
    },
    {
      "cell_type": "markdown",
      "source": [
        "When can replace all occurrences of a substring with something new"
      ],
      "metadata": {
        "id": "Wu1i8dVF7fq2"
      }
    },
    {
      "cell_type": "code",
      "source": [
        "# Using the replace function\n",
        "a = \"The prime minister of the UK is Rishi Sunak\"\n",
        "print(a)\n",
        "print(a.replace(\"Rishi Sunak\",\"Keir Starmer\"))"
      ],
      "metadata": {
        "colab": {
          "base_uri": "https://localhost:8080/"
        },
        "id": "lVF_ueP27kBj",
        "outputId": "62746116-142f-4aab-db3d-47dc88d556d7"
      },
      "execution_count": null,
      "outputs": [
        {
          "output_type": "stream",
          "name": "stdout",
          "text": [
            "The prime minister of the UK is Rishi Sunak\n",
            "The prime minister of the UK is Keir Starmer\n"
          ]
        }
      ]
    },
    {
      "cell_type": "markdown",
      "source": [
        "There are loads of other nice operations, the above are just a few."
      ],
      "metadata": {
        "id": "aywkc-Em78ef"
      }
    },
    {
      "cell_type": "markdown",
      "source": [
        "## Booleans\n",
        "\n",
        "Booleans, or bools, is the true or false class.\n",
        "\n",
        "A bool can only be True or False (note the capital letter). It is what comes out of comparisons like the equality operator we saw last week."
      ],
      "metadata": {
        "id": "3Zga5Gcq94nZ"
      }
    },
    {
      "cell_type": "code",
      "source": [
        "# Some bools\n",
        "a = 2\n",
        "b = 3\n",
        "c = a==b\n",
        "print(c)\n",
        "type(c)"
      ],
      "metadata": {
        "colab": {
          "base_uri": "https://localhost:8080/"
        },
        "id": "pqC28MwH-I8e",
        "outputId": "0c8a55a0-0134-473c-d578-d819f6683f87"
      },
      "execution_count": null,
      "outputs": [
        {
          "output_type": "stream",
          "name": "stdout",
          "text": [
            "False\n"
          ]
        },
        {
          "output_type": "execute_result",
          "data": {
            "text/plain": [
              "bool"
            ]
          },
          "metadata": {},
          "execution_count": 46
        }
      ]
    },
    {
      "cell_type": "markdown",
      "source": [
        "There are many other comparison operators that give bools:\n",
        "\n",
        "| operator | meaning |\n",
        "| -------- | ------- |\n",
        "| < | strictly less than |\n",
        "| <= | less than or equal |\n",
        "| > | strictly greater than |\n",
        "| >= | greater than or equal |\n",
        "| == | equal |\n",
        "| != | not equal |\n",
        "| is | object identity |\n",
        "| is not | negated object identity |"
      ],
      "metadata": {
        "id": "YJUAIM5H-XGJ"
      }
    },
    {
      "cell_type": "code",
      "source": [
        "# Some comparisons of ints\n",
        "print(2<3)\n",
        "print(2<=2)\n",
        "print(2==3)\n",
        "print(2!=3)"
      ],
      "metadata": {
        "id": "t5bjHJcR-SkP"
      },
      "execution_count": null,
      "outputs": []
    },
    {
      "cell_type": "markdown",
      "source": [
        "We can combine bools using logical operations, such as *and*, *or* and *not* (something else we will explore further in Foundations of Pure Mathematics)."
      ],
      "metadata": {
        "id": "ZyL4vG6F_KDZ"
      }
    },
    {
      "cell_type": "code",
      "source": [
        "# Some logical connectives\n",
        "print(True and True)\n",
        "print(True and False)\n",
        "print(True or False)\n",
        "print(not True)"
      ],
      "metadata": {
        "colab": {
          "base_uri": "https://localhost:8080/"
        },
        "id": "W-mNF1KZ_Q6C",
        "outputId": "30051bc7-ccdf-479b-d93d-df3b78a20b0e"
      },
      "execution_count": null,
      "outputs": [
        {
          "output_type": "stream",
          "name": "stdout",
          "text": [
            "True\n",
            "False\n",
            "True\n",
            "False\n"
          ]
        }
      ]
    },
    {
      "cell_type": "markdown",
      "source": [
        "##Converting between types\n",
        "\n",
        "Sometimes we will have a string that contains a number, and we want to convert it to an int (or float), or the reverse. Python has built in operations to do this.\n",
        "\n",
        "In general all you do is put the type you want to convert to, and then the thing you want converted in brackets, for example:"
      ],
      "metadata": {
        "id": "B40w_hUf8BNQ"
      }
    },
    {
      "cell_type": "code",
      "source": [
        "# Convert between types\n",
        "a=\"4\"\n",
        "b=int(4)\n",
        "print(a)\n",
        "print(type(a))\n",
        "print(b)\n",
        "print(type(b))"
      ],
      "metadata": {
        "colab": {
          "base_uri": "https://localhost:8080/"
        },
        "id": "0sBMz0_W8VcH",
        "outputId": "5d32c7b2-2e14-4920-f3de-98dff2570dee"
      },
      "execution_count": null,
      "outputs": [
        {
          "output_type": "stream",
          "name": "stdout",
          "text": [
            "4\n",
            "<class 'str'>\n",
            "4\n",
            "<class 'int'>\n"
          ]
        }
      ]
    },
    {
      "cell_type": "code",
      "source": [
        "a=4000\n",
        "b=str(4000)\n",
        "b"
      ],
      "metadata": {
        "colab": {
          "base_uri": "https://localhost:8080/",
          "height": 35
        },
        "id": "OrcPh-lT9Tx-",
        "outputId": "4c4a67e8-f3e5-423b-ff99-96eb714ab0c8"
      },
      "execution_count": null,
      "outputs": [
        {
          "output_type": "execute_result",
          "data": {
            "text/plain": [
              "'4000'"
            ],
            "application/vnd.google.colaboratory.intrinsic+json": {
              "type": "string"
            }
          },
          "metadata": {},
          "execution_count": 44
        }
      ]
    },
    {
      "cell_type": "markdown",
      "source": [
        "Often we want to incorporate a number into a string, to do this we must first convert the number to a string, and then join it with the rest of the string using +"
      ],
      "metadata": {
        "id": "9mttbcqX82bA"
      }
    },
    {
      "cell_type": "code",
      "source": [
        "# Add number into string, the correct way\n",
        "a=4\n",
        "print(\"a is equal to \"+str(a))"
      ],
      "metadata": {
        "colab": {
          "base_uri": "https://localhost:8080/"
        },
        "id": "A2XUayhB8vmo",
        "outputId": "a6176961-8f8f-4bda-a981-9cd63351cb4a"
      },
      "execution_count": null,
      "outputs": [
        {
          "output_type": "stream",
          "name": "stdout",
          "text": [
            "a is equal to 4\n"
          ]
        }
      ]
    },
    {
      "cell_type": "markdown",
      "source": [
        "If we don't convert a to a string first we will get an error message:"
      ],
      "metadata": {
        "id": "1tdjxsky9KKJ"
      }
    },
    {
      "cell_type": "code",
      "source": [
        "# Add number into string, the incorrect way\n",
        "a=4\n",
        "print(\"a is equal to \"+a)"
      ],
      "metadata": {
        "colab": {
          "base_uri": "https://localhost:8080/",
          "height": 159
        },
        "id": "xCX2EnuA9N_G",
        "outputId": "45c327e3-d7c0-4ffc-ec1d-2ff5cab438d8"
      },
      "execution_count": null,
      "outputs": [
        {
          "output_type": "error",
          "ename": "TypeError",
          "evalue": "can only concatenate str (not \"int\") to str",
          "traceback": [
            "\u001b[0;31m---------------------------------------------------------------------------\u001b[0m",
            "\u001b[0;31mTypeError\u001b[0m                                 Traceback (most recent call last)",
            "\u001b[0;32m<ipython-input-43-6ef1fc962926>\u001b[0m in \u001b[0;36m<cell line: 2>\u001b[0;34m()\u001b[0m\n\u001b[1;32m      1\u001b[0m \u001b[0ma\u001b[0m\u001b[0;34m=\u001b[0m\u001b[0;36m4\u001b[0m\u001b[0;34m\u001b[0m\u001b[0;34m\u001b[0m\u001b[0m\n\u001b[0;32m----> 2\u001b[0;31m \u001b[0mprint\u001b[0m\u001b[0;34m(\u001b[0m\u001b[0;34m\"a is equal to \"\u001b[0m\u001b[0;34m+\u001b[0m\u001b[0ma\u001b[0m\u001b[0;34m)\u001b[0m\u001b[0;34m\u001b[0m\u001b[0;34m\u001b[0m\u001b[0m\n\u001b[0m",
            "\u001b[0;31mTypeError\u001b[0m: can only concatenate str (not \"int\") to str"
          ]
        }
      ]
    },
    {
      "cell_type": "markdown",
      "source": [
        "We can also use this to convert between int and float"
      ],
      "metadata": {
        "id": "HyNF3ei09dQK"
      }
    },
    {
      "cell_type": "code",
      "source": [
        "# convert an int to a float\n",
        "a=4.0\n",
        "b=int(a)\n",
        "print(type(b))\n",
        "c=b+a\n",
        "print(type(c))"
      ],
      "metadata": {
        "colab": {
          "base_uri": "https://localhost:8080/"
        },
        "id": "YRcHLuS59c8x",
        "outputId": "74e6b205-3a2c-417f-828f-ac43006150a1"
      },
      "execution_count": null,
      "outputs": [
        {
          "output_type": "stream",
          "name": "stdout",
          "text": [
            "<class 'int'>\n",
            "<class 'float'>\n"
          ]
        }
      ]
    },
    {
      "cell_type": "markdown",
      "source": [
        "#Lecture 3: Lists, Tuples, Sets, and Dicts"
      ],
      "metadata": {
        "id": "xKxHOlXnJgwI"
      }
    },
    {
      "cell_type": "markdown",
      "source": [
        "Now lets look at some of the data types that allow us to store multiple things within them."
      ],
      "metadata": {
        "id": "WkZIHBDBKx5P"
      }
    },
    {
      "cell_type": "markdown",
      "source": [
        "##Lists\n",
        "The most common datatype for storing multiple objects is a list.\n",
        "\n",
        "To create a list we use `[]`. For example, to make a list of the numbers 1 to 4, we do.\n",
        "\n",
        "\n",
        "```\n",
        "a = [1,2,3,4]\n",
        "```\n",
        "\n",
        "Some key points about lists:\n",
        "\n",
        "\n",
        "*   Lists have an order, so [1,2,3] is not the same as [3,2,1]\n",
        "*   Lists can be changed, added to, and items removed\n",
        "*   Lists can have duplicated items\n",
        "*   Lists can have different types within\n",
        "\n"
      ],
      "metadata": {
        "id": "8tgQdc7TJy7L"
      }
    },
    {
      "cell_type": "code",
      "source": [
        "# Some lists\n",
        "A = [1,2,3,4,5]\n",
        "print(A)\n",
        "B=[2,2,2,2]\n",
        "print(B)\n",
        "C=[]\n",
        "print(C)\n",
        "D=[\"1\",1,1.0]\n",
        "print(D)"
      ],
      "metadata": {
        "colab": {
          "base_uri": "https://localhost:8080/"
        },
        "id": "0yjTt7kEMbif",
        "outputId": "9b89588d-d084-4ced-a08a-5607bf6a85c3"
      },
      "execution_count": null,
      "outputs": [
        {
          "output_type": "stream",
          "name": "stdout",
          "text": [
            "[1, 2, 3, 4, 5]\n",
            "[2, 2, 2, 2]\n",
            "[]\n",
            "['1', 1, 1.0]\n"
          ]
        }
      ]
    },
    {
      "cell_type": "markdown",
      "source": [
        "The length of a list A is given by len(A) and returns the number of elements within it"
      ],
      "metadata": {
        "id": "5MEkqMQwMwYn"
      }
    },
    {
      "cell_type": "code",
      "source": [
        "# Print the lengths of lists\n",
        "print(\"The length of A is \"+str(len(A)))\n",
        "print(\"The length of B is \"+str(len(B)))\n",
        "print(\"The length of C is \"+str(len(C)))\n",
        "print(\"The length of D is \"+str(len(D)))"
      ],
      "metadata": {
        "colab": {
          "base_uri": "https://localhost:8080/"
        },
        "id": "3RT2TyFgMv8a",
        "outputId": "70ce6481-2863-4b64-863e-5442b70ebce9"
      },
      "execution_count": null,
      "outputs": [
        {
          "output_type": "stream",
          "name": "stdout",
          "text": [
            "The length of A is 5\n",
            "The length of B is 4\n",
            "The length of C is 0\n",
            "The length of D is 3\n"
          ]
        }
      ]
    },
    {
      "cell_type": "markdown",
      "source": [
        "We can access individual elements, and sublists, using the same syntax that we used for strings:"
      ],
      "metadata": {
        "id": "psCcKXS1NENa"
      }
    },
    {
      "cell_type": "code",
      "source": [
        "# Access elements of lists\n",
        "print(A[0])\n",
        "print(A[0:2])\n",
        "print(B[2])"
      ],
      "metadata": {
        "colab": {
          "base_uri": "https://localhost:8080/"
        },
        "id": "4TRjBgBwNJ1d",
        "outputId": "8560e859-3912-48c4-9b72-a6c7d0ab48b7"
      },
      "execution_count": null,
      "outputs": [
        {
          "output_type": "stream",
          "name": "stdout",
          "text": [
            "1\n",
            "[1, 2]\n",
            "2\n"
          ]
        }
      ]
    },
    {
      "cell_type": "markdown",
      "source": [
        "We can change elements:"
      ],
      "metadata": {
        "id": "udFOa6HHSvTn"
      }
    },
    {
      "cell_type": "code",
      "source": [
        "# Alter lists\n",
        "A = [1,2,3,4,5]\n",
        "print(A)\n",
        "A[0]=-100\n",
        "print(A)\n",
        "A[0]=-A[0]\n",
        "print(A)"
      ],
      "metadata": {
        "colab": {
          "base_uri": "https://localhost:8080/"
        },
        "id": "liaZt6_mSy2q",
        "outputId": "fb4235b4-8124-48d3-c600-dc29792d8d32"
      },
      "execution_count": null,
      "outputs": [
        {
          "output_type": "stream",
          "name": "stdout",
          "text": [
            "[1, 2, 3, -1, 4, 5, 0, 1.0, 2.0, 3.0, 'a', 'b', 'c']\n",
            "[-100, 2, 3, -1, 4, 5, 0, 1.0, 2.0, 3.0, 'a', 'b', 'c']\n",
            "[100, 2, 3, -1, 4, 5, 0, 1.0, 2.0, 3.0, 'a', 'b', 'c']\n"
          ]
        }
      ]
    },
    {
      "cell_type": "markdown",
      "source": [
        "There are a few tricks that are commonly used with this.\n",
        "\n",
        "\n",
        "*   A[:b] returns everything upto (but not including) the b'th position, i.e. it is the same as A[0:b]\n",
        "*   A[a:] returns everything from position a onwards\n",
        "*   A[-a] returns the element a positions from the end\n",
        "\n"
      ],
      "metadata": {
        "id": "rvAASeKDNWbP"
      }
    },
    {
      "cell_type": "code",
      "source": [
        "# Access elements using the above tricks\n",
        "A = [1,2,3,4,5]\n",
        "print(A[-1])\n",
        "print(A[-2])\n",
        "print(A[:2])\n",
        "print(A[1:])"
      ],
      "metadata": {
        "colab": {
          "base_uri": "https://localhost:8080/"
        },
        "id": "sbpaiMNGNwMk",
        "outputId": "184a6c00-d8b4-457f-befb-5a3d1100f030"
      },
      "execution_count": null,
      "outputs": [
        {
          "output_type": "stream",
          "name": "stdout",
          "text": [
            "5\n",
            "4\n",
            "['1', 1]\n",
            "[2, 3, 4, 5]\n"
          ]
        }
      ]
    },
    {
      "cell_type": "markdown",
      "source": [
        "A very common error is to try and access an element not in the list, i.e. position i when there are less than i elements. Also recall the positions start from 0."
      ],
      "metadata": {
        "id": "Rg2YZCugN5Ih"
      }
    },
    {
      "cell_type": "code",
      "source": [
        "# Overflow error\n",
        "print(A[5])"
      ],
      "metadata": {
        "colab": {
          "base_uri": "https://localhost:8080/",
          "height": 141
        },
        "id": "hKHzz2EeOGir",
        "outputId": "0cfec167-4219-4e15-8fd9-80b92c76d992"
      },
      "execution_count": null,
      "outputs": [
        {
          "output_type": "error",
          "ename": "IndexError",
          "evalue": "list index out of range",
          "traceback": [
            "\u001b[0;31m---------------------------------------------------------------------------\u001b[0m",
            "\u001b[0;31mIndexError\u001b[0m                                Traceback (most recent call last)",
            "\u001b[0;32m<ipython-input-62-014195646bcd>\u001b[0m in \u001b[0;36m<cell line: 1>\u001b[0;34m()\u001b[0m\n\u001b[0;32m----> 1\u001b[0;31m \u001b[0mprint\u001b[0m\u001b[0;34m(\u001b[0m\u001b[0mA\u001b[0m\u001b[0;34m[\u001b[0m\u001b[0;36m5\u001b[0m\u001b[0;34m]\u001b[0m\u001b[0;34m)\u001b[0m\u001b[0;34m\u001b[0m\u001b[0;34m\u001b[0m\u001b[0m\n\u001b[0m",
            "\u001b[0;31mIndexError\u001b[0m: list index out of range"
          ]
        }
      ]
    },
    {
      "cell_type": "code",
      "source": [
        "print(C[1])"
      ],
      "metadata": {
        "colab": {
          "base_uri": "https://localhost:8080/",
          "height": 141
        },
        "id": "bzI-FoYmOLNp",
        "outputId": "0369a1db-1db7-49b1-c7c6-9ba35448742b"
      },
      "execution_count": null,
      "outputs": [
        {
          "output_type": "error",
          "ename": "IndexError",
          "evalue": "list index out of range",
          "traceback": [
            "\u001b[0;31m---------------------------------------------------------------------------\u001b[0m",
            "\u001b[0;31mIndexError\u001b[0m                                Traceback (most recent call last)",
            "\u001b[0;32m<ipython-input-63-46f7acc3e8bb>\u001b[0m in \u001b[0;36m<cell line: 1>\u001b[0;34m()\u001b[0m\n\u001b[0;32m----> 1\u001b[0;31m \u001b[0mprint\u001b[0m\u001b[0;34m(\u001b[0m\u001b[0mC\u001b[0m\u001b[0;34m[\u001b[0m\u001b[0;36m1\u001b[0m\u001b[0;34m]\u001b[0m\u001b[0;34m)\u001b[0m\u001b[0;34m\u001b[0m\u001b[0;34m\u001b[0m\u001b[0m\n\u001b[0m",
            "\u001b[0;31mIndexError\u001b[0m: list index out of range"
          ]
        }
      ]
    },
    {
      "cell_type": "markdown",
      "source": [
        "We can add more elements to a list using:\n",
        "\n",
        "\n",
        "*   append : add to the end\n",
        "*   insert : adds in a particular position\n",
        "*   extend : adds multiple elements at the end\n",
        "\n"
      ],
      "metadata": {
        "id": "52z2dTb_OPnX"
      }
    },
    {
      "cell_type": "code",
      "source": [
        "# Add elements to lists\n",
        "A = [1,2,3,4,5]\n",
        "print(A)\n",
        "A.append(0)\n",
        "print(A)\n",
        "A.insert(3,-1)\n",
        "print(A)\n",
        "A.extend([1.0,2.0,3.0])\n",
        "print(A)\n",
        "A = A + [\"a\",\"b\",\"c\"]\n",
        "print(A)"
      ],
      "metadata": {
        "colab": {
          "base_uri": "https://localhost:8080/"
        },
        "id": "-RUHVAdYRyg_",
        "outputId": "753981c9-dcd5-48a1-a737-bd0d99179e1f"
      },
      "execution_count": null,
      "outputs": [
        {
          "output_type": "stream",
          "name": "stdout",
          "text": [
            "[1, 2, 3, 4, 5]\n",
            "[1, 2, 3, 4, 5, 0]\n",
            "[1, 2, 3, -1, 4, 5, 0]\n",
            "[1, 2, 3, -1, 4, 5, 0, 1.0, 2.0, 3.0]\n",
            "[1, 2, 3, -1, 4, 5, 0, 1.0, 2.0, 3.0, 'a', 'b', 'c']\n"
          ]
        }
      ]
    },
    {
      "cell_type": "markdown",
      "source": [
        "We can remove elements from lists:\n",
        "\n",
        "\n",
        "*   remove : will remove the first occurence of the specified element\n",
        "*   pop : will remove element in specified position\n",
        "\n"
      ],
      "metadata": {
        "id": "5gQ6ugy0SYjU"
      }
    },
    {
      "cell_type": "code",
      "source": [
        "# Remove elements from lists\n",
        "print(A)\n",
        "A.remove(3)\n",
        "print(A)\n",
        "A.remove(3)\n",
        "print(A)\n",
        "\n",
        "A.pop(0)\n",
        "print(A)"
      ],
      "metadata": {
        "colab": {
          "base_uri": "https://localhost:8080/"
        },
        "id": "qfkTbSQeidxu",
        "outputId": "3b00cf99-908c-4c7f-ec03-e3aa03e8bf3d"
      },
      "execution_count": null,
      "outputs": [
        {
          "output_type": "stream",
          "name": "stdout",
          "text": [
            "[1, 2, 3, -1, 4, 5, 0, 1.0, 2.0, 3.0, 'a', 'b', 'c']\n",
            "[1, 2, -1, 4, 5, 0, 1.0, 2.0, 3.0, 'a', 'b', 'c']\n",
            "[1, 2, -1, 4, 5, 0, 1.0, 2.0, 'a', 'b', 'c']\n",
            "[2, -1, 4, 5, 0, 1.0, 2.0, 'a', 'b', 'c']\n"
          ]
        }
      ]
    },
    {
      "cell_type": "markdown",
      "source": [
        "We can make a copy of a list, this is useful when we want to make changes to the list, but also keep the original unchanged.\n",
        "\n",
        "Note that simply **setting something equal to a list does not make a copy**. This is an important point, and a common cause of bugs.\n",
        "\n",
        "If I have a list A, and do:\n",
        "```\n",
        "B = A\n",
        "B[0] = 0\n",
        "```\n",
        "Then this will change the first element of B and the first element of A. This is because B becomes the list A, so B and A are now the same list, any change to one is also a change to the other as they are the same object in the memory.\n",
        "\n",
        "If instead I do:\n",
        "```\n",
        "B = A.copy()\n",
        "B[0] = 0\n",
        "```\n",
        "This will change the first element of B, but leave A as the original. Because B is a copy of A, so it has the same elements, but in the memory they are two different things.\n",
        "\n",
        "Both of these case are useful, and you need to work out which one you want for your specific situation."
      ],
      "metadata": {
        "id": "yEJXz80cTJJV"
      }
    },
    {
      "cell_type": "code",
      "source": [
        "# Change copies of lists\n",
        "A = [1,2,3]\n",
        "B = A\n",
        "B[0] = \"elephant\"\n",
        "\n",
        "print(A)\n",
        "print(B)"
      ],
      "metadata": {
        "colab": {
          "base_uri": "https://localhost:8080/"
        },
        "id": "J26Zqm3KTQp-",
        "outputId": "76ca5e34-a437-40a4-f02c-b56a747b85d8"
      },
      "execution_count": null,
      "outputs": [
        {
          "output_type": "stream",
          "name": "stdout",
          "text": [
            "['elephant', 2, 3]\n",
            "['elephant', 2, 3]\n"
          ]
        }
      ]
    },
    {
      "cell_type": "code",
      "source": [
        "A = [1,2,3]\n",
        "B = A.copy()\n",
        "B[0] = \"elephant\"\n",
        "\n",
        "print(A)\n",
        "print(B)"
      ],
      "metadata": {
        "colab": {
          "base_uri": "https://localhost:8080/"
        },
        "id": "7SO8j1p1sY-j",
        "outputId": "38f83933-de9c-4a35-9334-3cc8cab423ae"
      },
      "execution_count": null,
      "outputs": [
        {
          "output_type": "stream",
          "name": "stdout",
          "text": [
            "[1, 2, 3]\n",
            "['elephant', 2, 3]\n"
          ]
        }
      ]
    },
    {
      "cell_type": "markdown",
      "source": [
        "##Tuples"
      ],
      "metadata": {
        "id": "sm4De2KwI0eb"
      }
    },
    {
      "cell_type": "markdown",
      "source": [
        "A tuple is very similar to a list, but the key difference is a that a tuple cannot be changed once created. This is known as an **immutable** type.\n",
        "\n",
        "*   Tuples have an order, so [1,2,3] is not the same as [3,2,1]\n",
        "*   Tuples **cannot** be changed, added to, nor items removed\n",
        "*   Tuples can have duplicated items\n",
        "*   Tuples can have different types within\n",
        "\n",
        "To create a tuple we use `() `or we can convert a list A to a tuple using `tuple(A)`"
      ],
      "metadata": {
        "id": "7C9WrtSfI19R"
      }
    },
    {
      "cell_type": "code",
      "source": [
        "# Create a tuple\n",
        "A = (1,2,3)\n",
        "print(A)\n",
        "B=tuple(['a','b','c'])\n",
        "print(B)"
      ],
      "metadata": {
        "colab": {
          "base_uri": "https://localhost:8080/"
        },
        "id": "QIRhkqoZKV0e",
        "outputId": "bda0e5e4-db9d-4b22-c172-5a5fc2604fe4"
      },
      "execution_count": null,
      "outputs": [
        {
          "output_type": "stream",
          "name": "stdout",
          "text": [
            "(1, 2, 3)\n",
            "('a', 'b', 'c')\n"
          ]
        }
      ]
    },
    {
      "cell_type": "markdown",
      "source": [
        "If we try and change a tuple we will get an error:"
      ],
      "metadata": {
        "id": "Xw6fbxNiKwDo"
      }
    },
    {
      "cell_type": "code",
      "source": [
        "# Try and change a tuple\n",
        "A=(1,2,3)\n",
        "A[0] = 'a'"
      ],
      "metadata": {
        "colab": {
          "base_uri": "https://localhost:8080/",
          "height": 159
        },
        "id": "YnVsPQfYK1qt",
        "outputId": "0b7af0ad-6292-40dd-eb70-ffbc0b95cd43"
      },
      "execution_count": null,
      "outputs": [
        {
          "output_type": "error",
          "ename": "TypeError",
          "evalue": "'tuple' object does not support item assignment",
          "traceback": [
            "\u001b[0;31m---------------------------------------------------------------------------\u001b[0m",
            "\u001b[0;31mTypeError\u001b[0m                                 Traceback (most recent call last)",
            "\u001b[0;32m<ipython-input-18-8cb5fff82a00>\u001b[0m in \u001b[0;36m<cell line: 2>\u001b[0;34m()\u001b[0m\n\u001b[1;32m      1\u001b[0m \u001b[0mA\u001b[0m\u001b[0;34m=\u001b[0m\u001b[0;34m(\u001b[0m\u001b[0;36m1\u001b[0m\u001b[0;34m,\u001b[0m\u001b[0;36m2\u001b[0m\u001b[0;34m,\u001b[0m\u001b[0;36m3\u001b[0m\u001b[0;34m)\u001b[0m\u001b[0;34m\u001b[0m\u001b[0;34m\u001b[0m\u001b[0m\n\u001b[0;32m----> 2\u001b[0;31m \u001b[0mA\u001b[0m\u001b[0;34m[\u001b[0m\u001b[0;36m0\u001b[0m\u001b[0;34m]\u001b[0m \u001b[0;34m=\u001b[0m \u001b[0;34m'a'\u001b[0m\u001b[0;34m\u001b[0m\u001b[0;34m\u001b[0m\u001b[0m\n\u001b[0m",
            "\u001b[0;31mTypeError\u001b[0m: 'tuple' object does not support item assignment"
          ]
        }
      ]
    },
    {
      "cell_type": "markdown",
      "source": [
        "You can think of tuples as lists which have been frozen in place, and are now unchangeable."
      ],
      "metadata": {
        "id": "2VX4vXqmL9GI"
      }
    },
    {
      "cell_type": "markdown",
      "source": [
        "##Sets"
      ],
      "metadata": {
        "id": "Utd8xuSsJ2RN"
      }
    },
    {
      "cell_type": "markdown",
      "source": [
        "A set in Python is a programming implementation of the mathematical object set (which we will see this week in Foundations of Pure Mathematics).\n",
        "\n",
        "To create a set we use `{ }`.\n",
        "\n",
        "Some properties of sets are:\n",
        "*   Sets **do not** have an order, so {1,2,3} is not the same as {3,2,1}\n",
        "*   Sets can be changed, added to, and items removed\n",
        "*   Sets **can not** have duplicated items\n",
        "*   Sets can have different types within"
      ],
      "metadata": {
        "id": "wa5nUSSytBgv"
      }
    },
    {
      "cell_type": "code",
      "source": [
        "# Create some sets\n",
        "A = {1,2,3,4,5}\n",
        "print(A)\n",
        "B={2,2,2,2}\n",
        "print(B)\n",
        "C={\"1\",1,1.0}\n",
        "print(C)"
      ],
      "metadata": {
        "id": "rwCiySKItBDP",
        "colab": {
          "base_uri": "https://localhost:8080/"
        },
        "outputId": "95e193e8-b099-45c4-c6fb-b81cd885cfc2"
      },
      "execution_count": null,
      "outputs": [
        {
          "output_type": "stream",
          "name": "stdout",
          "text": [
            "{1, 2, 3, 4, 5}\n",
            "{2}\n",
            "{1, '1'}\n"
          ]
        }
      ]
    },
    {
      "cell_type": "markdown",
      "source": [
        "It is very simple to check if a set contains an element, and to check for subsets:"
      ],
      "metadata": {
        "id": "FSPVyEP0-HOk"
      }
    },
    {
      "cell_type": "code",
      "source": [
        "# Check set containment\n",
        "A = {1,2,3,4,5}\n",
        "check = 0 in A\n",
        "print(\"Is 0 in A: \"+str(check))\n",
        "print(\"Is 0 not in A: \"+str(0 not in A))\n",
        "\n",
        "B={1,2}\n",
        "print(\"Is B a subset of A: \"+str(B.issubset(A)))\n",
        "print(\"Is B an element of A: \"+str(B in A))\n",
        "\n",
        "print(A.issuperset(B))"
      ],
      "metadata": {
        "colab": {
          "base_uri": "https://localhost:8080/"
        },
        "id": "s047z-Le-PAm",
        "outputId": "28918c89-25c2-4361-da18-eed08aba8473"
      },
      "execution_count": null,
      "outputs": [
        {
          "output_type": "stream",
          "name": "stdout",
          "text": [
            "Is 0 in A: False\n",
            "Is 0 not in A: True\n",
            "Is B a subset of A: True\n",
            "Is B an element of A: False\n",
            "True\n"
          ]
        }
      ]
    },
    {
      "cell_type": "markdown",
      "source": [
        "Python has built in operations to do unions, intersections, set minus (a.k.a set difference)."
      ],
      "metadata": {
        "id": "MIyFbuHl8xmL"
      }
    },
    {
      "cell_type": "code",
      "source": [
        "# Use some of the set operations\n",
        "A={1,2,3}\n",
        "B={3,4,5}\n",
        "\n",
        "AcupB = A.union(B)\n",
        "AcapB = A.intersection(B)\n",
        "AminusB = A.difference(B)\n",
        "AotherminusB = A-B\n",
        "\n",
        "print(\"A union B is \"+str(AcupB))\n",
        "print(\"A intersection B is \"+str(AcapB))\n",
        "print(\"A set minus B is \"+str(AminusB))\n",
        "print(\"A set minus B is \"+str(AotherminusB))\n",
        "\n",
        "print(\"The length of A is \"+str(len(A)))\n"
      ],
      "metadata": {
        "colab": {
          "base_uri": "https://localhost:8080/"
        },
        "id": "jI4fIb2h_8Ey",
        "outputId": "3aad8ce1-e858-4776-a975-06ee116bedcf"
      },
      "execution_count": null,
      "outputs": [
        {
          "output_type": "stream",
          "name": "stdout",
          "text": [
            "A union B is {1, 2, 3, 4, 5}\n",
            "A intersection B is {3}\n",
            "A set minus B is {1, 2}\n",
            "A set minus B is {1, 2}\n",
            "The length of A is 3\n"
          ]
        }
      ]
    },
    {
      "cell_type": "markdown",
      "source": [
        "We can add and remove elements from a set"
      ],
      "metadata": {
        "id": "0__ySlS8BGmX"
      }
    },
    {
      "cell_type": "code",
      "source": [
        "# Adding and removing from sets\n",
        "A={1,2,3,4}\n",
        "A.add(5)\n",
        "print(A)\n",
        "A.remove(1)\n",
        "print(A)"
      ],
      "metadata": {
        "id": "L56JpF9SBGQw"
      },
      "execution_count": null,
      "outputs": []
    },
    {
      "cell_type": "markdown",
      "source": [
        "We can convert lists into sets:"
      ],
      "metadata": {
        "id": "yalB0mibBVBv"
      }
    },
    {
      "cell_type": "code",
      "source": [
        "# Change a list to a set\n",
        "A=[1,2,3,4,3,2,1]\n",
        "print(A)\n",
        "B=set(A)\n",
        "print(B)"
      ],
      "metadata": {
        "colab": {
          "base_uri": "https://localhost:8080/"
        },
        "id": "LHbRwndBBYEe",
        "outputId": "1157ebe6-2428-40f2-c1a5-6c0e7e5fa5c7"
      },
      "execution_count": null,
      "outputs": [
        {
          "output_type": "stream",
          "name": "stdout",
          "text": [
            "[1, 2, 3, 4, 3, 2, 1]\n",
            "{1, 2, 3, 4}\n"
          ]
        }
      ]
    },
    {
      "cell_type": "markdown",
      "source": [
        "We can create the emptyset, but to do this we need to use set(). If we do A={} we actually create a dictionary, which we will see next."
      ],
      "metadata": {
        "id": "QG-otcXtD3RD"
      }
    },
    {
      "cell_type": "code",
      "source": [
        "# Create the emptyset\n",
        "A=set()\n",
        "B={}\n",
        "print(\"A is of type \"+str(type(A)))\n",
        "print(\"B is of type \"+str(type(B)))"
      ],
      "metadata": {
        "id": "j--1sQ4sEAlb",
        "colab": {
          "base_uri": "https://localhost:8080/"
        },
        "outputId": "8fa73ffb-fc5d-42ac-d926-9bc114973724"
      },
      "execution_count": null,
      "outputs": [
        {
          "output_type": "stream",
          "name": "stdout",
          "text": [
            "A is of type <class 'set'>\n",
            "B is of type <class 'dict'>\n"
          ]
        }
      ]
    },
    {
      "cell_type": "markdown",
      "source": [
        "There is also frozenset,  an immutable version of set. You can think of them as tuples for sets. We won't go into further detail, but encourage you to have a play."
      ],
      "metadata": {
        "id": "DTTr2I56MHAl"
      }
    },
    {
      "cell_type": "markdown",
      "source": [
        "##Dictionaries (Dict)"
      ],
      "metadata": {
        "id": "NOnwczy4J3kF"
      }
    },
    {
      "cell_type": "markdown",
      "source": [
        "A dictionary is like a mathematical function (something else we will formally define in FoPM). A dictionary takes a \"key\" as an input and returns the \"value\" associated to that key.\n",
        "\n",
        "In a slightly confusing clash of notation, we define a dictionary using `{}` (as we did for sets). But the difference is each entry is a pair, the key and its associated value, the syntax is `D={key1: value1, key2:value2, key3:value3}`\n",
        "\n",
        "Once we have a dictionary D, we access the elements using `[]`. So to determine what value is associated to \"key\" we do `D[key]`"
      ],
      "metadata": {
        "id": "fHRJabaVBoI-"
      }
    },
    {
      "cell_type": "code",
      "source": [
        "# Create and access a dictionary\n",
        "A = {1:'a', 2:'b', 3:'c'}\n",
        "print(A)\n",
        "print(\"In A we map 1 to \"+str(A[1]))"
      ],
      "metadata": {
        "colab": {
          "base_uri": "https://localhost:8080/"
        },
        "id": "fvFNz4BnBhOx",
        "outputId": "dbda3db4-0aa4-4a13-9ac9-9483d312c91b"
      },
      "execution_count": null,
      "outputs": [
        {
          "output_type": "stream",
          "name": "stdout",
          "text": [
            "{1: 'a', 2: 'b', 3: 'c'}\n",
            "In A we map 1 to a\n"
          ]
        }
      ]
    },
    {
      "cell_type": "markdown",
      "source": [
        "We can add, change and remove elements of the dictionary:\n",
        "\n"
      ],
      "metadata": {
        "id": "5h7YsZvdEktX"
      }
    },
    {
      "cell_type": "code",
      "source": [
        "# Altering a dictionary\n",
        "A = {1:'a', 2:'b', 3:'c'}\n",
        "A[4]='d'\n",
        "print(A)\n",
        "A[1]='aardvark'\n",
        "print(A)\n",
        "del A[3]\n",
        "print(A)"
      ],
      "metadata": {
        "colab": {
          "base_uri": "https://localhost:8080/"
        },
        "id": "DljxLlLeEoJa",
        "outputId": "96097e06-c5c6-4300-b85b-e1e3dc104804"
      },
      "execution_count": null,
      "outputs": [
        {
          "output_type": "stream",
          "name": "stdout",
          "text": [
            "{1: 'a', 2: 'b', 3: 'c', 4: 'd'}\n",
            "{1: 'aardvark', 2: 'b', 3: 'c', 4: 'd'}\n",
            "{1: 'aardvark', 2: 'b', 4: 'd'}\n"
          ]
        }
      ]
    },
    {
      "cell_type": "markdown",
      "source": [
        "Another way to create a dictionary, is to start with an empty dictionary and assign each key individually:"
      ],
      "metadata": {
        "id": "_vMqNFoVDt5g"
      }
    },
    {
      "cell_type": "code",
      "source": [
        "# Populate a dictionary\n",
        "D={} #create empty dictionary\n",
        "D[1]='a'\n",
        "D[2]='b'\n",
        "D[3]='c'\n",
        "print(D)"
      ],
      "metadata": {
        "colab": {
          "base_uri": "https://localhost:8080/"
        },
        "id": "PS7gl7TzDtp7",
        "outputId": "3b1f3da8-79e5-4043-cf8e-c0727a0df0c7"
      },
      "execution_count": null,
      "outputs": [
        {
          "output_type": "stream",
          "name": "stdout",
          "text": [
            "{1: 'a', 2: 'b', 3: 'c'}\n"
          ]
        }
      ]
    },
    {
      "cell_type": "markdown",
      "source": [
        "Dictionary values can be of any type. But Dictionary keys must be an immutable type, so we cannot have lists or sets as dictionary keys (nor dictionaries themselves), but all other types we have seen so far will work. The reason for this is that if we used a list as a key, we could then change that list, and this creates confusion for the dictionary.\n",
        "\n",
        "If you want to use a list or set as a key then you should use tuple or frozenset instead."
      ],
      "metadata": {
        "id": "FLaJZhOnGJGs"
      }
    },
    {
      "cell_type": "code",
      "source": [
        "# Error example when key is mutable\n",
        "D={}\n",
        "D[(1,2,3)]=[1,2,3]\n",
        "print(D)\n",
        "D[[1,2]]=[1,2]"
      ],
      "metadata": {
        "colab": {
          "base_uri": "https://localhost:8080/",
          "height": 193
        },
        "id": "LG0TWHaoNHPt",
        "outputId": "0e4ffccf-fba0-4aee-fce0-e3e698c004a5"
      },
      "execution_count": null,
      "outputs": [
        {
          "output_type": "stream",
          "name": "stdout",
          "text": [
            "{(1, 2, 3): [1, 2, 3]}\n"
          ]
        },
        {
          "output_type": "error",
          "ename": "TypeError",
          "evalue": "unhashable type: 'list'",
          "traceback": [
            "\u001b[0;31m---------------------------------------------------------------------------\u001b[0m",
            "\u001b[0;31mTypeError\u001b[0m                                 Traceback (most recent call last)",
            "\u001b[0;32m<ipython-input-21-3e7df60cbaba>\u001b[0m in \u001b[0;36m<cell line: 4>\u001b[0;34m()\u001b[0m\n\u001b[1;32m      2\u001b[0m \u001b[0mD\u001b[0m\u001b[0;34m[\u001b[0m\u001b[0;34m(\u001b[0m\u001b[0;36m1\u001b[0m\u001b[0;34m,\u001b[0m\u001b[0;36m2\u001b[0m\u001b[0;34m,\u001b[0m\u001b[0;36m3\u001b[0m\u001b[0;34m)\u001b[0m\u001b[0;34m]\u001b[0m\u001b[0;34m=\u001b[0m\u001b[0;34m[\u001b[0m\u001b[0;36m1\u001b[0m\u001b[0;34m,\u001b[0m\u001b[0;36m2\u001b[0m\u001b[0;34m,\u001b[0m\u001b[0;36m3\u001b[0m\u001b[0;34m]\u001b[0m\u001b[0;34m\u001b[0m\u001b[0;34m\u001b[0m\u001b[0m\n\u001b[1;32m      3\u001b[0m \u001b[0mprint\u001b[0m\u001b[0;34m(\u001b[0m\u001b[0mD\u001b[0m\u001b[0;34m)\u001b[0m\u001b[0;34m\u001b[0m\u001b[0;34m\u001b[0m\u001b[0m\n\u001b[0;32m----> 4\u001b[0;31m \u001b[0mD\u001b[0m\u001b[0;34m[\u001b[0m\u001b[0;34m[\u001b[0m\u001b[0;36m1\u001b[0m\u001b[0;34m,\u001b[0m\u001b[0;36m2\u001b[0m\u001b[0;34m]\u001b[0m\u001b[0;34m]\u001b[0m\u001b[0;34m=\u001b[0m\u001b[0;34m[\u001b[0m\u001b[0;36m1\u001b[0m\u001b[0;34m,\u001b[0m\u001b[0;36m2\u001b[0m\u001b[0;34m]\u001b[0m\u001b[0;34m\u001b[0m\u001b[0;34m\u001b[0m\u001b[0m\n\u001b[0m",
            "\u001b[0;31mTypeError\u001b[0m: unhashable type: 'list'"
          ]
        }
      ]
    },
    {
      "cell_type": "markdown",
      "source": [
        "# Lecture 4: Conditional and Loops"
      ],
      "metadata": {
        "id": "RG9IEjvV_puB"
      }
    },
    {
      "cell_type": "markdown",
      "source": [
        "IMPORTANT: Indentations play a key role in Python. Indents are used to dictate what is part of a loop or if statement (and other things like functions).\n",
        "\n",
        "Indentations should be made up of 4 spaces. Other things can actually be used, indcluding tabs, and any number of spaces. But the important thing is that it must be the same throughout your code. You cannot use tabs at one point and then 2 spaces at another point (IDE's often have built in things to help with this).\n",
        "\n",
        "The recommendation is to always use 4 spaces, this is the most common approach, and least likely to create bugs."
      ],
      "metadata": {
        "id": "HdcsYQdaYByp"
      }
    },
    {
      "cell_type": "markdown",
      "source": [
        "## Conditionals\n"
      ],
      "metadata": {
        "id": "wFayZrVYFgj4"
      }
    },
    {
      "cell_type": "markdown",
      "source": [
        "###**if**\n",
        "A conditional statement allows us to different things depending on some criteria. The main conditional statement is `if`.\n",
        "\n",
        "We can use `if` to only do something when our statement is true:"
      ],
      "metadata": {
        "id": "zFJ8n0uHCppq"
      }
    },
    {
      "cell_type": "code",
      "source": [
        "# An if statement\n",
        "a=3\n",
        "b=4\n",
        "if a < b:\n",
        "    print(\"a is less than b\")"
      ],
      "metadata": {
        "colab": {
          "base_uri": "https://localhost:8080/"
        },
        "id": "QO2bHf2UDfLb",
        "outputId": "2453414e-b1eb-4b53-c1a9-39b251bf8a7b"
      },
      "execution_count": null,
      "outputs": [
        {
          "output_type": "stream",
          "name": "stdout",
          "text": [
            "a is less than b\n"
          ]
        }
      ]
    },
    {
      "cell_type": "markdown",
      "source": [
        "Note the syntax:\n",
        "`if <some boolean statement>:`\n",
        "then the next line must be indented.\n",
        "Anything included in the indented block falls within the if statement.\n",
        "\n"
      ],
      "metadata": {
        "id": "xfSP5kpLDoQV"
      }
    },
    {
      "cell_type": "code",
      "source": [
        "# A bigger if statement\n",
        "a=\"hello\"\n",
        "b=\"Hello\"\n",
        "if a == b:\n",
        "    print(\"These are the same statements\")\n",
        "    print(\"But actually they are not\")\n",
        "    print(\"So none of this is going to print\")\n",
        "\n",
        "if a.capitalize()==b:\n",
        "    print(\"But now they are the same\")"
      ],
      "metadata": {
        "colab": {
          "base_uri": "https://localhost:8080/"
        },
        "id": "5PJq5pD1EKGN",
        "outputId": "d540fd97-6104-4e87-d0a7-05ea2081da42"
      },
      "execution_count": null,
      "outputs": [
        {
          "output_type": "stream",
          "name": "stdout",
          "text": [
            "But now they are the same\n"
          ]
        }
      ]
    },
    {
      "cell_type": "markdown",
      "source": [
        "###**else**\n",
        "\n",
        "Sometimes we want one of two things to happen, if our statement is true do this, if it is false do that. For this we use if/else:"
      ],
      "metadata": {
        "id": "AsFBjxYtEwKx"
      }
    },
    {
      "cell_type": "code",
      "source": [
        "# An if-else statement\n",
        "a = 7\n",
        "b = 3\n",
        "if a <= b:\n",
        "    print(\"b is bigger than a\")\n",
        "else:\n",
        "    print(\"b is smaller than a\")"
      ],
      "metadata": {
        "colab": {
          "base_uri": "https://localhost:8080/"
        },
        "id": "xgNzY9YPE3P9",
        "outputId": "12c186eb-ce64-4402-cd9d-239365c8c325"
      },
      "execution_count": null,
      "outputs": [
        {
          "output_type": "stream",
          "name": "stdout",
          "text": [
            "b is smaller than a\n"
          ]
        }
      ]
    },
    {
      "cell_type": "markdown",
      "source": [
        "###**elif**\n",
        "Sometimes we have more than two possibilites, for we use elif, which stand for *else if*:"
      ],
      "metadata": {
        "id": "fkTduHWtFLXr"
      }
    },
    {
      "cell_type": "code",
      "source": [
        "# An elif statement\n",
        "a = -3\n",
        "b = -3\n",
        "if a < b:\n",
        "    print(\"a is less than b\")\n",
        "elif a > b:\n",
        "    print(\"a is greater than b\")\n",
        "else:\n",
        "    print(\"a equals b\")"
      ],
      "metadata": {
        "colab": {
          "base_uri": "https://localhost:8080/"
        },
        "id": "YRTUyuciFrtH",
        "outputId": "59a6729f-b4ea-4b38-c2c9-6944a9a63cdf"
      },
      "execution_count": null,
      "outputs": [
        {
          "output_type": "stream",
          "name": "stdout",
          "text": [
            "a equals b\n"
          ]
        }
      ]
    },
    {
      "cell_type": "markdown",
      "source": [
        "The code will work its way down the elif statements, it will will only execute elif if all preceeding conditions have been false, and this condition is true."
      ],
      "metadata": {
        "id": "gBvv2AoEF8If"
      }
    },
    {
      "cell_type": "code",
      "source": [
        "# Another elif statement\n",
        "a = 0\n",
        "b = 5\n",
        "if a < b:\n",
        "    print(\"a is less than b\")\n",
        "elif a <= b:\n",
        "    print(\"a is less than or equal to b\")\n",
        "elif a > b:\n",
        "    print(\"a is greater than b\")\n",
        "elif a >= b:\n",
        "    print(\"a is greater than or equal to b\")\n",
        "else:\n",
        "    print(\"a equals b\")"
      ],
      "metadata": {
        "colab": {
          "base_uri": "https://localhost:8080/"
        },
        "id": "WU91lnSqGKsG",
        "outputId": "4168ec10-c262-417c-c52d-b8dbcab80ccf"
      },
      "execution_count": null,
      "outputs": [
        {
          "output_type": "stream",
          "name": "stdout",
          "text": [
            "a is less than b\n"
          ]
        }
      ]
    },
    {
      "cell_type": "code",
      "source": [
        "a = 0\n",
        "b = 5\n",
        "if a < b:\n",
        "    print(\"a is less than b\")\n",
        "if a <= b:\n",
        "    print(\"a is less than or equal to b\")\n",
        "if a > b:\n",
        "    print(\"a is greater than b\")\n",
        "if a >= b:\n",
        "    print(\"a is greater than or equal to b\")"
      ],
      "metadata": {
        "colab": {
          "base_uri": "https://localhost:8080/"
        },
        "id": "SEw8fPJ-Ggry",
        "outputId": "49de3825-dd0f-4fc6-b3c0-356154cc8de8"
      },
      "execution_count": null,
      "outputs": [
        {
          "output_type": "stream",
          "name": "stdout",
          "text": [
            "a is less than b\n",
            "a is less than or equal to b\n"
          ]
        }
      ]
    },
    {
      "cell_type": "markdown",
      "source": [
        "## Loops"
      ],
      "metadata": {
        "id": "JYMyq9i4I3ve"
      }
    },
    {
      "cell_type": "markdown",
      "source": [
        "Loops are one of the most important things in coding, they allow us to repeatedly do stuff. There are two main loops `for` and `while`."
      ],
      "metadata": {
        "id": "pWd3E9G7OYiw"
      }
    },
    {
      "cell_type": "markdown",
      "source": [
        "###**For**"
      ],
      "metadata": {
        "id": "vhJAZr1cI5iX"
      }
    },
    {
      "cell_type": "markdown",
      "source": [
        "A `for` loop will execute a piece of code for every specified item, usually all things in a list, tuple or set (or something called an iterator).\n",
        "\n",
        "To define a `for` loop we need two things, firstly all the things we want to consider and secondly what we want the code to do each time. The syntax for a `for` loop is:\n",
        "\n",
        "\n",
        "```\n",
        "for i in some_things:\n",
        "    execute_this_code\n",
        "```\n",
        "The i used above is called the index, and will contain a different element from the some_things each iteration of the code.\n",
        "\n",
        "Note the indentation, the `for` loop will evaluate all code that follows it until it finds the next unindented line.\n",
        "\n",
        "\n"
      ],
      "metadata": {
        "id": "7nb1DIwfOlk4"
      }
    },
    {
      "cell_type": "code",
      "source": [
        "# A for loop\n",
        "for i in [10,9,8,7,6,5,4,3,2,1]:\n",
        "    print(str(i)+\" green bottles standing on the wall, if one green bottle should fall, there will be \"+str(i-1)+\" bottles standing on the wall\")"
      ],
      "metadata": {
        "colab": {
          "base_uri": "https://localhost:8080/"
        },
        "id": "MIxsBRH3ToQ7",
        "outputId": "6ca8e637-3347-474d-ed5a-74ab55c1b9b4"
      },
      "execution_count": null,
      "outputs": [
        {
          "output_type": "stream",
          "name": "stdout",
          "text": [
            "10 green bottles standing on the wall, if one green bottle should fall, there will be 9 bottles standing on the wall\n",
            "9 green bottles standing on the wall, if one green bottle should fall, there will be 8 bottles standing on the wall\n",
            "8 green bottles standing on the wall, if one green bottle should fall, there will be 7 bottles standing on the wall\n",
            "7 green bottles standing on the wall, if one green bottle should fall, there will be 6 bottles standing on the wall\n",
            "6 green bottles standing on the wall, if one green bottle should fall, there will be 5 bottles standing on the wall\n",
            "5 green bottles standing on the wall, if one green bottle should fall, there will be 4 bottles standing on the wall\n",
            "4 green bottles standing on the wall, if one green bottle should fall, there will be 3 bottles standing on the wall\n",
            "3 green bottles standing on the wall, if one green bottle should fall, there will be 2 bottles standing on the wall\n",
            "2 green bottles standing on the wall, if one green bottle should fall, there will be 1 bottles standing on the wall\n",
            "1 green bottles standing on the wall, if one green bottle should fall, there will be 0 bottles standing on the wall\n"
          ]
        }
      ]
    },
    {
      "cell_type": "markdown",
      "source": [
        "Note that if we use a list, the loop will go through the elements in the order they are listed (as above), but if we use a set (which does not have an order) the loop will work through in whichever way it chooses."
      ],
      "metadata": {
        "id": "RpQAJsykYP8i"
      }
    },
    {
      "cell_type": "code",
      "source": [
        "# for loop through a set\n",
        "for x in {3,2,1,0}:\n",
        "    print(str(x)+\" plus 5 equals \"+str(x+5))"
      ],
      "metadata": {
        "colab": {
          "base_uri": "https://localhost:8080/"
        },
        "id": "X4toz9JAUUv6",
        "outputId": "ecf4cfbf-f0f0-43c4-ae9e-81ef1ebfcfc8"
      },
      "execution_count": null,
      "outputs": [
        {
          "output_type": "stream",
          "name": "stdout",
          "text": [
            "0 plus 5 equals 5\n",
            "1 plus 5 equals 6\n",
            "2 plus 5 equals 7\n",
            "3 plus 5 equals 8\n"
          ]
        }
      ]
    },
    {
      "cell_type": "markdown",
      "source": [
        "When we want to loop through all the number from a to b, we can use `range`. Using `for i in range(a,b)` will loop through the numbers $$a,a+1,...,b-1$$ (Note this does not include b itself).\n",
        "\n",
        "And if we want the numbers 0 to n-1 we can just use for `i in range(n)`"
      ],
      "metadata": {
        "id": "w0fALHjMYcpI"
      }
    },
    {
      "cell_type": "code",
      "source": [
        "# for loop using range\n",
        "for i in range(10):\n",
        "    print(i)"
      ],
      "metadata": {
        "colab": {
          "base_uri": "https://localhost:8080/"
        },
        "id": "sq5kg5oOY4Op",
        "outputId": "5d070f15-7665-4b34-b817-a808cae685c9"
      },
      "execution_count": null,
      "outputs": [
        {
          "output_type": "stream",
          "name": "stdout",
          "text": [
            "0\n",
            "1\n",
            "2\n",
            "3\n",
            "4\n",
            "5\n",
            "6\n",
            "7\n",
            "8\n",
            "9\n"
          ]
        }
      ]
    },
    {
      "cell_type": "markdown",
      "source": [
        "The code part of the `for` loop can have as many lines are you need within it, for example:"
      ],
      "metadata": {
        "id": "mRcrhJqsZGp7"
      }
    },
    {
      "cell_type": "code",
      "source": [
        "# A bigger for loop\n",
        "A=[]\n",
        "for i in range(5,11):\n",
        "    print(\"Lets add \"+str(i)+\" to the list A\")\n",
        "    A.append(i)\n",
        "    print(\"Now A contains the elements:\")\n",
        "    print(A)\n",
        "    print() #This will create a blank line"
      ],
      "metadata": {
        "colab": {
          "base_uri": "https://localhost:8080/"
        },
        "id": "whSJabUEY8TZ",
        "outputId": "b551ddd7-7b9e-456b-912d-6b34a038a6fb"
      },
      "execution_count": null,
      "outputs": [
        {
          "output_type": "stream",
          "name": "stdout",
          "text": [
            "Lets add 5 to the list A\n",
            "Now A contains the elements:\n",
            "[5]\n",
            "\n",
            "Lets add 6 to the list A\n",
            "Now A contains the elements:\n",
            "[5, 6]\n",
            "\n",
            "Lets add 7 to the list A\n",
            "Now A contains the elements:\n",
            "[5, 6, 7]\n",
            "\n",
            "Lets add 8 to the list A\n",
            "Now A contains the elements:\n",
            "[5, 6, 7, 8]\n",
            "\n",
            "Lets add 9 to the list A\n",
            "Now A contains the elements:\n",
            "[5, 6, 7, 8, 9]\n",
            "\n",
            "Lets add 10 to the list A\n",
            "Now A contains the elements:\n",
            "[5, 6, 7, 8, 9, 10]\n",
            "\n"
          ]
        }
      ]
    },
    {
      "cell_type": "markdown",
      "source": [
        "We can put `for` loops within `for` loops (sometimes called nested loops), but make sure you use a different letter or name for the index:"
      ],
      "metadata": {
        "id": "Kr14j_ziZDvJ"
      }
    },
    {
      "cell_type": "code",
      "source": [
        "# Nested for loops\n",
        "A = []\n",
        "for i in {1,2,3}:\n",
        "    for j in {'a','b','c','d'}:\n",
        "      A.append((i,j))\n",
        "\n",
        "print(A)"
      ],
      "metadata": {
        "colab": {
          "base_uri": "https://localhost:8080/"
        },
        "id": "rAhQTrB9ZfQI",
        "outputId": "08f27d42-a064-4cf7-e715-2dbf7252bb74"
      },
      "execution_count": null,
      "outputs": [
        {
          "output_type": "stream",
          "name": "stdout",
          "text": [
            "[(1, 'd'), (1, 'c'), (1, 'b'), (1, 'a'), (2, 'd'), (2, 'c'), (2, 'b'), (2, 'a'), (3, 'd'), (3, 'c'), (3, 'b'), (3, 'a')]\n"
          ]
        }
      ]
    },
    {
      "cell_type": "markdown",
      "source": [
        "We can put `if` statements within for loops:"
      ],
      "metadata": {
        "id": "OVN2t1otZ6ah"
      }
    },
    {
      "cell_type": "code",
      "source": [
        "# if statement in for loop\n",
        "for i in range(10):\n",
        "    if i%2 == 0:\n",
        "        print(str(i)+\" is even\")\n",
        "    else:\n",
        "        print(str(i)+\" is odd\")"
      ],
      "metadata": {
        "colab": {
          "base_uri": "https://localhost:8080/"
        },
        "id": "ULPZIvA1Z_Vd",
        "outputId": "ac49bcf4-fa2a-4ef1-ca77-f5fbad085994"
      },
      "execution_count": null,
      "outputs": [
        {
          "output_type": "stream",
          "name": "stdout",
          "text": [
            "0 is even\n",
            "1 is odd\n",
            "2 is even\n",
            "3 is odd\n",
            "4 is even\n",
            "5 is odd\n",
            "6 is even\n",
            "7 is odd\n",
            "8 is even\n",
            "9 is odd\n"
          ]
        }
      ]
    },
    {
      "cell_type": "markdown",
      "source": [
        "In some cases you might want to finish a `for` loop early, for this you can use the `break`command"
      ],
      "metadata": {
        "id": "ZZtwvW-2bfNa"
      }
    },
    {
      "cell_type": "code",
      "source": [
        "# break a for loop\n",
        "for i in range(10):\n",
        "    print(i)\n",
        "    if i==5:\n",
        "        print(\"I found 5!\")\n",
        "        break"
      ],
      "metadata": {
        "colab": {
          "base_uri": "https://localhost:8080/"
        },
        "id": "Ns_LoJq7bn-K",
        "outputId": "2a7ae4b4-6a50-4a6d-d5ac-ea7554472e03"
      },
      "execution_count": null,
      "outputs": [
        {
          "output_type": "stream",
          "name": "stdout",
          "text": [
            "0\n",
            "1\n",
            "2\n",
            "3\n",
            "4\n",
            "5\n",
            "I found 5!\n"
          ]
        }
      ]
    },
    {
      "cell_type": "markdown",
      "source": [
        "However, the above code would actually be better as a while loop."
      ],
      "metadata": {
        "id": "9CUA2q9-bzuG"
      }
    },
    {
      "cell_type": "markdown",
      "source": [
        "We've seen that we can populate lists, sets and dictionaries using for loops, for example:"
      ],
      "metadata": {
        "id": "kNiMBEquBf7Z"
      }
    },
    {
      "cell_type": "code",
      "source": [
        "# Created empty list, then add to it using a for loop\n",
        "powers_of_two = []\n",
        "for i in range(10):\n",
        "    powers_of_two.append(i**2)\n",
        "\n",
        "print(powers_of_two)"
      ],
      "metadata": {
        "id": "q8nlG_86BfNo"
      },
      "execution_count": null,
      "outputs": []
    },
    {
      "cell_type": "markdown",
      "source": [
        "But we can populate a list in a more condensed way using loops via the syntax:\n",
        "\n",
        "```\n",
        "a_list = [add_this_thing for i in some_list]\n",
        "```\n",
        "We can do the same by replacing lists with sets of dictionaries, and we can use while loops instead of for loops. Here are some examples:"
      ],
      "metadata": {
        "id": "_cLWbf6VBnHd"
      }
    },
    {
      "cell_type": "code",
      "source": [
        "# Create listd with for loop\n",
        "powers_of_two = [i**2 for i in range(10)]\n",
        "print(powers_of_two)"
      ],
      "metadata": {
        "id": "N9ydL9DxBruB"
      },
      "execution_count": null,
      "outputs": []
    },
    {
      "cell_type": "code",
      "source": [
        "modules = [\"MATH10\"+str(i) for i in [278,123,102,696,222]]\n",
        "print(modules)"
      ],
      "metadata": {
        "colab": {
          "base_uri": "https://localhost:8080/"
        },
        "id": "R_dn63sEDKvc",
        "outputId": "02836d8e-a6b5-462f-8073-ba970fe0fb7a"
      },
      "execution_count": null,
      "outputs": [
        {
          "output_type": "stream",
          "name": "stdout",
          "text": [
            "['MATH10278', 'MATH10123', 'MATH10102', 'MATH10696', 'MATH10222']\n"
          ]
        }
      ]
    },
    {
      "cell_type": "code",
      "source": [
        "cubed = {x:x**3 for x in range(-5,6)}\n",
        "print(cubed)"
      ],
      "metadata": {
        "colab": {
          "base_uri": "https://localhost:8080/"
        },
        "id": "UUDfywnAFEFv",
        "outputId": "c50696c5-77e9-47e8-a966-f2f024cc93c9"
      },
      "execution_count": null,
      "outputs": [
        {
          "output_type": "stream",
          "name": "stdout",
          "text": [
            "{-5: -125, -4: -64, -3: -27, -2: -8, -1: -1, 0: 0, 1: 1, 2: 8, 3: 27, 4: 64, 5: 125}\n"
          ]
        }
      ]
    },
    {
      "cell_type": "code",
      "source": [
        "squares = {x**2 for x in range(-5,6)}\n",
        "print(squares)"
      ],
      "metadata": {
        "colab": {
          "base_uri": "https://localhost:8080/"
        },
        "id": "uC2aYQbkGwlI",
        "outputId": "bc7d9883-6f40-48da-858d-e5487b72c995"
      },
      "execution_count": null,
      "outputs": [
        {
          "output_type": "stream",
          "name": "stdout",
          "text": [
            "{0, 1, 4, 9, 16, 25}\n"
          ]
        }
      ]
    },
    {
      "cell_type": "markdown",
      "source": [
        "###**While**"
      ],
      "metadata": {
        "id": "lTdPDB8_J64O"
      }
    },
    {
      "cell_type": "markdown",
      "source": [
        "A `while` loop is a loop which continues while some condition is true, it has the syntax:\n",
        "\n",
        "```\n",
        "while some_Boolean_statement:\n",
        "    execute_this_code\n",
        "```\n",
        "\n",
        "So the condition has to be something that is true or false (i.e. a Boolean) and the code will continue until the statement is false.\n",
        "\n"
      ],
      "metadata": {
        "id": "iz0Nf5_7b5F_"
      }
    },
    {
      "cell_type": "code",
      "source": [
        "i = 0\n",
        "while i < 6:\n",
        "    print(i)\n",
        "    i = i+1"
      ],
      "metadata": {
        "colab": {
          "base_uri": "https://localhost:8080/"
        },
        "id": "1KJ-4rXxdDVc",
        "outputId": "20fe0f19-bca4-4e81-8bdf-47ea44ff0276"
      },
      "execution_count": null,
      "outputs": [
        {
          "output_type": "stream",
          "name": "stdout",
          "text": [
            "0\n",
            "1\n",
            "2\n",
            "3\n",
            "4\n",
            "5\n"
          ]
        }
      ]
    },
    {
      "cell_type": "markdown",
      "source": [
        "Note that a `while` loop will not automatically change any values (unlike the for loop where the index changes each time), so unless you change something in each iteration the while loop will continue infinitely doing the same thing everytime.\n",
        "\n",
        "While loops that do not terminate are a common bug, if the boolean statement remains true your code will get stuck repeating that loop forever.\n",
        "\n",
        "Infinite loops are a common bug, and one that is difficult for the computer to detect for you (although some IDE's do have tools that will try and detect them for you)."
      ],
      "metadata": {
        "id": "Se82e5QKdMuX"
      }
    },
    {
      "cell_type": "code",
      "source": [
        "# An infinite while loop\n",
        "Answers = {0}\n",
        "number = 0\n",
        "while len(Answers) < 10:\n",
        "    Answers.add(number)\n",
        "\n",
        "print(Answers)"
      ],
      "metadata": {
        "colab": {
          "base_uri": "https://localhost:8080/",
          "height": 193
        },
        "id": "h45katgovz1B",
        "outputId": "00737e24-4865-4cfd-b2b4-0a990b3c28b7"
      },
      "execution_count": null,
      "outputs": [
        {
          "output_type": "error",
          "ename": "KeyboardInterrupt",
          "evalue": "",
          "traceback": [
            "\u001b[0;31m---------------------------------------------------------------------------\u001b[0m",
            "\u001b[0;31mKeyboardInterrupt\u001b[0m                         Traceback (most recent call last)",
            "\u001b[0;32m<ipython-input-16-813675e6974b>\u001b[0m in \u001b[0;36m<cell line: 4>\u001b[0;34m()\u001b[0m\n\u001b[1;32m      2\u001b[0m \u001b[0mAnswers\u001b[0m \u001b[0;34m=\u001b[0m \u001b[0;34m{\u001b[0m\u001b[0;36m0\u001b[0m\u001b[0;34m}\u001b[0m\u001b[0;34m\u001b[0m\u001b[0;34m\u001b[0m\u001b[0m\n\u001b[1;32m      3\u001b[0m \u001b[0mnumber\u001b[0m \u001b[0;34m=\u001b[0m \u001b[0;36m0\u001b[0m\u001b[0;34m\u001b[0m\u001b[0;34m\u001b[0m\u001b[0m\n\u001b[0;32m----> 4\u001b[0;31m \u001b[0;32mwhile\u001b[0m \u001b[0mlen\u001b[0m\u001b[0;34m(\u001b[0m\u001b[0mAnswers\u001b[0m\u001b[0;34m)\u001b[0m \u001b[0;34m<\u001b[0m \u001b[0;36m10\u001b[0m\u001b[0;34m:\u001b[0m\u001b[0;34m\u001b[0m\u001b[0;34m\u001b[0m\u001b[0m\n\u001b[0m\u001b[1;32m      5\u001b[0m     \u001b[0mAnswers\u001b[0m\u001b[0;34m.\u001b[0m\u001b[0madd\u001b[0m\u001b[0;34m(\u001b[0m\u001b[0mnumber\u001b[0m\u001b[0;34m)\u001b[0m\u001b[0;34m\u001b[0m\u001b[0;34m\u001b[0m\u001b[0m\n",
            "\u001b[0;31mKeyboardInterrupt\u001b[0m: "
          ]
        }
      ]
    },
    {
      "cell_type": "code",
      "source": [
        "Answers = {0}\n",
        "number = 0\n",
        "while len(Answers) < 10:\n",
        "    Answers.add(number)\n",
        "    number += 1\n",
        "\n",
        "print(Answers)"
      ],
      "metadata": {
        "id": "EIUAbRitwgdM"
      },
      "execution_count": null,
      "outputs": []
    },
    {
      "cell_type": "markdown",
      "source": [
        "An alternative way to use the while loop is to create a boolean, and then turn it to false when we want the loop to terminate"
      ],
      "metadata": {
        "id": "1an6yiCOeNZ3"
      }
    },
    {
      "cell_type": "code",
      "source": [
        "# while loop which alters boolean to finish\n",
        "x=0\n",
        "A=[5,10,15,20]\n",
        "go = True\n",
        "while go:\n",
        "    if x in A:\n",
        "        print(\"Found \"+str(x)+\" in A\")\n",
        "        go = False\n",
        "    else:\n",
        "        print(str(x)+\" is not in A\")\n",
        "        x = x+1"
      ],
      "metadata": {
        "colab": {
          "base_uri": "https://localhost:8080/"
        },
        "id": "tEWARGlN-klU",
        "outputId": "d4db76e6-5e94-4559-f05a-e950eb9b9f8a"
      },
      "execution_count": null,
      "outputs": [
        {
          "output_type": "stream",
          "name": "stdout",
          "text": [
            "0 is not in A\n",
            "1 is not in A\n",
            "2 is not in A\n",
            "3 is not in A\n",
            "4 is not in A\n",
            "Found 5 in A\n"
          ]
        }
      ]
    },
    {
      "cell_type": "markdown",
      "source": [
        "##Exceptions\n",
        "Sometimes the coding we write does not work. We have seen above that when this happens Python just stops, and does not execute anything afterwards. However, sometimes we can predict things that might break the program, and create \"exceptions\" for these cases, which is where we tell the code that if this doesn't work do this instead. We do this using `try` and `except`. For example:\n",
        "    "
      ],
      "metadata": {
        "id": "O1ahiSd53loO"
      }
    },
    {
      "cell_type": "code",
      "source": [
        "# Using an exception\n",
        "rec = []\n",
        "for i in range(-5,5):\n",
        "    rec.append(1/i)\n",
        "\n",
        "\n",
        "print()\n",
        "print(rec)"
      ],
      "metadata": {
        "colab": {
          "base_uri": "https://localhost:8080/",
          "height": 211
        },
        "id": "BJpN1DJYx50K",
        "outputId": "0b2f8433-3f00-4902-d331-9fa7f70303e0"
      },
      "execution_count": null,
      "outputs": [
        {
          "output_type": "error",
          "ename": "ZeroDivisionError",
          "evalue": "division by zero",
          "traceback": [
            "\u001b[0;31m---------------------------------------------------------------------------\u001b[0m",
            "\u001b[0;31mZeroDivisionError\u001b[0m                         Traceback (most recent call last)",
            "\u001b[0;32m<ipython-input-18-79dac57e2096>\u001b[0m in \u001b[0;36m<cell line: 3>\u001b[0;34m()\u001b[0m\n\u001b[1;32m      2\u001b[0m \u001b[0mrec\u001b[0m \u001b[0;34m=\u001b[0m \u001b[0;34m[\u001b[0m\u001b[0;34m]\u001b[0m\u001b[0;34m\u001b[0m\u001b[0;34m\u001b[0m\u001b[0m\n\u001b[1;32m      3\u001b[0m \u001b[0;32mfor\u001b[0m \u001b[0mi\u001b[0m \u001b[0;32min\u001b[0m \u001b[0mrange\u001b[0m\u001b[0;34m(\u001b[0m\u001b[0;34m-\u001b[0m\u001b[0;36m5\u001b[0m\u001b[0;34m,\u001b[0m\u001b[0;36m5\u001b[0m\u001b[0;34m)\u001b[0m\u001b[0;34m:\u001b[0m\u001b[0;34m\u001b[0m\u001b[0;34m\u001b[0m\u001b[0m\n\u001b[0;32m----> 4\u001b[0;31m     \u001b[0mrec\u001b[0m\u001b[0;34m.\u001b[0m\u001b[0mappend\u001b[0m\u001b[0;34m(\u001b[0m\u001b[0;36m1\u001b[0m\u001b[0;34m/\u001b[0m\u001b[0mi\u001b[0m\u001b[0;34m)\u001b[0m\u001b[0;34m\u001b[0m\u001b[0;34m\u001b[0m\u001b[0m\n\u001b[0m\u001b[1;32m      5\u001b[0m \u001b[0;34m\u001b[0m\u001b[0m\n\u001b[1;32m      6\u001b[0m \u001b[0;34m\u001b[0m\u001b[0m\n",
            "\u001b[0;31mZeroDivisionError\u001b[0m: division by zero"
          ]
        }
      ]
    },
    {
      "cell_type": "code",
      "source": [
        "rec = []\n",
        "for i in range(-5,5):\n",
        "    try:\n",
        "        rec.append(1/i)\n",
        "    except:\n",
        "        print(\"Can't do that for \"+str(i))\n",
        "\n",
        "\n",
        "print()\n",
        "print(rec)"
      ],
      "metadata": {
        "colab": {
          "base_uri": "https://localhost:8080/"
        },
        "id": "gZ_kObmf4n6J",
        "outputId": "a778dae0-6e17-42a9-e281-32e42cc1e564"
      },
      "execution_count": null,
      "outputs": [
        {
          "output_type": "stream",
          "name": "stdout",
          "text": [
            "Can't do that for 0\n",
            "\n",
            "[-0.2, -0.25, -0.3333333333333333, -0.5, -1.0, 1.0, 0.5, 0.3333333333333333, 0.25]\n"
          ]
        }
      ]
    },
    {
      "cell_type": "markdown",
      "source": [
        "We won't go into much further detail on exceptions, but know they exist and are useful."
      ],
      "metadata": {
        "id": "Y3j2pdJJ45vF"
      }
    },
    {
      "cell_type": "markdown",
      "source": [
        "#Lecture 5: Functions and Objects"
      ],
      "metadata": {
        "id": "hZ5qeOxLKI49"
      }
    },
    {
      "cell_type": "markdown",
      "source": [
        "##Functions"
      ],
      "metadata": {
        "id": "5dVf-3WbKObQ"
      }
    },
    {
      "cell_type": "markdown",
      "source": [
        "Often we want to reuse the same bit of code, the best way to do this is using *functions*.\n",
        "\n",
        "A function will take an input (which can be nothing), run some code, and then may or may not return an output.\n",
        "\n",
        "A function will not be executed when the computer encounters it, it will only be executed when it is subsequently called.\n",
        "\n",
        "The syntax for defining a function is:\n",
        "\n",
        "```\n",
        "def function_name(input1, input2):\n",
        "    code_to_be_executed\n",
        "    return output\n",
        "```\n",
        "The function can take any number of inputs, each input is separated by a comma. We can have no inputs, for this we just put nothing between the brackets i.e. ``def function_name()``.\n"
      ],
      "metadata": {
        "id": "4umyuMqVH_4s"
      }
    },
    {
      "cell_type": "code",
      "source": [
        "# define a function for computing f(x)=x^2+2x-5\n",
        "def polynomial_f(x):\n",
        "    return x**2+2*x-5\n"
      ],
      "metadata": {
        "id": "v_i4ubMAMT5v"
      },
      "execution_count": null,
      "outputs": []
    },
    {
      "cell_type": "code",
      "source": [
        "# run the function\n",
        "print(polynomial_f(7))"
      ],
      "metadata": {
        "id": "5FJw0_riOwgj"
      },
      "execution_count": null,
      "outputs": []
    },
    {
      "cell_type": "markdown",
      "source": [
        "Note that when running the code where the function is defined, nothing happens (at least nothing we see). It is not until we call the function afterwards that we get an output."
      ],
      "metadata": {
        "id": "F-8NGPK4NzKl"
      }
    },
    {
      "cell_type": "markdown",
      "source": [
        "Note the importance of the indentation, all the code that is indented will be executed.\n",
        "\n",
        "Within a function we can use if statements and loops.\n",
        "\n",
        "Here are a few more examples:"
      ],
      "metadata": {
        "id": "YiCkYqEDMuGP"
      }
    },
    {
      "cell_type": "code",
      "source": [
        "#a function with no input and no output\n",
        "def hello_world()\n",
        "    print(\"hello world\")"
      ],
      "metadata": {
        "id": "BisTSDcXTI13"
      },
      "execution_count": null,
      "outputs": []
    },
    {
      "cell_type": "code",
      "source": [
        "#a function with multiple inputs, where we specify the coefficients of the quadratic\n",
        "def polynomial_g(a2, a1, a0, x):\n",
        "    g = a2*x**2 + a1*x + a0\n",
        "    polynomial_string = str(a2)+'x^2 + '+str(a1)+'x + '+str(a0)\n",
        "    print(\"Polynomial considered: \"+polynomial_string)\n",
        "    print(\"Inputted x = \"+str(x))\n",
        "    return g\n",
        "\n",
        "output = polynomial_g(3,2,5,0)\n",
        "print(\"Returned value = \"+str(output))"
      ],
      "metadata": {
        "colab": {
          "base_uri": "https://localhost:8080/"
        },
        "id": "87qThvalQD-c",
        "outputId": "20888df7-12c2-4baf-b77f-36eb1969e59e"
      },
      "execution_count": null,
      "outputs": [
        {
          "output_type": "stream",
          "name": "stdout",
          "text": [
            "Polynomial considered: 3x^2 + 2x + 5\n",
            "Inputted x = 0\n",
            "Returned value = 5\n"
          ]
        }
      ]
    },
    {
      "cell_type": "markdown",
      "source": [
        "Note the difference between the function printing and the function returning an output. Something that is printed appears on your screen, but then the computer forgets it. Something that is returned can be stored as a variable, and can then be used by the computer.\n",
        "\n",
        "A function can have only one return statement, but within that statement it can return multiple values. One simple way is to return a list or tuple which contains all the values you wish to return. You can also return multiple items separated by commas, this will actually just return a tuple.\n"
      ],
      "metadata": {
        "id": "1U0Bz8jzWXJv"
      }
    },
    {
      "cell_type": "code",
      "source": [
        "# A function which return all multiples of 4 between a and b\n",
        "def multiples_of_four(a,b):\n",
        "    output = []\n",
        "    for i in range(a,b+1):\n",
        "        if i%4 == 0:\n",
        "            output.append(i)\n",
        "    return output\n",
        "\n",
        "print(multiples_of_four(-10,29))"
      ],
      "metadata": {
        "colab": {
          "base_uri": "https://localhost:8080/"
        },
        "id": "kY4RZBhlYXl5",
        "outputId": "56badb0a-2b3b-45eb-c36c-00239722f17b"
      },
      "execution_count": null,
      "outputs": [
        {
          "output_type": "stream",
          "name": "stdout",
          "text": [
            "[-8, -4, 0, 4, 8, 12, 16, 20, 24, 28]\n"
          ]
        }
      ]
    },
    {
      "cell_type": "markdown",
      "source": [
        "We can create functions with default arguments. This is a function where one (or more) of the inputs has a default value, and if no value is inputted the default is used, but if you input a value then your inputted value is used."
      ],
      "metadata": {
        "id": "iisOd--6aQFv"
      }
    },
    {
      "cell_type": "code",
      "source": [
        "# A function that returns all multiples of x between a and b, where by default x is 4\n",
        "def multiples(a, b, x=4):\n",
        "    output = []\n",
        "    for i in range(a,b+1):\n",
        "        if i%x == 0:\n",
        "            output.append(i)\n",
        "    return output\n",
        "\n",
        "print(multiples(-10,29,5))\n",
        "print(multiples(-10,29,x=6))\n",
        "print(multiples(-10,29))"
      ],
      "metadata": {
        "colab": {
          "base_uri": "https://localhost:8080/"
        },
        "id": "4sj1e7Yfa-Sp",
        "outputId": "3ae40055-7178-452b-b445-d42f4c5fa004"
      },
      "execution_count": null,
      "outputs": [
        {
          "output_type": "stream",
          "name": "stdout",
          "text": [
            "[-10, -5, 0, 5, 10, 15, 20, 25]\n",
            "[-6, 0, 6, 12, 18, 24]\n",
            "[-8, -4, 0, 4, 8, 12, 16, 20, 24, 28]\n"
          ]
        }
      ]
    },
    {
      "cell_type": "markdown",
      "source": [
        "##Objects"
      ],
      "metadata": {
        "id": "45a786yhKPmu"
      }
    },
    {
      "cell_type": "markdown",
      "source": [
        "Python is an Object oriented programming (OOP) language (as are many other popular modern languages like C++ and Java). An Object is essentially a collection of data and functions, which can be manipulated. Examples of non OOP languages including C and Haskell.\n",
        "\n",
        "To create an Object in Python, first we create a Class. A Class is a template for an object, it tells is what bits of data and what functions will be in the Object.\n",
        "\n",
        "An Object is normally something of which you are likely to have multiple instances, all with similar properties. For example, a patient, and for each patient you will have a collection of data such as age, name, address, etc. In this example you would have a patient Class, and then each patient is an Object.\n",
        "\n",
        "Later in this module we will see mathematical objects which are represented as python objects, such as graphs.\n",
        "\n",
        "The syntax for creating a Class is:\n",
        "\n",
        "\n",
        "```\n",
        "class MyClass:\n",
        "    data1 = 2\n",
        "    data2 = \"pineapple\"\n",
        "```\n",
        "\n",
        "Then to create an Object of that Class we do:\n",
        "\n",
        "```\n",
        "first_object = MyClass()\n",
        "```\n",
        "\n",
        "We are not going to use objects too much in this module, but some of the packages we will look at next will utilise objects. One of the key points to take away is that given an object you can access variables and functions that are part of the class in the following way:\n",
        "\n",
        "\n",
        "```\n",
        "first_object.data1\n",
        "```\n",
        "\n"
      ],
      "metadata": {
        "id": "Y0glgeu-bo9f"
      }
    },
    {
      "cell_type": "code",
      "source": [
        "# A Class and Object example\n",
        "class MyClass:\n",
        "    data1 = 2\n",
        "    data2 = \"pineapple\"\n",
        "    def hello(self):\n",
        "        print(\"Hello \"+self.data2)\n",
        "\n",
        "first_object = MyClass()\n",
        "\n",
        "print(first_object.data1)\n",
        "first_object.hello()"
      ],
      "metadata": {
        "colab": {
          "base_uri": "https://localhost:8080/"
        },
        "id": "WfRiJFquQpqb",
        "outputId": "3026fcdf-08c7-4d0b-9b16-69cdfaaaddf7"
      },
      "execution_count": null,
      "outputs": [
        {
          "output_type": "stream",
          "name": "stdout",
          "text": [
            "2\n",
            "Hello pineapple\n"
          ]
        }
      ]
    },
    {
      "cell_type": "markdown",
      "source": [
        "#Lecture 6: Packages"
      ],
      "metadata": {
        "id": "FqDisUEOKRnr"
      }
    },
    {
      "cell_type": "markdown",
      "source": [
        "One of the best things about Python is that people have already written so much code, and made it freely available for you to use.\n",
        "\n",
        "Python by default comes with loads of installed packages available for you to use. Moreover, Python has a package repository called PyPi (https://pypi.org/), which hosts over 500,000 libraries filled with code that do a variety of different things. Ranging from extremely useful (some of which we will look at below) to downright useless (see the antigravity package)."
      ],
      "metadata": {
        "id": "uioHfx13R9jk"
      }
    },
    {
      "cell_type": "markdown",
      "source": [
        "##Installing and loading packages"
      ],
      "metadata": {
        "id": "Wgp4EStIKU02"
      }
    },
    {
      "cell_type": "markdown",
      "source": [
        "If a package is installed, we can load it into python using the command:\n",
        "```\n",
        "import package_name\n",
        "```\n"
      ],
      "metadata": {
        "id": "OB0gL3f7UL5Z"
      }
    },
    {
      "cell_type": "code",
      "source": [
        "# Load some packages\n",
        "import time\n",
        "import sys\n",
        "import os\n",
        "import numpy\n",
        "import networkx\n",
        "import scipy\n",
        "import pandas"
      ],
      "metadata": {
        "id": "xEv9QhlCUK5m"
      },
      "execution_count": null,
      "outputs": []
    },
    {
      "cell_type": "markdown",
      "source": [
        "Packages can be thought of as a collection of useful functions and classes. There are packages for plotting graphs, doing data science, manipulating files, etc.\n",
        "\n",
        "Almost every package comes with documentation. It is important to look at the documentation to work out how to use the package. The documentation will tell you what functions can be used and how to use them. (Quality of documentation varies massively, but the large packages we will use all have very good documentation).\n",
        "\n",
        "We will briefly introduce a few of the main packages here, and how to use them. But we will expand on these and other packages as we progress through the rest of the module."
      ],
      "metadata": {
        "id": "0N8TAzNiXBSo"
      }
    },
    {
      "cell_type": "markdown",
      "source": [
        "If a package is not yet installed then we must install it first. There are a few ways to install python packages, and it depends what operating system you are using. Google colab has most of the packages we will need already, so we do not need to worry about this."
      ],
      "metadata": {
        "id": "bOMh7guE2S6f"
      }
    },
    {
      "cell_type": "markdown",
      "source": [
        "**IF YOU ONLY INTEND TO USE COLAB YOU CAN IGNORE THE TEXT BETWEEN THE LINES BELOW.**\n",
        "\n",
        "******************************************************************\n",
        "If you are using a personal computer then you will need to install this packages. If you are using a university computer you may need install packages.\n",
        "\n",
        "One way to install a package is using pip, open the terminal in whatever OS you are using and to install a package type:\n",
        "\n",
        "\n",
        "```\n",
        "pip install package_name\n",
        "```\n",
        "\n",
        "pip will install the package on the computer, so that any subsequent users of python will also be able to use it. On your personal computer this is general fine, though it can cause problems if you have lots of packages, because they don't always play nice.\n",
        "\n",
        "But on shared computers you might not be allowed to install on the computer, for this we can use conda and virtualenv. These work by creating \"work environments\" where you install the packages you want to use.\n",
        "\n",
        "To create a virtual environment do:\n",
        "\n",
        "\n",
        "```\n",
        "python -m venv env_name\n",
        "```\n",
        "Then to activate that environment you can do\n",
        "\n",
        "```\n",
        "source env_name/bin/activate\n",
        "```\n",
        "\n",
        "You will now be in the environment and can install packages with pip as above.\n",
        "******************************************************************\n",
        "\n"
      ],
      "metadata": {
        "id": "fzvivdIWUysZ"
      }
    },
    {
      "cell_type": "markdown",
      "source": [
        "## Math"
      ],
      "metadata": {
        "id": "C0iAqyspZCyk"
      }
    },
    {
      "cell_type": "markdown",
      "source": [
        "To introduce some of the basic concepts of packages let us consider the math package. This contains loads of mathematical functions. The documentation is here: https://docs.python.org/3/library/math.html\n",
        "\n",
        "First we must import the package:"
      ],
      "metadata": {
        "id": "AeZ8ArePZHQG"
      }
    },
    {
      "cell_type": "code",
      "source": [
        "# import the math package\n",
        "import math"
      ],
      "metadata": {
        "id": "CKAKQMv5ZXDB"
      },
      "execution_count": null,
      "outputs": []
    },
    {
      "cell_type": "markdown",
      "source": [
        "Once we have import the package let us try and use the square root function. To access a function we put the name of the package, then a fullstop, then the function we want, for example:"
      ],
      "metadata": {
        "id": "Xkudl9fcZZlm"
      }
    },
    {
      "cell_type": "code",
      "source": [
        "# Use the square root function\n",
        "math.sqrt(81)"
      ],
      "metadata": {
        "colab": {
          "base_uri": "https://localhost:8080/"
        },
        "id": "9ig7b7GIZ9j1",
        "outputId": "17cf9050-f94c-4b2d-f0b6-ceeeeb6f2a94"
      },
      "execution_count": null,
      "outputs": [
        {
          "output_type": "execute_result",
          "data": {
            "text/plain": [
              "9.0"
            ]
          },
          "metadata": {},
          "execution_count": 38
        }
      ]
    },
    {
      "cell_type": "markdown",
      "source": [
        "The math package also contains some useful mathematical constants:"
      ],
      "metadata": {
        "id": "1EIwBWTWaJku"
      }
    },
    {
      "cell_type": "code",
      "source": [
        "# Print some mathematical constants\n",
        "print(math.pi)\n",
        "print(math.e)\n",
        "print(math.inf)"
      ],
      "metadata": {
        "colab": {
          "base_uri": "https://localhost:8080/"
        },
        "id": "Hj3Ak2yUaHhE",
        "outputId": "beff81ad-26f7-41e4-a37a-02257fc4b165"
      },
      "execution_count": null,
      "outputs": [
        {
          "output_type": "stream",
          "name": "stdout",
          "text": [
            "3.141592653589793\n",
            "2.718281828459045\n",
            "inf\n"
          ]
        }
      ]
    },
    {
      "cell_type": "markdown",
      "source": [
        "Sometimes we just want to import a single function, without the whole package. This has two advantages, 1) we do not have to prepend the package name everytime and 2) some packages can be quite large and contain things we do not need, so it is better to just get what we need."
      ],
      "metadata": {
        "id": "Uf_79FuHadQZ"
      }
    },
    {
      "cell_type": "code",
      "source": [
        "# import the cosine function\n",
        "from math import cos\n",
        "cos(5)"
      ],
      "metadata": {
        "colab": {
          "base_uri": "https://localhost:8080/"
        },
        "id": "tFgD2oeDas8x",
        "outputId": "f1c0ba67-d03f-409e-9c37-43b8ebd99df5"
      },
      "execution_count": null,
      "outputs": [
        {
          "output_type": "execute_result",
          "data": {
            "text/plain": [
              "0.28366218546322625"
            ]
          },
          "metadata": {},
          "execution_count": 40
        }
      ]
    },
    {
      "cell_type": "markdown",
      "source": [
        "##NumPy"
      ],
      "metadata": {
        "id": "Xw8wCoCMKatG"
      }
    },
    {
      "cell_type": "markdown",
      "source": [
        "NumPy is the fundamental package for scientific computing in Python. It contains code for linear algebra (matrices and vectors), mathematical logic, randomisation, and loads of other things.\n",
        "\n",
        "The documentation for NumPy is here: https://numpy.org/doc/stable/index.html\n",
        "\n",
        "Sometimes when importing packages we use a shorthand name, to avoid writing the full package name many times, for example the convention for importing numpy is:"
      ],
      "metadata": {
        "id": "6upy7HzxYTh0"
      }
    },
    {
      "cell_type": "code",
      "source": [
        "# Load the numpy package\n",
        "import numpy as np"
      ],
      "metadata": {
        "id": "7H1ttZd8bhPM"
      },
      "execution_count": null,
      "outputs": []
    },
    {
      "cell_type": "markdown",
      "source": [
        "One of the key things that NumPy introduces is arrays. These behave similarly to Python lists. But they have advantages over lists, computations on arrays are more efficient, arrays are more memory efficient, arrays can be more than 1-dimensional, and there are many useful functions implemented for them.\n",
        "\n",
        "We create an array using the syntax:\n",
        "\n",
        "```\n",
        "np.array([1,2,3,4])\n",
        "```\n",
        "\n"
      ],
      "metadata": {
        "id": "IiaeC9Ukbnob"
      }
    },
    {
      "cell_type": "code",
      "source": [
        "# One dimensional array A\n",
        "A=np.array([1,2,3])\n",
        "print(A)"
      ],
      "metadata": {
        "colab": {
          "base_uri": "https://localhost:8080/"
        },
        "id": "unHoQVPIb1ls",
        "outputId": "c0a64906-2114-442d-ebb0-9cbea6da8761"
      },
      "execution_count": null,
      "outputs": [
        {
          "output_type": "stream",
          "name": "stdout",
          "text": [
            "[1 2 3]\n"
          ]
        }
      ]
    },
    {
      "cell_type": "markdown",
      "source": [
        "A two dimensional array is essentially a matrix, and we can make higher dimensional arrays as well (known in mathematics as tensors)."
      ],
      "metadata": {
        "id": "-cMXCOdIcSI5"
      }
    },
    {
      "cell_type": "code",
      "source": [
        "# Two dimensional array B\n",
        "B=np.array([[1,2,3],[4,5,6]])\n",
        "print(B)\n"
      ],
      "metadata": {
        "colab": {
          "base_uri": "https://localhost:8080/"
        },
        "id": "pM7iHqXHcaP0",
        "outputId": "515fadce-fed8-4ac6-9bbd-86b50e4728d6"
      },
      "execution_count": null,
      "outputs": [
        {
          "output_type": "stream",
          "name": "stdout",
          "text": [
            "[[1 2 3]\n",
            " [4 5 6]]\n"
          ]
        }
      ]
    },
    {
      "cell_type": "code",
      "source": [
        "# Three dimensional array C\n",
        "C=np.array([[[1,2],[2,3],[3,4]],[[4,5],[5,6],[6,7]]])\n",
        "print(C)"
      ],
      "metadata": {
        "colab": {
          "base_uri": "https://localhost:8080/"
        },
        "id": "AEbwtv2RdMrj",
        "outputId": "ecae1619-63b1-4a60-f368-3a901a59174d"
      },
      "execution_count": null,
      "outputs": [
        {
          "output_type": "stream",
          "name": "stdout",
          "text": [
            "[[[1 2]\n",
            "  [2 3]\n",
            "  [3 4]]\n",
            "\n",
            " [[4 5]\n",
            "  [5 6]\n",
            "  [6 7]]]\n"
          ]
        }
      ]
    },
    {
      "cell_type": "markdown",
      "source": [
        "Arrays can be added to and manipulated in a similar way as lists, to access the i'th element of A we do `A[i]`.\n",
        "\n",
        "If the array is two dimensional, then we access the i,j'th entry using `B[i,j]`, and similarly for higher dimensions."
      ],
      "metadata": {
        "id": "X_o2ycQddX7p"
      }
    },
    {
      "cell_type": "code",
      "source": [
        "# Access and change elements of B\n",
        "print(B)\n",
        "print(B[0,1])\n",
        "B[0,2] = -3\n",
        "print(B)"
      ],
      "metadata": {
        "colab": {
          "base_uri": "https://localhost:8080/"
        },
        "id": "eJS8J2N0dqp6",
        "outputId": "778ad018-55d9-42f9-9a80-227962964d1f"
      },
      "execution_count": null,
      "outputs": [
        {
          "output_type": "stream",
          "name": "stdout",
          "text": [
            "[[1 2 3]\n",
            " [4 5 6]]\n",
            "2\n",
            "[[ 1  2 -3]\n",
            " [ 4  5  6]]\n"
          ]
        }
      ]
    },
    {
      "cell_type": "markdown",
      "source": [
        "Two common ways to create an array, is to start with a list and convert it to an array, or to create an array of all zeros (of the required shape) and then enter the values."
      ],
      "metadata": {
        "id": "VX8MIMmpd0dn"
      }
    },
    {
      "cell_type": "code",
      "source": [
        "# Convert list to arrau\n",
        "A = [1,3,4,5,6]\n",
        "B = np.array(A)\n",
        "print(A)\n",
        "print(B)"
      ],
      "metadata": {
        "colab": {
          "base_uri": "https://localhost:8080/"
        },
        "id": "aPhFEXBCd_nJ",
        "outputId": "45e675bc-de4c-490c-9fe9-0aaceda868e8"
      },
      "execution_count": null,
      "outputs": [
        {
          "output_type": "stream",
          "name": "stdout",
          "text": [
            "[1, 3, 4, 5, 6]\n",
            "[1 3 4 5 6]\n"
          ]
        }
      ]
    },
    {
      "cell_type": "code",
      "source": [
        "# Create array of zeroes and populate\n",
        "X = np.zeros((5,5))\n",
        "print(X)\n",
        "X[1,2] = 3\n",
        "X[2,2] = 5\n",
        "print()\n",
        "print(X)"
      ],
      "metadata": {
        "colab": {
          "base_uri": "https://localhost:8080/"
        },
        "id": "Z79TLl8DeIMI",
        "outputId": "2a741708-a410-4f98-8a17-6a5590157d93"
      },
      "execution_count": null,
      "outputs": [
        {
          "output_type": "stream",
          "name": "stdout",
          "text": [
            "[[0. 0. 0. 0. 0.]\n",
            " [0. 0. 0. 0. 0.]\n",
            " [0. 0. 0. 0. 0.]\n",
            " [0. 0. 0. 0. 0.]\n",
            " [0. 0. 0. 0. 0.]]\n",
            "\n",
            "[[0. 0. 0. 0. 0.]\n",
            " [0. 0. 3. 0. 0.]\n",
            " [0. 0. 5. 0. 0.]\n",
            " [0. 0. 0. 0. 0.]\n",
            " [0. 0. 0. 0. 0.]]\n"
          ]
        }
      ]
    },
    {
      "cell_type": "markdown",
      "source": [
        "We can take single rows and columns from arrays (this is called slicing), to get the i'th row of X we do\n",
        "```\n",
        "X[i,:]\n",
        "```\n",
        " the : tells use to take everything in that row. We can do `X[:,i]` to get the i'th column."
      ],
      "metadata": {
        "id": "3TBz9HgMeVnx"
      }
    },
    {
      "cell_type": "code",
      "source": [
        "# Take some slices of X\n",
        "print(X[1,:])\n",
        "print(X[:,2])"
      ],
      "metadata": {
        "colab": {
          "base_uri": "https://localhost:8080/"
        },
        "id": "5Vzjhyo5esks",
        "outputId": "84f84ae5-594c-49e1-bcd6-09b5128f4eb7"
      },
      "execution_count": null,
      "outputs": [
        {
          "output_type": "stream",
          "name": "stdout",
          "text": [
            "[0. 0. 3. 0. 0.]\n",
            "[0. 3. 5. 0. 0.]\n"
          ]
        }
      ]
    },
    {
      "cell_type": "markdown",
      "source": [
        "NumPy has loads of other useful features that we will explore more later in the module."
      ],
      "metadata": {
        "id": "Z75kLG11fW2j"
      }
    },
    {
      "cell_type": "markdown",
      "source": [
        "##Matplotlib"
      ],
      "metadata": {
        "id": "ejqzfq7biACz"
      }
    },
    {
      "cell_type": "markdown",
      "source": [
        "Matplotlib is the main python package for making plots of graphs (there are other packages such as seaborn, but matplotlib is the most widely used).\n",
        "\n",
        "Matplotlib is big, and can create some amazing visualisations, we do not have time to explore it fully. There are loads of tutorials, videos and examples on the internet I encourage you to explore. Here we will just introduce a few simple examples:"
      ],
      "metadata": {
        "id": "0gFmS3ffiAwD"
      }
    },
    {
      "cell_type": "code",
      "source": [
        "# Import the package\n",
        "import matplotlib.pyplot as plt"
      ],
      "metadata": {
        "id": "kGYoOW_-jNwQ"
      },
      "execution_count": null,
      "outputs": []
    },
    {
      "cell_type": "code",
      "source": [
        "# A simple plot\n",
        "plt.plot([1, 2, 3, 4], [1, 2, 4, 5])\n",
        "plt.show()"
      ],
      "metadata": {
        "colab": {
          "base_uri": "https://localhost:8080/",
          "height": 430
        },
        "id": "uQh8K8ZkidzP",
        "outputId": "5115e5a7-a1b6-457e-d663-667b9a31bb14"
      },
      "execution_count": null,
      "outputs": [
        {
          "output_type": "display_data",
          "data": {
            "text/plain": [
              "<Figure size 640x480 with 1 Axes>"
            ],
            "image/png": "[encoded data removed]"
          },
          "metadata": {}
        }
      ]
    },
    {
      "cell_type": "code",
      "source": [
        "# A plot with points rather than a line, by adding 'o'\n",
        "plt.plot([1, 2, 3, 4], [1, 2, 4, 5], 'o')\n",
        "plt.show()"
      ],
      "metadata": {
        "colab": {
          "base_uri": "https://localhost:8080/",
          "height": 430
        },
        "id": "Aw9-SWBZjst0",
        "outputId": "76c3c0f6-7569-4e8b-a08a-c4f8f91fc202"
      },
      "execution_count": null,
      "outputs": [
        {
          "output_type": "display_data",
          "data": {
            "text/plain": [
              "<Figure size 640x480 with 1 Axes>"
            ],
            "image/png": "[encoded data removed]"
          },
          "metadata": {}
        }
      ]
    },
    {
      "cell_type": "code",
      "source": [
        "# A simple bar chart\n",
        "plt.bar(['pass','resit','fail'], [90,8,2])\n",
        "plt.show()"
      ],
      "metadata": {
        "colab": {
          "base_uri": "https://localhost:8080/",
          "height": 430
        },
        "id": "f0EAcJ1li8k9",
        "outputId": "417ed32a-f80a-41f9-9f72-1f78ba519a52"
      },
      "execution_count": null,
      "outputs": [
        {
          "output_type": "display_data",
          "data": {
            "text/plain": [
              "<Figure size 640x480 with 1 Axes>"
            ],
            "image/png": "[encoded data removed]"
          },
          "metadata": {}
        }
      ]
    },
    {
      "cell_type": "code",
      "source": [
        "# Add some labels\n",
        "plt.bar(['pass','resit','fail'], [90,8,2])\n",
        "plt.ylabel('percentage')\n",
        "plt.xlabel('classification')\n",
        "plt.title('Module pass rate')\n",
        "plt.show()"
      ],
      "metadata": {
        "colab": {
          "base_uri": "https://localhost:8080/",
          "height": 472
        },
        "id": "rj0Q4hWojZmL",
        "outputId": "154be11f-0847-44c2-d866-246e57a8c793"
      },
      "execution_count": null,
      "outputs": [
        {
          "output_type": "display_data",
          "data": {
            "text/plain": [
              "<Figure size 640x480 with 1 Axes>"
            ],
            "image/png": "[encoded data removed]"
          },
          "metadata": {}
        }
      ]
    },
    {
      "cell_type": "markdown",
      "source": [
        "##Networkx"
      ],
      "metadata": {
        "id": "ODnf5xGhKl8g"
      }
    },
    {
      "cell_type": "markdown",
      "source": [
        "Networkx is the python package for handling graphs (or networks). A graph is a collection of vertices (points) and edges (connections between points). We will use graphs a lot in this module.\n",
        "\n",
        "First lets import networkx:"
      ],
      "metadata": {
        "id": "Yl4k1bGVfhIO"
      }
    },
    {
      "cell_type": "code",
      "source": [
        "# Import the package\n",
        "import networkx as nx"
      ],
      "metadata": {
        "id": "3w8M1Uxnf67Z"
      },
      "execution_count": null,
      "outputs": []
    },
    {
      "cell_type": "markdown",
      "source": [
        "The main object in networkx is a graph, and to create a graph we do\n",
        "```\n",
        "G = nx.Graph()\n",
        "```\n",
        "which gives us an empty graph, one with no vertices or edges.\n",
        "\n",
        "We can then populate it with vertices and edges using `G.add_nodes_from` and `G.add_edges_from` (or add_node and add_edge for a single node or edge). For example:"
      ],
      "metadata": {
        "id": "tY2n3Flff8Q4"
      }
    },
    {
      "cell_type": "code",
      "source": [
        "# Create a graph\n",
        "G = nx.Graph()\n",
        "G.add_nodes_from([1,2,3,4])\n",
        "G.add_edges_from([(1,2),(2,3),(3,4),(4,1)])"
      ],
      "metadata": {
        "id": "LqJd4GrigDBh"
      },
      "execution_count": null,
      "outputs": []
    },
    {
      "cell_type": "markdown",
      "source": [
        "We can then view our graph using the draw() function, and matplotlib:"
      ],
      "metadata": {
        "id": "pSuXEagsgE-2"
      }
    },
    {
      "cell_type": "code",
      "source": [
        "# Draw the graph\n",
        "import matplotlib.pyplot as plt\n",
        "nx.draw(G)\n",
        "plt.draw()"
      ],
      "metadata": {
        "colab": {
          "base_uri": "https://localhost:8080/",
          "height": 516
        },
        "id": "BHkwpvTdhZPy",
        "outputId": "218ecd2a-bca5-417d-9a7e-d1a9c4c1eac6"
      },
      "execution_count": null,
      "outputs": [
        {
          "output_type": "display_data",
          "data": {
            "text/plain": [
              "<Figure size 640x480 with 1 Axes>"
            ],
            "image/png": "[encoded data removed]"
          },
          "metadata": {}
        }
      ]
    },
    {
      "cell_type": "markdown",
      "source": [],
      "metadata": {
        "id": "N114x7b4feao"
      }
    },
    {
      "cell_type": "markdown",
      "source": [
        "##Other important packages"
      ],
      "metadata": {
        "id": "2OSdsJ-jKrKz"
      }
    },
    {
      "cell_type": "markdown",
      "source": [
        "\n",
        "*   Scipy: Another package for scientific computing. Scipy takes NumPy and adds more advanced tools, and is often faster and more efficient for large data sets. It includes tools for doing statistics and simply machine learning, integration and differentiation, and more linear algebra.\n",
        "*   Pandas: Data analysis. Introduces DataFrames which can be thought of as a Python version of databases. Very powerful, but can be a bit unwieldy.\n",
        "*   TensorFlow, scitkit-learn, Keras, PyTorch: Machine learning.\n",
        "*   SymPy: Symbolic mathematics, that is, mathematics with variables (x,y, etc).\n",
        "\n",
        "\n",
        "It is also worth mentioning SageMath, this is software which uses Python to run packages from many different languages, particularly aimed at mathematicians. So if you find that Python doesn't have the package you need, then Sage might. You can run it online here: https://cocalc.com/features/sage\n"
      ],
      "metadata": {
        "id": "mcrPVI2Qka5R"
      }
    }
  ]
}