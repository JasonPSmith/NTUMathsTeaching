{
 "cells": [
  {
   "cell_type": "markdown",
   "metadata": {
    "id": "rnSG5AWeqYk7"
   },
   "source": [
    "**Module Code**: MATH10541\n",
    "\n",
    "**Module Title**: Introduction to Discrete Mathematics and Applications\n",
    "\n",
    "**Objective**: To assess understanding and application of basic Python concepts\n",
    "\n",
    "**Module Leader**: Jason Smith\n",
    "\n",
    "**Format**: Jupyter Notebook\n",
    "\n",
    "**Contribution to module**: 40%\n",
    "\n",
    "**Date Set**: 31st October 2024\n",
    "\n",
    "**Deadline for Submission**: 14th November 2024, 2:30pm\n",
    "\n",
    "**Method for Submission of Jupyter Notebook**: NOW Dropbox\n",
    "\n",
    "**Deadline for Feedback**: 28th November 2024\n",
    "\n",
    "**Method of Feedback**: NOW Dropbox\n",
    "\n",
    "You can achieve a maximum of 80 marks, you need 32 marks to pass. You should attempt all questions. You should write your code and provide your answers in a Jupyter Notebook. All answers should include clear comments explaining the code. Ensure your code is runnable and free of syntax errors. You are allowed to use built-in functions where appropriate. Submit the Jupyter Notebook (*.ipynb) to the NOW module Dropbox. This coursework is an element of assessment which means you need to pass it in order to pass the module. All work will be submitted to Turnitin as a means to check for plagiarism. Plagiarism will not be tolerated, students are reminded that this is an individual assignment.\n"
   ]
  },
  {
   "cell_type": "markdown",
   "metadata": {
    "id": "4kZ7MOIjpq8c"
   },
   "source": [
    "# Question 1"
   ]
  },
  {
   "cell_type": "markdown",
   "metadata": {
    "id": "32ISn-bcru34"
   },
   "source": [
    "\n",
    "\n",
    "1.   Set `m` equal to the last number in your student number. (**1 mark**)\n",
    "2.   Create a list called `numbers` where the $i$'th entry is $(m+1)\\times i$, for $i=0,1,\\ldots 99$, and print the first $10$ elements of the list. (**4 marks**)\n",
    "3.   Create a set called `sevens` which contains all positions $i$ for which `numbers[i]` is a multiple of 7, and print `sevens`. (**5 marks**)\n",
    "4.   Create a dictionary called `seven_multiple` where `seven_multiple[k]=numbers[k]` for every element $k$ of `sevens`, and then print the values of the dictionary (but not the keys). (**4 marks**)\n",
    "5.    Create a list called `seven_floor` where the $i$'th position contains the largest multiple of $7$ which is smaller than `numbers[i]`, for $0\\le i< 100$, and the print the first $10$ elements of the list. (**5 marks**)\n",
    "6.    Using a while loop, determine the smallest value $n$ such that the first $n$ elements of the list `seven_floor` sum to more than $400$, and print the value of $n$. (**6 marks**)\n",
    "\n",
    "**Total marks: 25**"
   ]
  },
  {
   "cell_type": "code",
   "execution_count": null,
   "metadata": {
    "id": "WMfzRAh6pPNM"
   },
   "outputs": [],
   "source": [
    "# Answer to Question 1\n",
    "\n",
    "\n",
    "\n",
    "\n",
    "\n",
    "\n",
    "\n"
   ]
  },
  {
   "cell_type": "markdown",
   "metadata": {
    "id": "SDCAiRi1rzZq"
   },
   "source": [
    "# Question 2"
   ]
  },
  {
   "cell_type": "markdown",
   "metadata": {
    "id": "QgRT56pZsI8W"
   },
   "source": [
    "Create a function called ``expand_brackets`` which computes the expansion of $(ax+b)(cx+d)$.\n",
    "\n",
    "Your function should do all of the following:\n",
    "\n",
    "1.   Takes as input four numbers a,b,c and d. (**3 marks**)\n",
    "2.   Check that the inputted a,b,c and d, are all a numeric type (int or float). If any of the inputs are not an int or a float, then your function should print an error message and return ``None``. (**6 marks**)\n",
    "3.   Prints the line \"You have inputted (ax+b)(cx+d)\", where a,b,c and d are replaced by their inputted values. (**3 marks**)\n",
    "4.   Computes the expansion of $(ax+b)(cx+d)$, and then prints \"The expansion is ix^2+jx+k\", where i, j and k are the actual coefficients of the expansion of $(ax+b)(cx+d)$. (**5 marks**)\n",
    "5.    Return the tuple (i,j,k), where i,j, and k are as above, i.e. the coefficients of the expansion. (**4 marks**)\n",
    "\n",
    "For example, if the input is a=1, b=2, c=3, d=4 the function should print<br> \"You have inputted (1x+2)(3x+4)\", then print \"The expansion is 3x^2+10x+8\", and then return ($3$,$10$,$8$).\n",
    "\n",
    "Finally, run your function inputting the last 4 digits of your student number as a, b, c and d. (**4 marks**)<br>\n",
    "(e.g. if your student number is N1234567, then a=4, b=5, c=6 and d=7.)\n",
    "\n",
    "**Total marks: 25**"
   ]
  },
  {
   "cell_type": "code",
   "execution_count": null,
   "metadata": {
    "id": "zM_H2pnxr10F"
   },
   "outputs": [],
   "source": [
    "# Answer to Question 2\n",
    "\n",
    "\n",
    "\n",
    "\n",
    "\n",
    "\n",
    "\n",
    "\n"
   ]
  },
  {
   "cell_type": "markdown",
   "metadata": {
    "id": "xz5OLTR8r2LB"
   },
   "source": [
    "# Question 3"
   ]
  },
  {
   "cell_type": "markdown",
   "metadata": {
    "id": "23B9sywSsNZ7"
   },
   "source": [
    "In this question we will use the following packages: [statistics](https://docs.python.org/3/library/statistics.html#module-statistics), [random](https://docs.python.org/3/library/random.html#module-random), [math](https://docs.python.org/3/library/math.html#module-math), [numpy](https://numpy.org/doc/stable/reference/), and [matplotlib](https://matplotlib.org/stable/api/index.html).\n",
    "\n",
    "1.    Import the packages listed above. (**1 mark**)\n",
    "2.    Use the `gauss` function of the random package to generate a list of $50$ random numbers from the normal distribution with mu=0 and sigma=1, call the list `normal`. (**4 marks**)\n",
    "3.    Use the appropriate functions from the statistics package to compute the mean, median and standard deviation of `normal`. Create a string called `summary` which contains \"My distibution has mean x, median y, and standard deviation z\", where x, y and z are the actual values of the mean, median and standard deviation of `normal`, respectively. (**5 marks**)\n",
    "4.    Print the maximum element of `normal` by sorting the list into increasing order and printing the last element. (**4 marks**)\n",
    "5.    Create a list called `normal_sin`, where the $i$ entry of `normal_sin` is `sin(normal[i])`, for $i=0,\\ldots,49$. (**4 marks**)\n",
    "6.    Use the correlate function in numpy to compute, and print, the correlation between `normal` and `normal_sin`. (**3 marks**)\n",
    "7.    Use matplotlib to create and show a scatter plot which plots `normal` against `normal_sin`, that is, the points are `(normal[i],normal_sin[i])`, for $0\\le i < 50$. (**4 marks**)\n",
    "\n",
    "**Total marks: 25**"
   ]
  },
  {
   "cell_type": "code",
   "execution_count": null,
   "metadata": {
    "id": "7tzm_NH0r408"
   },
   "outputs": [],
   "source": [
    "# Answers to Question 3\n",
    "\n",
    "\n",
    "\n",
    "\n",
    "\n",
    "\n",
    "\n",
    "\n",
    "\n",
    "\n",
    "\n"
   ]
  },
  {
   "cell_type": "markdown",
   "metadata": {
    "id": "66OyuxQj6CNN"
   },
   "source": [
    "#Question 4 : Reflection\n",
    "Write a paragraph (approximately 200 words) which reflects on what you have learnt about Python and coding thus far. Your answer should cover the folllwing points:\n",
    "1.  What did you do to learn Python?\n",
    "2.  How successful do you feel your approach was?\n",
    "3.  What parts did you find most difficult?\n",
    "4.  What might you do differently to overcome the challenges you faced?\n",
    "5.  What will you do to continue developing your Python programming skills?\n",
    "\n",
    "**Total marks: 5**"
   ]
  },
  {
   "cell_type": "code",
   "execution_count": null,
   "metadata": {
    "id": "2zU3ic-265C1"
   },
   "outputs": [],
   "source": [
    "# Answer to Question 4 : Write answer between ''' and '''\n",
    "'''\n",
    "\n",
    "'''"
   ]
  }
 ],
 "metadata": {
  "colab": {
   "provenance": []
  },
  "kernelspec": {
   "display_name": "Python 3 (ipykernel)",
   "language": "python",
   "name": "python3"
  },
  "language_info": {
   "codemirror_mode": {
    "name": "ipython",
    "version": 3
   },
   "file_extension": ".py",
   "mimetype": "text/x-python",
   "name": "python",
   "nbconvert_exporter": "python",
   "pygments_lexer": "ipython3",
   "version": "3.8.10"
  }
 },
 "nbformat": 4,
 "nbformat_minor": 1
}
