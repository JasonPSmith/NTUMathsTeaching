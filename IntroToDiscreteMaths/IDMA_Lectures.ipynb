{
  "nbformat": 4,
  "nbformat_minor": 0,
  "metadata": {
    "colab": {
      "provenance": [],
      "toc_visible": true,
      "generative_ai_disabled": true
    },
    "kernelspec": {
      "name": "python3",
      "display_name": "Python 3"
    },
    "language_info": {
      "name": "python"
    }
  },
  "cells": [
    {
      "cell_type": "markdown",
      "source": [
        "# Lecture 1: Python Basics"
      ],
      "metadata": {
        "id": "jFfA2QddPz7g"
      }
    },
    {
      "cell_type": "markdown",
      "source": [
        "## Using Python\n",
        "\n",
        "There are three main ways to use Python\n",
        "1.    Interactive interpreter\n",
        "2.    Run a Python file\n",
        "3.    Notebooks\n"
      ],
      "metadata": {
        "id": "B4_BjXUtQFHl"
      }
    },
    {
      "cell_type": "code",
      "execution_count": null,
      "metadata": {
        "id": "sXVDx23hPt1c"
      },
      "outputs": [],
      "source": [
        "# Hello World demonstration\n",
        "\n"
      ]
    },
    {
      "cell_type": "markdown",
      "source": [
        "|            | Advantages |\n",
        "| ---------- | ---------- |\n",
        "|Interactive |   Quick to start, easier for small computations |\n",
        "|Python File | Easier for large programs, with lots of interacting parts |\n",
        "|Notebook    | Stores workings, Easily change earlier code, Displays plots|"
      ],
      "metadata": {
        "id": "iGVTClIXRWAr"
      }
    },
    {
      "cell_type": "markdown",
      "source": [
        "Python3 is the latest version of Python. But many people still use Python2.\n",
        "\n",
        "They are very very similar, but there are certain syntax differences between them. So just be aware of which version of Python you are using.\n",
        "\n",
        "I recommend to always use Python3."
      ],
      "metadata": {
        "id": "dsOg9M7ZbmL1"
      }
    },
    {
      "cell_type": "markdown",
      "source": [
        "## Arithmetic\n",
        "\n",
        "Most simple mathematical operations are done as you would in a calculator. The four main arithmetic operations are:\n",
        "\n",
        "\n",
        "*   Addition: \\+    \n",
        "*   Subtraction: \\-\n",
        "*   Multiplication: \\*\n",
        "*   Division: /\n",
        "*   Power: **\n",
        "\n"
      ],
      "metadata": {
        "id": "Du6lzR6dTBeo"
      }
    },
    {
      "cell_type": "code",
      "source": [
        "# Basic maths operations\n",
        "\n",
        "\n"
      ],
      "metadata": {
        "id": "ixwsatSkR_IW"
      },
      "execution_count": null,
      "outputs": []
    },
    {
      "cell_type": "markdown",
      "source": [
        "In a notebook only the last operation will be displayed. To display them all you must use `print` for each statement"
      ],
      "metadata": {
        "id": "KEuO9tNET-ay"
      }
    },
    {
      "cell_type": "code",
      "source": [
        "# Multiple operations without print\n",
        "\n",
        "\n"
      ],
      "metadata": {
        "id": "15JImEg0UCum"
      },
      "execution_count": null,
      "outputs": []
    },
    {
      "cell_type": "code",
      "source": [
        "# Multiple operations with print\n",
        "\n",
        "\n"
      ],
      "metadata": {
        "id": "X309PHK5UDu5"
      },
      "execution_count": null,
      "outputs": []
    },
    {
      "cell_type": "markdown",
      "source": [
        "## Strings\n",
        "\n",
        "To store text in Python we use Strings. A string is created by putting something between two speech marks or two quote marks."
      ],
      "metadata": {
        "id": "9_UWhYw3Z6rL"
      }
    },
    {
      "cell_type": "code",
      "source": [
        "# Prints some strings\n",
        "\n"
      ],
      "metadata": {
        "id": "4CkvMCoUaMbM"
      },
      "execution_count": null,
      "outputs": []
    },
    {
      "cell_type": "markdown",
      "source": [
        "If you try and write text without it being a String you will get an error:"
      ],
      "metadata": {
        "id": "1Ja6aS5paY0M"
      }
    },
    {
      "cell_type": "code",
      "source": [
        "# Incorrect way to print a String\n",
        "\n"
      ],
      "metadata": {
        "id": "hy9PjueSaU0X"
      },
      "execution_count": null,
      "outputs": []
    },
    {
      "cell_type": "markdown",
      "source": [
        "## Comments\n",
        "\n",
        "Comments in code are bits of text that are not executed, and are used to explain what the code is doing. Python comments are created by #. Anything on a line after # will be ignored by Python."
      ],
      "metadata": {
        "id": "503Q--XNVNcm"
      }
    },
    {
      "cell_type": "code",
      "source": [
        "# Examples of comments\n",
        "\n",
        "\n",
        "\n"
      ],
      "metadata": {
        "id": "xIjhkCJ_Vlbp"
      },
      "execution_count": null,
      "outputs": []
    },
    {
      "cell_type": "markdown",
      "source": [
        "Code should almost always include comments, explaining what the code is doing. The above comments are bad examples, you do not need comments to explain each individual part of the code. Your comments should explain the purpose of the code, and explain what parts are doing when it is not immediately clear from the code itself."
      ],
      "metadata": {
        "id": "Zl7wVkvyXPAz"
      }
    },
    {
      "cell_type": "markdown",
      "source": [
        "## Variables\n",
        "\n",
        "Often we want to store some information or result for later use, for which we use variables. A variable is simple where we set a letter or word (or gibberish) equal to something:"
      ],
      "metadata": {
        "id": "JPk44MWXXOAq"
      }
    },
    {
      "cell_type": "code",
      "source": [
        "# Create and print variables\n",
        "\n",
        "\n",
        "\n",
        "\n"
      ],
      "metadata": {
        "id": "V3uNupZcZcmx"
      },
      "execution_count": null,
      "outputs": []
    },
    {
      "cell_type": "markdown",
      "source": [
        "Variables can be reassigned, but just setting them equal to something else"
      ],
      "metadata": {
        "id": "iXxx5hH2dOWX"
      }
    },
    {
      "cell_type": "code",
      "source": [
        "# Create, then reassign a variable\n",
        "\n",
        "\n",
        "\n"
      ],
      "metadata": {
        "id": "MyzvSXDbdWbH"
      },
      "execution_count": null,
      "outputs": []
    },
    {
      "cell_type": "markdown",
      "source": [
        "Variables can be updated with values of other variables, and changed by adding things to them"
      ],
      "metadata": {
        "id": "WDi65elXdVtw"
      }
    },
    {
      "cell_type": "code",
      "source": [
        "# Altering variables\n",
        "\n",
        "\n",
        "\n",
        "\n"
      ],
      "metadata": {
        "id": "CyX3zgBDdjf-"
      },
      "execution_count": null,
      "outputs": []
    },
    {
      "cell_type": "markdown",
      "source": [
        "## Equality\n",
        "\n",
        "To check if two things are equal we use `==`."
      ],
      "metadata": {
        "id": "70CHRp-rd5FS"
      }
    },
    {
      "cell_type": "code",
      "source": [
        "# Check if things are equal\n",
        "\n",
        "\n"
      ],
      "metadata": {
        "id": "8329HSfYeI2X"
      },
      "execution_count": null,
      "outputs": []
    },
    {
      "cell_type": "markdown",
      "source": [
        "Make sure you understand the difference between `=` and `==`.\n",
        "\n",
        "\n",
        "*   We use `=` to assign a variable\n",
        "*   We use `==` to check if two things are equal\n",
        "\n"
      ],
      "metadata": {
        "id": "MAE2aMZuec3n"
      }
    },
    {
      "cell_type": "markdown",
      "source": [
        "## Errors and Documentation\n",
        "\n",
        "You will make mistakes when writing code, everyone does. One of the biggest difference between a good coder and a bad, is good coders **read their error messages**.\n",
        "\n",
        "Python has very useful error messages when things go wrong (not all languages do), which will often tell you what the problem is. For example:"
      ],
      "metadata": {
        "id": "yFUDQXIX4f01"
      }
    },
    {
      "cell_type": "code",
      "source": [
        "# An error using an unassigned variable\n",
        "\n",
        "\n"
      ],
      "metadata": {
        "id": "40rWalAT45aC"
      },
      "execution_count": null,
      "outputs": []
    },
    {
      "cell_type": "markdown",
      "source": [
        "The error message won't always tell you exactly what went wrong, especially as your programs get more complex. But they will at least give you a place to start, Python even gives you a line number.\n",
        "\n",
        "The more you start to understand the Python syntax, the easier it will become to read the errors.\n",
        "\n",
        "So when you get an error, before asking for help, read the error message and see if you can work out what you did wrong.\n",
        "\n",
        "\n",
        "The next thing to do is to read the documentation. Python has very good documentation, which tells you what syntax you are supposed to use and how to use everything. The documentation can be found [here](https://docs.python.org/3/). When just starting out there is a lot of information there, but as you get more experienced you will find the documentation invaluable.\n"
      ],
      "metadata": {
        "id": "R_J2BwB64_mF"
      }
    },
    {
      "cell_type": "markdown",
      "source": [
        "# Lecture 2: Types"
      ],
      "metadata": {
        "id": "tFUiY8N3hzYZ"
      }
    },
    {
      "cell_type": "markdown",
      "source": [
        "Types are a fundamental part of almost all modern programming languages. They are used to distinguish things such as number from text.\n",
        "\n",
        "Python has what is known as *dynamic typing*, so in many cases will automatically determine the type of things for you. Compared to a language such as C++, where you must tell the computer what type every object is when creating it.\n",
        "\n",
        "Python has the following built-in data type:\n",
        "\n",
        "| type of types | types                         |\n",
        "| ------------- | ----------                    |\n",
        "| Text          |   str                         |\n",
        "| Numbers       | int, float, complex           |\n",
        "| Collections   | list, tuple, set, dict, range |\n",
        "| Other         | bool, NoneType                |\n",
        "\n",
        "There are some others as well, which we won't cover here, but can be found in the [documentation](https://docs.python.org/3/library/stdtypes.html).\n",
        "\n",
        "Today we will talk about str, int, float, and bool. We will encounter the others later.\n",
        "\n",
        "You can find out what type a variable is using the function type()"
      ],
      "metadata": {
        "id": "9KkcmCheh2xs"
      }
    },
    {
      "cell_type": "code",
      "source": [
        "# Determine the type of some variables\n",
        "\n",
        "\n",
        "\n"
      ],
      "metadata": {
        "id": "m1c7ELrFuVWe"
      },
      "execution_count": null,
      "outputs": []
    },
    {
      "cell_type": "markdown",
      "source": [
        "We can also check if something is of a particular type using `isinstance(variable,type)`"
      ],
      "metadata": {
        "id": "DRVUNKghz7WZ"
      }
    },
    {
      "cell_type": "code",
      "source": [
        "# Check if something is of a certain type\n",
        "\n",
        "\n"
      ],
      "metadata": {
        "id": "jmStuTgt0Cl-"
      },
      "execution_count": null,
      "outputs": []
    },
    {
      "cell_type": "markdown",
      "source": [
        "## Numeric types\n",
        "\n",
        "The two main numeric types are int and float (there is also complex numbers, but we'll ignore them for now).\n",
        "\n",
        "An int is a whole number, i.e. the integers.\n",
        "\n",
        "A float is a real number.\n",
        "\n",
        "A good rule to distinguish them is: A number with a decimal point is a float, without is an int."
      ],
      "metadata": {
        "id": "30tMi2Y_vd9x"
      }
    },
    {
      "cell_type": "code",
      "source": [
        "# Some floats and some ints\n",
        "\n",
        "\n"
      ],
      "metadata": {
        "id": "0XB0ghJFwGSP"
      },
      "execution_count": null,
      "outputs": []
    },
    {
      "cell_type": "markdown",
      "source": [
        "It is important to understand what type of number you are using, as operations can be different depending on the type.\n",
        "\n",
        "If you add an int to a float, you will get a float. And the same is true for multiplication and subtraction."
      ],
      "metadata": {
        "id": "rlY0K91jwhLr"
      }
    },
    {
      "cell_type": "code",
      "source": [
        "# Combining floats and ints\n",
        "\n",
        "\n",
        "\n"
      ],
      "metadata": {
        "id": "Mreg1KnJwz74"
      },
      "execution_count": null,
      "outputs": []
    },
    {
      "cell_type": "markdown",
      "source": [
        "We must be careful with division.\n",
        "\n",
        "If we divide two ints together, we get always get a float back. This is because we know that dividing integers does not guarantee an integer."
      ],
      "metadata": {
        "id": "kHWqeg9axAD4"
      }
    },
    {
      "cell_type": "code",
      "source": [
        "# Dividing ints gives a float\n",
        "\n",
        "\n",
        "\n"
      ],
      "metadata": {
        "id": "OmdUSTsfxLBT"
      },
      "execution_count": null,
      "outputs": []
    },
    {
      "cell_type": "markdown",
      "source": [
        "There is a notion of integer division, using //, which will return an integer, and discard any remainder."
      ],
      "metadata": {
        "id": "CK8aKqKdxgXj"
      }
    },
    {
      "cell_type": "code",
      "source": [
        "# Integer division using //\n",
        "\n",
        "\n"
      ],
      "metadata": {
        "id": "x3MB0MR7xmoK"
      },
      "execution_count": null,
      "outputs": []
    },
    {
      "cell_type": "markdown",
      "source": [
        "We also have the modulus operator (%), which returns just the remainder from division. We will explore the mathematics of the modulus operator later this term in Foundations of Pure Mathematics. The modulus operator is particularly useful for testing if a number is even or odd."
      ],
      "metadata": {
        "id": "iELcknOxymLP"
      }
    },
    {
      "cell_type": "code",
      "source": [
        "# Using the Modulus operator\n",
        "\n",
        "\n"
      ],
      "metadata": {
        "id": "puBwybw4y24x"
      },
      "execution_count": null,
      "outputs": []
    },
    {
      "cell_type": "code",
      "source": [
        "# Test if even or odd using %\n",
        "\n",
        "\n"
      ],
      "metadata": {
        "id": "HA9KEQJqdmGj"
      },
      "execution_count": null,
      "outputs": []
    },
    {
      "cell_type": "markdown",
      "source": [
        "Integers are easy for a computer to store, they just use binary. But it is difficult for a computer to accurately store decimal numbers. So floats are actually an approximation of a decimal number and can sometimes behave slightly differently than you would expect. For example:"
      ],
      "metadata": {
        "id": "ypndB_NszyVa"
      }
    },
    {
      "cell_type": "code",
      "source": [
        "# A misbehaving float\n",
        "\n"
      ],
      "metadata": {
        "id": "VGy99RTozYaD"
      },
      "execution_count": null,
      "outputs": []
    },
    {
      "cell_type": "markdown",
      "source": [
        "So it is generally best to always use an int, unless you actually need a float, and when using float always be a little bit careful!"
      ],
      "metadata": {
        "id": "bN8yzbVW0Wbr"
      }
    },
    {
      "cell_type": "markdown",
      "source": [
        "## Strings\n",
        "\n",
        "We briefly mentioned strings before, but strings are actually a type, denoted by str, that stores letters, words and sentences.\n",
        "\n",
        "As mention before, strings are created by enclosing it in \"\" or ''."
      ],
      "metadata": {
        "id": "oAzVDYXo0-Pn"
      }
    },
    {
      "cell_type": "code",
      "source": [
        "# Create a string\n",
        "\n"
      ],
      "metadata": {
        "id": "f1CEePfz1RfN"
      },
      "execution_count": null,
      "outputs": []
    },
    {
      "cell_type": "markdown",
      "source": [
        "We can join strings together using +, this is called concatenation:\n",
        "\n"
      ],
      "metadata": {
        "id": "Au_P3ztq1lmZ"
      }
    },
    {
      "cell_type": "code",
      "source": [
        "# Adding strings\n",
        "\n",
        "\n"
      ],
      "metadata": {
        "id": "LWpYHrJb2Ry8"
      },
      "execution_count": null,
      "outputs": []
    },
    {
      "cell_type": "markdown",
      "source": [
        "We can extract substrings using [].\n",
        "If x is a string, then x[i] will return the i'th letter of x.\n",
        "\n",
        "And x[a,b] will return all the letters from position a to position b-1"
      ],
      "metadata": {
        "id": "moNISIBX28h3"
      }
    },
    {
      "cell_type": "code",
      "source": [
        "# Print single characters and substrings of a string\n",
        "\n",
        "\n",
        "\n",
        "\n"
      ],
      "metadata": {
        "id": "QKX6ghzt3Lfx"
      },
      "execution_count": null,
      "outputs": []
    },
    {
      "cell_type": "markdown",
      "source": [
        "Some important things to note:\n",
        "\n",
        "\n",
        "*   **The first letter is position 0** (computer scientist like to count from zero, mathematicians like to count from 1, it causes much continued confusion, you will almost certainly cause a bug at some point in your life because of this).\n",
        "*   x[a,b] does not return the b'th letter, it returns the letters before position b.\n",
        "\n"
      ],
      "metadata": {
        "id": "1oVPi_c53wMa"
      }
    },
    {
      "cell_type": "markdown",
      "source": [
        "Strings have lots of built in functions that can do nice things (we will come back to what a function is in a couple of weeks). A full list is available [here](https://docs.python.org/3/library/stdtypes.html#string-methods).\n",
        "\n",
        "There are many useful operations, for example you can take the string and capitalise the first letter (note most code uses American spellings, so here we use captilize):"
      ],
      "metadata": {
        "id": "0xDAr4zX6IXe"
      }
    },
    {
      "cell_type": "code",
      "source": [
        "# Using the capitalize function\n",
        "\n",
        "\n"
      ],
      "metadata": {
        "id": "ZNae3hyY7Gft"
      },
      "execution_count": null,
      "outputs": []
    },
    {
      "cell_type": "markdown",
      "source": [
        "We can remove any spaces before or after the string:"
      ],
      "metadata": {
        "id": "ENI6f3II7QWP"
      }
    },
    {
      "cell_type": "code",
      "source": [
        "# Using the strip function\n",
        "\n",
        "\n"
      ],
      "metadata": {
        "id": "AP-KIxt27UBb"
      },
      "execution_count": null,
      "outputs": []
    },
    {
      "cell_type": "markdown",
      "source": [
        "When can replace all occurrences of a substring with something new"
      ],
      "metadata": {
        "id": "Wu1i8dVF7fq2"
      }
    },
    {
      "cell_type": "code",
      "source": [
        "# Using the replace function\n",
        "\n",
        "\n"
      ],
      "metadata": {
        "id": "lVF_ueP27kBj"
      },
      "execution_count": null,
      "outputs": []
    },
    {
      "cell_type": "markdown",
      "source": [
        "There are loads of other nice operations, the above are just a few."
      ],
      "metadata": {
        "id": "aywkc-Em78ef"
      }
    },
    {
      "cell_type": "markdown",
      "source": [
        "## Booleans\n",
        "\n",
        "Booleans, or bools, is the true or false class.\n",
        "\n",
        "A bool can only be True or False (note the capital letter). It is what comes out of comparisons like the equality operator we saw last week."
      ],
      "metadata": {
        "id": "3Zga5Gcq94nZ"
      }
    },
    {
      "cell_type": "code",
      "source": [
        "# Some bools\n",
        "\n",
        "\n",
        "\n"
      ],
      "metadata": {
        "id": "pqC28MwH-I8e"
      },
      "execution_count": null,
      "outputs": []
    },
    {
      "cell_type": "markdown",
      "source": [
        "There are many other comparison operators that give bools:\n",
        "\n",
        "| operator | meaning |\n",
        "| -------- | ------- |\n",
        "| < | strictly less than |\n",
        "| <= | less than or equal |\n",
        "| > | strictly greater than |\n",
        "| >= | greater than or equal |\n",
        "| == | equal |\n",
        "| != | not equal |\n",
        "| is | object identity |\n",
        "| is not | negated object identity |"
      ],
      "metadata": {
        "id": "YJUAIM5H-XGJ"
      }
    },
    {
      "cell_type": "code",
      "source": [
        "# Some comparisons of ints\n",
        "\n",
        "\n",
        "\n"
      ],
      "metadata": {
        "id": "t5bjHJcR-SkP"
      },
      "execution_count": null,
      "outputs": []
    },
    {
      "cell_type": "markdown",
      "source": [
        "We can combine bools using logical operations, such as *and*, *or* and *not* (something else we will explore further in Foundations of Pure Mathematics)."
      ],
      "metadata": {
        "id": "ZyL4vG6F_KDZ"
      }
    },
    {
      "cell_type": "code",
      "source": [
        "# Some logical connectives\n",
        "\n",
        "\n",
        "\n"
      ],
      "metadata": {
        "id": "W-mNF1KZ_Q6C"
      },
      "execution_count": null,
      "outputs": []
    },
    {
      "cell_type": "markdown",
      "source": [
        "##Converting between types\n",
        "\n",
        "Sometimes we will have a string that contains a number, and we want to convert it to an int (or float), or the reverse. Python has built in operations to do this.\n",
        "\n",
        "In general all you do is put the type you want to convert to, and then the thing you want converted in brackets, for example:"
      ],
      "metadata": {
        "id": "B40w_hUf8BNQ"
      }
    },
    {
      "cell_type": "code",
      "source": [
        "# Convert between types\n",
        "\n",
        "\n",
        "\n",
        "\n"
      ],
      "metadata": {
        "id": "0sBMz0_W8VcH"
      },
      "execution_count": null,
      "outputs": []
    },
    {
      "cell_type": "markdown",
      "source": [
        "Often we want to incorporate a number into a string, to do this we must first convert the number to a string, and then join it with the rest of the string using +"
      ],
      "metadata": {
        "id": "9mttbcqX82bA"
      }
    },
    {
      "cell_type": "code",
      "source": [
        "# Add number into string, the correct way\n",
        "\n",
        "\n"
      ],
      "metadata": {
        "id": "A2XUayhB8vmo"
      },
      "execution_count": null,
      "outputs": []
    },
    {
      "cell_type": "markdown",
      "source": [
        "If we don't convert a to a string first we will get an error message:"
      ],
      "metadata": {
        "id": "1tdjxsky9KKJ"
      }
    },
    {
      "cell_type": "code",
      "source": [
        "# Add number into string, the incorrect way\n",
        "\n",
        "\n"
      ],
      "metadata": {
        "id": "xCX2EnuA9N_G"
      },
      "execution_count": null,
      "outputs": []
    },
    {
      "cell_type": "markdown",
      "source": [
        "We can also use this to convert between int and float"
      ],
      "metadata": {
        "id": "HyNF3ei09dQK"
      }
    },
    {
      "cell_type": "code",
      "source": [
        "# convert an int to a float\n",
        "\n",
        "\n",
        "\n"
      ],
      "metadata": {
        "id": "YRcHLuS59c8x"
      },
      "execution_count": null,
      "outputs": []
    },
    {
      "cell_type": "markdown",
      "source": [
        "#Lecture 3: Lists, Tuples, Sets, and Dicts"
      ],
      "metadata": {
        "id": "xKxHOlXnJgwI"
      }
    },
    {
      "cell_type": "markdown",
      "source": [
        "Now lets look at some of the data types that allow us to store multiple things within them."
      ],
      "metadata": {
        "id": "WkZIHBDBKx5P"
      }
    },
    {
      "cell_type": "markdown",
      "source": [
        "##Lists\n",
        "The most common datatype for storing multiple objects is a list.\n",
        "\n",
        "To create a list we use `[]`. For example, to make a list of the numbers 1 to 4, we do.\n",
        "\n",
        "\n",
        "```\n",
        "a = [1,2,3,4]\n",
        "```\n",
        "\n",
        "Some key points about lists:\n",
        "\n",
        "\n",
        "*   Lists have an order, so [1,2,3] is not the same as [3,2,1]\n",
        "*   Lists can be changed, added to, and items removed\n",
        "*   Lists can have duplicated items\n",
        "*   Lists can have different types within\n",
        "\n"
      ],
      "metadata": {
        "id": "8tgQdc7TJy7L"
      }
    },
    {
      "cell_type": "code",
      "source": [
        "# Some lists\n",
        "\n",
        "\n",
        "\n",
        "\n",
        "\n",
        "\n"
      ],
      "metadata": {
        "id": "0yjTt7kEMbif"
      },
      "execution_count": null,
      "outputs": []
    },
    {
      "cell_type": "markdown",
      "source": [
        "The length of a list A is given by len(A) and returns the number of elements within it"
      ],
      "metadata": {
        "id": "5MEkqMQwMwYn"
      }
    },
    {
      "cell_type": "code",
      "source": [
        "# Print the lengths of lists\n",
        "\n",
        "\n",
        "\n"
      ],
      "metadata": {
        "id": "3RT2TyFgMv8a"
      },
      "execution_count": null,
      "outputs": []
    },
    {
      "cell_type": "markdown",
      "source": [
        "We can access individual elements, and sublists, using the same syntax that we used for strings:"
      ],
      "metadata": {
        "id": "psCcKXS1NENa"
      }
    },
    {
      "cell_type": "code",
      "source": [
        "# Access elements of lists\n",
        "\n",
        "\n"
      ],
      "metadata": {
        "id": "4TRjBgBwNJ1d"
      },
      "execution_count": null,
      "outputs": []
    },
    {
      "cell_type": "markdown",
      "source": [
        "We can change elements:"
      ],
      "metadata": {
        "id": "udFOa6HHSvTn"
      }
    },
    {
      "cell_type": "code",
      "source": [
        "# Alter lists\n",
        "\n",
        "\n",
        "\n",
        "\n",
        "\n"
      ],
      "metadata": {
        "id": "liaZt6_mSy2q"
      },
      "execution_count": null,
      "outputs": []
    },
    {
      "cell_type": "markdown",
      "source": [
        "There are a few tricks that are commonly used with this.\n",
        "\n",
        "\n",
        "*   A[:b] returns everything upto (but not including) the b'th position, i.e. it is the same as A[0:b]\n",
        "*   A[a:] returns everything from position a onwards\n",
        "*   A[-a] returns the element a positions from the end\n",
        "\n"
      ],
      "metadata": {
        "id": "rvAASeKDNWbP"
      }
    },
    {
      "cell_type": "code",
      "source": [
        "# Access elements using the above tricks\n",
        "\n",
        "\n",
        "\n",
        "\n"
      ],
      "metadata": {
        "id": "sbpaiMNGNwMk"
      },
      "execution_count": null,
      "outputs": []
    },
    {
      "cell_type": "markdown",
      "source": [
        "A very common error is to try and access an element not in the list, i.e. position i when there are less than i elements. Also recall the positions start from 0."
      ],
      "metadata": {
        "id": "Rg2YZCugN5Ih"
      }
    },
    {
      "cell_type": "code",
      "source": [
        "# Overflow error\n",
        "\n"
      ],
      "metadata": {
        "id": "hKHzz2EeOGir"
      },
      "execution_count": null,
      "outputs": []
    },
    {
      "cell_type": "markdown",
      "source": [
        "We can add more elements to a list using:\n",
        "\n",
        "\n",
        "*   append : add to the end\n",
        "*   insert : adds in a particular position\n",
        "*   extend : adds multiple elements at the end\n",
        "\n"
      ],
      "metadata": {
        "id": "52z2dTb_OPnX"
      }
    },
    {
      "cell_type": "code",
      "source": [
        "# Add elements to lists\n",
        "\n",
        "\n",
        "\n",
        "\n",
        "\n",
        "\n"
      ],
      "metadata": {
        "id": "-RUHVAdYRyg_"
      },
      "execution_count": null,
      "outputs": []
    },
    {
      "cell_type": "markdown",
      "source": [
        "We can remove elements from lists:\n",
        "\n",
        "\n",
        "*   remove : will remove the first occurence of the specified element\n",
        "*   pop : will remove element in specified position\n",
        "\n"
      ],
      "metadata": {
        "id": "5gQ6ugy0SYjU"
      }
    },
    {
      "cell_type": "code",
      "source": [
        "# Remove elements from lists\n",
        "\n",
        "\n",
        "\n",
        "\n",
        "\n"
      ],
      "metadata": {
        "id": "qfkTbSQeidxu"
      },
      "execution_count": null,
      "outputs": []
    },
    {
      "cell_type": "markdown",
      "source": [
        "We can make a copy of a list, this is useful when we want to make changes to the list, but also keep the original unchanged.\n",
        "\n",
        "Note that simply **setting something equal to a list does not make a copy**. This is an important point, and a common cause of bugs.\n",
        "\n",
        "If I have a list A, and do:\n",
        "```\n",
        "B = A\n",
        "B[0] = 0\n",
        "```\n",
        "Then this will change the first element of B and the first element of A. This is because B becomes the list A, so B and A are now the same list, any change to one is also a change to the other as they are the same object in the memory.\n",
        "\n",
        "If instead I do:\n",
        "```\n",
        "B = A.copy()\n",
        "B[0] = 0\n",
        "```\n",
        "This will change the first element of B, but leave A as the original. Because B is a copy of A, so it has the same elements, but in the memory they are two different things.\n",
        "\n",
        "Both of these case are useful, and you need to work out which one you want for your specific situation."
      ],
      "metadata": {
        "id": "yEJXz80cTJJV"
      }
    },
    {
      "cell_type": "code",
      "source": [
        "# Change copies of lists\n",
        "\n",
        "\n",
        "\n",
        "\n"
      ],
      "metadata": {
        "id": "J26Zqm3KTQp-"
      },
      "execution_count": null,
      "outputs": []
    },
    {
      "cell_type": "markdown",
      "source": [
        "##Tuples"
      ],
      "metadata": {
        "id": "sm4De2KwI0eb"
      }
    },
    {
      "cell_type": "markdown",
      "source": [
        "A tuple is very similar to a list, but the key difference is a that a tuple cannot be changed once created. This is known as an **immutable** type.\n",
        "\n",
        "*   Tuples have an order, so [1,2,3] is not the same as [3,2,1]\n",
        "*   Tuples **cannot** be changed, added to, nor items removed\n",
        "*   Tuples can have duplicated items\n",
        "*   Tuples can have different types within\n",
        "\n",
        "To create a tuple we use `() `or we can convert a list A to a tuple using `tuple(A)`"
      ],
      "metadata": {
        "id": "7C9WrtSfI19R"
      }
    },
    {
      "cell_type": "code",
      "source": [
        "# Create a tuple\n",
        "\n",
        "\n",
        "\n"
      ],
      "metadata": {
        "id": "QIRhkqoZKV0e"
      },
      "execution_count": null,
      "outputs": []
    },
    {
      "cell_type": "markdown",
      "source": [
        "If we try and change a tuple we will get an error:"
      ],
      "metadata": {
        "id": "Xw6fbxNiKwDo"
      }
    },
    {
      "cell_type": "code",
      "source": [
        "# Try and change a tuple\n",
        "\n",
        "\n"
      ],
      "metadata": {
        "id": "YnVsPQfYK1qt"
      },
      "execution_count": null,
      "outputs": []
    },
    {
      "cell_type": "markdown",
      "source": [
        "You can think of tuples as lists which have been frozen in place, and are now unchangeable."
      ],
      "metadata": {
        "id": "2VX4vXqmL9GI"
      }
    },
    {
      "cell_type": "markdown",
      "source": [
        "##Sets"
      ],
      "metadata": {
        "id": "Utd8xuSsJ2RN"
      }
    },
    {
      "cell_type": "markdown",
      "source": [
        "A set in Python is a programming implementation of the mathematical object set (which we will see this week in Foundations of Pure Mathematics).\n",
        "\n",
        "To create a set we use `{ }`.\n",
        "\n",
        "Some properties of sets are:\n",
        "*   Sets **do not** have an order, so {1,2,3} is not the same as {3,2,1}\n",
        "*   Sets can be changed, added to, and items removed\n",
        "*   Sets **can not** have duplicated items\n",
        "*   Sets can have different types within"
      ],
      "metadata": {
        "id": "wa5nUSSytBgv"
      }
    },
    {
      "cell_type": "code",
      "source": [
        "# Create some sets\n",
        "\n",
        "\n",
        "\n",
        "\n",
        "\n"
      ],
      "metadata": {
        "id": "rwCiySKItBDP"
      },
      "execution_count": null,
      "outputs": []
    },
    {
      "cell_type": "markdown",
      "source": [
        "It is very simple to check if a set contains an element, and to check for subsets:"
      ],
      "metadata": {
        "id": "FSPVyEP0-HOk"
      }
    },
    {
      "cell_type": "code",
      "source": [
        "# Check set containment\n",
        "\n",
        "\n",
        "\n",
        "\n",
        "\n",
        "\n",
        "\n",
        "\n"
      ],
      "metadata": {
        "id": "s047z-Le-PAm"
      },
      "execution_count": null,
      "outputs": []
    },
    {
      "cell_type": "markdown",
      "source": [
        "Python has built in operations to do unions, intersections, set minus (a.k.a set difference)."
      ],
      "metadata": {
        "id": "MIyFbuHl8xmL"
      }
    },
    {
      "cell_type": "code",
      "source": [
        "# Use some of the set operations\n",
        "\n",
        "\n",
        "\n",
        "\n",
        "\n",
        "\n",
        "\n",
        "\n",
        "\n",
        "\n"
      ],
      "metadata": {
        "id": "jI4fIb2h_8Ey"
      },
      "execution_count": null,
      "outputs": []
    },
    {
      "cell_type": "markdown",
      "source": [
        "We can add and remove elements from a set"
      ],
      "metadata": {
        "id": "0__ySlS8BGmX"
      }
    },
    {
      "cell_type": "code",
      "source": [
        "# Adding and removing from sets\n",
        "\n",
        "\n",
        "\n",
        "\n"
      ],
      "metadata": {
        "id": "L56JpF9SBGQw"
      },
      "execution_count": null,
      "outputs": []
    },
    {
      "cell_type": "markdown",
      "source": [
        "We can convert lists into sets:"
      ],
      "metadata": {
        "id": "yalB0mibBVBv"
      }
    },
    {
      "cell_type": "code",
      "source": [
        "# Change a list to a set\n",
        "\n",
        "\n",
        "\n",
        "\n"
      ],
      "metadata": {
        "id": "LHbRwndBBYEe"
      },
      "execution_count": null,
      "outputs": []
    },
    {
      "cell_type": "markdown",
      "source": [
        "We can create the emptyset, but to do this we need to use set(). If we do A={} we actually create a dictionary, which we will see next."
      ],
      "metadata": {
        "id": "QG-otcXtD3RD"
      }
    },
    {
      "cell_type": "code",
      "source": [
        "# Create the emptyset\n",
        "\n",
        "\n",
        "\n",
        "\n"
      ],
      "metadata": {
        "id": "j--1sQ4sEAlb"
      },
      "execution_count": null,
      "outputs": []
    },
    {
      "cell_type": "markdown",
      "source": [
        "There is also frozenset,  an immutable version of set. You can think of them as tuples for sets. We won't go into further detail, but encourage you to have a play."
      ],
      "metadata": {
        "id": "DTTr2I56MHAl"
      }
    },
    {
      "cell_type": "markdown",
      "source": [
        "##Dictionaries (Dict)"
      ],
      "metadata": {
        "id": "NOnwczy4J3kF"
      }
    },
    {
      "cell_type": "markdown",
      "source": [
        "A dictionary is like a mathematical function (something else we will formally define in FoPM). A dictionary takes a \"key\" as an input and returns the \"value\" associated to that key.\n",
        "\n",
        "In a slightly confusing clash of notation, we define a dictionary using `{}` (as we did for sets). But the difference is each entry is a pair, the key and its associated value, the syntax is `D={key1: value1, key2:value2, key3:value3}`\n",
        "\n",
        "Once we have a dictionary D, we access the elements using `[]`. So to determine what value is associated to \"key\" we do `D[key]`"
      ],
      "metadata": {
        "id": "fHRJabaVBoI-"
      }
    },
    {
      "cell_type": "code",
      "source": [
        "# Create and access a dictionary\n",
        "\n",
        "\n"
      ],
      "metadata": {
        "id": "fvFNz4BnBhOx"
      },
      "execution_count": null,
      "outputs": []
    },
    {
      "cell_type": "markdown",
      "source": [
        "We can add, change and remove elements of the dictionary:\n",
        "\n"
      ],
      "metadata": {
        "id": "5h7YsZvdEktX"
      }
    },
    {
      "cell_type": "code",
      "source": [
        "# Altering a dictionary\n",
        "\n",
        "\n",
        "\n",
        "\n",
        "\n"
      ],
      "metadata": {
        "id": "DljxLlLeEoJa"
      },
      "execution_count": null,
      "outputs": []
    },
    {
      "cell_type": "markdown",
      "source": [
        "Another way to create a dictionary, is to start with an empty dictionary and assign each key individually:"
      ],
      "metadata": {
        "id": "_vMqNFoVDt5g"
      }
    },
    {
      "cell_type": "code",
      "source": [
        "# Populate a dictionary\n",
        "\n",
        "\n",
        "\n",
        "\n",
        "\n"
      ],
      "metadata": {
        "id": "PS7gl7TzDtp7"
      },
      "execution_count": null,
      "outputs": []
    },
    {
      "cell_type": "markdown",
      "source": [
        "Dictionary values can be of any type. But Dictionary keys must be an immutable type, so we cannot have lists or sets as dictionary keys (nor dictionaries themselves), but all other types we have seen so far will work. The reason for this is that if we used a list as a key, we could then change that list, and this creates confusion for the dictionary.\n",
        "\n",
        "If you want to use a list or set as a key then you should use tuple or frozenset instead."
      ],
      "metadata": {
        "id": "FLaJZhOnGJGs"
      }
    },
    {
      "cell_type": "code",
      "source": [
        "# Error example when key is mutable\n",
        "\n",
        "\n",
        "\n"
      ],
      "metadata": {
        "id": "LG0TWHaoNHPt"
      },
      "execution_count": null,
      "outputs": []
    },
    {
      "cell_type": "markdown",
      "source": [
        "# Lecture 4: Conditional and Loops"
      ],
      "metadata": {
        "id": "RG9IEjvV_puB"
      }
    },
    {
      "cell_type": "markdown",
      "source": [
        "IMPORTANT: Indentations play a key role in Python. Indents are used to dictate what is part of a loop or if statement (and other things like functions).\n",
        "\n",
        "Indentations should be made up of 4 spaces. Other things can actually be used, indcluding tabs, and any number of spaces. But the important thing is that it must be the same throughout your code. You cannot use tabs at one point and then 2 spaces at another point (IDE's often have built in things to help with this).\n",
        "\n",
        "The recommendation is to always use 4 spaces, this is the most common approach, and least likely to create bugs."
      ],
      "metadata": {
        "id": "HdcsYQdaYByp"
      }
    },
    {
      "cell_type": "markdown",
      "source": [
        "## Conditionals\n"
      ],
      "metadata": {
        "id": "wFayZrVYFgj4"
      }
    },
    {
      "cell_type": "markdown",
      "source": [
        "###**if**\n",
        "A conditional statement allows us to different things depending on some criteria. The main conditional statement is `if`.\n",
        "\n",
        "We can use `if` to only do something when our statement is true:"
      ],
      "metadata": {
        "id": "zFJ8n0uHCppq"
      }
    },
    {
      "cell_type": "code",
      "source": [
        "# An if statement\n",
        "\n",
        "\n",
        "\n",
        "\n"
      ],
      "metadata": {
        "id": "QO2bHf2UDfLb"
      },
      "execution_count": null,
      "outputs": []
    },
    {
      "cell_type": "markdown",
      "source": [
        "Note the syntax:\n",
        "`if <some boolean statement>:`\n",
        "then the next line must be indented.\n",
        "Anything included in the indented block falls within the if statement.\n",
        "\n"
      ],
      "metadata": {
        "id": "xfSP5kpLDoQV"
      }
    },
    {
      "cell_type": "code",
      "source": [
        "# A bigger if statement\n",
        "\n",
        "\n",
        "\n",
        "\n",
        "\n",
        "\n"
      ],
      "metadata": {
        "id": "5PJq5pD1EKGN"
      },
      "execution_count": null,
      "outputs": []
    },
    {
      "cell_type": "markdown",
      "source": [
        "###**else**\n",
        "\n",
        "Sometimes we want one of two things to happen, if our statement is true do this, if it is false do that. For this we use if/else:"
      ],
      "metadata": {
        "id": "AsFBjxYtEwKx"
      }
    },
    {
      "cell_type": "code",
      "source": [
        "# An if-else statement\n",
        "\n",
        "\n",
        "\n",
        "\n",
        "\n"
      ],
      "metadata": {
        "id": "xgNzY9YPE3P9"
      },
      "execution_count": null,
      "outputs": []
    },
    {
      "cell_type": "markdown",
      "source": [
        "###**elif**\n",
        "Sometimes we have more than two possibilites, for we use elif, which stand for *else if*:"
      ],
      "metadata": {
        "id": "fkTduHWtFLXr"
      }
    },
    {
      "cell_type": "code",
      "source": [
        "# An elif statement\n",
        "\n",
        "\n",
        "\n",
        "\n",
        "\n",
        "\n"
      ],
      "metadata": {
        "id": "YRTUyuciFrtH"
      },
      "execution_count": null,
      "outputs": []
    },
    {
      "cell_type": "markdown",
      "source": [
        "The code will work its way down the elif statements, it will will only execute elif if all preceeding conditions have been false, and this condition is true."
      ],
      "metadata": {
        "id": "gBvv2AoEF8If"
      }
    },
    {
      "cell_type": "code",
      "source": [
        "# Another elif statement\n",
        "\n",
        "\n",
        "\n",
        "\n",
        "\n",
        "\n",
        "\n",
        "\n",
        "\n"
      ],
      "metadata": {
        "id": "WU91lnSqGKsG"
      },
      "execution_count": null,
      "outputs": []
    },
    {
      "cell_type": "markdown",
      "source": [
        "## Loops"
      ],
      "metadata": {
        "id": "JYMyq9i4I3ve"
      }
    },
    {
      "cell_type": "markdown",
      "source": [
        "Loops are one of the most important things in coding, they allow us to repeatedly do stuff. There are two main loops `for` and `while`."
      ],
      "metadata": {
        "id": "pWd3E9G7OYiw"
      }
    },
    {
      "cell_type": "markdown",
      "source": [
        "###**For**"
      ],
      "metadata": {
        "id": "vhJAZr1cI5iX"
      }
    },
    {
      "cell_type": "markdown",
      "source": [
        "A `for` loop will execute a piece of code for every specified item, usually all things in a list, tuple or set (or something called an iterator).\n",
        "\n",
        "To define a `for` loop we need two things, firstly all the things we want to consider and secondly what we want the code to do each time. The syntax for a `for` loop is:\n",
        "\n",
        "\n",
        "```\n",
        "for i in some_things:\n",
        "    execute_this_code\n",
        "```\n",
        "The i used above is called the index, and will contain a different element from the some_things each iteration of the code.\n",
        "\n",
        "Note the indentation, the `for` loop will evaluate all code that follows it until it finds the next unindented line.\n",
        "\n",
        "\n"
      ],
      "metadata": {
        "id": "7nb1DIwfOlk4"
      }
    },
    {
      "cell_type": "code",
      "source": [
        "# A for loop\n",
        "\n",
        "\n"
      ],
      "metadata": {
        "id": "MIxsBRH3ToQ7"
      },
      "execution_count": null,
      "outputs": []
    },
    {
      "cell_type": "markdown",
      "source": [
        "Note that if we use a list, the loop will go through the elements in the order they are listed (as above), but if we use a set (which does not have an order) the loop will work through in whichever way it chooses."
      ],
      "metadata": {
        "id": "RpQAJsykYP8i"
      }
    },
    {
      "cell_type": "code",
      "source": [
        "# for loop through a set\n",
        "\n",
        "\n",
        "\n"
      ],
      "metadata": {
        "id": "X4toz9JAUUv6"
      },
      "execution_count": null,
      "outputs": []
    },
    {
      "cell_type": "markdown",
      "source": [
        "When we want to loop through all the number from a to b, we can use `range`. Using `for i in range(a,b)` will loop through the numbers $$a,a+1,...,b-1$$ (Note this does not include b itself).\n",
        "\n",
        "And if we want the numbers 0 to n-1 we can just use for `i in range(n)`"
      ],
      "metadata": {
        "id": "w0fALHjMYcpI"
      }
    },
    {
      "cell_type": "code",
      "source": [
        "# for loop using range\n",
        "\n",
        "\n"
      ],
      "metadata": {
        "id": "sq5kg5oOY4Op"
      },
      "execution_count": null,
      "outputs": []
    },
    {
      "cell_type": "markdown",
      "source": [
        "The code part of the `for` loop can have as many lines are you need within it, for example:"
      ],
      "metadata": {
        "id": "mRcrhJqsZGp7"
      }
    },
    {
      "cell_type": "code",
      "source": [
        "# A bigger for loop\n",
        "\n",
        "\n",
        "\n"
      ],
      "metadata": {
        "id": "whSJabUEY8TZ"
      },
      "execution_count": null,
      "outputs": []
    },
    {
      "cell_type": "markdown",
      "source": [
        "We can put `for` loops within `for` loops (sometimes called nested loops), but make sure you use a different letter or name for the index:"
      ],
      "metadata": {
        "id": "Kr14j_ziZDvJ"
      }
    },
    {
      "cell_type": "code",
      "source": [
        "# Nested for loops\n",
        "\n",
        "\n",
        "\n",
        "\n",
        "\n"
      ],
      "metadata": {
        "id": "rAhQTrB9ZfQI"
      },
      "execution_count": null,
      "outputs": []
    },
    {
      "cell_type": "markdown",
      "source": [
        "We can put `if` statements within for loops:"
      ],
      "metadata": {
        "id": "OVN2t1otZ6ah"
      }
    },
    {
      "cell_type": "code",
      "source": [
        "# if statement in for loop\n",
        "\n",
        "\n",
        "\n",
        "\n",
        "\n"
      ],
      "metadata": {
        "id": "ULPZIvA1Z_Vd"
      },
      "execution_count": null,
      "outputs": []
    },
    {
      "cell_type": "markdown",
      "source": [
        "In some cases you might want to finish a `for` loop early, for this you can use the `break`command"
      ],
      "metadata": {
        "id": "ZZtwvW-2bfNa"
      }
    },
    {
      "cell_type": "code",
      "source": [
        "# break a for loop\n",
        "\n",
        "\n",
        "\n",
        "\n"
      ],
      "metadata": {
        "id": "Ns_LoJq7bn-K"
      },
      "execution_count": null,
      "outputs": []
    },
    {
      "cell_type": "markdown",
      "source": [
        "However, the above code would actually be better as a while loop."
      ],
      "metadata": {
        "id": "9CUA2q9-bzuG"
      }
    },
    {
      "cell_type": "markdown",
      "source": [
        "We've seen that we can populate lists, sets and dictionaries using for loops, for example:"
      ],
      "metadata": {
        "id": "kNiMBEquBf7Z"
      }
    },
    {
      "cell_type": "code",
      "source": [
        "# Created empty list, then add to it using a for loop\n",
        "\n",
        "\n",
        "\n",
        "\n"
      ],
      "metadata": {
        "id": "q8nlG_86BfNo"
      },
      "execution_count": null,
      "outputs": []
    },
    {
      "cell_type": "markdown",
      "source": [
        "But we can populate a list in a more condensed way using loops via the syntax:\n",
        "\n",
        "```\n",
        "a_list = [add_this_thing for i in some_list]\n",
        "```\n",
        "We can do the same by replacing lists with sets of dictionaries, and we can use while loops instead of for loops. Here are some examples:"
      ],
      "metadata": {
        "id": "_cLWbf6VBnHd"
      }
    },
    {
      "cell_type": "code",
      "source": [
        "# Create listd with for loop\n",
        "\n",
        "\n",
        "\n"
      ],
      "metadata": {
        "id": "N9ydL9DxBruB"
      },
      "execution_count": null,
      "outputs": []
    },
    {
      "cell_type": "markdown",
      "source": [
        "###**While**"
      ],
      "metadata": {
        "id": "lTdPDB8_J64O"
      }
    },
    {
      "cell_type": "markdown",
      "source": [
        "A `while` loop is a loop which continues while some condition is true, it has the syntax:\n",
        "\n",
        "```\n",
        "while some_Boolean_statement:\n",
        "    execute_this_code\n",
        "```\n",
        "\n",
        "So the condition has to be something that is true or false (i.e. a Boolean) and the code will continue until the statement is false.\n",
        "\n"
      ],
      "metadata": {
        "id": "iz0Nf5_7b5F_"
      }
    },
    {
      "cell_type": "code",
      "source": [
        "# A while loop\n",
        "\n",
        "\n",
        "\n"
      ],
      "metadata": {
        "id": "1KJ-4rXxdDVc"
      },
      "execution_count": null,
      "outputs": []
    },
    {
      "cell_type": "markdown",
      "source": [
        "Note that a `while` loop will not automatically change any values (unlike the for loop where the index changes each time), so unless you change something in each iteration the while loop will continue infinitely doing the same thing everytime.\n",
        "\n",
        "While loops that do not terminate are a common bug, if the boolean statement remains true your code will get stuck repeating that loop forever.\n",
        "\n",
        "Infinite loops are a common bug, and one that is difficult for the computer to detect for you (although some IDE's do have tools that will try and detect them for you)."
      ],
      "metadata": {
        "id": "Se82e5QKdMuX"
      }
    },
    {
      "cell_type": "code",
      "source": [
        "# An infinite while loop\n",
        "\n",
        "\n",
        "\n"
      ],
      "metadata": {
        "id": "h45katgovz1B"
      },
      "execution_count": null,
      "outputs": []
    },
    {
      "cell_type": "markdown",
      "source": [
        "An alternative way to use the while loop is to create a boolean, and then turn it to false when we want the loop to terminate"
      ],
      "metadata": {
        "id": "1an6yiCOeNZ3"
      }
    },
    {
      "cell_type": "code",
      "source": [
        "# while loop which alters boolean to finish\n",
        "\n",
        "\n",
        "\n",
        "\n",
        "\n"
      ],
      "metadata": {
        "id": "tEWARGlN-klU"
      },
      "execution_count": null,
      "outputs": []
    },
    {
      "cell_type": "markdown",
      "source": [
        "##Exceptions\n",
        "Sometimes the coding we write does not work. We have seen above that when this happens Python just stops, and does not execute anything afterwards. However, sometimes we can predict things that might break the program, and create \"exceptions\" for these cases, which is where we tell the code that if this doesn't work do this instead. We do this using `try` and `except`. For example:\n",
        "    "
      ],
      "metadata": {
        "id": "O1ahiSd53loO"
      }
    },
    {
      "cell_type": "code",
      "source": [
        "# Using an exception\n",
        "\n",
        "\n",
        "\n",
        "\n",
        "\n"
      ],
      "metadata": {
        "id": "BJpN1DJYx50K"
      },
      "execution_count": null,
      "outputs": []
    },
    {
      "cell_type": "markdown",
      "source": [
        "We won't go into much further detail on exceptions, but know they exist and are useful."
      ],
      "metadata": {
        "id": "Y3j2pdJJ45vF"
      }
    },
    {
      "cell_type": "markdown",
      "source": [
        "#Lecture 5: Functions and Objects"
      ],
      "metadata": {
        "id": "hZ5qeOxLKI49"
      }
    },
    {
      "cell_type": "markdown",
      "source": [
        "##Functions"
      ],
      "metadata": {
        "id": "5dVf-3WbKObQ"
      }
    },
    {
      "cell_type": "markdown",
      "source": [
        "Often we want to reuse the same bit of code, the best way to do this is using *functions*.\n",
        "\n",
        "A function will take an input (which can be nothing), run some code, and then may or may not return an output.\n",
        "\n",
        "A function will not be executed when the computer encounters it, it will only be executed when it is subsequently called.\n",
        "\n",
        "The syntax for defining a function is:\n",
        "\n",
        "```\n",
        "def function_name(input1, input2):\n",
        "    code_to_be_executed\n",
        "    return output\n",
        "```\n",
        "The function can take any number of inputs, each input is separated by a comma. We can have no inputs, for this we just put nothing between the brackets i.e. ``def function_name()``.\n"
      ],
      "metadata": {
        "id": "4umyuMqVH_4s"
      }
    },
    {
      "cell_type": "code",
      "source": [
        "# define a function for computing f(x)=x^2+2x-5\n",
        "\n",
        "\n"
      ],
      "metadata": {
        "id": "v_i4ubMAMT5v"
      },
      "execution_count": null,
      "outputs": []
    },
    {
      "cell_type": "code",
      "source": [
        "# run the function\n",
        "\n"
      ],
      "metadata": {
        "id": "5FJw0_riOwgj"
      },
      "execution_count": null,
      "outputs": []
    },
    {
      "cell_type": "markdown",
      "source": [
        "Note that when running the code where the function is defined, nothing happens (at least nothing we see). It is not until we call the function afterwards that we get an output."
      ],
      "metadata": {
        "id": "F-8NGPK4NzKl"
      }
    },
    {
      "cell_type": "markdown",
      "source": [
        "Note the importance of the indentation, all the code that is indented will be executed.\n",
        "\n",
        "Within a function we can use if statements and loops.\n",
        "\n",
        "Here are a few more examples:"
      ],
      "metadata": {
        "id": "YiCkYqEDMuGP"
      }
    },
    {
      "cell_type": "code",
      "source": [
        "#a function with no input and no output\n",
        "\n",
        "\n"
      ],
      "metadata": {
        "id": "BisTSDcXTI13"
      },
      "execution_count": null,
      "outputs": []
    },
    {
      "cell_type": "code",
      "source": [
        "#a function with multiple inputs, where we specify the coefficients of the quadratic\n",
        "\n",
        "\n",
        "\n"
      ],
      "metadata": {
        "id": "87qThvalQD-c"
      },
      "execution_count": null,
      "outputs": []
    },
    {
      "cell_type": "markdown",
      "source": [
        "Note the difference between the function printing and the function returning an output. Something that is printed appears on your screen, but then the computer forgets it. Something that is returned can be stored as a variable, and can then be used by the computer.\n",
        "\n",
        "A function can have only one return statement, but within that statement it can return multiple values. One simple way is to return a list or tuple which contains all the values you wish to return. You can also return multiple items separated by commas, this will actually just return a tuple.\n"
      ],
      "metadata": {
        "id": "1U0Bz8jzWXJv"
      }
    },
    {
      "cell_type": "code",
      "source": [
        "# A function which return all multiples of 4 between a and b\n",
        "\n",
        "\n",
        "\n",
        "\n"
      ],
      "metadata": {
        "id": "kY4RZBhlYXl5"
      },
      "execution_count": null,
      "outputs": []
    },
    {
      "cell_type": "markdown",
      "source": [
        "We can create functions with default arguments. This is a function where one (or more) of the inputs has a default value, and if no value is inputted the default is used, but if you input a value then your inputted value is used."
      ],
      "metadata": {
        "id": "iisOd--6aQFv"
      }
    },
    {
      "cell_type": "code",
      "source": [
        "# A function that returns all multiples of x between a and b, where by default x is 4\n",
        "\n",
        "\n",
        "\n",
        "\n",
        "\n"
      ],
      "metadata": {
        "id": "4sj1e7Yfa-Sp"
      },
      "execution_count": null,
      "outputs": []
    },
    {
      "cell_type": "markdown",
      "source": [
        "##Objects"
      ],
      "metadata": {
        "id": "45a786yhKPmu"
      }
    },
    {
      "cell_type": "markdown",
      "source": [
        "Python is an Object oriented programming (OOP) language (as are many other popular modern languages like C++ and Java). An Object is essentially a collection of data and functions, which can be manipulated. Examples of non OOP languages including C and Haskell.\n",
        "\n",
        "To create an Object in Python, first we create a Class. A Class is a template for an object, it tells is what bits of data and what functions will be in the Object.\n",
        "\n",
        "An Object is normally something of which you are likely to have multiple instances, all with similar properties. For example, a patient, and for each patient you will have a collection of data such as age, name, address, etc. In this example you would have a patient Class, and then each patient is an Object.\n",
        "\n",
        "Later in this module we will see mathematical objects which are represented as python objects, such as graphs.\n",
        "\n",
        "The syntax for creating a Class is:\n",
        "\n",
        "\n",
        "```\n",
        "class MyClass:\n",
        "    data1 = 2\n",
        "    data2 = \"pineapple\"\n",
        "```\n",
        "\n",
        "Then to create an Object of that Class we do:\n",
        "\n",
        "```\n",
        "first_object = MyClass()\n",
        "```\n",
        "\n",
        "We are not going to use objects too much in this module, but some of the packages we will look at next will utilise objects. One of the key points to take away is that given an object you can access variables and functions that are part of the class in the following way:\n",
        "\n",
        "\n",
        "```\n",
        "first_object.data1\n",
        "```\n",
        "\n"
      ],
      "metadata": {
        "id": "Y0glgeu-bo9f"
      }
    },
    {
      "cell_type": "code",
      "source": [
        "# A Class and Object example\n",
        "\n",
        "\n",
        "\n",
        "\n",
        "\n"
      ],
      "metadata": {
        "id": "WfRiJFquQpqb"
      },
      "execution_count": null,
      "outputs": []
    },
    {
      "cell_type": "markdown",
      "source": [
        "#Lecture 6: Packages"
      ],
      "metadata": {
        "id": "FqDisUEOKRnr"
      }
    },
    {
      "cell_type": "markdown",
      "source": [
        "One of the best things about Python is that people have already written so much code, and made it freely available for you to use.\n",
        "\n",
        "Python by default comes with loads of installed packages available for you to use. Moreover, Python has a package repository called PyPi (https://pypi.org/), which hosts over 500,000 libraries filled with code that do a variety of different things. Ranging from extremely useful (some of which we will look at below) to downright useless (see the antigravity package)."
      ],
      "metadata": {
        "id": "uioHfx13R9jk"
      }
    },
    {
      "cell_type": "markdown",
      "source": [
        "##Installing and loading packages"
      ],
      "metadata": {
        "id": "Wgp4EStIKU02"
      }
    },
    {
      "cell_type": "markdown",
      "source": [
        "If a package is installed, we can load it into python using the command:\n",
        "```\n",
        "import package_name\n",
        "```\n"
      ],
      "metadata": {
        "id": "OB0gL3f7UL5Z"
      }
    },
    {
      "cell_type": "code",
      "source": [
        "# Load some packages\n",
        "\n",
        "\n",
        "\n",
        "\n"
      ],
      "metadata": {
        "id": "xEv9QhlCUK5m"
      },
      "execution_count": null,
      "outputs": []
    },
    {
      "cell_type": "markdown",
      "source": [
        "Packages can be thought of as a collection of useful functions and classes. There are packages for plotting graphs, doing data science, manipulating files, etc.\n",
        "\n",
        "Almost every package comes with documentation. It is important to look at the documentation to work out how to use the package. The documentation will tell you what functions can be used and how to use them. (Quality of documentation varies massively, but the large packages we will use all have very good documentation).\n",
        "\n",
        "We will briefly introduce a few of the main packages here, and how to use them. But we will expand on these and other packages as we progress through the rest of the module."
      ],
      "metadata": {
        "id": "0N8TAzNiXBSo"
      }
    },
    {
      "cell_type": "markdown",
      "source": [
        "If a package is not yet installed then we must install it first. There are a few ways to install python packages, and it depends what operating system you are using. Google colab has most of the packages we will need already, so we do not need to worry about this."
      ],
      "metadata": {
        "id": "bOMh7guE2S6f"
      }
    },
    {
      "cell_type": "markdown",
      "source": [
        "**IF YOU ONLY INTEND TO USE COLAB YOU CAN IGNORE THE TEXT BETWEEN THE LINES BELOW.**\n",
        "\n",
        "******************************************************************\n",
        "If you are using a personal computer then you will need to install this packages. If you are using a university computer you may need install packages.\n",
        "\n",
        "One way to install a package is using pip, open the terminal in whatever OS you are using and to install a package type:\n",
        "\n",
        "\n",
        "```\n",
        "pip install package_name\n",
        "```\n",
        "\n",
        "pip will install the package on the computer, so that any subsequent users of python will also be able to use it. On your personal computer this is general fine, though it can cause problems if you have lots of packages, because they don't always play nice.\n",
        "\n",
        "But on shared computers you might not be allowed to install on the computer, for this we can use conda and virtualenv. These work by creating \"work environments\" where you install the packages you want to use.\n",
        "\n",
        "To create a virtual environment do:\n",
        "\n",
        "\n",
        "```\n",
        "python -m venv env_name\n",
        "```\n",
        "Then to activate that environment you can do\n",
        "\n",
        "```\n",
        "source env_name/bin/activate\n",
        "```\n",
        "\n",
        "You will now be in the environment and can install packages with pip as above.\n",
        "******************************************************************\n",
        "\n"
      ],
      "metadata": {
        "id": "fzvivdIWUysZ"
      }
    },
    {
      "cell_type": "markdown",
      "source": [
        "## Math"
      ],
      "metadata": {
        "id": "C0iAqyspZCyk"
      }
    },
    {
      "cell_type": "markdown",
      "source": [
        "To introduce some of the basic concepts of packages let us consider the math package. This contains loads of mathematical functions. The documentation is here: https://docs.python.org/3/library/math.html\n",
        "\n",
        "First we must import the package:"
      ],
      "metadata": {
        "id": "AeZ8ArePZHQG"
      }
    },
    {
      "cell_type": "code",
      "source": [
        "# import the math package\n",
        "\n"
      ],
      "metadata": {
        "id": "CKAKQMv5ZXDB"
      },
      "execution_count": null,
      "outputs": []
    },
    {
      "cell_type": "markdown",
      "source": [
        "Once we have import the package let us try and use the square root function. To access a function we put the name of the package, then a fullstop, then the function we want, for example:"
      ],
      "metadata": {
        "id": "Xkudl9fcZZlm"
      }
    },
    {
      "cell_type": "code",
      "source": [
        "# Use the square root function\n",
        "\n"
      ],
      "metadata": {
        "id": "9ig7b7GIZ9j1"
      },
      "execution_count": null,
      "outputs": []
    },
    {
      "cell_type": "markdown",
      "source": [
        "The math package also contains some useful mathematical constants:"
      ],
      "metadata": {
        "id": "1EIwBWTWaJku"
      }
    },
    {
      "cell_type": "code",
      "source": [
        "# Print some mathematical constants\n",
        "\n",
        "\n",
        "\n"
      ],
      "metadata": {
        "id": "Hj3Ak2yUaHhE"
      },
      "execution_count": null,
      "outputs": []
    },
    {
      "cell_type": "markdown",
      "source": [
        "Sometimes we just want to import a single function, without the whole package. This has two advantages, 1) we do not have to prepend the package name everytime and 2) some packages can be quite large and contain things we do not need, so it is better to just get what we need."
      ],
      "metadata": {
        "id": "Uf_79FuHadQZ"
      }
    },
    {
      "cell_type": "code",
      "source": [
        "# import the cosine function\n",
        "\n"
      ],
      "metadata": {
        "id": "tFgD2oeDas8x"
      },
      "execution_count": null,
      "outputs": []
    },
    {
      "cell_type": "markdown",
      "source": [
        "##NumPy"
      ],
      "metadata": {
        "id": "Xw8wCoCMKatG"
      }
    },
    {
      "cell_type": "markdown",
      "source": [
        "NumPy is the fundamental package for scientific computing in Python. It contains code for linear algebra (matrices and vectors), mathematical logic, randomisation, and loads of other things.\n",
        "\n",
        "The documentation for NumPy is here: https://numpy.org/doc/stable/index.html\n",
        "\n",
        "Sometimes when importing packages we use a shorthand name, to avoid writing the full package name many times, for example the convention for importing numpy is:"
      ],
      "metadata": {
        "id": "6upy7HzxYTh0"
      }
    },
    {
      "cell_type": "code",
      "source": [
        "# Load the numpy package\n",
        "\n"
      ],
      "metadata": {
        "id": "7H1ttZd8bhPM"
      },
      "execution_count": null,
      "outputs": []
    },
    {
      "cell_type": "markdown",
      "source": [
        "One of the key things that NumPy introduces is arrays. These behave similarly to Python lists. But they have advantages over lists, computations on arrays are more efficient, arrays are more memory efficient, arrays can be more than 1-dimensional, and there are many useful functions implemented for them.\n",
        "\n",
        "We create an array using the syntax:\n",
        "\n",
        "```\n",
        "np.array([1,2,3,4])\n",
        "```\n",
        "\n"
      ],
      "metadata": {
        "id": "IiaeC9Ukbnob"
      }
    },
    {
      "cell_type": "code",
      "source": [
        "# One dimensional array A\n",
        "\n",
        "\n"
      ],
      "metadata": {
        "id": "unHoQVPIb1ls"
      },
      "execution_count": null,
      "outputs": []
    },
    {
      "cell_type": "markdown",
      "source": [
        "A two dimensional array is essentially a matrix, and we can make higher dimensional arrays as well (known in mathematics as tensors)."
      ],
      "metadata": {
        "id": "-cMXCOdIcSI5"
      }
    },
    {
      "cell_type": "code",
      "source": [
        "# Two dimensional array B\n",
        "\n",
        "\n",
        "\n"
      ],
      "metadata": {
        "id": "pM7iHqXHcaP0"
      },
      "execution_count": null,
      "outputs": []
    },
    {
      "cell_type": "code",
      "source": [
        "# Three dimensional array C\n",
        "\n",
        "\n"
      ],
      "metadata": {
        "id": "AEbwtv2RdMrj"
      },
      "execution_count": null,
      "outputs": []
    },
    {
      "cell_type": "markdown",
      "source": [
        "Arrays can be added to and manipulated in a similar way as lists, to access the i'th element of A we do `A[i]`.\n",
        "\n",
        "If the array is two dimensional, then we access the i,j'th entry using `B[i,j]`, and similarly for higher dimensions."
      ],
      "metadata": {
        "id": "X_o2ycQddX7p"
      }
    },
    {
      "cell_type": "code",
      "source": [
        "# Access and change elements of B\n",
        "\n",
        "\n",
        "\n"
      ],
      "metadata": {
        "id": "eJS8J2N0dqp6"
      },
      "execution_count": null,
      "outputs": []
    },
    {
      "cell_type": "markdown",
      "source": [
        "Two common ways to create an array, is to start with a list and convert it to an array, or to create an array of all zeros (of the required shape) and then enter the values."
      ],
      "metadata": {
        "id": "VX8MIMmpd0dn"
      }
    },
    {
      "cell_type": "code",
      "source": [
        "# Convert list to array\n",
        "\n",
        "\n",
        "\n",
        "\n"
      ],
      "metadata": {
        "id": "aPhFEXBCd_nJ"
      },
      "execution_count": null,
      "outputs": []
    },
    {
      "cell_type": "code",
      "source": [
        "# Create array of zeroes and populate\n",
        "\n",
        "\n",
        "\n",
        "\n"
      ],
      "metadata": {
        "id": "Z79TLl8DeIMI"
      },
      "execution_count": null,
      "outputs": []
    },
    {
      "cell_type": "markdown",
      "source": [
        "We can take single rows and columns from arrays (this is called slicing), to get the i'th row of X we do\n",
        "```\n",
        "X[i,:]\n",
        "```\n",
        " the : tells use to take everything in that row. We can do `X[:,i]` to get the i'th column."
      ],
      "metadata": {
        "id": "3TBz9HgMeVnx"
      }
    },
    {
      "cell_type": "code",
      "source": [
        "# Take some slices of X\n",
        "\n",
        "\n"
      ],
      "metadata": {
        "id": "5Vzjhyo5esks"
      },
      "execution_count": null,
      "outputs": []
    },
    {
      "cell_type": "markdown",
      "source": [
        "NumPy has loads of other useful features that we will explore more later in the module."
      ],
      "metadata": {
        "id": "Z75kLG11fW2j"
      }
    },
    {
      "cell_type": "markdown",
      "source": [
        "##Matplotlib"
      ],
      "metadata": {
        "id": "ejqzfq7biACz"
      }
    },
    {
      "cell_type": "markdown",
      "source": [
        "Matplotlib is the main python package for making plots of graphs (there are other packages such as seaborn, but matplotlib is the most widely used).\n",
        "\n",
        "Matplotlib is big, and can create some amazing visualisations, we do not have time to explore it fully. There are loads of tutorials, videos and examples on the internet I encourage you to explore. Here we will just introduce a few simple examples:"
      ],
      "metadata": {
        "id": "0gFmS3ffiAwD"
      }
    },
    {
      "cell_type": "code",
      "source": [
        "# Import the package\n",
        "\n"
      ],
      "metadata": {
        "id": "kGYoOW_-jNwQ"
      },
      "execution_count": null,
      "outputs": []
    },
    {
      "cell_type": "code",
      "source": [
        "# A simple plot\n",
        "\n",
        "\n"
      ],
      "metadata": {
        "id": "uQh8K8ZkidzP"
      },
      "execution_count": null,
      "outputs": []
    },
    {
      "cell_type": "code",
      "source": [
        "# A plot with points rather than a line, by adding 'o'\n",
        "\n",
        "\n"
      ],
      "metadata": {
        "id": "Aw9-SWBZjst0"
      },
      "execution_count": null,
      "outputs": []
    },
    {
      "cell_type": "code",
      "source": [
        "# A simple bar chart\n",
        "\n",
        "\n"
      ],
      "metadata": {
        "id": "f0EAcJ1li8k9"
      },
      "execution_count": null,
      "outputs": []
    },
    {
      "cell_type": "code",
      "source": [
        "# Add some labels\n",
        "\n",
        "\n",
        "\n",
        "\n",
        "\n"
      ],
      "metadata": {
        "id": "rj0Q4hWojZmL"
      },
      "execution_count": null,
      "outputs": []
    },
    {
      "cell_type": "markdown",
      "source": [
        "##Networkx"
      ],
      "metadata": {
        "id": "ODnf5xGhKl8g"
      }
    },
    {
      "cell_type": "markdown",
      "source": [
        "Networkx is the python package for handling graphs (or networks). A graph is a collection of vertices (points) and edges (connections between points). We will use graphs a lot in this module.\n",
        "\n",
        "First lets import networkx:"
      ],
      "metadata": {
        "id": "Yl4k1bGVfhIO"
      }
    },
    {
      "cell_type": "code",
      "source": [
        "# Import the package\n",
        "\n"
      ],
      "metadata": {
        "id": "3w8M1Uxnf67Z"
      },
      "execution_count": null,
      "outputs": []
    },
    {
      "cell_type": "markdown",
      "source": [
        "The main object in networkx is a graph, and to create a graph we do\n",
        "```\n",
        "G = nx.Graph()\n",
        "```\n",
        "which gives us an empty graph, one with no vertices or edges.\n",
        "\n",
        "We can then populate it with vertices and edges using `G.add_nodes_from` and `G.add_edges_from` (or add_node and add_edge for a single node or edge). For example:"
      ],
      "metadata": {
        "id": "tY2n3Flff8Q4"
      }
    },
    {
      "cell_type": "code",
      "source": [
        "# Create a graph\n",
        "\n",
        "\n",
        "\n"
      ],
      "metadata": {
        "id": "LqJd4GrigDBh"
      },
      "execution_count": null,
      "outputs": []
    },
    {
      "cell_type": "markdown",
      "source": [
        "We can then view our graph using the draw() function, and matplotlib:"
      ],
      "metadata": {
        "id": "pSuXEagsgE-2"
      }
    },
    {
      "cell_type": "code",
      "source": [
        "# Draw the graph\n",
        "\n",
        "\n",
        "\n"
      ],
      "metadata": {
        "id": "BHkwpvTdhZPy"
      },
      "execution_count": null,
      "outputs": []
    },
    {
      "cell_type": "markdown",
      "source": [],
      "metadata": {
        "id": "N114x7b4feao"
      }
    },
    {
      "cell_type": "markdown",
      "source": [
        "##Other important packages"
      ],
      "metadata": {
        "id": "2OSdsJ-jKrKz"
      }
    },
    {
      "cell_type": "markdown",
      "source": [
        "\n",
        "*   Scipy: Another package for scientific computing. Scipy takes NumPy and adds more advanced tools, and is often faster and more efficient for large data sets. It includes tools for doing statistics and simply machine learning, integration and differentiation, and more linear algebra.\n",
        "*   Pandas: Data analysis. Introduces DataFrames which can be thought of as a Python version of databases. Very powerful, but can be a bit unwieldy.\n",
        "*   TensorFlow, scitkit-learn, Keras, PyTorch: Machine learning.\n",
        "*   SymPy: Symbolic mathematics, that is, mathematics with variables (x,y, etc).\n",
        "\n",
        "\n",
        "It is also worth mentioning SageMath, this is software which uses Python to run packages from many different languages, particularly aimed at mathematicians. So if you find that Python doesn't have the package you need, then Sage might. You can run it online here: https://cocalc.com/features/sage\n"
      ],
      "metadata": {
        "id": "mcrPVI2Qka5R"
      }
    }
  ]
}