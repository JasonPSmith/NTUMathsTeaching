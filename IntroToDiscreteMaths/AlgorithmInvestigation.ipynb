{
  "nbformat": 4,
  "nbformat_minor": 0,
  "metadata": {
    "colab": {
      "provenance": []
    },
    "kernelspec": {
      "name": "python3",
      "display_name": "Python 3"
    },
    "language_info": {
      "name": "python"
    }
  },
  "cells": [
    {
      "cell_type": "markdown",
      "source": [
        "# The Tasks"
      ],
      "metadata": {
        "id": "LO612MGiLG_b"
      }
    },
    {
      "cell_type": "markdown",
      "source": [
        "For this session everyone should split up into groups of three."
      ],
      "metadata": {
        "id": "DUDyCZMm9hfk"
      }
    },
    {
      "cell_type": "markdown",
      "source": [
        "Consider the following problem:\n",
        "\n",
        "\n",
        "**Given a number $n$ determine the largest prime factor of $n$, that is, the largest prime number which divides $n$ without remainder.**"
      ],
      "metadata": {
        "id": "hB89j7A65fZ8"
      }
    },
    {
      "cell_type": "markdown",
      "source": [
        "##Task 1\n",
        "\n",
        "Each person in your group should pick one of the following algorithms and write some code to implement your chosen algorithm. Each algorithm should print the largest prime factor of $n=1023$ and the number of steps the algorithm took to run.\n",
        "\n",
        "Once you have written the code, you should run the code and compare the number of steps each took. Also to check your code is working make sure each person is getting the same largest prime factor.\n",
        "\n",
        "Hint: Recall that we can check if a is a factor of b using `b % a == 0`\n",
        "\n"
      ],
      "metadata": {
        "id": "W5DML04o6Jz1"
      }
    },
    {
      "cell_type": "markdown",
      "source": [
        "## Task 2\n",
        "\n",
        "As a group run your algorithms on different values of $n$. Can you find values of $n$ for each algorithm where they are faster than the other algorithms?"
      ],
      "metadata": {
        "id": "SAEGPz1pKzET"
      }
    },
    {
      "cell_type": "markdown",
      "source": [
        "## Task 3\n",
        "What changes can you make to your algorithm to make it faster?"
      ],
      "metadata": {
        "id": "4KqifGwWK9az"
      }
    },
    {
      "cell_type": "markdown",
      "source": [
        "## Task 4\n",
        "As a group design the faster algorithm you can to get the largest prime factor of $n$.\n",
        "\n",
        "How many steps does it take to find the largest prime factor of $n=1023$?\n",
        "\n",
        "How many steps does it take to find the largest prime factor of $n=3201$?"
      ],
      "metadata": {
        "id": "5elRefkxNmal"
      }
    },
    {
      "cell_type": "markdown",
      "source": [
        "#The algorithms"
      ],
      "metadata": {
        "id": "tnBfOICmLEJR"
      }
    },
    {
      "cell_type": "markdown",
      "source": [
        "## Algorithm 1\n",
        "\n",
        "1.    Set $n=1023$, $factor=0$, $steps = 0$, and $i=1$\n",
        "2.    If $i$ is not prime go to step 4\n",
        "3.    If $i$ is a factor of $n$, then set $factor = i$\n",
        "4.    Increase $steps$ by 1\n",
        "5.    Increase $i$ by 1\n",
        "6.    If $i \\le n$ then go to step 2\n",
        "7.    Print $steps$\n",
        "8.    Print $factor$\n",
        "\n",
        "You can use the function `isprime(i)` from sympy to check is i is prime in step 5.\n"
      ],
      "metadata": {
        "id": "yORqTn5z6rQO"
      }
    },
    {
      "cell_type": "code",
      "source": [
        "#Implement Algorithm 1 here\n",
        "from sympy import isprime\n"
      ],
      "metadata": {
        "id": "wwQivRKt88mM"
      },
      "execution_count": 2,
      "outputs": []
    },
    {
      "cell_type": "markdown",
      "source": [
        "## Algorithm 2\n",
        "\n",
        "1.    Set $n=1023$, $factor=0$, $steps=0$\n",
        "2.    Let $i$ loop through the prime numbers between $1$ and $1023$\n",
        "      1.    If $i$ is a factor of $n$ and bigger than $factor$, set $factor=i$\n",
        "      2.    Increase $steps$ by 1\n",
        "3.    Print $steps$\n",
        "4.    Print $factor$\n",
        "\n",
        "You can use `for i in primerange(a,b)` from sympy to loop through all prime number between a and b"
      ],
      "metadata": {
        "id": "9XamCtXk9cd_"
      }
    },
    {
      "cell_type": "code",
      "source": [
        "#Implement Algorithm 2 here\n",
        "from sympy import primerange\n"
      ],
      "metadata": {
        "id": "p2GlyMvHFH6b"
      },
      "execution_count": null,
      "outputs": []
    },
    {
      "cell_type": "markdown",
      "source": [
        "## Algorithm 3\n",
        "\n",
        "1.    Set $n=1023$,  $steps = 0$, and $i=1024$\n",
        "2.    Decrease $i$ by 1\n",
        "3.    Increase $steps$ by 1\n",
        "4.    If $i$ is not a factor of $n$ or $i$ not is prime, then go to step 2\n",
        "5.    Print $steps$\n",
        "6.    Print $factor$\n",
        "\n",
        "\n",
        "You can use the function `isprime(i)` from sympy to check is i is prime in step 4."
      ],
      "metadata": {
        "id": "U-L5rtomGoPL"
      }
    },
    {
      "cell_type": "code",
      "source": [
        "#Implement Algorithm 3 here\n",
        "from sympy import isprime\n"
      ],
      "metadata": {
        "id": "DMB_s0-9KO9L"
      },
      "execution_count": null,
      "outputs": []
    }
  ]
}