{
  "nbformat": 4,
  "nbformat_minor": 0,
  "metadata": {
    "colab": {
      "provenance": [],
      "generative_ai_disabled": true
    },
    "kernelspec": {
      "name": "python3",
      "display_name": "Python 3"
    },
    "language_info": {
      "name": "python"
    }
  },
  "cells": [
    {
      "cell_type": "markdown",
      "source": [
        "##Question 25\n",
        "1.    Import the matplotlib, random and math packages\n",
        "2.    Make a plot of the sin function between $-2\\pi$ and $\\pi$, give it appropriate axis labels and titles\n",
        "3.    Make a plot of the sin and cos functions (on the same plot) between $-2\\pi$ and $\\pi$, give it appropriate axis labels and titles\n",
        "4.    Create a list of 50 random numbers, then make a scatter plot of where the x axis is the position in the list and the y axis is the random number"
      ],
      "metadata": {
        "id": "AMOvgpuFpZgX"
      }
    },
    {
      "cell_type": "code",
      "execution_count": null,
      "metadata": {
        "id": "BW88rEtPpUvQ"
      },
      "outputs": [],
      "source": [
        "# Answers to Question 25\n"
      ]
    },
    {
      "cell_type": "markdown",
      "source": [
        "## Question 26\n",
        "1.    Create a dictionary which whose keys are the numbers 0 to 9 (inclusive), and the value of the each is the number written in English (all lowercase).\n",
        "2.    Write a function called `translate` which:\n",
        "    *     Takes as input an int\n",
        "    *     Returns a string with all the digists of the number listed, seperated by spaces. For example, translate(234) should return \"two three four\".\n",
        "    *     The function should check that the input is an int, and print an error message if it is not, and then return None\n",
        "    *     If the int is negative, then it should the string should begin \"minus\" followed by the digits in English\n",
        "3.   Create a dictionary called `translation_dict` whose keys are the integers -100 to 100, and their value is the output of `translate`"
      ],
      "metadata": {
        "id": "UbAJp_PftaFX"
      }
    },
    {
      "cell_type": "code",
      "source": [
        "# Answers to Question 26\n"
      ],
      "metadata": {
        "id": "qqF5tFlOx-u9"
      },
      "execution_count": null,
      "outputs": []
    },
    {
      "cell_type": "markdown",
      "source": [
        "## Question 27\n",
        "Complete this question without using any packages.\n",
        "\n",
        "1.    Create a function, called `stats`, which takes as input a list of numbers\n",
        "2.    Compute the sum of the numbers and then print \"The list sums to \" followed by the sum value\n",
        "3.    Compute the product of the numbers (i.e. multiple them all together) and then print \"The product of the list is \" followed by the product value\n",
        "4.    Compute the mean of the numbers and then print \"The mean of the \" followed by the mean value\n",
        "5.    Compute the median of the numbers and then print \"The median of the \" followed by the median value\n",
        "5.    Compute the mode of the numbers and then print \"The mode of the \" followed by the mode value\n",
        "6.    Run your function on the list `[1,6,3,7,8,3,4,8,2,3,3,2,3,2,2,3,4,5,6,7,8,9]`"
      ],
      "metadata": {
        "id": "4l87RP21ye0V"
      }
    },
    {
      "cell_type": "code",
      "source": [
        "# Answers to Question 27\n"
      ],
      "metadata": {
        "id": "UC5czHnT3aw8"
      },
      "execution_count": null,
      "outputs": []
    },
    {
      "cell_type": "markdown",
      "source": [
        "## Question 28\n",
        "\n",
        "Consider the function $$f(x) = x^3+2x^2-x+4$$.\n",
        "\n",
        "1.    Plot the function for $-50<x<50$.\n",
        "2.    Determine where $f(x)$ crosses the $x$ axis (i.e., when $f(x)=0$). Do this by creating a while loop which starts with the pair $(a,b)=(-50,50)$, and at each step computes the mid point $m$ between the two values and if $m$ is positive set $(a,b)=(a,m)$ if it is negative set $(a,b)=(m,b)$. Continue until $f(a)$ and $f(b)$ are both within $0.01$ of $0$.\n",
        "3.    Use the sympy.diff function to differentiate f(x), and then plot the derivative on the same axis as f(x)."
      ],
      "metadata": {
        "id": "G9uzPen41zgF"
      }
    }
  ]
}