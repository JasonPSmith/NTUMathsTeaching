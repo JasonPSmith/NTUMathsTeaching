{
  "nbformat": 4,
  "nbformat_minor": 0,
  "metadata": {
    "colab": {
      "provenance": [],
      "generative_ai_disabled": true
    },
    "kernelspec": {
      "name": "python3",
      "display_name": "Python 3"
    },
    "language_info": {
      "name": "python"
    }
  },
  "cells": [
    {
      "cell_type": "markdown",
      "source": [
        "# Lecture 1: Python Basics"
      ],
      "metadata": {
        "id": "jFfA2QddPz7g"
      }
    },
    {
      "cell_type": "markdown",
      "source": [
        "## Using Python\n",
        "\n",
        "There are three main ways to use Python\n",
        "1.    Interactive interpreter\n",
        "2.    Run a Python file\n",
        "3.    Notebooks\n"
      ],
      "metadata": {
        "id": "B4_BjXUtQFHl"
      }
    },
    {
      "cell_type": "code",
      "execution_count": null,
      "metadata": {
        "id": "sXVDx23hPt1c",
        "outputId": "248d74f3-315f-4601-f30a-8ec0164cfe7f",
        "colab": {
          "base_uri": "https://localhost:8080/"
        }
      },
      "outputs": [
        {
          "output_type": "stream",
          "name": "stdout",
          "text": [
            "goodbye world\n"
          ]
        }
      ],
      "source": [
        "# Hello World demonstration\n",
        "\n",
        "print(\"goodbye world\")"
      ]
    },
    {
      "cell_type": "markdown",
      "source": [
        "|            | Advantages |\n",
        "| ---------- | ---------- |\n",
        "|Interactive |   Quick to start, easier for small computations |\n",
        "|Python File | Easier for large programs, with lots of interacting parts |\n",
        "|Notebook    | Stores workings, Easily change earlier code, Displays plots|"
      ],
      "metadata": {
        "id": "iGVTClIXRWAr"
      }
    },
    {
      "cell_type": "markdown",
      "source": [
        "Python3 is the latest version of Python. But many people still use Python2.\n",
        "\n",
        "They are very very similar, but there are certain syntax differences between them. So just be aware of which version of Python you are using.\n",
        "\n",
        "I recommend to always use Python3."
      ],
      "metadata": {
        "id": "dsOg9M7ZbmL1"
      }
    },
    {
      "cell_type": "markdown",
      "source": [
        "## Arithmetic\n",
        "\n",
        "Most simple mathematical operations are done as you would in a calculator. The four main arithmetic operations are:\n",
        "\n",
        "\n",
        "*   Addition: \\+    \n",
        "*   Subtraction: \\-\n",
        "*   Multiplication: \\*\n",
        "*   Division: /\n",
        "*   Power: **\n",
        "\n"
      ],
      "metadata": {
        "id": "Du6lzR6dTBeo"
      }
    },
    {
      "cell_type": "code",
      "source": [
        "# Basic maths operations\n",
        "5+5\n",
        "\n"
      ],
      "metadata": {
        "id": "ixwsatSkR_IW",
        "colab": {
          "base_uri": "https://localhost:8080/"
        },
        "outputId": "a858f35f-3b2b-4bec-e3ea-d341214cb3a8"
      },
      "execution_count": null,
      "outputs": [
        {
          "output_type": "execute_result",
          "data": {
            "text/plain": [
              "10"
            ]
          },
          "metadata": {},
          "execution_count": 1
        }
      ]
    },
    {
      "cell_type": "code",
      "source": [
        "6-7"
      ],
      "metadata": {
        "colab": {
          "base_uri": "https://localhost:8080/"
        },
        "id": "us5uVb2CZKEp",
        "outputId": "6e24d93e-3651-40eb-c3f4-c6e28c34a9f6"
      },
      "execution_count": null,
      "outputs": [
        {
          "output_type": "execute_result",
          "data": {
            "text/plain": [
              "-1"
            ]
          },
          "metadata": {},
          "execution_count": 2
        }
      ]
    },
    {
      "cell_type": "code",
      "source": [
        "4*3"
      ],
      "metadata": {
        "colab": {
          "base_uri": "https://localhost:8080/"
        },
        "id": "wWM0iXzWZOQw",
        "outputId": "94851c18-0abd-4d38-9e0e-0e895b3b821f"
      },
      "execution_count": null,
      "outputs": [
        {
          "output_type": "execute_result",
          "data": {
            "text/plain": [
              "12"
            ]
          },
          "metadata": {},
          "execution_count": 5
        }
      ]
    },
    {
      "cell_type": "code",
      "source": [
        "10/2"
      ],
      "metadata": {
        "colab": {
          "base_uri": "https://localhost:8080/"
        },
        "id": "iunDVgCWZalO",
        "outputId": "5b79961b-1414-4715-bea5-636f578582a2"
      },
      "execution_count": null,
      "outputs": [
        {
          "output_type": "execute_result",
          "data": {
            "text/plain": [
              "5.0"
            ]
          },
          "metadata": {},
          "execution_count": 6
        }
      ]
    },
    {
      "cell_type": "code",
      "source": [
        "2**4"
      ],
      "metadata": {
        "colab": {
          "base_uri": "https://localhost:8080/"
        },
        "id": "ssXPTqIEZd6g",
        "outputId": "e9f9811b-f6ff-4f5d-e6f7-e6a3d593f53c"
      },
      "execution_count": null,
      "outputs": [
        {
          "output_type": "execute_result",
          "data": {
            "text/plain": [
              "16"
            ]
          },
          "metadata": {},
          "execution_count": 9
        }
      ]
    },
    {
      "cell_type": "markdown",
      "source": [
        "In a notebook only the last operation will be displayed. To display them all you must use `print` for each statement"
      ],
      "metadata": {
        "id": "KEuO9tNET-ay"
      }
    },
    {
      "cell_type": "code",
      "source": [
        "# Multiple operations without print\n",
        "5+10\n",
        "5*10\n",
        "\n"
      ],
      "metadata": {
        "id": "15JImEg0UCum",
        "colab": {
          "base_uri": "https://localhost:8080/"
        },
        "outputId": "7fac34de-e0b2-4699-e1e7-12e93208bdaf"
      },
      "execution_count": null,
      "outputs": [
        {
          "output_type": "execute_result",
          "data": {
            "text/plain": [
              "50"
            ]
          },
          "metadata": {},
          "execution_count": 11
        }
      ]
    },
    {
      "cell_type": "code",
      "source": [
        "# Multiple operations with print\n",
        "print(5+10)\n",
        "print(5*10)\n",
        "\n"
      ],
      "metadata": {
        "id": "X309PHK5UDu5",
        "colab": {
          "base_uri": "https://localhost:8080/"
        },
        "outputId": "ef1554f7-23bc-435a-c153-b16a848d5f70"
      },
      "execution_count": null,
      "outputs": [
        {
          "output_type": "stream",
          "name": "stdout",
          "text": [
            "15\n",
            "50\n"
          ]
        }
      ]
    },
    {
      "cell_type": "markdown",
      "source": [
        "## Strings\n",
        "\n",
        "To store text in Python we use Strings. A string is created by putting something between two speech marks or two quote marks."
      ],
      "metadata": {
        "id": "9_UWhYw3Z6rL"
      }
    },
    {
      "cell_type": "code",
      "source": [
        "# Prints some strings\n",
        "print(\"Good morning\")\n",
        "print('Good morning')"
      ],
      "metadata": {
        "id": "4CkvMCoUaMbM",
        "colab": {
          "base_uri": "https://localhost:8080/"
        },
        "outputId": "ea99536e-4bdb-46bc-fcbf-f7f5a987c512"
      },
      "execution_count": null,
      "outputs": [
        {
          "output_type": "stream",
          "name": "stdout",
          "text": [
            "Good morning\n",
            "Good morning\n"
          ]
        }
      ]
    },
    {
      "cell_type": "markdown",
      "source": [
        "If you try and write text without it being a String you will get an error:"
      ],
      "metadata": {
        "id": "1Ja6aS5paY0M"
      }
    },
    {
      "cell_type": "code",
      "source": [
        "# Incorrect way to print a String\n",
        "print(\"Good morning Vietnam')\n"
      ],
      "metadata": {
        "id": "hy9PjueSaU0X",
        "colab": {
          "base_uri": "https://localhost:8080/",
          "height": 106
        },
        "outputId": "15d248b3-0ec4-41a5-daad-5c0ae89f1427"
      },
      "execution_count": null,
      "outputs": [
        {
          "output_type": "error",
          "ename": "SyntaxError",
          "evalue": "unterminated string literal (detected at line 2) (ipython-input-3785102082.py, line 2)",
          "traceback": [
            "\u001b[0;36m  File \u001b[0;32m\"/tmp/ipython-input-3785102082.py\"\u001b[0;36m, line \u001b[0;32m2\u001b[0m\n\u001b[0;31m    print(\"Good morning Vietnam')\u001b[0m\n\u001b[0m          ^\u001b[0m\n\u001b[0;31mSyntaxError\u001b[0m\u001b[0;31m:\u001b[0m unterminated string literal (detected at line 2)\n"
          ]
        }
      ]
    },
    {
      "cell_type": "markdown",
      "source": [
        "## Comments\n",
        "\n",
        "Comments in code are bits of text that are not executed, and are used to explain what the code is doing. Python comments are created by #. Anything on a line after # will be ignored by Python."
      ],
      "metadata": {
        "id": "503Q--XNVNcm"
      }
    },
    {
      "cell_type": "code",
      "source": [
        "# Examples of comments\n",
        "\n",
        "# This is a comment\n",
        "\n",
        "5*4 # I am mulitpling 5 by 4\n",
        "\n"
      ],
      "metadata": {
        "id": "xIjhkCJ_Vlbp",
        "colab": {
          "base_uri": "https://localhost:8080/"
        },
        "outputId": "8105dcce-97fb-4f19-8eba-6d340f33a138"
      },
      "execution_count": null,
      "outputs": [
        {
          "output_type": "execute_result",
          "data": {
            "text/plain": [
              "20"
            ]
          },
          "metadata": {},
          "execution_count": 21
        }
      ]
    },
    {
      "cell_type": "markdown",
      "source": [
        "Code should almost always include comments, explaining what the code is doing. The above comments are bad examples, you do not need comments to explain each individual part of the code. Your comments should explain the purpose of the code, and explain what parts are doing when it is not immediately clear from the code itself."
      ],
      "metadata": {
        "id": "Zl7wVkvyXPAz"
      }
    },
    {
      "cell_type": "markdown",
      "source": [
        "## Variables\n",
        "\n",
        "Often we want to store some information or result for later use, for which we use variables. A variable is simple where we set a letter or word (or gibberish) equal to something:"
      ],
      "metadata": {
        "id": "JPk44MWXXOAq"
      }
    },
    {
      "cell_type": "code",
      "source": [
        "# Create and print variables\n",
        "\n",
        "a_number = 9\n",
        "aNumber = 7\n",
        "\n",
        "a = 3"
      ],
      "metadata": {
        "id": "V3uNupZcZcmx"
      },
      "execution_count": null,
      "outputs": []
    },
    {
      "cell_type": "code",
      "source": [
        "print(a_number)"
      ],
      "metadata": {
        "colab": {
          "base_uri": "https://localhost:8080/"
        },
        "id": "p-Z63pn2b76w",
        "outputId": "0fc3cd1b-967a-453b-a326-3da35571b8d3"
      },
      "execution_count": null,
      "outputs": [
        {
          "output_type": "stream",
          "name": "stdout",
          "text": [
            "9\n"
          ]
        }
      ]
    },
    {
      "cell_type": "code",
      "source": [
        "b = a_number + a\n",
        "print(b)"
      ],
      "metadata": {
        "colab": {
          "base_uri": "https://localhost:8080/"
        },
        "id": "ZZ3tJMmPcAFs",
        "outputId": "0f791acc-45cf-45d2-bb3d-b22c8b61f321"
      },
      "execution_count": null,
      "outputs": [
        {
          "output_type": "stream",
          "name": "stdout",
          "text": [
            "12\n"
          ]
        }
      ]
    },
    {
      "cell_type": "markdown",
      "source": [
        "Variables can be reassigned, but just setting them equal to something else"
      ],
      "metadata": {
        "id": "iXxx5hH2dOWX"
      }
    },
    {
      "cell_type": "code",
      "source": [
        "# Create, then reassign a variable\n",
        "print(a)\n",
        "a = -30\n",
        "print(a)"
      ],
      "metadata": {
        "id": "MyzvSXDbdWbH",
        "colab": {
          "base_uri": "https://localhost:8080/"
        },
        "outputId": "f1bf83ea-6053-43fb-c8d3-e1126b38971c"
      },
      "execution_count": null,
      "outputs": [
        {
          "output_type": "stream",
          "name": "stdout",
          "text": [
            "3\n",
            "-30\n"
          ]
        }
      ]
    },
    {
      "cell_type": "markdown",
      "source": [
        "Variables can be updated with values of other variables, and changed by adding things to them"
      ],
      "metadata": {
        "id": "WDi65elXdVtw"
      }
    },
    {
      "cell_type": "code",
      "source": [
        "# Altering variables\n",
        "a = a + 1\n",
        "print(a)\n",
        "\n",
        "\n",
        "\n"
      ],
      "metadata": {
        "id": "CyX3zgBDdjf-",
        "colab": {
          "base_uri": "https://localhost:8080/"
        },
        "outputId": "dc9d5347-a714-4139-8522-672e3609198b"
      },
      "execution_count": null,
      "outputs": [
        {
          "output_type": "stream",
          "name": "stdout",
          "text": [
            "-29\n"
          ]
        }
      ]
    },
    {
      "cell_type": "markdown",
      "source": [
        "## Equality\n",
        "\n",
        "To check if two things are equal we use `==`."
      ],
      "metadata": {
        "id": "70CHRp-rd5FS"
      }
    },
    {
      "cell_type": "code",
      "source": [
        "# Check if things are equal\n",
        "a = b\n",
        "print(a)\n",
        "print(b)\n",
        "\n"
      ],
      "metadata": {
        "id": "8329HSfYeI2X",
        "colab": {
          "base_uri": "https://localhost:8080/"
        },
        "outputId": "0e444f7b-ffab-4a44-98bd-939398d2942e"
      },
      "execution_count": null,
      "outputs": [
        {
          "output_type": "stream",
          "name": "stdout",
          "text": [
            "12\n",
            "12\n"
          ]
        }
      ]
    },
    {
      "cell_type": "markdown",
      "source": [
        "Make sure you understand the difference between `=` and `==`.\n",
        "\n",
        "\n",
        "*   We use `=` to assign a variable\n",
        "*   We use `==` to check if two things are equal\n",
        "\n"
      ],
      "metadata": {
        "id": "MAE2aMZuec3n"
      }
    },
    {
      "cell_type": "markdown",
      "source": [
        "## Errors and Documentation\n",
        "\n",
        "You will make mistakes when writing code, everyone does. One of the biggest difference between a good coder and a bad, is good coders **read their error messages**.\n",
        "\n",
        "Python has very useful error messages when things go wrong (not all languages do), which will often tell you what the problem is. For example:"
      ],
      "metadata": {
        "id": "yFUDQXIX4f01"
      }
    },
    {
      "cell_type": "code",
      "source": [
        "# An error using an unassigned variable\n",
        "a = 7\n",
        "c=-7\n",
        "a == c\n"
      ],
      "metadata": {
        "id": "40rWalAT45aC",
        "colab": {
          "base_uri": "https://localhost:8080/"
        },
        "outputId": "83c58937-3eaa-40b7-9abc-10339e037a1b"
      },
      "execution_count": null,
      "outputs": [
        {
          "output_type": "execute_result",
          "data": {
            "text/plain": [
              "False"
            ]
          },
          "metadata": {},
          "execution_count": 36
        }
      ]
    },
    {
      "cell_type": "code",
      "source": [
        "print(a==c)"
      ],
      "metadata": {
        "colab": {
          "base_uri": "https://localhost:8080/"
        },
        "id": "HkrybBeCdZD0",
        "outputId": "53be0225-d4ee-4c6f-e073-41d63d3ee510"
      },
      "execution_count": null,
      "outputs": [
        {
          "output_type": "stream",
          "name": "stdout",
          "text": [
            "False\n"
          ]
        }
      ]
    },
    {
      "cell_type": "markdown",
      "source": [
        "The error message won't always tell you exactly what went wrong, especially as your programs get more complex. But they will at least give you a place to start, Python even gives you a line number.\n",
        "\n",
        "The more you start to understand the Python syntax, the easier it will become to read the errors.\n",
        "\n",
        "So when you get an error, before asking for help, read the error message and see if you can work out what you did wrong.\n",
        "\n",
        "\n",
        "The next thing to do is to read the documentation. Python has very good documentation, which tells you what syntax you are supposed to use and how to use everything. The documentation can be found [here](https://docs.python.org/3/). When just starting out there is a lot of information there, but as you get more experienced you will find the documentation invaluable.\n"
      ],
      "metadata": {
        "id": "R_J2BwB64_mF"
      }
    },
    {
      "cell_type": "markdown",
      "source": [
        "# Lecture 2: Types"
      ],
      "metadata": {
        "id": "tFUiY8N3hzYZ"
      }
    },
    {
      "cell_type": "markdown",
      "source": [
        "Types are a fundamental part of almost all modern programming languages. They are used to distinguish things such as number from text.\n",
        "\n",
        "Python has what is known as *dynamic typing*, so in many cases will automatically determine the type of things for you. Compared to a language such as C++, where you must tell the computer what type every object is when creating it.\n",
        "\n",
        "Python has the following built-in data type:\n",
        "\n",
        "| type of types | types                         |\n",
        "| ------------- | ----------                    |\n",
        "| Text          |   str                         |\n",
        "| Numbers       | int, float, complex           |\n",
        "| Collections   | list, tuple, set, dict, range |\n",
        "| Other         | bool, NoneType                |\n",
        "\n",
        "There are some others as well, which we won't cover here, but can be found in the [documentation](https://docs.python.org/3/library/stdtypes.html).\n",
        "\n",
        "Today we will talk about str, int, float, and bool. We will encounter the others later.\n",
        "\n",
        "You can find out what type a variable is using the function type()"
      ],
      "metadata": {
        "id": "9KkcmCheh2xs"
      }
    },
    {
      "cell_type": "code",
      "source": [
        "# Determine the type of some variables\n",
        "a = 5\n",
        "type(a)"
      ],
      "metadata": {
        "id": "m1c7ELrFuVWe",
        "colab": {
          "base_uri": "https://localhost:8080/"
        },
        "outputId": "87321591-2461-4b47-83c4-b2cc9354d2d2"
      },
      "execution_count": null,
      "outputs": [
        {
          "output_type": "execute_result",
          "data": {
            "text/plain": [
              "int"
            ]
          },
          "metadata": {},
          "execution_count": 2
        }
      ]
    },
    {
      "cell_type": "code",
      "source": [
        "b = \"hello\"\n",
        "type(b)"
      ],
      "metadata": {
        "colab": {
          "base_uri": "https://localhost:8080/"
        },
        "id": "mDco832GWXu6",
        "outputId": "da8ae370-46eb-4393-d1eb-61748d3ec44e"
      },
      "execution_count": null,
      "outputs": [
        {
          "output_type": "execute_result",
          "data": {
            "text/plain": [
              "str"
            ]
          },
          "metadata": {},
          "execution_count": 3
        }
      ]
    },
    {
      "cell_type": "code",
      "source": [
        "c = True\n",
        "type(c)"
      ],
      "metadata": {
        "colab": {
          "base_uri": "https://localhost:8080/"
        },
        "id": "5o2dwlkfWgef",
        "outputId": "5748fb12-54e0-4d2a-a84b-299f9d4b2bd6"
      },
      "execution_count": null,
      "outputs": [
        {
          "output_type": "execute_result",
          "data": {
            "text/plain": [
              "bool"
            ]
          },
          "metadata": {},
          "execution_count": 4
        }
      ]
    },
    {
      "cell_type": "code",
      "source": [
        "d = 5.5\n",
        "type(d)"
      ],
      "metadata": {
        "colab": {
          "base_uri": "https://localhost:8080/"
        },
        "id": "SA_nSandWniZ",
        "outputId": "66cd5ba4-3175-4f5b-c011-a1deb1d77626"
      },
      "execution_count": null,
      "outputs": [
        {
          "output_type": "execute_result",
          "data": {
            "text/plain": [
              "float"
            ]
          },
          "metadata": {},
          "execution_count": 5
        }
      ]
    },
    {
      "cell_type": "markdown",
      "source": [],
      "metadata": {
        "id": "BsyDBc2NWp48"
      }
    },
    {
      "cell_type": "markdown",
      "source": [
        "We can also check if something is of a particular type using `isinstance(variable,type)`"
      ],
      "metadata": {
        "id": "DRVUNKghz7WZ"
      }
    },
    {
      "cell_type": "code",
      "source": [
        "# Check if something is of a certain type\n",
        "print(isinstance(a,bool))\n",
        "print(isinstance(a,int))\n",
        "print(isinstance(d,str))\n",
        "print(isinstance(d,float))"
      ],
      "metadata": {
        "id": "jmStuTgt0Cl-",
        "colab": {
          "base_uri": "https://localhost:8080/"
        },
        "outputId": "25c94cc2-bbce-47a1-c8b6-9df60b77b2a5"
      },
      "execution_count": null,
      "outputs": [
        {
          "output_type": "stream",
          "name": "stdout",
          "text": [
            "False\n",
            "True\n",
            "False\n",
            "True\n"
          ]
        }
      ]
    },
    {
      "cell_type": "markdown",
      "source": [
        "## Numeric types\n",
        "\n",
        "The two main numeric types are int and float (there is also complex numbers, but we'll ignore them for now).\n",
        "\n",
        "An int is a whole number, i.e. the integers.\n",
        "\n",
        "A float is a real number.\n",
        "\n",
        "A good rule to distinguish them is: A number with a decimal point is a float, without is an int."
      ],
      "metadata": {
        "id": "30tMi2Y_vd9x"
      }
    },
    {
      "cell_type": "code",
      "source": [
        "# Some floats and some ints\n",
        "a = 66\n",
        "b = -99\n",
        "c = 4.0\n",
        "d = 4\n",
        "e = 100.001\n",
        "type(c)\n"
      ],
      "metadata": {
        "id": "0XB0ghJFwGSP",
        "colab": {
          "base_uri": "https://localhost:8080/"
        },
        "outputId": "d44dfa9d-3c2b-43d9-f7e0-b948a7b4ce17"
      },
      "execution_count": null,
      "outputs": [
        {
          "output_type": "execute_result",
          "data": {
            "text/plain": [
              "float"
            ]
          },
          "metadata": {},
          "execution_count": 16
        }
      ]
    },
    {
      "cell_type": "markdown",
      "source": [
        "It is important to understand what type of number you are using, as operations can be different depending on the type.\n",
        "\n",
        "If you add an int to a float, you will get a float. And the same is true for multiplication and subtraction."
      ],
      "metadata": {
        "id": "rlY0K91jwhLr"
      }
    },
    {
      "cell_type": "code",
      "source": [
        "# Combining floats and ints\n",
        "x = b-e\n",
        "print(x)\n",
        "print(type(x))\n",
        "\n"
      ],
      "metadata": {
        "id": "Mreg1KnJwz74",
        "colab": {
          "base_uri": "https://localhost:8080/"
        },
        "outputId": "290f3f20-0f1e-4c43-c5dc-5a17c5e29137"
      },
      "execution_count": null,
      "outputs": [
        {
          "output_type": "stream",
          "name": "stdout",
          "text": [
            "-199.001\n",
            "<class 'float'>\n"
          ]
        }
      ]
    },
    {
      "cell_type": "markdown",
      "source": [
        "We must be careful with division.\n",
        "\n",
        "If we divide two ints together, we get always get a float back. This is because we know that dividing integers does not guarantee an integer."
      ],
      "metadata": {
        "id": "kHWqeg9axAD4"
      }
    },
    {
      "cell_type": "code",
      "source": [
        "# Dividing ints gives a float\n",
        "10/5\n",
        "\n",
        "\n"
      ],
      "metadata": {
        "id": "OmdUSTsfxLBT",
        "colab": {
          "base_uri": "https://localhost:8080/"
        },
        "outputId": "69664ec3-bbda-4985-bae5-732279d28061"
      },
      "execution_count": null,
      "outputs": [
        {
          "output_type": "execute_result",
          "data": {
            "text/plain": [
              "2.0"
            ]
          },
          "metadata": {},
          "execution_count": 22
        }
      ]
    },
    {
      "cell_type": "markdown",
      "source": [
        "There is a notion of integer division, using //, which will return an integer, and discard any remainder."
      ],
      "metadata": {
        "id": "CK8aKqKdxgXj"
      }
    },
    {
      "cell_type": "code",
      "source": [
        "# Integer division using //\n",
        "47//5\n",
        "\n"
      ],
      "metadata": {
        "id": "x3MB0MR7xmoK",
        "colab": {
          "base_uri": "https://localhost:8080/"
        },
        "outputId": "927f4894-c7a8-4856-ef3e-b3e5098d6890"
      },
      "execution_count": null,
      "outputs": [
        {
          "output_type": "execute_result",
          "data": {
            "text/plain": [
              "9"
            ]
          },
          "metadata": {},
          "execution_count": 24
        }
      ]
    },
    {
      "cell_type": "markdown",
      "source": [
        "We also have the modulus operator (%), which returns just the remainder from division. We will explore the mathematics of the modulus operator later this term in Foundations of Pure Mathematics. The modulus operator is particularly useful for testing if a number is even or odd."
      ],
      "metadata": {
        "id": "iELcknOxymLP"
      }
    },
    {
      "cell_type": "code",
      "source": [
        "# Using the Modulus operator\n",
        "47%5\n",
        "\n"
      ],
      "metadata": {
        "id": "puBwybw4y24x",
        "colab": {
          "base_uri": "https://localhost:8080/"
        },
        "outputId": "8370949c-e100-4e3a-f079-f1b91fb82d13"
      },
      "execution_count": null,
      "outputs": [
        {
          "output_type": "execute_result",
          "data": {
            "text/plain": [
              "2"
            ]
          },
          "metadata": {},
          "execution_count": 25
        }
      ]
    },
    {
      "cell_type": "code",
      "source": [
        "# Test if even or odd using %\n",
        "99 % 2 == 0\n",
        "\n"
      ],
      "metadata": {
        "id": "HA9KEQJqdmGj",
        "colab": {
          "base_uri": "https://localhost:8080/"
        },
        "outputId": "63ecc2ec-aaf1-4a5f-a157-47f9c9369368"
      },
      "execution_count": null,
      "outputs": [
        {
          "output_type": "execute_result",
          "data": {
            "text/plain": [
              "False"
            ]
          },
          "metadata": {},
          "execution_count": 29
        }
      ]
    },
    {
      "cell_type": "markdown",
      "source": [
        "Integers are easy for a computer to store, they just use binary. But it is difficult for a computer to accurately store decimal numbers. So floats are actually an approximation of a decimal number and can sometimes behave slightly differently than you would expect. For example:"
      ],
      "metadata": {
        "id": "ypndB_NszyVa"
      }
    },
    {
      "cell_type": "code",
      "source": [
        "# A misbehaving float\n",
        "1.33%1\n"
      ],
      "metadata": {
        "id": "VGy99RTozYaD",
        "colab": {
          "base_uri": "https://localhost:8080/"
        },
        "outputId": "7b8a7a33-cae5-4e65-e86e-2e01908a9b65"
      },
      "execution_count": null,
      "outputs": [
        {
          "output_type": "execute_result",
          "data": {
            "text/plain": [
              "0.33000000000000007"
            ]
          },
          "metadata": {},
          "execution_count": 30
        }
      ]
    },
    {
      "cell_type": "markdown",
      "source": [
        "So it is generally best to always use an int, unless you actually need a float, and when using float always be a little bit careful!"
      ],
      "metadata": {
        "id": "bN8yzbVW0Wbr"
      }
    },
    {
      "cell_type": "markdown",
      "source": [
        "## Strings\n",
        "\n",
        "We briefly mentioned strings before, but strings are actually a type, denoted by str, that stores letters, words and sentences.\n",
        "\n",
        "As mention before, strings are created by enclosing it in \"\" or ''."
      ],
      "metadata": {
        "id": "oAzVDYXo0-Pn"
      }
    },
    {
      "cell_type": "code",
      "source": [
        "# Create a string\n",
        "t = \"hello world 666\"\n",
        "type(t)"
      ],
      "metadata": {
        "id": "f1CEePfz1RfN",
        "colab": {
          "base_uri": "https://localhost:8080/"
        },
        "outputId": "c5a77a82-c264-4655-c76d-e8cb8a2cbcf3"
      },
      "execution_count": null,
      "outputs": [
        {
          "output_type": "execute_result",
          "data": {
            "text/plain": [
              "str"
            ]
          },
          "metadata": {},
          "execution_count": 32
        }
      ]
    },
    {
      "cell_type": "code",
      "source": [
        "x = 666\n",
        "y = \"666\"\n",
        "print(type(x))\n",
        "print(type(y))"
      ],
      "metadata": {
        "colab": {
          "base_uri": "https://localhost:8080/"
        },
        "id": "KbCWrn1PbDei",
        "outputId": "99526143-53af-4cf4-b70e-622527609020"
      },
      "execution_count": null,
      "outputs": [
        {
          "output_type": "stream",
          "name": "stdout",
          "text": [
            "<class 'int'>\n",
            "<class 'str'>\n"
          ]
        }
      ]
    },
    {
      "cell_type": "markdown",
      "source": [
        "We can join strings together using +, this is called concatenation:\n",
        "\n"
      ],
      "metadata": {
        "id": "Au_P3ztq1lmZ"
      }
    },
    {
      "cell_type": "code",
      "source": [
        "# Adding strings\n",
        "n = \"hello\"\n",
        "s = \" \"\n",
        "m = \"world\"\n",
        "q = n + s + m\n",
        "print(q)\n",
        "\n"
      ],
      "metadata": {
        "id": "LWpYHrJb2Ry8",
        "colab": {
          "base_uri": "https://localhost:8080/"
        },
        "outputId": "61f4d55b-a3de-45d2-e7c5-0fb74d83a0cc"
      },
      "execution_count": null,
      "outputs": [
        {
          "output_type": "stream",
          "name": "stdout",
          "text": [
            "hello world\n"
          ]
        }
      ]
    },
    {
      "cell_type": "markdown",
      "source": [
        "We can extract substrings using [].\n",
        "If x is a string, then x[i] will return the i'th letter of x.\n",
        "\n",
        "And x[a:b] will return all the letters from position a to position b-1"
      ],
      "metadata": {
        "id": "moNISIBX28h3"
      }
    },
    {
      "cell_type": "code",
      "source": [
        "# Print single characters and substrings of a string\n",
        "print(q[0])\n",
        "print(q[5])\n",
        "print(q[7])\n",
        "print(q[0:4])\n",
        "print(q[:4])\n",
        "print(q[4:])\n",
        "print(q[-1])\n",
        "print(q[-2])\n"
      ],
      "metadata": {
        "id": "QKX6ghzt3Lfx",
        "colab": {
          "base_uri": "https://localhost:8080/"
        },
        "outputId": "74861d18-5e35-40b7-a91e-d4cae6f0db40"
      },
      "execution_count": null,
      "outputs": [
        {
          "output_type": "stream",
          "name": "stdout",
          "text": [
            "h\n",
            " \n",
            "o\n",
            "hell\n",
            "hell\n",
            "o world\n",
            "d\n",
            "l\n"
          ]
        }
      ]
    },
    {
      "cell_type": "markdown",
      "source": [
        "Some important things to note:\n",
        "\n",
        "\n",
        "*   **The first letter is position 0** (computer scientist like to count from zero, mathematicians like to count from 1, it causes much continued confusion, you will almost certainly cause a bug at some point in your life because of this).\n",
        "*   x[a:b] does not return the b'th letter, it returns the letters before position b.\n",
        "\n"
      ],
      "metadata": {
        "id": "1oVPi_c53wMa"
      }
    },
    {
      "cell_type": "markdown",
      "source": [
        "Strings have lots of built in functions that can do nice things (we will come back to what a function is in a couple of weeks). A full list is available [here](https://docs.python.org/3/library/stdtypes.html#string-methods).\n",
        "\n",
        "There are many useful operations, for example you can take the string and capitalise the first letter (note most code uses American spellings, so here we use captilize):"
      ],
      "metadata": {
        "id": "0xDAr4zX6IXe"
      }
    },
    {
      "cell_type": "code",
      "source": [
        "# Using the capitalize function\n",
        "print(q)\n",
        "q.capitalize()\n"
      ],
      "metadata": {
        "id": "ZNae3hyY7Gft",
        "colab": {
          "base_uri": "https://localhost:8080/",
          "height": 53
        },
        "outputId": "18609d32-c53c-4e25-df1c-e6d414155f0b"
      },
      "execution_count": null,
      "outputs": [
        {
          "output_type": "stream",
          "name": "stdout",
          "text": [
            "hello world\n"
          ]
        },
        {
          "output_type": "execute_result",
          "data": {
            "text/plain": [
              "'Hello world'"
            ],
            "application/vnd.google.colaboratory.intrinsic+json": {
              "type": "string"
            }
          },
          "metadata": {},
          "execution_count": 47
        }
      ]
    },
    {
      "cell_type": "markdown",
      "source": [
        "We can remove any spaces before or after the string:"
      ],
      "metadata": {
        "id": "ENI6f3II7QWP"
      }
    },
    {
      "cell_type": "code",
      "source": [
        "# Using the strip function\n",
        "p = \"    good morning   \"\n",
        "print(p)\n",
        "p.strip()"
      ],
      "metadata": {
        "id": "AP-KIxt27UBb",
        "colab": {
          "base_uri": "https://localhost:8080/",
          "height": 53
        },
        "outputId": "ecab5c06-70bc-48c6-9e75-87d0455495c4"
      },
      "execution_count": null,
      "outputs": [
        {
          "output_type": "stream",
          "name": "stdout",
          "text": [
            "    good morning   \n"
          ]
        },
        {
          "output_type": "execute_result",
          "data": {
            "text/plain": [
              "'good morning'"
            ],
            "application/vnd.google.colaboratory.intrinsic+json": {
              "type": "string"
            }
          },
          "metadata": {},
          "execution_count": 50
        }
      ]
    },
    {
      "cell_type": "markdown",
      "source": [
        "When can replace all occurrences of a substring with something new"
      ],
      "metadata": {
        "id": "Wu1i8dVF7fq2"
      }
    },
    {
      "cell_type": "code",
      "source": [
        "# Using the replace function\n",
        "W = \"Trump is a dick\"\n",
        "print(W)\n",
        "print(W.replace(\"dick\",\"glorious leader\"))\n",
        "print(W)\n",
        "W = W.replace(\"dick\",\"glorious leader\")\n",
        "print(W)"
      ],
      "metadata": {
        "id": "lVF_ueP27kBj",
        "colab": {
          "base_uri": "https://localhost:8080/"
        },
        "outputId": "08176c9c-5f14-46a7-fcee-eedd28d35529"
      },
      "execution_count": null,
      "outputs": [
        {
          "output_type": "stream",
          "name": "stdout",
          "text": [
            "Trump is a dick\n",
            "Trump is a glorious leader\n",
            "Trump is a dick\n",
            "Trump is a glorious leader\n"
          ]
        }
      ]
    },
    {
      "cell_type": "markdown",
      "source": [
        "There are loads of other nice operations, the above are just a few."
      ],
      "metadata": {
        "id": "aywkc-Em78ef"
      }
    },
    {
      "cell_type": "markdown",
      "source": [
        "## Booleans\n",
        "\n",
        "Booleans, or bools, is the true or false class.\n",
        "\n",
        "A bool can only be True or False (note the capital letter). It is what comes out of comparisons like the equality operator we saw last week."
      ],
      "metadata": {
        "id": "3Zga5Gcq94nZ"
      }
    },
    {
      "cell_type": "code",
      "source": [
        "# Some bools\n",
        "\n",
        "\n",
        "\n"
      ],
      "metadata": {
        "id": "pqC28MwH-I8e"
      },
      "execution_count": null,
      "outputs": []
    },
    {
      "cell_type": "markdown",
      "source": [
        "There are many other comparison operators that give bools:\n",
        "\n",
        "| operator | meaning |\n",
        "| -------- | ------- |\n",
        "| < | strictly less than |\n",
        "| <= | less than or equal |\n",
        "| > | strictly greater than |\n",
        "| >= | greater than or equal |\n",
        "| == | equal |\n",
        "| != | not equal |\n",
        "| is | object identity |\n",
        "| is not | negated object identity |"
      ],
      "metadata": {
        "id": "YJUAIM5H-XGJ"
      }
    },
    {
      "cell_type": "code",
      "source": [
        "# Some comparisons of ints\n",
        "\n",
        "\n"
      ],
      "metadata": {
        "id": "t5bjHJcR-SkP"
      },
      "execution_count": null,
      "outputs": []
    },
    {
      "cell_type": "markdown",
      "source": [
        "We can combine bools using logical operations, such as *and*, *or* and *not* (something else we will explore further in Foundations of Pure Mathematics)."
      ],
      "metadata": {
        "id": "ZyL4vG6F_KDZ"
      }
    },
    {
      "cell_type": "code",
      "source": [
        "# Some logical connectives\n",
        "print(a)\n",
        "a > 50 and a < 10 or a ==777\n",
        "\n"
      ],
      "metadata": {
        "id": "W-mNF1KZ_Q6C",
        "colab": {
          "base_uri": "https://localhost:8080/"
        },
        "outputId": "f1573412-a283-4441-8eed-a3c79a9d0b5c"
      },
      "execution_count": null,
      "outputs": [
        {
          "output_type": "stream",
          "name": "stdout",
          "text": [
            "66\n",
            "False\n"
          ]
        }
      ]
    },
    {
      "cell_type": "code",
      "source": [
        "d =  not True\n",
        "print(d)\n",
        "print(not a > 100)\n",
        "print(a == 66)\n",
        "print(not a == 66)\n",
        "print(a != 66)"
      ],
      "metadata": {
        "colab": {
          "base_uri": "https://localhost:8080/"
        },
        "id": "sRlXwCrEgT6G",
        "outputId": "6c16b01f-3c19-431d-a5a2-0a94e07bf35e"
      },
      "execution_count": null,
      "outputs": [
        {
          "output_type": "stream",
          "name": "stdout",
          "text": [
            "False\n",
            "True\n",
            "True\n",
            "False\n",
            "False\n"
          ]
        }
      ]
    },
    {
      "cell_type": "markdown",
      "source": [
        "##Converting between types\n",
        "\n",
        "Sometimes we will have a string that contains a number, and we want to convert it to an int (or float), or the reverse. Python has built in operations to do this.\n",
        "\n",
        "In general all you do is put the type you want to convert to, and then the thing you want converted in brackets, for example:"
      ],
      "metadata": {
        "id": "B40w_hUf8BNQ"
      }
    },
    {
      "cell_type": "code",
      "source": [
        "# Convert between types\n",
        "print(x)\n",
        "print(y)\n",
        "type(y)\n",
        "\n",
        "z = int(\"354\")\n",
        "print(z)\n",
        "type(z)\n",
        "\n",
        "str(354)\n",
        "\n"
      ],
      "metadata": {
        "id": "0sBMz0_W8VcH",
        "colab": {
          "base_uri": "https://localhost:8080/",
          "height": 87
        },
        "outputId": "e0b9b52e-15c6-497e-cdc3-2cb4787e84b6"
      },
      "execution_count": null,
      "outputs": [
        {
          "output_type": "stream",
          "name": "stdout",
          "text": [
            "666\n",
            "666\n",
            "354\n"
          ]
        },
        {
          "output_type": "execute_result",
          "data": {
            "text/plain": [
              "'354'"
            ],
            "application/vnd.google.colaboratory.intrinsic+json": {
              "type": "string"
            }
          },
          "metadata": {},
          "execution_count": 92
        }
      ]
    },
    {
      "cell_type": "code",
      "source": [
        "a = 50.6\n",
        "print(a)\n",
        "int(a)"
      ],
      "metadata": {
        "colab": {
          "base_uri": "https://localhost:8080/"
        },
        "id": "5Q4Q00RShNgw",
        "outputId": "ccb46e0e-396f-41c3-db38-5bf13d71fdb3"
      },
      "execution_count": null,
      "outputs": [
        {
          "output_type": "stream",
          "name": "stdout",
          "text": [
            "50.6\n"
          ]
        },
        {
          "output_type": "execute_result",
          "data": {
            "text/plain": [
              "50"
            ]
          },
          "metadata": {},
          "execution_count": 94
        }
      ]
    },
    {
      "cell_type": "code",
      "source": [
        "s = 50\n",
        "print(s)\n",
        "float(s)"
      ],
      "metadata": {
        "colab": {
          "base_uri": "https://localhost:8080/"
        },
        "id": "6KGuT6NWhZOf",
        "outputId": "e3c4dfbf-0cbb-4172-ea51-60179cbe5114"
      },
      "execution_count": null,
      "outputs": [
        {
          "output_type": "stream",
          "name": "stdout",
          "text": [
            "50\n"
          ]
        },
        {
          "output_type": "execute_result",
          "data": {
            "text/plain": [
              "50.0"
            ]
          },
          "metadata": {},
          "execution_count": 96
        }
      ]
    },
    {
      "cell_type": "code",
      "source": [
        "int(\"HELLO\")"
      ],
      "metadata": {
        "colab": {
          "base_uri": "https://localhost:8080/",
          "height": 141
        },
        "id": "m74ej7KYhqI9",
        "outputId": "c33d3ae0-0902-4419-e57e-cda52cef721a"
      },
      "execution_count": null,
      "outputs": [
        {
          "output_type": "error",
          "ename": "ValueError",
          "evalue": "invalid literal for int() with base 10: 'HELLO'",
          "traceback": [
            "\u001b[0;31m---------------------------------------------------------------------------\u001b[0m",
            "\u001b[0;31mValueError\u001b[0m                                Traceback (most recent call last)",
            "\u001b[0;32m/tmp/ipython-input-2819208041.py\u001b[0m in \u001b[0;36m<cell line: 0>\u001b[0;34m()\u001b[0m\n\u001b[0;32m----> 1\u001b[0;31m \u001b[0mint\u001b[0m\u001b[0;34m(\u001b[0m\u001b[0;34m\"HELLO\"\u001b[0m\u001b[0;34m)\u001b[0m\u001b[0;34m\u001b[0m\u001b[0;34m\u001b[0m\u001b[0m\n\u001b[0m",
            "\u001b[0;31mValueError\u001b[0m: invalid literal for int() with base 10: 'HELLO'"
          ]
        }
      ]
    },
    {
      "cell_type": "markdown",
      "source": [
        "Often we want to incorporate a number into a string, to do this we must first convert the number to a string, and then join it with the rest of the string using +"
      ],
      "metadata": {
        "id": "9mttbcqX82bA"
      }
    },
    {
      "cell_type": "code",
      "source": [
        "# Add number into string, the correct way\n",
        "z = \"this number is \"\n",
        "a = 5\n",
        "\n",
        "print(z+str(a))\n",
        "print(z,a)\n"
      ],
      "metadata": {
        "id": "A2XUayhB8vmo",
        "colab": {
          "base_uri": "https://localhost:8080/"
        },
        "outputId": "a6efd4f4-5cc2-4430-eeb4-367ca298a4b3"
      },
      "execution_count": null,
      "outputs": [
        {
          "output_type": "stream",
          "name": "stdout",
          "text": [
            "this number is 5\n",
            "this number is  5\n"
          ]
        }
      ]
    },
    {
      "cell_type": "markdown",
      "source": [
        "If we don't convert a to a string first we will get an error message:"
      ],
      "metadata": {
        "id": "1tdjxsky9KKJ"
      }
    },
    {
      "cell_type": "code",
      "source": [
        "# Add number into string, the incorrect way\n",
        "\n",
        "\n"
      ],
      "metadata": {
        "id": "xCX2EnuA9N_G"
      },
      "execution_count": null,
      "outputs": []
    },
    {
      "cell_type": "markdown",
      "source": [
        "We can also use this to convert between int and float"
      ],
      "metadata": {
        "id": "HyNF3ei09dQK"
      }
    },
    {
      "cell_type": "code",
      "source": [
        "# convert an int to a float\n",
        "\n",
        "\n",
        "\n"
      ],
      "metadata": {
        "id": "YRcHLuS59c8x"
      },
      "execution_count": null,
      "outputs": []
    },
    {
      "cell_type": "markdown",
      "source": [
        "#Lecture 3: Lists, Tuples, Sets, and Dicts"
      ],
      "metadata": {
        "id": "xKxHOlXnJgwI"
      }
    },
    {
      "cell_type": "markdown",
      "source": [
        "Now lets look at some of the data types that allow us to store multiple things within them."
      ],
      "metadata": {
        "id": "WkZIHBDBKx5P"
      }
    },
    {
      "cell_type": "markdown",
      "source": [
        "##Lists\n",
        "The most common datatype for storing multiple objects is a list.\n",
        "\n",
        "To create a list we use `[]`. For example, to make a list of the numbers 1 to 4, we do.\n",
        "\n",
        "\n",
        "```\n",
        "a = [1,2,3,4]\n",
        "```\n",
        "\n",
        "Some key points about lists:\n",
        "\n",
        "\n",
        "*   Lists have an order, so [1,2,3] is not the same as [3,2,1]\n",
        "*   Lists can be changed, added to, and items removed\n",
        "*   Lists can have duplicated items\n",
        "*   Lists can have different types within\n",
        "\n"
      ],
      "metadata": {
        "id": "8tgQdc7TJy7L"
      }
    },
    {
      "cell_type": "code",
      "source": [
        "# Some lists\n",
        "A = [2,4,6,8,10,12]\n",
        "print(A)\n",
        "\n",
        "B = [1,0.5,1.0,1,\"some numbers\"]\n",
        "print(B)\n",
        "\n",
        "C = []\n",
        "print(C)\n",
        "\n",
        "D = [\"a\",\"l\",\"i\",\"s\",\"t\"]\n",
        "print(D)\n",
        "\n",
        "E = [1,2,[1,2],[]]\n",
        "print(E)"
      ],
      "metadata": {
        "id": "0yjTt7kEMbif",
        "colab": {
          "base_uri": "https://localhost:8080/"
        },
        "outputId": "fdeb2595-d264-4961-8e41-4691ac6bd335"
      },
      "execution_count": null,
      "outputs": [
        {
          "output_type": "stream",
          "name": "stdout",
          "text": [
            "[2, 4, 6, 8, 10, 12]\n",
            "[1, 0.5, 1.0, 1, 'some numbers']\n",
            "[]\n",
            "['a', 'l', 'i', 's', 't']\n",
            "[1, 2, [1, 2], []]\n"
          ]
        }
      ]
    },
    {
      "cell_type": "markdown",
      "source": [
        "The length of a list A is given by len(A) and returns the number of elements within it"
      ],
      "metadata": {
        "id": "5MEkqMQwMwYn"
      }
    },
    {
      "cell_type": "code",
      "source": [
        "# Print the lengths of lists\n",
        "print(len(A))\n",
        "print(len(B))\n",
        "print(len(C))\n",
        "print(len(D))\n",
        "print(len(E))\n",
        "\n",
        "\n"
      ],
      "metadata": {
        "id": "3RT2TyFgMv8a",
        "colab": {
          "base_uri": "https://localhost:8080/"
        },
        "outputId": "d286179e-7492-4ea6-9312-5d5b82eaa965"
      },
      "execution_count": null,
      "outputs": [
        {
          "output_type": "stream",
          "name": "stdout",
          "text": [
            "6\n",
            "5\n",
            "0\n",
            "5\n",
            "4\n"
          ]
        }
      ]
    },
    {
      "cell_type": "markdown",
      "source": [
        "We can access individual elements, and sublists, using the same syntax that we used for strings:"
      ],
      "metadata": {
        "id": "psCcKXS1NENa"
      }
    },
    {
      "cell_type": "code",
      "source": [
        "# Access elements of lists\n",
        "print(A[0])\n",
        "print(A[1])\n",
        "print(A[2])\n",
        "\n",
        "print(B[2])\n",
        "\n",
        "print(A[6])"
      ],
      "metadata": {
        "id": "4TRjBgBwNJ1d",
        "colab": {
          "base_uri": "https://localhost:8080/",
          "height": 245
        },
        "outputId": "0ce2e799-fc5f-4261-bdfe-4e0a6a45a2d4"
      },
      "execution_count": null,
      "outputs": [
        {
          "output_type": "stream",
          "name": "stdout",
          "text": [
            "2\n",
            "4\n",
            "6\n",
            "1.0\n"
          ]
        },
        {
          "output_type": "error",
          "ename": "IndexError",
          "evalue": "list index out of range",
          "traceback": [
            "\u001b[0;31m---------------------------------------------------------------------------\u001b[0m",
            "\u001b[0;31mIndexError\u001b[0m                                Traceback (most recent call last)",
            "\u001b[0;32m/tmp/ipython-input-2316311742.py\u001b[0m in \u001b[0;36m<cell line: 0>\u001b[0;34m()\u001b[0m\n\u001b[1;32m      6\u001b[0m \u001b[0mprint\u001b[0m\u001b[0;34m(\u001b[0m\u001b[0mB\u001b[0m\u001b[0;34m[\u001b[0m\u001b[0;36m2\u001b[0m\u001b[0;34m]\u001b[0m\u001b[0;34m)\u001b[0m\u001b[0;34m\u001b[0m\u001b[0;34m\u001b[0m\u001b[0m\n\u001b[1;32m      7\u001b[0m \u001b[0;34m\u001b[0m\u001b[0m\n\u001b[0;32m----> 8\u001b[0;31m \u001b[0mprint\u001b[0m\u001b[0;34m(\u001b[0m\u001b[0mA\u001b[0m\u001b[0;34m[\u001b[0m\u001b[0;36m6\u001b[0m\u001b[0;34m]\u001b[0m\u001b[0;34m)\u001b[0m\u001b[0;34m\u001b[0m\u001b[0;34m\u001b[0m\u001b[0m\n\u001b[0m",
            "\u001b[0;31mIndexError\u001b[0m: list index out of range"
          ]
        }
      ]
    },
    {
      "cell_type": "markdown",
      "source": [
        "We can change elements:"
      ],
      "metadata": {
        "id": "udFOa6HHSvTn"
      }
    },
    {
      "cell_type": "code",
      "source": [
        "# Alter lists\n",
        "print(A)\n",
        "A[1] = -4\n",
        "print(A)\n",
        "\n",
        "print(D)\n",
        "D[0] = \"not a\"\n",
        "print(D)\n",
        "D[1] = -700\n",
        "print(D)\n",
        "\n",
        "\n"
      ],
      "metadata": {
        "id": "liaZt6_mSy2q",
        "colab": {
          "base_uri": "https://localhost:8080/"
        },
        "outputId": "36ca70f2-ca09-42f0-c7f9-d96d5a19701a"
      },
      "execution_count": null,
      "outputs": [
        {
          "output_type": "stream",
          "name": "stdout",
          "text": [
            "[2, -4, 6, 8, 10, 12]\n",
            "[2, -4, 6, 8, 10, 12]\n",
            "['not a', 'l', 'i', 's', 't']\n",
            "['not a', 'l', 'i', 's', 't']\n",
            "['not a', -700, 'i', 's', 't']\n"
          ]
        }
      ]
    },
    {
      "cell_type": "markdown",
      "source": [
        "There are a few tricks that are commonly used with this.\n",
        "\n",
        "\n",
        "*   A[:b] returns everything upto (but not including) the b'th position, i.e. it is the same as A[0:b]\n",
        "*   A[a:] returns everything from position a onwards\n",
        "*   A[-a] returns the element a positions from the end\n",
        "\n"
      ],
      "metadata": {
        "id": "rvAASeKDNWbP"
      }
    },
    {
      "cell_type": "code",
      "source": [
        "# Access elements using the above tricks\n",
        "print(A[1:4])\n",
        "print(A[0:4])\n",
        "print(A[:4])\n",
        "print(A[4:])\n",
        "print(A[-3])\n",
        "print(A[:-1])"
      ],
      "metadata": {
        "id": "sbpaiMNGNwMk",
        "colab": {
          "base_uri": "https://localhost:8080/"
        },
        "outputId": "369e2668-dcb9-4b42-ef9c-50ed9b8cfad8"
      },
      "execution_count": null,
      "outputs": [
        {
          "output_type": "stream",
          "name": "stdout",
          "text": [
            "[-4, 6, 8]\n",
            "[2, -4, 6, 8]\n",
            "[2, -4, 6, 8]\n",
            "[10, 12]\n",
            "8\n",
            "[2, -4, 6, 8, 10]\n"
          ]
        }
      ]
    },
    {
      "cell_type": "markdown",
      "source": [
        "A very common error is to try and access an element not in the list, i.e. position i when there are less than i elements. Also recall the positions start from 0."
      ],
      "metadata": {
        "id": "Rg2YZCugN5Ih"
      }
    },
    {
      "cell_type": "code",
      "source": [
        "# Overflow error\n",
        "A[6]\n"
      ],
      "metadata": {
        "id": "hKHzz2EeOGir",
        "colab": {
          "base_uri": "https://localhost:8080/",
          "height": 158
        },
        "outputId": "004e9344-4bc6-42aa-8e95-663a470d2247"
      },
      "execution_count": null,
      "outputs": [
        {
          "output_type": "error",
          "ename": "IndexError",
          "evalue": "list index out of range",
          "traceback": [
            "\u001b[0;31m---------------------------------------------------------------------------\u001b[0m",
            "\u001b[0;31mIndexError\u001b[0m                                Traceback (most recent call last)",
            "\u001b[0;32m/tmp/ipython-input-1154626174.py\u001b[0m in \u001b[0;36m<cell line: 0>\u001b[0;34m()\u001b[0m\n\u001b[1;32m      1\u001b[0m \u001b[0;31m# Overflow error\u001b[0m\u001b[0;34m\u001b[0m\u001b[0;34m\u001b[0m\u001b[0m\n\u001b[0;32m----> 2\u001b[0;31m \u001b[0mA\u001b[0m\u001b[0;34m[\u001b[0m\u001b[0;36m6\u001b[0m\u001b[0;34m]\u001b[0m\u001b[0;34m\u001b[0m\u001b[0;34m\u001b[0m\u001b[0m\n\u001b[0m",
            "\u001b[0;31mIndexError\u001b[0m: list index out of range"
          ]
        }
      ]
    },
    {
      "cell_type": "markdown",
      "source": [
        "We can add more elements to a list using:\n",
        "\n",
        "\n",
        "*   append : add to the end\n",
        "*   insert : adds in a particular position\n",
        "*   extend : adds multiple elements at the end\n",
        "\n"
      ],
      "metadata": {
        "id": "52z2dTb_OPnX"
      }
    },
    {
      "cell_type": "code",
      "source": [
        "# Add elements to lists\n",
        "print(A)\n",
        "A.append(14)\n",
        "print(A)\n",
        "A.append(-16)\n",
        "print(A)\n",
        "\n",
        "\n"
      ],
      "metadata": {
        "id": "-RUHVAdYRyg_",
        "colab": {
          "base_uri": "https://localhost:8080/"
        },
        "outputId": "082f38c2-2eb9-4443-a075-7436ad842e1a"
      },
      "execution_count": null,
      "outputs": [
        {
          "output_type": "stream",
          "name": "stdout",
          "text": [
            "[2, 4, 6, 8, 10, 12, 14, 14, -16, 14, -16, 14, -16, 14, -16, 14, -16, 14, -16]\n",
            "[2, 4, 6, 8, 10, 12, 14, 14, -16, 14, -16, 14, -16, 14, -16, 14, -16, 14, -16, 14]\n",
            "[2, 4, 6, 8, 10, 12, 14, 14, -16, 14, -16, 14, -16, 14, -16, 14, -16, 14, -16, 14, -16]\n"
          ]
        }
      ]
    },
    {
      "cell_type": "code",
      "source": [
        "B = [1,0.5,1.0,1,'some numbers']\n",
        "print(B)\n",
        "B.insert(1,'a')\n",
        "print(B)\n",
        "B.insert(-2,'x')\n",
        "print(B)"
      ],
      "metadata": {
        "colab": {
          "base_uri": "https://localhost:8080/"
        },
        "id": "ztgh4FG5csUC",
        "outputId": "537d49f5-860f-4819-d8fb-145fc6826080"
      },
      "execution_count": null,
      "outputs": [
        {
          "output_type": "stream",
          "name": "stdout",
          "text": [
            "[1, 0.5, 1.0, 1, 'some numbers']\n",
            "[1, 'a', 0.5, 1.0, 1, 'some numbers']\n",
            "[1, 'a', 0.5, 1.0, 'x', 1, 'some numbers']\n"
          ]
        }
      ]
    },
    {
      "cell_type": "code",
      "source": [
        "C = [1,2,4,6,8]\n",
        "print(C)\n",
        "C.extend([-1,-2])\n",
        "print(C)"
      ],
      "metadata": {
        "colab": {
          "base_uri": "https://localhost:8080/"
        },
        "id": "D4Tlkqx7dX7F",
        "outputId": "7c43bcac-a782-4096-de88-9ff5f317a7e3"
      },
      "execution_count": null,
      "outputs": [
        {
          "output_type": "stream",
          "name": "stdout",
          "text": [
            "[1, 2, 4, 6, 8]\n",
            "[1, 2, 4, 6, 8, -1, -2]\n"
          ]
        }
      ]
    },
    {
      "cell_type": "code",
      "source": [
        "C = [1,2,4,6,8]\n",
        "print(C)\n",
        "C = C + [-1,-2]\n",
        "print(C)"
      ],
      "metadata": {
        "colab": {
          "base_uri": "https://localhost:8080/"
        },
        "id": "DJrQUhAXdjCn",
        "outputId": "e46b7f96-c88e-4755-a355-ab714f2d29f2"
      },
      "execution_count": null,
      "outputs": [
        {
          "output_type": "stream",
          "name": "stdout",
          "text": [
            "[1, 2, 4, 6, 8]\n",
            "[1, 2, 4, 6, 8, -1, -2]\n"
          ]
        }
      ]
    },
    {
      "cell_type": "markdown",
      "source": [
        "We can remove elements from lists:\n",
        "\n",
        "\n",
        "*   remove : will remove the first occurence of the specified element\n",
        "*   pop : will remove element in specified position\n",
        "\n"
      ],
      "metadata": {
        "id": "5gQ6ugy0SYjU"
      }
    },
    {
      "cell_type": "code",
      "source": [
        "# Remove elements from lists\n",
        "\n",
        "print(A)\n",
        "A.remove(14)\n",
        "print(A)\n",
        "\n",
        "\n",
        "\n"
      ],
      "metadata": {
        "id": "qfkTbSQeidxu",
        "colab": {
          "base_uri": "https://localhost:8080/",
          "height": 228
        },
        "outputId": "677f2367-e54a-459e-82ec-df77b37761c3"
      },
      "execution_count": null,
      "outputs": [
        {
          "output_type": "stream",
          "name": "stdout",
          "text": [
            "[2, 4, 6, 10, 12, -16, -16, -16, -16, -16, -16, -16]\n"
          ]
        },
        {
          "output_type": "error",
          "ename": "ValueError",
          "evalue": "list.remove(x): x not in list",
          "traceback": [
            "\u001b[0;31m---------------------------------------------------------------------------\u001b[0m",
            "\u001b[0;31mValueError\u001b[0m                                Traceback (most recent call last)",
            "\u001b[0;32m/tmp/ipython-input-2527028904.py\u001b[0m in \u001b[0;36m<cell line: 0>\u001b[0;34m()\u001b[0m\n\u001b[1;32m      2\u001b[0m \u001b[0;34m\u001b[0m\u001b[0m\n\u001b[1;32m      3\u001b[0m \u001b[0mprint\u001b[0m\u001b[0;34m(\u001b[0m\u001b[0mA\u001b[0m\u001b[0;34m)\u001b[0m\u001b[0;34m\u001b[0m\u001b[0;34m\u001b[0m\u001b[0m\n\u001b[0;32m----> 4\u001b[0;31m \u001b[0mA\u001b[0m\u001b[0;34m.\u001b[0m\u001b[0mremove\u001b[0m\u001b[0;34m(\u001b[0m\u001b[0;36m14\u001b[0m\u001b[0;34m)\u001b[0m\u001b[0;34m\u001b[0m\u001b[0;34m\u001b[0m\u001b[0m\n\u001b[0m\u001b[1;32m      5\u001b[0m \u001b[0mprint\u001b[0m\u001b[0;34m(\u001b[0m\u001b[0mA\u001b[0m\u001b[0;34m)\u001b[0m\u001b[0;34m\u001b[0m\u001b[0;34m\u001b[0m\u001b[0m\n\u001b[1;32m      6\u001b[0m \u001b[0;34m\u001b[0m\u001b[0m\n",
            "\u001b[0;31mValueError\u001b[0m: list.remove(x): x not in list"
          ]
        }
      ]
    },
    {
      "cell_type": "code",
      "source": [
        "B = [1,2,3,4,5,6]\n",
        "x = B.pop(2)\n",
        "print(B)\n",
        "print(x)"
      ],
      "metadata": {
        "colab": {
          "base_uri": "https://localhost:8080/"
        },
        "id": "tmrgSe1zeOfZ",
        "outputId": "0e2b24fc-22fd-45bb-bc89-5394f1abed42"
      },
      "execution_count": null,
      "outputs": [
        {
          "output_type": "stream",
          "name": "stdout",
          "text": [
            "[1, 2, 4, 5, 6]\n",
            "3\n"
          ]
        }
      ]
    },
    {
      "cell_type": "markdown",
      "source": [
        "We can make a copy of a list, this is useful when we want to make changes to the list, but also keep the original unchanged.\n",
        "\n",
        "Note that simply **setting something equal to a list does not make a copy**. This is an important point, and a common cause of bugs.\n",
        "\n",
        "If I have a list A, and do:\n",
        "```\n",
        "B = A\n",
        "B[0] = 0\n",
        "```\n",
        "Then this will change the first element of B and the first element of A. This is because B becomes the list A, so B and A are now the same list, any change to one is also a change to the other as they are the same object in the memory.\n",
        "\n",
        "If instead I do:\n",
        "```\n",
        "B = A.copy()\n",
        "B[0] = 0\n",
        "```\n",
        "This will change the first element of B, but leave A as the original. Because B is a copy of A, so it has the same elements, but in the memory they are two different things.\n",
        "\n",
        "Both of these case are useful, and you need to work out which one you want for your specific situation."
      ],
      "metadata": {
        "id": "yEJXz80cTJJV"
      }
    },
    {
      "cell_type": "code",
      "source": [
        "# Change copies of lists\n",
        "\n",
        "A = [1,2,3,4]\n",
        "B = A\n",
        "print(A)\n",
        "print(B)\n",
        "A[0] = 1000\n",
        "print(A)\n",
        "print(B)\n",
        "\n"
      ],
      "metadata": {
        "id": "J26Zqm3KTQp-",
        "colab": {
          "base_uri": "https://localhost:8080/"
        },
        "outputId": "deff4e28-25e1-4898-dc89-bc4f7bfadc60"
      },
      "execution_count": null,
      "outputs": [
        {
          "output_type": "stream",
          "name": "stdout",
          "text": [
            "[1, 2, 3, 4]\n",
            "[1, 2, 3, 4]\n",
            "[1000, 2, 3, 4]\n",
            "[1000, 2, 3, 4]\n"
          ]
        }
      ]
    },
    {
      "cell_type": "code",
      "source": [
        "A = [1,2,3,4]\n",
        "B = A.copy()\n",
        "print(A)\n",
        "print(B)\n",
        "A[0] = 1000\n",
        "print(A)\n",
        "print(B)"
      ],
      "metadata": {
        "colab": {
          "base_uri": "https://localhost:8080/"
        },
        "id": "zO21KV_EfLfS",
        "outputId": "e093c299-ec54-4141-a151-52d654f235ad"
      },
      "execution_count": null,
      "outputs": [
        {
          "output_type": "stream",
          "name": "stdout",
          "text": [
            "[1, 2, 3, 4]\n",
            "[1, 2, 3, 4]\n",
            "[1000, 2, 3, 4]\n",
            "[1, 2, 3, 4]\n"
          ]
        }
      ]
    },
    {
      "cell_type": "markdown",
      "source": [
        "##Tuples"
      ],
      "metadata": {
        "id": "sm4De2KwI0eb"
      }
    },
    {
      "cell_type": "markdown",
      "source": [
        "A tuple is very similar to a list, but the key difference is a that a tuple cannot be changed once created. This is known as an **immutable** type.\n",
        "\n",
        "*   Tuples have an order, so [1,2,3] is not the same as [3,2,1]\n",
        "*   Tuples **cannot** be changed, added to, nor items removed\n",
        "*   Tuples can have duplicated items\n",
        "*   Tuples can have different types within\n",
        "\n",
        "To create a tuple we use `() `or we can convert a list A to a tuple using `tuple(A)`"
      ],
      "metadata": {
        "id": "7C9WrtSfI19R"
      }
    },
    {
      "cell_type": "code",
      "source": [
        "# Create a tuple\n",
        "X = (1.0,2.0,3.0,4.5)\n",
        "print(X)\n",
        "\n"
      ],
      "metadata": {
        "id": "QIRhkqoZKV0e",
        "colab": {
          "base_uri": "https://localhost:8080/"
        },
        "outputId": "2ce101f5-420e-4348-f898-2e4f119f0983"
      },
      "execution_count": null,
      "outputs": [
        {
          "output_type": "stream",
          "name": "stdout",
          "text": [
            "(1.0, 2.0, 3.0, 4.5)\n"
          ]
        }
      ]
    },
    {
      "cell_type": "markdown",
      "source": [
        "If we try and change a tuple we will get an error:"
      ],
      "metadata": {
        "id": "Xw6fbxNiKwDo"
      }
    },
    {
      "cell_type": "code",
      "source": [
        "# Try and change a tuple\n",
        "#X[0] = 1\n",
        "print(X[:3])\n"
      ],
      "metadata": {
        "id": "YnVsPQfYK1qt",
        "colab": {
          "base_uri": "https://localhost:8080/"
        },
        "outputId": "26737386-0d25-4d11-b985-2f6667c34472"
      },
      "execution_count": null,
      "outputs": [
        {
          "output_type": "stream",
          "name": "stdout",
          "text": [
            "(1.0, 2.0, 3.0)\n"
          ]
        }
      ]
    },
    {
      "cell_type": "markdown",
      "source": [
        "You can think of tuples as lists which have been frozen in place, and are now unchangeable."
      ],
      "metadata": {
        "id": "2VX4vXqmL9GI"
      }
    },
    {
      "cell_type": "markdown",
      "source": [
        "##Sets"
      ],
      "metadata": {
        "id": "Utd8xuSsJ2RN"
      }
    },
    {
      "cell_type": "markdown",
      "source": [
        "A set in Python is a programming implementation of the mathematical object set (which we will see this week in Foundations of Pure Mathematics).\n",
        "\n",
        "To create a set we use `{ }`.\n",
        "\n",
        "Some properties of sets are:\n",
        "*   Sets **do not** have an order, so {1,2,3} is not the same as {3,2,1}\n",
        "*   Sets can be changed, added to, and items removed\n",
        "*   Sets **can not** have duplicated items\n",
        "*   Sets can have different types within"
      ],
      "metadata": {
        "id": "wa5nUSSytBgv"
      }
    },
    {
      "cell_type": "code",
      "source": [
        "# Create some sets\n",
        "A = {3,6,9,12}\n",
        "print(A)\n",
        "\n",
        "B = {9,19,9,100,109,19}\n",
        "print(B)\n",
        "\n",
        "C = {1,'1',1.0}\n",
        "print(C)\n"
      ],
      "metadata": {
        "id": "rwCiySKItBDP",
        "colab": {
          "base_uri": "https://localhost:8080/"
        },
        "outputId": "b22777ae-2590-4be8-be7c-caf052404ac8"
      },
      "execution_count": null,
      "outputs": [
        {
          "output_type": "stream",
          "name": "stdout",
          "text": [
            "{9, 3, 12, 6}\n",
            "{9, 19, 100, 109}\n",
            "{'1', 1}\n"
          ]
        }
      ]
    },
    {
      "cell_type": "markdown",
      "source": [
        "It is very simple to check if a set contains an element, and to check for subsets:"
      ],
      "metadata": {
        "id": "FSPVyEP0-HOk"
      }
    },
    {
      "cell_type": "code",
      "source": [
        "# Check set containment\n",
        "\n",
        "a = 1 not in C\n",
        "print(a)\n",
        "\n",
        "print(3 in A)\n",
        "\n",
        "\n",
        "\n"
      ],
      "metadata": {
        "id": "s047z-Le-PAm",
        "colab": {
          "base_uri": "https://localhost:8080/"
        },
        "outputId": "c7e27f47-30dc-4e67-8f54-33704c1b2fe2"
      },
      "execution_count": null,
      "outputs": [
        {
          "output_type": "stream",
          "name": "stdout",
          "text": [
            "False\n",
            "True\n"
          ]
        }
      ]
    },
    {
      "cell_type": "code",
      "source": [
        "A = {1,2,3,4,5}\n",
        "B = {2,5}\n",
        "print(B in A)\n",
        "B.issubset(A)"
      ],
      "metadata": {
        "colab": {
          "base_uri": "https://localhost:8080/"
        },
        "id": "N03p1w_Hh4cE",
        "outputId": "e85febe2-15ba-4b59-d55c-9dbe65033ce8"
      },
      "execution_count": null,
      "outputs": [
        {
          "output_type": "stream",
          "name": "stdout",
          "text": [
            "False\n"
          ]
        },
        {
          "output_type": "execute_result",
          "data": {
            "text/plain": [
              "True"
            ]
          },
          "metadata": {},
          "execution_count": 87
        }
      ]
    },
    {
      "cell_type": "markdown",
      "source": [
        "Python has built in operations to do unions, intersections, set minus (a.k.a set difference)."
      ],
      "metadata": {
        "id": "MIyFbuHl8xmL"
      }
    },
    {
      "cell_type": "code",
      "source": [
        "# Use some of the set operations\n",
        "A = {0,1,2,3,4}\n",
        "B = {-2,-1,0}\n",
        "A.union(B)\n",
        "A.intersection(B)\n",
        "A.difference(B)\n",
        "\n",
        "\n",
        "\n",
        "\n",
        "\n",
        "\n",
        "\n"
      ],
      "metadata": {
        "id": "jI4fIb2h_8Ey",
        "colab": {
          "base_uri": "https://localhost:8080/"
        },
        "outputId": "1b9e3b34-714a-49a3-a6e2-d9e2d5b98436"
      },
      "execution_count": null,
      "outputs": [
        {
          "output_type": "execute_result",
          "data": {
            "text/plain": [
              "{1, 2, 3, 4}"
            ]
          },
          "metadata": {},
          "execution_count": 91
        }
      ]
    },
    {
      "cell_type": "markdown",
      "source": [
        "We can add and remove elements from a set"
      ],
      "metadata": {
        "id": "0__ySlS8BGmX"
      }
    },
    {
      "cell_type": "code",
      "source": [
        "# Adding and removing from sets\n",
        "print(A)\n",
        "A.remove(1)\n",
        "print(A)\n",
        "\n",
        "\n"
      ],
      "metadata": {
        "id": "L56JpF9SBGQw",
        "colab": {
          "base_uri": "https://localhost:8080/"
        },
        "outputId": "e5649afe-ee48-4f0f-da8c-572f22a18996"
      },
      "execution_count": null,
      "outputs": [
        {
          "output_type": "stream",
          "name": "stdout",
          "text": [
            "{0, 1, 2, 3, 4}\n",
            "{0, 2, 3, 4}\n"
          ]
        }
      ]
    },
    {
      "cell_type": "code",
      "source": [
        "A.add(-1)\n",
        "print(A)"
      ],
      "metadata": {
        "colab": {
          "base_uri": "https://localhost:8080/"
        },
        "id": "tTiBN5-CinSV",
        "outputId": "4b5b147f-6a95-4ebb-d11d-e05f0e628058"
      },
      "execution_count": null,
      "outputs": [
        {
          "output_type": "stream",
          "name": "stdout",
          "text": [
            "{0, 2, 3, 4, -1}\n"
          ]
        }
      ]
    },
    {
      "cell_type": "code",
      "source": [
        "A[0]"
      ],
      "metadata": {
        "colab": {
          "base_uri": "https://localhost:8080/",
          "height": 141
        },
        "id": "HP89O7CMivxe",
        "outputId": "3de7a453-27e5-4a12-8374-ab60ca88e644"
      },
      "execution_count": null,
      "outputs": [
        {
          "output_type": "error",
          "ename": "TypeError",
          "evalue": "'set' object is not subscriptable",
          "traceback": [
            "\u001b[0;31m---------------------------------------------------------------------------\u001b[0m",
            "\u001b[0;31mTypeError\u001b[0m                                 Traceback (most recent call last)",
            "\u001b[0;32m/tmp/ipython-input-303350297.py\u001b[0m in \u001b[0;36m<cell line: 0>\u001b[0;34m()\u001b[0m\n\u001b[0;32m----> 1\u001b[0;31m \u001b[0mA\u001b[0m\u001b[0;34m[\u001b[0m\u001b[0;36m0\u001b[0m\u001b[0;34m]\u001b[0m\u001b[0;34m\u001b[0m\u001b[0;34m\u001b[0m\u001b[0m\n\u001b[0m",
            "\u001b[0;31mTypeError\u001b[0m: 'set' object is not subscriptable"
          ]
        }
      ]
    },
    {
      "cell_type": "markdown",
      "source": [
        "We can convert lists into sets:"
      ],
      "metadata": {
        "id": "yalB0mibBVBv"
      }
    },
    {
      "cell_type": "code",
      "source": [
        "# Change a list to a set\n",
        "a = list(A)\n",
        "print(a)\n",
        "\n",
        "W = [2,3,4,3,2]\n",
        "set(W)\n"
      ],
      "metadata": {
        "id": "LHbRwndBBYEe",
        "colab": {
          "base_uri": "https://localhost:8080/"
        },
        "outputId": "39fef929-b9a3-4e17-aa91-9c000952b90b"
      },
      "execution_count": null,
      "outputs": [
        {
          "output_type": "stream",
          "name": "stdout",
          "text": [
            "[0, 2, 3, 4, -1]\n"
          ]
        },
        {
          "output_type": "execute_result",
          "data": {
            "text/plain": [
              "{2, 3, 4}"
            ]
          },
          "metadata": {},
          "execution_count": 97
        }
      ]
    },
    {
      "cell_type": "markdown",
      "source": [
        "We can create the emptyset, but to do this we need to use set(). If we do A={} we actually create a dictionary, which we will see next."
      ],
      "metadata": {
        "id": "QG-otcXtD3RD"
      }
    },
    {
      "cell_type": "code",
      "source": [
        "# Create the emptyset\n",
        "Q = set()\n",
        "T = {}\n",
        "type(T)\n",
        "type(Q)\n",
        "\n",
        "\n",
        "\n"
      ],
      "metadata": {
        "id": "j--1sQ4sEAlb",
        "colab": {
          "base_uri": "https://localhost:8080/"
        },
        "outputId": "3dcf1c18-2e0e-4c52-ac11-ead4c6538363"
      },
      "execution_count": null,
      "outputs": [
        {
          "output_type": "execute_result",
          "data": {
            "text/plain": [
              "set"
            ]
          },
          "metadata": {},
          "execution_count": 102
        }
      ]
    },
    {
      "cell_type": "markdown",
      "source": [
        "There is also frozenset,  an immutable version of set. You can think of them as tuples for sets. We won't go into further detail, but encourage you to have a play."
      ],
      "metadata": {
        "id": "DTTr2I56MHAl"
      }
    },
    {
      "cell_type": "markdown",
      "source": [
        "##Dictionaries (Dict)"
      ],
      "metadata": {
        "id": "NOnwczy4J3kF"
      }
    },
    {
      "cell_type": "markdown",
      "source": [
        "A dictionary is like a mathematical function (something else we will formally define in FoPM). A dictionary takes a \"key\" as an input and returns the \"value\" associated to that key.\n",
        "\n",
        "In a slightly confusing clash of notation, we define a dictionary using `{}` (as we did for sets). But the difference is each entry is a pair, the key and its associated value, the syntax is `D={key1: value1, key2:value2, key3:value3}`\n",
        "\n",
        "Once we have a dictionary D, we access the elements using `[]`. So to determine what value is associated to \"key\" we do `D[key]`"
      ],
      "metadata": {
        "id": "fHRJabaVBoI-"
      }
    },
    {
      "cell_type": "code",
      "source": [
        "# Create and access a dictionary\n",
        "D = {'a':'A', 'b':'B', 'c':'C'}\n",
        "print(D['a'])\n",
        "print(D['c'])\n",
        "print(D['C'])"
      ],
      "metadata": {
        "id": "fvFNz4BnBhOx",
        "colab": {
          "base_uri": "https://localhost:8080/",
          "height": 211
        },
        "outputId": "ab7f1380-7d60-4c6b-b6ce-ea830f7e0837"
      },
      "execution_count": null,
      "outputs": [
        {
          "output_type": "stream",
          "name": "stdout",
          "text": [
            "A\n",
            "C\n"
          ]
        },
        {
          "output_type": "error",
          "ename": "KeyError",
          "evalue": "'C'",
          "traceback": [
            "\u001b[0;31m---------------------------------------------------------------------------\u001b[0m",
            "\u001b[0;31mKeyError\u001b[0m                                  Traceback (most recent call last)",
            "\u001b[0;32m/tmp/ipython-input-3691024225.py\u001b[0m in \u001b[0;36m<cell line: 0>\u001b[0;34m()\u001b[0m\n\u001b[1;32m      3\u001b[0m \u001b[0mprint\u001b[0m\u001b[0;34m(\u001b[0m\u001b[0mD\u001b[0m\u001b[0;34m[\u001b[0m\u001b[0;34m'a'\u001b[0m\u001b[0;34m]\u001b[0m\u001b[0;34m)\u001b[0m\u001b[0;34m\u001b[0m\u001b[0;34m\u001b[0m\u001b[0m\n\u001b[1;32m      4\u001b[0m \u001b[0mprint\u001b[0m\u001b[0;34m(\u001b[0m\u001b[0mD\u001b[0m\u001b[0;34m[\u001b[0m\u001b[0;34m'c'\u001b[0m\u001b[0;34m]\u001b[0m\u001b[0;34m)\u001b[0m\u001b[0;34m\u001b[0m\u001b[0;34m\u001b[0m\u001b[0m\n\u001b[0;32m----> 5\u001b[0;31m \u001b[0mprint\u001b[0m\u001b[0;34m(\u001b[0m\u001b[0mD\u001b[0m\u001b[0;34m[\u001b[0m\u001b[0;34m'C'\u001b[0m\u001b[0;34m]\u001b[0m\u001b[0;34m)\u001b[0m\u001b[0;34m\u001b[0m\u001b[0;34m\u001b[0m\u001b[0m\n\u001b[0m",
            "\u001b[0;31mKeyError\u001b[0m: 'C'"
          ]
        }
      ]
    },
    {
      "cell_type": "code",
      "source": [
        "P = {1:1, 2:4, 3:9, 4:16}\n",
        "P[3]"
      ],
      "metadata": {
        "colab": {
          "base_uri": "https://localhost:8080/"
        },
        "id": "zP5JYmBokDec",
        "outputId": "251a17e7-59bb-4ce4-a1c8-6ebc541c0941"
      },
      "execution_count": null,
      "outputs": [
        {
          "output_type": "execute_result",
          "data": {
            "text/plain": [
              "9"
            ]
          },
          "metadata": {},
          "execution_count": 108
        }
      ]
    },
    {
      "cell_type": "code",
      "source": [
        "Y = {1:'Dave', 2:[]}\n",
        "Y[2]"
      ],
      "metadata": {
        "colab": {
          "base_uri": "https://localhost:8080/"
        },
        "id": "fy7Ki5ACkLIz",
        "outputId": "d8e4bf1d-4c19-4b62-e5fb-6529f33421e4"
      },
      "execution_count": null,
      "outputs": [
        {
          "output_type": "execute_result",
          "data": {
            "text/plain": [
              "[]"
            ]
          },
          "metadata": {},
          "execution_count": 113
        }
      ]
    },
    {
      "cell_type": "code",
      "source": [
        "W = {(1,2):3, (3,4):7}\n",
        "W[(1,2)]"
      ],
      "metadata": {
        "colab": {
          "base_uri": "https://localhost:8080/"
        },
        "id": "lGle1w0UkbA7",
        "outputId": "a6101521-8138-45a1-e874-8018f8d3e991"
      },
      "execution_count": null,
      "outputs": [
        {
          "output_type": "execute_result",
          "data": {
            "text/plain": [
              "3"
            ]
          },
          "metadata": {},
          "execution_count": 116
        }
      ]
    },
    {
      "cell_type": "markdown",
      "source": [
        "We can add, change and remove elements of the dictionary:\n",
        "\n"
      ],
      "metadata": {
        "id": "5h7YsZvdEktX"
      }
    },
    {
      "cell_type": "code",
      "source": [
        "# Altering a dictionary\n",
        "D = {1:3, 5:10, 7:14}\n",
        "print(D[1])\n",
        "D[1] = 2\n",
        "print(D[1])\n",
        "D[9] = 18\n",
        "print(D)\n"
      ],
      "metadata": {
        "id": "DljxLlLeEoJa",
        "colab": {
          "base_uri": "https://localhost:8080/"
        },
        "outputId": "8ecbfbfc-6e4a-42fc-973f-9e52722ef3f9"
      },
      "execution_count": null,
      "outputs": [
        {
          "output_type": "stream",
          "name": "stdout",
          "text": [
            "3\n",
            "2\n",
            "{1: 2, 5: 10, 7: 14, 9: 18}\n"
          ]
        }
      ]
    },
    {
      "cell_type": "markdown",
      "source": [
        "Another way to create a dictionary, is to start with an empty dictionary and assign each key individually:"
      ],
      "metadata": {
        "id": "_vMqNFoVDt5g"
      }
    },
    {
      "cell_type": "code",
      "source": [
        "# Populate a dictionary\n",
        "D = {}\n",
        "D[1] = 2\n",
        "D[3] = 6\n",
        "D[5] = 10\n",
        "print(D)\n",
        "\n",
        "\n",
        "\n",
        "\n"
      ],
      "metadata": {
        "id": "PS7gl7TzDtp7",
        "colab": {
          "base_uri": "https://localhost:8080/"
        },
        "outputId": "5a7342bc-790a-41b6-b1a3-e5f8d56d6b9e"
      },
      "execution_count": null,
      "outputs": [
        {
          "output_type": "stream",
          "name": "stdout",
          "text": [
            "{1: 2, 3: 6, 5: 10}\n"
          ]
        }
      ]
    },
    {
      "cell_type": "markdown",
      "source": [
        "Dictionary values can be of any type. But Dictionary keys must be an immutable type, so we cannot have lists or sets as dictionary keys (nor dictionaries themselves), but all other types we have seen so far will work. The reason for this is that if we used a list as a key, we could then change that list, and this creates confusion for the dictionary.\n",
        "\n",
        "If you want to use a list or set as a key then you should use tuple or frozenset instead."
      ],
      "metadata": {
        "id": "FLaJZhOnGJGs"
      }
    },
    {
      "cell_type": "code",
      "source": [
        "# Error example when key is mutable\n",
        "\n",
        "\n",
        "\n"
      ],
      "metadata": {
        "id": "LG0TWHaoNHPt"
      },
      "execution_count": null,
      "outputs": []
    },
    {
      "cell_type": "markdown",
      "source": [
        "# Lecture 4: Conditional and Loops"
      ],
      "metadata": {
        "id": "RG9IEjvV_puB"
      }
    },
    {
      "cell_type": "markdown",
      "source": [
        "IMPORTANT: Indentations play a key role in Python. Indents are used to dictate what is part of a loop or if statement (and other things like functions).\n",
        "\n",
        "Indentations should be made up of 4 spaces. Other things can actually be used, indcluding tabs, and any number of spaces. But the important thing is that it must be the same throughout your code. You cannot use tabs at one point and then 2 spaces at another point (IDE's often have built in things to help with this).\n",
        "\n",
        "The recommendation is to always use 4 spaces, this is the most common approach, and least likely to create bugs."
      ],
      "metadata": {
        "id": "HdcsYQdaYByp"
      }
    },
    {
      "cell_type": "markdown",
      "source": [
        "## Conditionals\n"
      ],
      "metadata": {
        "id": "wFayZrVYFgj4"
      }
    },
    {
      "cell_type": "markdown",
      "source": [
        "###**if**\n",
        "A conditional statement allows us to different things depending on some criteria. The main conditional statement is `if`.\n",
        "\n",
        "We can use `if` to only do something when our statement is true:"
      ],
      "metadata": {
        "id": "zFJ8n0uHCppq"
      }
    },
    {
      "cell_type": "code",
      "source": [
        "# An if statement\n",
        "\n",
        "\n",
        "\n",
        "\n"
      ],
      "metadata": {
        "id": "QO2bHf2UDfLb"
      },
      "execution_count": null,
      "outputs": []
    },
    {
      "cell_type": "markdown",
      "source": [
        "Note the syntax:\n",
        "`if <some boolean statement>:`\n",
        "then the next line must be indented.\n",
        "Anything included in the indented block falls within the if statement.\n",
        "\n"
      ],
      "metadata": {
        "id": "xfSP5kpLDoQV"
      }
    },
    {
      "cell_type": "code",
      "source": [
        "# A bigger if statement\n",
        "\n",
        "\n",
        "\n",
        "\n",
        "\n",
        "\n"
      ],
      "metadata": {
        "id": "5PJq5pD1EKGN"
      },
      "execution_count": null,
      "outputs": []
    },
    {
      "cell_type": "markdown",
      "source": [
        "###**else**\n",
        "\n",
        "Sometimes we want one of two things to happen, if our statement is true do this, if it is false do that. For this we use if/else:"
      ],
      "metadata": {
        "id": "AsFBjxYtEwKx"
      }
    },
    {
      "cell_type": "code",
      "source": [
        "# An if-else statement\n",
        "\n",
        "\n",
        "\n",
        "\n",
        "\n"
      ],
      "metadata": {
        "id": "xgNzY9YPE3P9"
      },
      "execution_count": null,
      "outputs": []
    },
    {
      "cell_type": "markdown",
      "source": [
        "###**elif**\n",
        "Sometimes we have more than two possibilites, for we use elif, which stand for *else if*:"
      ],
      "metadata": {
        "id": "fkTduHWtFLXr"
      }
    },
    {
      "cell_type": "code",
      "source": [
        "# An elif statement\n",
        "\n",
        "\n",
        "\n",
        "\n",
        "\n",
        "\n"
      ],
      "metadata": {
        "id": "YRTUyuciFrtH"
      },
      "execution_count": null,
      "outputs": []
    },
    {
      "cell_type": "markdown",
      "source": [
        "The code will work its way down the elif statements, it will will only execute elif if all preceeding conditions have been false, and this condition is true."
      ],
      "metadata": {
        "id": "gBvv2AoEF8If"
      }
    },
    {
      "cell_type": "code",
      "source": [
        "# Another elif statement\n",
        "\n",
        "\n",
        "\n",
        "\n",
        "\n",
        "\n",
        "\n",
        "\n",
        "\n"
      ],
      "metadata": {
        "id": "WU91lnSqGKsG"
      },
      "execution_count": null,
      "outputs": []
    },
    {
      "cell_type": "markdown",
      "source": [
        "## Loops"
      ],
      "metadata": {
        "id": "JYMyq9i4I3ve"
      }
    },
    {
      "cell_type": "markdown",
      "source": [
        "Loops are one of the most important things in coding, they allow us to repeatedly do stuff. There are two main loops `for` and `while`."
      ],
      "metadata": {
        "id": "pWd3E9G7OYiw"
      }
    },
    {
      "cell_type": "markdown",
      "source": [
        "###**For**"
      ],
      "metadata": {
        "id": "vhJAZr1cI5iX"
      }
    },
    {
      "cell_type": "markdown",
      "source": [
        "A `for` loop will execute a piece of code for every specified item, usually all things in a list, tuple or set (or something called an iterator).\n",
        "\n",
        "To define a `for` loop we need two things, firstly all the things we want to consider and secondly what we want the code to do each time. The syntax for a `for` loop is:\n",
        "\n",
        "\n",
        "```\n",
        "for i in some_things:\n",
        "    execute_this_code\n",
        "```\n",
        "The i used above is called the index, and will contain a different element from the some_things each iteration of the code.\n",
        "\n",
        "Note the indentation, the `for` loop will evaluate all code that follows it until it finds the next unindented line.\n",
        "\n",
        "\n"
      ],
      "metadata": {
        "id": "7nb1DIwfOlk4"
      }
    },
    {
      "cell_type": "code",
      "source": [
        "# A for loop\n",
        "\n",
        "\n"
      ],
      "metadata": {
        "id": "MIxsBRH3ToQ7"
      },
      "execution_count": null,
      "outputs": []
    },
    {
      "cell_type": "markdown",
      "source": [
        "Note that if we use a list, the loop will go through the elements in the order they are listed (as above), but if we use a set (which does not have an order) the loop will work through in whichever way it chooses."
      ],
      "metadata": {
        "id": "RpQAJsykYP8i"
      }
    },
    {
      "cell_type": "code",
      "source": [
        "# for loop through a set\n",
        "\n",
        "\n",
        "\n"
      ],
      "metadata": {
        "id": "X4toz9JAUUv6"
      },
      "execution_count": null,
      "outputs": []
    },
    {
      "cell_type": "markdown",
      "source": [
        "When we want to loop through all the number from a to b, we can use `range`. Using `for i in range(a,b)` will loop through the numbers $$a,a+1,...,b-1$$ (Note this does not include b itself).\n",
        "\n",
        "And if we want the numbers 0 to n-1 we can just use for `i in range(n)`"
      ],
      "metadata": {
        "id": "w0fALHjMYcpI"
      }
    },
    {
      "cell_type": "code",
      "source": [
        "# for loop using range\n",
        "\n",
        "\n"
      ],
      "metadata": {
        "id": "sq5kg5oOY4Op"
      },
      "execution_count": null,
      "outputs": []
    },
    {
      "cell_type": "markdown",
      "source": [
        "The code part of the `for` loop can have as many lines are you need within it, for example:"
      ],
      "metadata": {
        "id": "mRcrhJqsZGp7"
      }
    },
    {
      "cell_type": "code",
      "source": [
        "# A bigger for loop\n",
        "\n",
        "\n",
        "\n"
      ],
      "metadata": {
        "id": "whSJabUEY8TZ"
      },
      "execution_count": null,
      "outputs": []
    },
    {
      "cell_type": "markdown",
      "source": [
        "We can put `for` loops within `for` loops (sometimes called nested loops), but make sure you use a different letter or name for the index:"
      ],
      "metadata": {
        "id": "Kr14j_ziZDvJ"
      }
    },
    {
      "cell_type": "code",
      "source": [
        "# Nested for loops\n",
        "\n",
        "\n",
        "\n",
        "\n",
        "\n"
      ],
      "metadata": {
        "id": "rAhQTrB9ZfQI"
      },
      "execution_count": null,
      "outputs": []
    },
    {
      "cell_type": "markdown",
      "source": [
        "We can put `if` statements within for loops:"
      ],
      "metadata": {
        "id": "OVN2t1otZ6ah"
      }
    },
    {
      "cell_type": "code",
      "source": [
        "# if statement in for loop\n",
        "\n",
        "\n",
        "\n",
        "\n",
        "\n"
      ],
      "metadata": {
        "id": "ULPZIvA1Z_Vd"
      },
      "execution_count": null,
      "outputs": []
    },
    {
      "cell_type": "markdown",
      "source": [
        "In some cases you might want to finish a `for` loop early, for this you can use the `break`command"
      ],
      "metadata": {
        "id": "ZZtwvW-2bfNa"
      }
    },
    {
      "cell_type": "code",
      "source": [
        "# break a for loop\n",
        "\n",
        "\n",
        "\n",
        "\n"
      ],
      "metadata": {
        "id": "Ns_LoJq7bn-K"
      },
      "execution_count": null,
      "outputs": []
    },
    {
      "cell_type": "markdown",
      "source": [
        "However, the above code would actually be better as a while loop."
      ],
      "metadata": {
        "id": "9CUA2q9-bzuG"
      }
    },
    {
      "cell_type": "markdown",
      "source": [
        "We've seen that we can populate lists, sets and dictionaries using for loops, for example:"
      ],
      "metadata": {
        "id": "kNiMBEquBf7Z"
      }
    },
    {
      "cell_type": "code",
      "source": [
        "# Created empty list, then add to it using a for loop\n",
        "\n",
        "\n",
        "\n",
        "\n"
      ],
      "metadata": {
        "id": "q8nlG_86BfNo"
      },
      "execution_count": null,
      "outputs": []
    },
    {
      "cell_type": "markdown",
      "source": [
        "But we can populate a list in a more condensed way using loops via the syntax:\n",
        "\n",
        "```\n",
        "a_list = [add_this_thing for i in some_list]\n",
        "```\n",
        "We can do the same by replacing lists with sets of dictionaries, and we can use while loops instead of for loops. Here are some examples:"
      ],
      "metadata": {
        "id": "_cLWbf6VBnHd"
      }
    },
    {
      "cell_type": "code",
      "source": [
        "# Create listd with for loop\n",
        "\n",
        "\n",
        "\n"
      ],
      "metadata": {
        "id": "N9ydL9DxBruB"
      },
      "execution_count": null,
      "outputs": []
    },
    {
      "cell_type": "markdown",
      "source": [
        "###**While**"
      ],
      "metadata": {
        "id": "lTdPDB8_J64O"
      }
    },
    {
      "cell_type": "markdown",
      "source": [
        "A `while` loop is a loop which continues while some condition is true, it has the syntax:\n",
        "\n",
        "```\n",
        "while some_Boolean_statement:\n",
        "    execute_this_code\n",
        "```\n",
        "\n",
        "So the condition has to be something that is true or false (i.e. a Boolean) and the code will continue until the statement is false.\n",
        "\n"
      ],
      "metadata": {
        "id": "iz0Nf5_7b5F_"
      }
    },
    {
      "cell_type": "code",
      "source": [
        "# A while loop\n",
        "\n",
        "\n",
        "\n"
      ],
      "metadata": {
        "id": "1KJ-4rXxdDVc"
      },
      "execution_count": null,
      "outputs": []
    },
    {
      "cell_type": "markdown",
      "source": [
        "Note that a `while` loop will not automatically change any values (unlike the for loop where the index changes each time), so unless you change something in each iteration the while loop will continue infinitely doing the same thing everytime.\n",
        "\n",
        "While loops that do not terminate are a common bug, if the boolean statement remains true your code will get stuck repeating that loop forever.\n",
        "\n",
        "Infinite loops are a common bug, and one that is difficult for the computer to detect for you (although some IDE's do have tools that will try and detect them for you)."
      ],
      "metadata": {
        "id": "Se82e5QKdMuX"
      }
    },
    {
      "cell_type": "code",
      "source": [
        "# An infinite while loop\n",
        "\n",
        "\n",
        "\n"
      ],
      "metadata": {
        "id": "h45katgovz1B"
      },
      "execution_count": null,
      "outputs": []
    },
    {
      "cell_type": "markdown",
      "source": [
        "An alternative way to use the while loop is to create a boolean, and then turn it to false when we want the loop to terminate"
      ],
      "metadata": {
        "id": "1an6yiCOeNZ3"
      }
    },
    {
      "cell_type": "code",
      "source": [
        "# while loop which alters boolean to finish\n",
        "\n",
        "\n",
        "\n",
        "\n",
        "\n"
      ],
      "metadata": {
        "id": "tEWARGlN-klU"
      },
      "execution_count": null,
      "outputs": []
    },
    {
      "cell_type": "markdown",
      "source": [
        "##Exceptions\n",
        "Sometimes the coding we write does not work. We have seen above that when this happens Python just stops, and does not execute anything afterwards. However, sometimes we can predict things that might break the program, and create \"exceptions\" for these cases, which is where we tell the code that if this doesn't work do this instead. We do this using `try` and `except`. For example:\n",
        "    "
      ],
      "metadata": {
        "id": "O1ahiSd53loO"
      }
    },
    {
      "cell_type": "code",
      "source": [
        "# Using an exception\n",
        "\n",
        "\n",
        "\n",
        "\n",
        "\n"
      ],
      "metadata": {
        "id": "BJpN1DJYx50K"
      },
      "execution_count": null,
      "outputs": []
    },
    {
      "cell_type": "markdown",
      "source": [
        "We won't go into much further detail on exceptions, but know they exist and are useful."
      ],
      "metadata": {
        "id": "Y3j2pdJJ45vF"
      }
    },
    {
      "cell_type": "markdown",
      "source": [
        "#Lecture 5: Functions and Objects"
      ],
      "metadata": {
        "id": "hZ5qeOxLKI49"
      }
    },
    {
      "cell_type": "markdown",
      "source": [
        "##Functions"
      ],
      "metadata": {
        "id": "5dVf-3WbKObQ"
      }
    },
    {
      "cell_type": "markdown",
      "source": [
        "Often we want to reuse the same bit of code, the best way to do this is using *functions*.\n",
        "\n",
        "A function will take an input (which can be nothing), run some code, and then may or may not return an output.\n",
        "\n",
        "A function will not be executed when the computer encounters it, it will only be executed when it is subsequently called.\n",
        "\n",
        "The syntax for defining a function is:\n",
        "\n",
        "```\n",
        "def function_name(input1, input2):\n",
        "    code_to_be_executed\n",
        "    return output\n",
        "```\n",
        "The function can take any number of inputs, each input is separated by a comma. We can have no inputs, for this we just put nothing between the brackets i.e. ``def function_name()``.\n"
      ],
      "metadata": {
        "id": "4umyuMqVH_4s"
      }
    },
    {
      "cell_type": "code",
      "source": [
        "# define a function for computing f(x)=x^2+2x-5\n",
        "\n",
        "\n"
      ],
      "metadata": {
        "id": "v_i4ubMAMT5v"
      },
      "execution_count": null,
      "outputs": []
    },
    {
      "cell_type": "code",
      "source": [
        "# run the function\n",
        "\n"
      ],
      "metadata": {
        "id": "5FJw0_riOwgj"
      },
      "execution_count": null,
      "outputs": []
    },
    {
      "cell_type": "markdown",
      "source": [
        "Note that when running the code where the function is defined, nothing happens (at least nothing we see). It is not until we call the function afterwards that we get an output."
      ],
      "metadata": {
        "id": "F-8NGPK4NzKl"
      }
    },
    {
      "cell_type": "markdown",
      "source": [
        "Note the importance of the indentation, all the code that is indented will be executed.\n",
        "\n",
        "Within a function we can use if statements and loops.\n",
        "\n",
        "Here are a few more examples:"
      ],
      "metadata": {
        "id": "YiCkYqEDMuGP"
      }
    },
    {
      "cell_type": "code",
      "source": [
        "#a function with no input and no output\n",
        "\n",
        "\n"
      ],
      "metadata": {
        "id": "BisTSDcXTI13"
      },
      "execution_count": null,
      "outputs": []
    },
    {
      "cell_type": "code",
      "source": [
        "#a function with multiple inputs, where we specify the coefficients of the quadratic\n",
        "\n",
        "\n",
        "\n"
      ],
      "metadata": {
        "id": "87qThvalQD-c"
      },
      "execution_count": null,
      "outputs": []
    },
    {
      "cell_type": "markdown",
      "source": [
        "Note the difference between the function printing and the function returning an output. Something that is printed appears on your screen, but then the computer forgets it. Something that is returned can be stored as a variable, and can then be used by the computer.\n",
        "\n",
        "A function can have only one return statement, but within that statement it can return multiple values. One simple way is to return a list or tuple which contains all the values you wish to return. You can also return multiple items separated by commas, this will actually just return a tuple.\n"
      ],
      "metadata": {
        "id": "1U0Bz8jzWXJv"
      }
    },
    {
      "cell_type": "code",
      "source": [
        "# A function which return all multiples of 4 between a and b\n",
        "\n",
        "\n",
        "\n",
        "\n"
      ],
      "metadata": {
        "id": "kY4RZBhlYXl5"
      },
      "execution_count": null,
      "outputs": []
    },
    {
      "cell_type": "markdown",
      "source": [
        "We can create functions with default arguments. This is a function where one (or more) of the inputs has a default value, and if no value is inputted the default is used, but if you input a value then your inputted value is used."
      ],
      "metadata": {
        "id": "iisOd--6aQFv"
      }
    },
    {
      "cell_type": "code",
      "source": [
        "# A function that returns all multiples of x between a and b, where by default x is 4\n",
        "\n",
        "\n",
        "\n",
        "\n",
        "\n"
      ],
      "metadata": {
        "id": "4sj1e7Yfa-Sp"
      },
      "execution_count": null,
      "outputs": []
    },
    {
      "cell_type": "markdown",
      "source": [
        "##Objects"
      ],
      "metadata": {
        "id": "45a786yhKPmu"
      }
    },
    {
      "cell_type": "markdown",
      "source": [
        "Python is an Object oriented programming (OOP) language (as are many other popular modern languages like C++ and Java). An Object is essentially a collection of data and functions, which can be manipulated. Examples of non OOP languages including C and Haskell.\n",
        "\n",
        "To create an Object in Python, first we create a Class. A Class is a template for an object, it tells is what bits of data and what functions will be in the Object.\n",
        "\n",
        "An Object is normally something of which you are likely to have multiple instances, all with similar properties. For example, a patient, and for each patient you will have a collection of data such as age, name, address, etc. In this example you would have a patient Class, and then each patient is an Object.\n",
        "\n",
        "Later in this module we will see mathematical objects which are represented as python objects, such as graphs.\n",
        "\n",
        "The syntax for creating a Class is:\n",
        "\n",
        "\n",
        "```\n",
        "class MyClass:\n",
        "    data1 = 2\n",
        "    data2 = \"pineapple\"\n",
        "```\n",
        "\n",
        "Then to create an Object of that Class we do:\n",
        "\n",
        "```\n",
        "first_object = MyClass()\n",
        "```\n",
        "\n",
        "We are not going to use objects too much in this module, but some of the packages we will look at next will utilise objects. One of the key points to take away is that given an object you can access variables and functions that are part of the class in the following way:\n",
        "\n",
        "\n",
        "```\n",
        "first_object.data1\n",
        "```\n",
        "\n"
      ],
      "metadata": {
        "id": "Y0glgeu-bo9f"
      }
    },
    {
      "cell_type": "code",
      "source": [
        "# A Class and Object example\n",
        "\n",
        "\n",
        "\n",
        "\n",
        "\n"
      ],
      "metadata": {
        "id": "WfRiJFquQpqb"
      },
      "execution_count": null,
      "outputs": []
    },
    {
      "cell_type": "markdown",
      "source": [
        "#Lecture 6: Packages"
      ],
      "metadata": {
        "id": "FqDisUEOKRnr"
      }
    },
    {
      "cell_type": "markdown",
      "source": [
        "One of the best things about Python is that people have already written so much code, and made it freely available for you to use.\n",
        "\n",
        "Python by default comes with loads of installed packages available for you to use. Moreover, Python has a package repository called PyPi (https://pypi.org/), which hosts over 500,000 libraries filled with code that do a variety of different things. Ranging from extremely useful (some of which we will look at below) to downright useless (see the antigravity package)."
      ],
      "metadata": {
        "id": "uioHfx13R9jk"
      }
    },
    {
      "cell_type": "markdown",
      "source": [
        "##Installing and loading packages"
      ],
      "metadata": {
        "id": "Wgp4EStIKU02"
      }
    },
    {
      "cell_type": "markdown",
      "source": [
        "If a package is installed, we can load it into python using the command:\n",
        "```\n",
        "import package_name\n",
        "```\n"
      ],
      "metadata": {
        "id": "OB0gL3f7UL5Z"
      }
    },
    {
      "cell_type": "code",
      "source": [
        "# Load some packages\n",
        "\n",
        "\n",
        "\n",
        "\n"
      ],
      "metadata": {
        "id": "xEv9QhlCUK5m"
      },
      "execution_count": null,
      "outputs": []
    },
    {
      "cell_type": "markdown",
      "source": [
        "Packages can be thought of as a collection of useful functions and classes. There are packages for plotting graphs, doing data science, manipulating files, etc.\n",
        "\n",
        "Almost every package comes with documentation. It is important to look at the documentation to work out how to use the package. The documentation will tell you what functions can be used and how to use them. (Quality of documentation varies massively, but the large packages we will use all have very good documentation).\n",
        "\n",
        "We will briefly introduce a few of the main packages here, and how to use them. But we will expand on these and other packages as we progress through the rest of the module."
      ],
      "metadata": {
        "id": "0N8TAzNiXBSo"
      }
    },
    {
      "cell_type": "markdown",
      "source": [
        "If a package is not yet installed then we must install it first. There are a few ways to install python packages, and it depends what operating system you are using. Google colab has most of the packages we will need already, so we do not need to worry about this."
      ],
      "metadata": {
        "id": "bOMh7guE2S6f"
      }
    },
    {
      "cell_type": "markdown",
      "source": [
        "**IF YOU ONLY INTEND TO USE COLAB YOU CAN IGNORE THE TEXT BETWEEN THE LINES BELOW.**\n",
        "\n",
        "******************************************************************\n",
        "If you are using a personal computer then you will need to install this packages. If you are using a university computer you may need install packages.\n",
        "\n",
        "One way to install a package is using pip, open the terminal in whatever OS you are using and to install a package type:\n",
        "\n",
        "\n",
        "```\n",
        "pip install package_name\n",
        "```\n",
        "\n",
        "pip will install the package on the computer, so that any subsequent users of python will also be able to use it. On your personal computer this is general fine, though it can cause problems if you have lots of packages, because they don't always play nice.\n",
        "\n",
        "But on shared computers you might not be allowed to install on the computer, for this we can use conda and virtualenv. These work by creating \"work environments\" where you install the packages you want to use.\n",
        "\n",
        "To create a virtual environment do:\n",
        "\n",
        "\n",
        "```\n",
        "python -m venv env_name\n",
        "```\n",
        "Then to activate that environment you can do\n",
        "\n",
        "```\n",
        "source env_name/bin/activate\n",
        "```\n",
        "\n",
        "You will now be in the environment and can install packages with pip as above.\n",
        "******************************************************************\n",
        "\n"
      ],
      "metadata": {
        "id": "fzvivdIWUysZ"
      }
    },
    {
      "cell_type": "markdown",
      "source": [
        "## Math"
      ],
      "metadata": {
        "id": "C0iAqyspZCyk"
      }
    },
    {
      "cell_type": "markdown",
      "source": [
        "To introduce some of the basic concepts of packages let us consider the math package. This contains loads of mathematical functions. The documentation is here: https://docs.python.org/3/library/math.html\n",
        "\n",
        "First we must import the package:"
      ],
      "metadata": {
        "id": "AeZ8ArePZHQG"
      }
    },
    {
      "cell_type": "code",
      "source": [
        "# import the math package\n",
        "\n"
      ],
      "metadata": {
        "id": "CKAKQMv5ZXDB"
      },
      "execution_count": null,
      "outputs": []
    },
    {
      "cell_type": "markdown",
      "source": [
        "Once we have import the package let us try and use the square root function. To access a function we put the name of the package, then a fullstop, then the function we want, for example:"
      ],
      "metadata": {
        "id": "Xkudl9fcZZlm"
      }
    },
    {
      "cell_type": "code",
      "source": [
        "# Use the square root function\n",
        "\n"
      ],
      "metadata": {
        "id": "9ig7b7GIZ9j1"
      },
      "execution_count": null,
      "outputs": []
    },
    {
      "cell_type": "markdown",
      "source": [
        "The math package also contains some useful mathematical constants:"
      ],
      "metadata": {
        "id": "1EIwBWTWaJku"
      }
    },
    {
      "cell_type": "code",
      "source": [
        "# Print some mathematical constants\n",
        "\n",
        "\n",
        "\n"
      ],
      "metadata": {
        "id": "Hj3Ak2yUaHhE"
      },
      "execution_count": null,
      "outputs": []
    },
    {
      "cell_type": "markdown",
      "source": [
        "Sometimes we just want to import a single function, without the whole package. This has two advantages, 1) we do not have to prepend the package name everytime and 2) some packages can be quite large and contain things we do not need, so it is better to just get what we need."
      ],
      "metadata": {
        "id": "Uf_79FuHadQZ"
      }
    },
    {
      "cell_type": "code",
      "source": [
        "# import the cosine function\n",
        "\n"
      ],
      "metadata": {
        "id": "tFgD2oeDas8x"
      },
      "execution_count": null,
      "outputs": []
    },
    {
      "cell_type": "markdown",
      "source": [
        "##NumPy"
      ],
      "metadata": {
        "id": "Xw8wCoCMKatG"
      }
    },
    {
      "cell_type": "markdown",
      "source": [
        "NumPy is the fundamental package for scientific computing in Python. It contains code for linear algebra (matrices and vectors), mathematical logic, randomisation, and loads of other things.\n",
        "\n",
        "The documentation for NumPy is here: https://numpy.org/doc/stable/index.html\n",
        "\n",
        "Sometimes when importing packages we use a shorthand name, to avoid writing the full package name many times, for example the convention for importing numpy is:"
      ],
      "metadata": {
        "id": "6upy7HzxYTh0"
      }
    },
    {
      "cell_type": "code",
      "source": [
        "# Load the numpy package\n",
        "\n"
      ],
      "metadata": {
        "id": "7H1ttZd8bhPM"
      },
      "execution_count": null,
      "outputs": []
    },
    {
      "cell_type": "markdown",
      "source": [
        "One of the key things that NumPy introduces is arrays. These behave similarly to Python lists. But they have advantages over lists, computations on arrays are more efficient, arrays are more memory efficient, arrays can be more than 1-dimensional, and there are many useful functions implemented for them.\n",
        "\n",
        "We create an array using the syntax:\n",
        "\n",
        "```\n",
        "np.array([1,2,3,4])\n",
        "```\n",
        "\n"
      ],
      "metadata": {
        "id": "IiaeC9Ukbnob"
      }
    },
    {
      "cell_type": "code",
      "source": [
        "# One dimensional array A\n",
        "\n",
        "\n"
      ],
      "metadata": {
        "id": "unHoQVPIb1ls"
      },
      "execution_count": null,
      "outputs": []
    },
    {
      "cell_type": "markdown",
      "source": [
        "A two dimensional array is essentially a matrix, and we can make higher dimensional arrays as well (known in mathematics as tensors)."
      ],
      "metadata": {
        "id": "-cMXCOdIcSI5"
      }
    },
    {
      "cell_type": "code",
      "source": [
        "# Two dimensional array B\n",
        "\n",
        "\n",
        "\n"
      ],
      "metadata": {
        "id": "pM7iHqXHcaP0"
      },
      "execution_count": null,
      "outputs": []
    },
    {
      "cell_type": "code",
      "source": [
        "# Three dimensional array C\n",
        "\n",
        "\n"
      ],
      "metadata": {
        "id": "AEbwtv2RdMrj"
      },
      "execution_count": null,
      "outputs": []
    },
    {
      "cell_type": "markdown",
      "source": [
        "Arrays can be added to and manipulated in a similar way as lists, to access the i'th element of A we do `A[i]`.\n",
        "\n",
        "If the array is two dimensional, then we access the i,j'th entry using `B[i,j]`, and similarly for higher dimensions."
      ],
      "metadata": {
        "id": "X_o2ycQddX7p"
      }
    },
    {
      "cell_type": "code",
      "source": [
        "# Access and change elements of B\n",
        "\n",
        "\n",
        "\n"
      ],
      "metadata": {
        "id": "eJS8J2N0dqp6"
      },
      "execution_count": null,
      "outputs": []
    },
    {
      "cell_type": "markdown",
      "source": [
        "Two common ways to create an array, is to start with a list and convert it to an array, or to create an array of all zeros (of the required shape) and then enter the values."
      ],
      "metadata": {
        "id": "VX8MIMmpd0dn"
      }
    },
    {
      "cell_type": "code",
      "source": [
        "# Convert list to array\n",
        "\n",
        "\n",
        "\n",
        "\n"
      ],
      "metadata": {
        "id": "aPhFEXBCd_nJ"
      },
      "execution_count": null,
      "outputs": []
    },
    {
      "cell_type": "code",
      "source": [
        "# Create array of zeroes and populate\n",
        "\n",
        "\n",
        "\n",
        "\n"
      ],
      "metadata": {
        "id": "Z79TLl8DeIMI"
      },
      "execution_count": null,
      "outputs": []
    },
    {
      "cell_type": "markdown",
      "source": [
        "We can take single rows and columns from arrays (this is called slicing), to get the i'th row of X we do\n",
        "```\n",
        "X[i,:]\n",
        "```\n",
        " the : tells use to take everything in that row. We can do `X[:,i]` to get the i'th column."
      ],
      "metadata": {
        "id": "3TBz9HgMeVnx"
      }
    },
    {
      "cell_type": "code",
      "source": [
        "# Take some slices of X\n",
        "\n",
        "\n"
      ],
      "metadata": {
        "id": "5Vzjhyo5esks"
      },
      "execution_count": null,
      "outputs": []
    },
    {
      "cell_type": "markdown",
      "source": [
        "NumPy has loads of other useful features that we will explore more later in the module."
      ],
      "metadata": {
        "id": "Z75kLG11fW2j"
      }
    },
    {
      "cell_type": "markdown",
      "source": [
        "##Matplotlib"
      ],
      "metadata": {
        "id": "ejqzfq7biACz"
      }
    },
    {
      "cell_type": "markdown",
      "source": [
        "Matplotlib is the main python package for making plots of graphs (there are other packages such as seaborn, but matplotlib is the most widely used).\n",
        "\n",
        "Matplotlib is big, and can create some amazing visualisations, we do not have time to explore it fully. There are loads of tutorials, videos and examples on the internet I encourage you to explore. Here we will just introduce a few simple examples:"
      ],
      "metadata": {
        "id": "0gFmS3ffiAwD"
      }
    },
    {
      "cell_type": "code",
      "source": [
        "# Import the package\n",
        "\n"
      ],
      "metadata": {
        "id": "kGYoOW_-jNwQ"
      },
      "execution_count": null,
      "outputs": []
    },
    {
      "cell_type": "code",
      "source": [
        "# A simple plot\n",
        "\n",
        "\n"
      ],
      "metadata": {
        "id": "uQh8K8ZkidzP"
      },
      "execution_count": null,
      "outputs": []
    },
    {
      "cell_type": "code",
      "source": [
        "# A plot with points rather than a line, by adding 'o'\n",
        "\n",
        "\n"
      ],
      "metadata": {
        "id": "Aw9-SWBZjst0"
      },
      "execution_count": null,
      "outputs": []
    },
    {
      "cell_type": "code",
      "source": [
        "# A simple bar chart\n",
        "\n",
        "\n"
      ],
      "metadata": {
        "id": "f0EAcJ1li8k9"
      },
      "execution_count": null,
      "outputs": []
    },
    {
      "cell_type": "code",
      "source": [
        "# Add some labels\n",
        "\n",
        "\n",
        "\n",
        "\n",
        "\n"
      ],
      "metadata": {
        "id": "rj0Q4hWojZmL"
      },
      "execution_count": null,
      "outputs": []
    },
    {
      "cell_type": "markdown",
      "source": [
        "##Networkx"
      ],
      "metadata": {
        "id": "ODnf5xGhKl8g"
      }
    },
    {
      "cell_type": "markdown",
      "source": [
        "Networkx is the python package for handling graphs (or networks). A graph is a collection of vertices (points) and edges (connections between points). We will use graphs a lot in this module.\n",
        "\n",
        "First lets import networkx:"
      ],
      "metadata": {
        "id": "Yl4k1bGVfhIO"
      }
    },
    {
      "cell_type": "code",
      "source": [
        "# Import the package\n",
        "\n"
      ],
      "metadata": {
        "id": "3w8M1Uxnf67Z"
      },
      "execution_count": null,
      "outputs": []
    },
    {
      "cell_type": "markdown",
      "source": [
        "The main object in networkx is a graph, and to create a graph we do\n",
        "```\n",
        "G = nx.Graph()\n",
        "```\n",
        "which gives us an empty graph, one with no vertices or edges.\n",
        "\n",
        "We can then populate it with vertices and edges using `G.add_nodes_from` and `G.add_edges_from` (or add_node and add_edge for a single node or edge). For example:"
      ],
      "metadata": {
        "id": "tY2n3Flff8Q4"
      }
    },
    {
      "cell_type": "code",
      "source": [
        "# Create a graph\n",
        "\n",
        "\n",
        "\n"
      ],
      "metadata": {
        "id": "LqJd4GrigDBh"
      },
      "execution_count": null,
      "outputs": []
    },
    {
      "cell_type": "markdown",
      "source": [
        "We can then view our graph using the draw() function, and matplotlib:"
      ],
      "metadata": {
        "id": "pSuXEagsgE-2"
      }
    },
    {
      "cell_type": "code",
      "source": [
        "# Draw the graph\n",
        "\n",
        "\n",
        "\n"
      ],
      "metadata": {
        "id": "BHkwpvTdhZPy"
      },
      "execution_count": null,
      "outputs": []
    },
    {
      "cell_type": "markdown",
      "source": [],
      "metadata": {
        "id": "N114x7b4feao"
      }
    },
    {
      "cell_type": "markdown",
      "source": [
        "##Other important packages"
      ],
      "metadata": {
        "id": "2OSdsJ-jKrKz"
      }
    },
    {
      "cell_type": "markdown",
      "source": [
        "\n",
        "*   Scipy: Another package for scientific computing. Scipy takes NumPy and adds more advanced tools, and is often faster and more efficient for large data sets. It includes tools for doing statistics and simply machine learning, integration and differentiation, and more linear algebra.\n",
        "*   Pandas: Data analysis. Introduces DataFrames which can be thought of as a Python version of databases. Very powerful, but can be a bit unwieldy.\n",
        "*   TensorFlow, scitkit-learn, Keras, PyTorch: Machine learning.\n",
        "*   SymPy: Symbolic mathematics, that is, mathematics with variables (x,y, etc).\n",
        "\n",
        "\n",
        "It is also worth mentioning SageMath, this is software which uses Python to run packages from many different languages, particularly aimed at mathematicians. So if you find that Python doesn't have the package you need, then Sage might. You can run it online here: https://cocalc.com/features/sage\n"
      ],
      "metadata": {
        "id": "mcrPVI2Qka5R"
      }
    }
  ]
}