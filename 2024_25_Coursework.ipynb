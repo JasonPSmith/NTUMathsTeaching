{
  "nbformat": 4,
  "nbformat_minor": 0,
  "metadata": {
    "colab": {
      "provenance": [],
      "toc_visible": true
    },
    "kernelspec": {
      "name": "python3",
      "display_name": "Python 3"
    },
    "language_info": {
      "name": "python"
    }
  },
  "cells": [
    {
      "cell_type": "markdown",
      "source": [
        "Enter your student number below:"
      ],
      "metadata": {
        "id": "AtzqPAjpD9lu"
      }
    },
    {
      "cell_type": "code",
      "execution_count": null,
      "metadata": {
        "id": "s-4Ga8x5Du90"
      },
      "outputs": [],
      "source": [
        "student_num = \"N01234567\""
      ]
    },
    {
      "cell_type": "code",
      "source": [
        "# @title  { form-width: \"1px\", display-mode: \"form\" }\n",
        "#DO NOT CHANGE THIS CODE BETWEEN ++++ and xxxx\n",
        "#++++++++++++++++++++++++++++++++++++++++++++++++++++\n",
        "A = set([int(student_num[i]) for i in [2,4,5,6]])\n",
        "B = set([int(student_num[i]) for i in [1,3,4,6]])\n",
        "#xxxxxxxxxxxxxxxxxxxxxxxxxxxxxxxxxxxxxxxxxxxxxxxxxxxx"
      ],
      "metadata": {
        "id": "M4WhTdUSMjsT"
      },
      "execution_count": null,
      "outputs": []
    },
    {
      "cell_type": "markdown",
      "source": [
        "# Question 1"
      ],
      "metadata": {
        "id": "H4RO2MFJJoZ5"
      }
    },
    {
      "cell_type": "markdown",
      "source": [
        "Consider the sets A and B given below:"
      ],
      "metadata": {
        "id": "htvIAPCCEFv9"
      }
    },
    {
      "cell_type": "code",
      "source": [
        "# @title  { vertical-output: true, display-mode: \"form\" }\n",
        "# @title\n",
        "print(\"A = \"+str(A))\n",
        "print(\"B = \"+str(B))"
      ],
      "metadata": {
        "colab": {
          "base_uri": "https://localhost:8080/"
        },
        "id": "CNkBPdYKEgD9",
        "outputId": "4250c1d5-bedd-4f3f-fd1b-75dda376ddb3"
      },
      "execution_count": null,
      "outputs": [
        {
          "output_type": "stream",
          "name": "stdout",
          "text": [
            "A = {1, 3, 4, 5}\n",
            "B = {0, 2, 3, 5}\n"
          ]
        }
      ]
    },
    {
      "cell_type": "markdown",
      "source": [
        "Part a)\n",
        "\n",
        "Write some code to find, and display, each of the following:\n",
        "\n",
        "\n",
        "1.   A∪B\n",
        "2.   A∩B\n",
        "3.   A∖B"
      ],
      "metadata": {
        "id": "u6UgyaUSGbHy"
      }
    },
    {
      "cell_type": "code",
      "source": [
        "#Enter part a answers here:\n",
        "#Answer 1:\n",
        "\n",
        "#Answer 2:\n",
        "\n",
        "#Answer 3:\n"
      ],
      "metadata": {
        "id": "Xbd-i5ZgG1X4"
      },
      "execution_count": null,
      "outputs": []
    },
    {
      "cell_type": "markdown",
      "source": [
        "Part b)\n",
        "\n",
        "State whether each of the following is true or false:\n",
        "\n",
        "\n",
        "1.   4 ∈ A\n",
        "2.   5 ∉ B\n",
        "3.   ∅ ⊂ A\n",
        "4.   {2} ⊆ B\n",
        "5.   |A×B| < |A|×|B|\n"
      ],
      "metadata": {
        "id": "pEPmAJEeHGaD"
      }
    },
    {
      "cell_type": "code",
      "source": [
        "#Enter part b answers here:\n",
        "answer1 =\n",
        "answer2 =\n",
        "answer3 =\n",
        "answer4 =\n",
        "answer5 ="
      ],
      "metadata": {
        "id": "dFDxm4iLOzyr"
      },
      "execution_count": null,
      "outputs": []
    }
  ]
}