{
  "nbformat": 4,
  "nbformat_minor": 0,
  "metadata": {
    "colab": {
      "provenance": [],
      "toc_visible": true
    },
    "kernelspec": {
      "name": "python3",
      "display_name": "Python 3"
    },
    "language_info": {
      "name": "python"
    }
  },
  "cells": [
    {
      "cell_type": "markdown",
      "source": [
        "Enter your student number below:"
      ],
      "metadata": {
        "id": "AtzqPAjpD9lu"
      }
    },
    {
      "cell_type": "code",
      "execution_count": 231,
      "metadata": {
        "id": "s-4Ga8x5Du90"
      },
      "outputs": [],
      "source": [
        "student_num = \"N0122456\""
      ]
    },
    {
      "cell_type": "code",
      "source": [
        "# @title  { form-width: \"1px\", display-mode: \"form\" }\n",
        "#DO NOT CHANGE THE CODE BETWEEN #++++... and #xxxx...\n",
        "#++++++++++++++++++++++++++++++++++++++++++++++++++++\n",
        "import matplotlib\n",
        "import matplotlib.pyplot as plt\n",
        "\n",
        "true = True\n",
        "false = False\n",
        "TrueOrFalse = None\n",
        "ReplaceWithAnswer = None\n",
        "\n",
        "X = [int(j) for j in student_num[1:]]\n",
        "\n",
        "\n",
        "#Q1a\n",
        "A = set([X[i] for i in [2,4,5,6]])\n",
        "B = set([X[i] for i in [1,3,4,6]])\n",
        "\n",
        "\n",
        "\n",
        "#Q1c\n",
        "x1 = min(X[6],X[2])+1\n",
        "x2 = max(X[6],X[2])+2\n",
        "y1 = min(X[3],X[4])+2\n",
        "y2 = max(X[3],X[4])+3\n",
        "y0 = max(1,y1 - X[5])\n",
        "def plotQ1c():\n",
        "    fig = plt.figure()\n",
        "    ax = fig.add_subplot(111)\n",
        "    ax.add_patch(matplotlib.patches.Rectangle((x1,y1), x2-x1, y2-y1, edgecolor='green',alpha=.5,hatch=\"xxx\",linewidth=0.0,facecolor=\"none\"))\n",
        "    ax.add_patch(matplotlib.patches.Rectangle((x1,y0), x2-x1, y1-y0, color='blue',alpha=.5))\n",
        "    plt.xlim([0, 13])\n",
        "    plt.ylim([0, 13])\n",
        "    plt.xticks(range(0, 13))\n",
        "    plt.yticks(range(0, 13))\n",
        "    plt.plot([x1,x1,x2,x2], [y2,y1,y1,y2], color='k', linestyle='-', linewidth=2)\n",
        "    plt.plot([x1, x2], [y2, y2], color='k', linestyle=':', linewidth=2)\n",
        "    plt.plot([x1,x2], [y1,y1], color='black', marker='o', markersize=5)\n",
        "    plt.plot(x1, y2, color='black', marker='o', markersize=5,mfc='w')\n",
        "    plt.plot(x2, y2, color='black', marker='o', markersize=5,mfc='w')\n",
        "    plt.plot([x1,x1,x2,x2], [y1,y0,y0,y1], color='k', linestyle='-', linewidth=2, marker='o', markersize=5)\n",
        "    #plt.grid()\n",
        "    plt.show()\n",
        "\n",
        "def plotQ2a():\n",
        "    fig = plt.figure()\n",
        "    ax = fig.add_subplot(111)\n",
        "    plt.plot(X, [int(j) for j in student_num[:0:-1]], color='k', linewidth=0, marker='o', markersize=5)\n",
        "    plt.xlabel('x')\n",
        "    plt.ylabel('y')\n",
        "    plt.show()\n",
        "\n",
        "def runQ2b():\n",
        "    inX = set(X).intersection(set(range(5)))\n",
        "    notX = set(range(5)).difference(X)\n",
        "    rels = [[(i,j) for i in inX for j in inX]+[(i,j) for i in notX for j in notX],set([(X[i],X[i+1]) for i in range(6)]+[(X[i+1],X[i]) for i in range(6)]).difference({(0,0)})]\n",
        "    print(\"T = \"+str(set(rels[X[4]%2])))\n",
        "    print(\"V = \"+str(rels[(X[4]+1)%2]))\n",
        "\n",
        "def plotQ2c():\n",
        "    fig = plt.figure()\n",
        "    ax = fig.add_subplot(111)\n",
        "    x = range(-50,51)\n",
        "    yplus = [(i*(X[2]%3-1)) for i in range(0,51)]\n",
        "    yminus = [(i*(X[3]%3-1)) for i in range(-50,0)]\n",
        "    plt.plot(x,yminus+yplus, color='k', linewidth=1)\n",
        "    plt.xlabel('x')\n",
        "    plt.ylabel('f(x)')\n",
        "    plt.xlim([-50,50])\n",
        "    plt.xlim([-10,50])\n",
        "    plt.xticks(range(-50, 51,10))\n",
        "    plt.yticks(range(-50, 51,10))\n",
        "    ax.ticklabel_format(style='plain')\n",
        "    plt.show()\n",
        "\n",
        "\n",
        "\n",
        "def op(a,b):\n",
        "    G = {(X[6]+i)%5:i for i in range(5)}\n",
        "    Ginv = {i:(X[6]+i)%5 for i in range(5)}\n",
        "    return Ginv[(G[a]+G[b])%5]\n",
        "\n",
        "#xxxxxxxxxxxxxxxxxxxxxxxxxxxxxxxxxxxxxxxxxxxxxxxxxxxx"
      ],
      "metadata": {
        "id": "M4WhTdUSMjsT"
      },
      "execution_count": 259,
      "outputs": []
    },
    {
      "cell_type": "markdown",
      "source": [
        "# Question 1"
      ],
      "metadata": {
        "id": "H4RO2MFJJoZ5"
      }
    },
    {
      "cell_type": "markdown",
      "source": [
        "Consider the sets A and B given below:"
      ],
      "metadata": {
        "id": "htvIAPCCEFv9"
      }
    },
    {
      "cell_type": "code",
      "source": [
        "# @title\n",
        "# @title  { vertical-output: true, display-mode: \"form\" }\n",
        "# @title\n",
        "print(\"A = \"+str(A))\n",
        "print(\"B = \"+str(B))"
      ],
      "metadata": {
        "colab": {
          "base_uri": "https://localhost:8080/"
        },
        "id": "CNkBPdYKEgD9",
        "outputId": "710adc70-2098-47f7-e01d-06a2de8c7ba7"
      },
      "execution_count": null,
      "outputs": [
        {
          "output_type": "stream",
          "name": "stdout",
          "text": [
            "A = {1, 3, 4, 5}\n",
            "B = {0, 2, 3, 5}\n"
          ]
        }
      ]
    },
    {
      "cell_type": "markdown",
      "source": [
        "## Part a)\n",
        "\n",
        "Find the elements of each of the following, you can do this by hand or use Python's set operations:\n",
        "\n",
        "\n",
        "1.   A∪B\n",
        "2.   A∩B\n",
        "3.   A∖B\n",
        "\n",
        "Enter your answer below inside {} with values separated by commas.\n",
        "\n",
        "*3 Marks*\n",
        "\n",
        "\n"
      ],
      "metadata": {
        "id": "u6UgyaUSGbHy"
      }
    },
    {
      "cell_type": "code",
      "source": [
        "#Space for workings if using Python's set operations\n",
        "\n",
        "\n",
        "#Enter part 1a answers here:\n",
        "Q1a_answer1 = {}\n",
        "Q1a_answer2 = {}\n",
        "Q1a_answer3 = {}"
      ],
      "metadata": {
        "id": "Xbd-i5ZgG1X4"
      },
      "execution_count": null,
      "outputs": []
    },
    {
      "cell_type": "markdown",
      "source": [
        "## Part b)\n",
        "\n",
        "State whether each of the following is True or False:\n",
        "\n",
        "\n",
        "1.   4 ∈ A\n",
        "2.   5 ∉ B\n",
        "3.   ∅ ⊂ A\n",
        "4.   {2} ⊆ B\n",
        "5.   |A×B| < |A|×|B|\n",
        "\n",
        "Please enter your answer below and replace TrueOrFalse or with either True or False\n",
        "\n",
        "*5 Marks*"
      ],
      "metadata": {
        "id": "pEPmAJEeHGaD"
      }
    },
    {
      "cell_type": "code",
      "source": [
        "#Enter part 1b answers here:\n",
        "Q1b_answer1 = TrueOrFalse\n",
        "Q1b_answer2 = TrueOrFalse\n",
        "Q1b_answer3 = TrueOrFalse\n",
        "Q1b_answer4 = TrueOrFalse\n",
        "Q1b_answer5 = TrueOrFalse"
      ],
      "metadata": {
        "id": "dFDxm4iLOzyr"
      },
      "execution_count": null,
      "outputs": []
    },
    {
      "cell_type": "markdown",
      "source": [
        "## Part c)\n",
        "\n",
        "Consider the following plot"
      ],
      "metadata": {
        "id": "dxYXmfpj8zoW"
      }
    },
    {
      "cell_type": "code",
      "source": [
        "plotQ1c()"
      ],
      "metadata": {
        "colab": {
          "base_uri": "https://localhost:8080/",
          "height": 430
        },
        "id": "t2_k303P-qlY",
        "outputId": "314899c0-86c4-4aea-a665-9558be1aa1a0"
      },
      "execution_count": null,
      "outputs": [
        {
          "output_type": "display_data",
          "data": {
            "text/plain": [
              "<Figure size 640x480 with 1 Axes>"
            ],
            "image/png": "[encoded data removed]"
          },
          "metadata": {}
        }
      ]
    },
    {
      "cell_type": "markdown",
      "source": [
        "Write down the interval or Cartesian product of intervals for the following:\n",
        "\n",
        "1.    The green crosshatched area\n",
        "2.    The solid purple area\n",
        "3.    The intersection of the green crosshatched and solid purple areas\n",
        "\n",
        "*3 Marks*"
      ],
      "metadata": {
        "id": "fd9liMiRJrq-"
      }
    },
    {
      "cell_type": "code",
      "source": [
        "#Enter part 1c answers here:\n",
        "Q1c_answer1 = \"\" #Enter answer between speech marks\n",
        "\n",
        "Q1c_answer2 = \"\" #Enter answer between speech marks\n",
        "\n",
        "Q1c_answer3 = \"\" #Enter answer between speech marks"
      ],
      "metadata": {
        "id": "3sk56WzwLbPc"
      },
      "execution_count": null,
      "outputs": []
    },
    {
      "cell_type": "markdown",
      "source": [
        "# Question 2\n"
      ],
      "metadata": {
        "id": "hGms4TVxN2Ph"
      }
    },
    {
      "cell_type": "markdown",
      "source": [
        "\n",
        "## Part a)\n",
        "\n",
        "Consider the relation R where (x,y) ∈ R if and only if (x,y) is a point plotted in the following plot:"
      ],
      "metadata": {
        "id": "1rpJwYWtv1qT"
      }
    },
    {
      "cell_type": "code",
      "source": [
        "plotQ2a()"
      ],
      "metadata": {
        "colab": {
          "base_uri": "https://localhost:8080/",
          "height": 449
        },
        "id": "b6QyiJjQOrXG",
        "outputId": "3fe0b63a-98c4-4fe3-edd2-09588b88cb73"
      },
      "execution_count": 232,
      "outputs": [
        {
          "output_type": "display_data",
          "data": {
            "text/plain": [
              "<Figure size 640x480 with 1 Axes>"
            ],
            "image/png": "[encoded data removed]"
          },
          "metadata": {}
        }
      ]
    },
    {
      "cell_type": "markdown",
      "source": [
        "1.    What is the domain of R?\n",
        "2.    What is the image of R?\n",
        "3.    Is R a function?\n",
        "\n",
        "*3 Marks*"
      ],
      "metadata": {
        "id": "JEHbVlyrOv5u"
      }
    },
    {
      "cell_type": "code",
      "source": [
        "#Enter part 2a answers here:\n",
        "Q2a_answer1 = [] #Enter answer between [], values separated by commas\n",
        "\n",
        "Q2a_answer2 = [] #Enter answer between [], values separated by commas\n",
        "\n",
        "Q2a_answer3 = \"\" #Enter Yes or No between the speech marks"
      ],
      "metadata": {
        "id": "0p24SAfpPBYR"
      },
      "execution_count": null,
      "outputs": []
    },
    {
      "cell_type": "markdown",
      "source": [
        "## Part b)\n",
        "\n",
        "Below are two relations on \\{0,1,2,3,4\\}. One is an equivalence relation, and one is not."
      ],
      "metadata": {
        "id": "iggy7fnz37S1"
      }
    },
    {
      "cell_type": "code",
      "source": [
        "runQ2b()"
      ],
      "metadata": {
        "colab": {
          "base_uri": "https://localhost:8080/"
        },
        "id": "xe_gq_dXzdZy",
        "outputId": "e032de97-9fdc-4a1a-d79f-d41410beb07a"
      },
      "execution_count": 247,
      "outputs": [
        {
          "output_type": "stream",
          "name": "stdout",
          "text": [
            "T = {(0, 1), (4, 4), (2, 4), (1, 2), (0, 4), (2, 1), (4, 0), (0, 0), (1, 1), (2, 0), (1, 4), (4, 2), (0, 2), (3, 3), (2, 2), (1, 0), (4, 1)}\n",
            "V = {(0, 1), (2, 4), (1, 2), (2, 1), (6, 5), (5, 4), (4, 2), (4, 5), (5, 6), (2, 2), (1, 0)}\n"
          ]
        }
      ]
    },
    {
      "cell_type": "markdown",
      "source": [
        "1.    Which relation is an equivalence relation?\n",
        "2.    What are the equivalence classes of the equivalence relation?\n",
        "3.    Which of the properties required to be an equivalence relation are satisfied by the relation which is not an equivalence relation?"
      ],
      "metadata": {
        "id": "tmcl1TQZ3P05"
      }
    },
    {
      "cell_type": "code",
      "source": [
        "#Enter part 2b answers here:\n",
        "Q2b_answer1 = \"\" #Enter answer between speech marks\n",
        "\n",
        "Q2b_answer2 = \"\" #Enter answer between [], values separated by commas\n",
        "\n",
        "Q2b_answer3 = (\"reflexive\", \"symmetric\", \"transitive\") #delete properties which are not satisifed"
      ],
      "metadata": {
        "id": "eUKSKiiq48Q1"
      },
      "execution_count": null,
      "outputs": []
    },
    {
      "cell_type": "markdown",
      "source": [
        "## Part c)\n",
        "\n",
        "Let f be a function with dom(f) = \\[-50,50\\] and im(f) = \\[-50,50\\], given by the following plot:"
      ],
      "metadata": {
        "id": "DmS2mdJnUKcR"
      }
    },
    {
      "cell_type": "code",
      "source": [
        "plotQ2c()"
      ],
      "metadata": {
        "colab": {
          "base_uri": "https://localhost:8080/",
          "height": 449
        },
        "id": "IEcy9XG1VHS0",
        "outputId": "4aab8038-0ba8-4475-d08d-33fc91cc1baa"
      },
      "execution_count": 217,
      "outputs": [
        {
          "output_type": "display_data",
          "data": {
            "text/plain": [
              "<Figure size 640x480 with 1 Axes>"
            ],
            "image/png": "[encoded data removed]"
          },
          "metadata": {}
        }
      ]
    },
    {
      "cell_type": "markdown",
      "source": [
        "1.    Is f injective?\n",
        "2.    Is f surjective?\n",
        "3.    Is f bijective?\n",
        "\n",
        "*3 Marks*"
      ],
      "metadata": {
        "id": "7oj5_EFrVJYG"
      }
    },
    {
      "cell_type": "code",
      "source": [
        "#Enter part 2c answers here:\n",
        "Q2c_answer1 = \"\" #Enter Yes or No between the speech marks\n",
        "\n",
        "Q2c_answer2 = \"\" #Enter Yes or No between the speech marks\n",
        "\n",
        "Q2c_answer3 = \"\" #Enter Yes or No between the speech marks"
      ],
      "metadata": {
        "id": "kqh3CKIqyjPW"
      },
      "execution_count": null,
      "outputs": []
    },
    {
      "cell_type": "markdown",
      "source": [
        "# Question 3"
      ],
      "metadata": {
        "id": "z2qErKxH5kQG"
      }
    },
    {
      "cell_type": "markdown",
      "source": [
        "## Part a)\n",
        "\n",
        "Permutation question TODO\n"
      ],
      "metadata": {
        "id": "RT5rvRdBEAg1"
      }
    },
    {
      "cell_type": "markdown",
      "source": [
        "##Part b)\n",
        "\n",
        "Let G = \\(\\{1,2,3,4\\},op\\) be a group. You can determine the output of the binary operation a op b by typing `op(a,b)`, for example:\n",
        "\n"
      ],
      "metadata": {
        "id": "bLv9PVjO7Be-"
      }
    },
    {
      "cell_type": "code",
      "source": [
        "op(0,0)"
      ],
      "metadata": {
        "colab": {
          "base_uri": "https://localhost:8080/"
        },
        "id": "X_2vowphAgDD",
        "outputId": "bbdbd82f-022e-4fea-d47f-316af71f8098"
      },
      "execution_count": 274,
      "outputs": [
        {
          "output_type": "execute_result",
          "data": {
            "text/plain": [
              "4"
            ]
          },
          "metadata": {},
          "execution_count": 274
        }
      ]
    },
    {
      "cell_type": "markdown",
      "source": [
        "1.    What is the identity element of G?\n",
        "2.    What is the order of G?\n",
        "3.    What is the inverse of 1 in G?\n",
        "4.    Is G Abelian?\n",
        "5.    Does G have a subgroup of order 2?"
      ],
      "metadata": {
        "id": "g1m9ks6FCIsd"
      }
    },
    {
      "cell_type": "code",
      "source": [
        "# Space for workings:\n",
        "\n",
        "\n",
        "# Enter part 3b answers here:\n",
        "Q3b_answer1 = ReplaceWithAnswer\n",
        "Q3b_answer2 = ReplaceWithAnswer\n",
        "Q3b_answer3 = ReplaceWithAnswer\n",
        "Q3b_answer4 = \"\" #Enter yes or no between speech marks\n",
        "Q3b_answer4 = \"\" #Enter yes or no between speech marks"
      ],
      "metadata": {
        "id": "JoCMV9CRCoyY"
      },
      "execution_count": null,
      "outputs": []
    }
  ]
}