{
  "nbformat": 4,
  "nbformat_minor": 0,
  "metadata": {
    "colab": {
      "provenance": [],
      "toc_visible": true,
      "authorship_tag": "ABX9TyNohXsl5htsmNmEuodGbB2u",
      "include_colab_link": true
    },
    "kernelspec": {
      "name": "python3",
      "display_name": "Python 3"
    },
    "language_info": {
      "name": "python"
    }
  },
  "cells": [
    {
      "cell_type": "markdown",
      "metadata": {
        "id": "view-in-github",
        "colab_type": "text"
      },
      "source": [
        "<a href=\"https://colab.research.google.com/github/JasonPSmith/NTUMathsTeaching/blob/main/PureMaths/FoPM_cwk.ipynb\" target=\"_parent\"><img src=\"https://colab.research.google.com/assets/colab-badge.svg\" alt=\"Open In Colab\"/></a>"
      ]
    },
    {
      "cell_type": "markdown",
      "source": [
        "**Module Code**: MATH10272\n",
        "\n",
        "**Module Title**: Foundations of Pure Mathematics\n",
        "\n",
        "**Objective**: To assess understanding of sets, relations, functions and groups\n",
        "\n",
        "**Module Leader**: Jason Smith\n",
        "\n",
        "**Format**: Jupyter Notebook\n",
        "\n",
        "**Contribution to module**: 40%\n",
        "\n",
        "**Date Set**: 17th February 2025\n",
        "\n",
        "**Deadline for Submission**: 13th March 2025, 2:30pm\n",
        "\n",
        "**Method for Submission of Jupyter Notebook**: NOW Dropbox\n",
        "\n",
        "**Deadline for Feedback**: 3rd April 2025\n",
        "\n",
        "**Method of Feedback**: NOW Dropbox\n",
        "\n",
        "You can achieve a maximum of 60 marks, you need 24 marks to pass. You should attempt all questions. You should write your code and provide your answers in a Jupyter Notebook. Ensure your code is runnable and free of syntax errors. You are allowed to use built-in functions where appropriate. Submit the Jupyter Notebook (*.ipynb) to the NOW module Dropbox. This coursework is an element of assessment which means you need to pass it in order to pass the module. Plagiarism will not be tolerated, students are reminded that this is an individual assignment.\n"
      ],
      "metadata": {
        "id": "rnSG5AWeqYk7"
      }
    },
    {
      "cell_type": "markdown",
      "source": [
        "# **IMPORTANT:** Follow these instruction before completing the coursework.\n",
        "\n",
        "1.   Enter your student ID below, by replacing N0123456 with your own student id.\n",
        "2.   Enter your name below by replace Joe Bloggs with your own name.\n",
        "3.   At the top click \"Runtime\" > \"Run all\"\n",
        "\n",
        "You do not need to click Show code, for any of the instances below.\n",
        "\n",
        "\n",
        "\n",
        "\n",
        "\n"
      ],
      "metadata": {
        "id": "AtzqPAjpD9lu"
      }
    },
    {
      "cell_type": "code",
      "execution_count": null,
      "metadata": {
        "id": "s-4Ga8x5Du90"
      },
      "outputs": [],
      "source": [
        "student_num = \"N0123456\"\n",
        "student_name = \"Joe Bloggs\""
      ]
    },
    {
      "cell_type": "code",
      "source": [
        "# @title  { form-width: \"1px\", display-mode: \"form\" }\n",
        "#DO NOT CHANGE THE CODE BETWEEN #++++... and #xxxx...\n",
        "#++++++++++++++++++++++++++++++++++++++++++++++++++++\n",
        "import matplotlib\n",
        "import matplotlib.pyplot as plt\n",
        "\n",
        "true = True\n",
        "false = False\n",
        "TrueOrFalse = None\n",
        "ReplaceWithAnswer = None\n",
        "\n",
        "numbers_to_use_for_individualisation = [int(j) for j in student_num[1:]]\n",
        "\n",
        "\n",
        "#Q1a\n",
        "def runQ1a():\n",
        "    print(\"A = \"+str(set([numbers_to_use_for_individualisation[i]+numbers_to_use_for_individualisation[j] for i in [2,4,5,6] for j in range(7)])))\n",
        "    print(\"B = \" + str(set([2*numbers_to_use_for_individualisation[i] for i in [1,3,4,6]]+[numbers_to_use_for_individualisation[i] for i in [1,3,4,6]])))\n",
        "    print(\"C = {\"+str(numbers_to_use_for_individualisation[-1])+\"x | x is an integer}\")\n",
        "\n",
        "\n",
        "\n",
        "#Q1c\n",
        "def plotQ1c():\n",
        "    x1 = min(numbers_to_use_for_individualisation[6],numbers_to_use_for_individualisation[2])+1\n",
        "    x2 = max(numbers_to_use_for_individualisation[6],numbers_to_use_for_individualisation[2])+2\n",
        "    y1 = min(numbers_to_use_for_individualisation[3],numbers_to_use_for_individualisation[4])+2\n",
        "    y2 = max(numbers_to_use_for_individualisation[3],numbers_to_use_for_individualisation[4])+3\n",
        "    y0 = max(1,y1 - numbers_to_use_for_individualisation[5])\n",
        "    fig = plt.figure()\n",
        "    ax = fig.add_subplot(111)\n",
        "    ax.add_patch(matplotlib.patches.Rectangle((x1,y1), x2-x1, y2-y1, edgecolor='green',alpha=.5,hatch=\"xxx\",linewidth=0.0,facecolor=\"none\"))\n",
        "    ax.add_patch(matplotlib.patches.Rectangle((x1,y0), x2-x1, y1-y0, color='blue',alpha=.5))\n",
        "    plt.xlim([0, 13])\n",
        "    plt.ylim([0, 13])\n",
        "    plt.xticks(range(0, 13))\n",
        "    plt.yticks(range(0, 13))\n",
        "    plt.plot([x1,x1,x2,x2], [y2,y1,y1,y2], color='k', linestyle='-', linewidth=2)\n",
        "    plt.plot([x1, x2], [y2, y2], color='k', linestyle=':', linewidth=2)\n",
        "    plt.plot([x1,x2], [y1,y1], color='black', marker='o', markersize=5)\n",
        "    plt.plot(x1, y2, color='black', marker='o', markersize=5,mfc='w')\n",
        "    plt.plot(x2, y2, color='black', marker='o', markersize=5,mfc='w')\n",
        "    plt.plot([x1,x1,x2,x2], [y1,y0,y0,y1], color='k', linestyle='-', linewidth=2, marker='o', markersize=5)\n",
        "    #plt.grid()\n",
        "    plt.show()\n",
        "\n",
        "def plotQ2a():\n",
        "    fig = plt.figure()\n",
        "    ax = fig.add_subplot(111)\n",
        "    plt.plot(numbers_to_use_for_individualisation, [int(j) for j in student_num[:0:-1]], color='k', linewidth=0, marker='o', markersize=5)\n",
        "    plt.xticks([0,1,2,3,4,5,6,7,8,9])\n",
        "    plt.yticks([0,1,2,3,4,5,6,7,8,9])\n",
        "    plt.xlabel('x')\n",
        "    plt.ylabel('y')\n",
        "    plt.show()\n",
        "\n",
        "def runQ2b():\n",
        "    innumbers_to_use_for_individualisation = set(numbers_to_use_for_individualisation).intersection(set(range(5)))\n",
        "    notnumbers_to_use_for_individualisation = set(range(5)).difference(numbers_to_use_for_individualisation)\n",
        "    rels = [[(i,j) for i in innumbers_to_use_for_individualisation for j in innumbers_to_use_for_individualisation]+[(i,j) for i in notnumbers_to_use_for_individualisation for j in notnumbers_to_use_for_individualisation],set([(numbers_to_use_for_individualisation[i],numbers_to_use_for_individualisation[i+1]) for i in range(6)]+[(numbers_to_use_for_individualisation[i+1],numbers_to_use_for_individualisation[i]) for i in range(6)]).difference({(0,0)})]\n",
        "    print(\"T = \"+str(set(rels[numbers_to_use_for_individualisation[4]%2])))\n",
        "    print(\"V = \"+str(rels[(numbers_to_use_for_individualisation[4]+1)%2]))\n",
        "\n",
        "def plotQ2c():\n",
        "    fig = plt.figure()\n",
        "    ax = fig.add_subplot(111)\n",
        "    x = range(-50,51)\n",
        "    yplus = [(10+i*(numbers_to_use_for_individualisation[2]%3-1)) for i in range(0,51)]\n",
        "    yminus = [(10+i*(numbers_to_use_for_individualisation[3]%3-1)) for i in range(-50,0)]\n",
        "    plt.plot(x,yminus+yplus, color='k', linewidth=1)\n",
        "    plt.xlabel('x')\n",
        "    plt.ylabel('f(x)')\n",
        "    plt.xlim([-50,50])\n",
        "    plt.xlim([-10,50])\n",
        "    plt.xticks(range(-50, 51,10))\n",
        "    plt.yticks(range(-40, 61,10))\n",
        "    ax.ticklabel_format(style='plain')\n",
        "    plt.show()\n",
        "\n",
        "def runQ2d():\n",
        "    print(\"f = x/\"+str(numbers_to_use_for_individualisation[-2]+2))\n",
        "    print(\"g = \"+str(numbers_to_use_for_individualisation[-3]+2)+\"x-\"+str(numbers_to_use_for_individualisation[-4]+1))\n",
        "\n",
        "\n",
        "def op(a,b):\n",
        "    G = {(numbers_to_use_for_individualisation[6]+i)%5:i for i in range(5)}\n",
        "    Ginv = {i:(numbers_to_use_for_individualisation[6]+i)%5 for i in range(5)}\n",
        "    return Ginv[(G[a]+G[b])%5]\n",
        "\n",
        "def composePerm(a,b):\n",
        "    if a == \"e\":\n",
        "        return b\n",
        "    if b == \"e\":\n",
        "        return a\n",
        "    if not isinstance(a,tuple) or not isinstance(b,tuple):\n",
        "        print(\"Error: Inputs must be tuples of ints\")\n",
        "    n = max(max(a),max(b))\n",
        "    A = {i:i for i in range(1,n+1)}\n",
        "    B = {i:i for i in range(1,n+1)}\n",
        "    C = {i:i for i in range(1,n+1)}\n",
        "    for i in range(len(a)-1):\n",
        "        A[a[i]]=a[i+1]\n",
        "    A[a[-1]] = a[0]\n",
        "    for i in range(len(b)-1):\n",
        "        B[b[i]]=b[i+1]\n",
        "    B[b[-1]] = b[0]\n",
        "    for i in range(1,n+1):\n",
        "        C[i] = A[B[i]]\n",
        "    out = []\n",
        "    notinc = set(range(1,n+1))\n",
        "    inc = set()\n",
        "    while len(inc) < n:\n",
        "        start =  min(notinc)\n",
        "        next = C[start]\n",
        "        out.append([start])\n",
        "        inc.add(start)\n",
        "        while not start == next:\n",
        "            out[-1].append(next)\n",
        "            inc.add(next)\n",
        "            next = C[next]\n",
        "        notinc.difference_update(inc)\n",
        "    return [tuple(i) for i in out if len(i)>1]\n",
        "\n",
        "\n",
        "def runQ3a():\n",
        "    S3 = [\"e\", (1,2,3), (1,3,2), (1,2),(2,3),(1,3)]\n",
        "    if numbers_to_use_for_individualisation[-1] < 3:\n",
        "       print(\"A = \"+str(set(S3[:3])))\n",
        "    elif numbers_to_use_for_individualisation[-1]>2 and numbers_to_use_for_individualisation[-1] < 5:\n",
        "       print(\"A = \"+str(set([S3[0]]+S3[-3:])))\n",
        "    elif numbers_to_use_for_individualisation[-1]>4 and numbers_to_use_for_individualisation[-1] < 7:\n",
        "       print(\"A = \"+str(set(S3[:4])))\n",
        "    else:\n",
        "       print(\"A = \"+str(set(S3[:3]+S3[4])))\n",
        "#xxxxxxxxxxxxxxxxxxxxxxxxxxxxxxxxxxxxxxxxxxxxxxxxxxxx"
      ],
      "metadata": {
        "id": "M4WhTdUSMjsT"
      },
      "execution_count": null,
      "outputs": []
    },
    {
      "cell_type": "markdown",
      "source": [
        "\n",
        "$\\mbox{}$\n",
        "\n",
        "$\\mbox{}$\n",
        "\n",
        "# Question 1"
      ],
      "metadata": {
        "id": "H4RO2MFJJoZ5"
      }
    },
    {
      "cell_type": "markdown",
      "source": [
        "Consider the sets $A$, $B$ and $C$ below:"
      ],
      "metadata": {
        "id": "htvIAPCCEFv9"
      }
    },
    {
      "cell_type": "code",
      "source": [
        "# @title\n",
        "runQ1a()"
      ],
      "metadata": {
        "id": "CNkBPdYKEgD9",
        "cellView": "form"
      },
      "execution_count": 8,
      "outputs": []
    },
    {
      "cell_type": "markdown",
      "source": [
        "## Part a)\n",
        "\n",
        "Find the elements of each of the following sets, you can do this by hand or use Python's set operations:\n",
        "\n",
        "\n",
        "1.   $A \\cup B$;\n",
        "2.   $A \\cap B$;\n",
        "3.   $A \\setminus B$;\n",
        "4.   $A \\cap C$;\n",
        "5.   $(A \\setminus C) \\cup (B \\setminus C)$;\n",
        "6.   $(A \\times B) \\cap A$.\n",
        "\n",
        "*6 Marks*\n",
        "\n",
        "\n"
      ],
      "metadata": {
        "id": "u6UgyaUSGbHy"
      }
    },
    {
      "cell_type": "code",
      "source": [
        "#Space for workings\n",
        "\n",
        "\n",
        "\n",
        "\n",
        "# Enter part 1a answers here:\n",
        "Q1a_answer1 = {} # Put answers between {} with values separated by commas.\n",
        "\n",
        "Q1a_answer2 = {} # Put answers between {} with values separated by commas.\n",
        "\n",
        "Q1a_answer3 = {} # Put answers between {} with values separated by commas.\n",
        "\n",
        "Q1a_answer4 = {} # Put answers between {} with values separated by commas.\n",
        "\n",
        "Q1a_answer5 = {} # Put answers between {} with values separated by commas.\n",
        "\n",
        "Q1a_answer6 = {} # Put answers between {} with values separated by commas."
      ],
      "metadata": {
        "id": "Xbd-i5ZgG1X4"
      },
      "execution_count": null,
      "outputs": []
    },
    {
      "cell_type": "markdown",
      "source": [
        "$\\mbox{}$\n",
        "\n",
        "## Part b)\n",
        "\n",
        "State whether each of the following is True or False:\n",
        "\n",
        "\n",
        "1.   $4 \\in A$;\n",
        "2.   $5 \\not\\in B$;\n",
        "3.   $\\emptyset\\subset A$;\n",
        "4.   $\\{2\\} \\subseteq B$;\n",
        "5.   $|A \\times B| < |A|\\times|B|$;\n",
        "6.   $(A \\times C) \\cap (B \\times C) = (A \\cap B) \\times C$.\n",
        "\n",
        "*6 Marks*"
      ],
      "metadata": {
        "id": "pEPmAJEeHGaD"
      }
    },
    {
      "cell_type": "code",
      "source": [
        "# Enter part 1b answers here:\n",
        "Q1b_answer1 = TrueOrFalse # Replace TrueOrFalse or with either True or False.\n",
        "\n",
        "Q1b_answer2 = TrueOrFalse # Replace TrueOrFalse or with either True or False.\n",
        "\n",
        "Q1b_answer3 = TrueOrFalse # Replace TrueOrFalse or with either True or False.\n",
        "\n",
        "Q1b_answer4 = TrueOrFalse # Replace TrueOrFalse or with either True or False.\n",
        "\n",
        "Q1b_answer5 = TrueOrFalse # Replace TrueOrFalse or with either True or False.\n",
        "\n",
        "Q1b_answer6 = TrueOrFalse # Replace TrueOrFalse or with either True or False."
      ],
      "metadata": {
        "id": "dFDxm4iLOzyr"
      },
      "execution_count": null,
      "outputs": []
    },
    {
      "cell_type": "markdown",
      "source": [
        "$\\mbox{}$\n",
        "\n",
        "## Part c)\n",
        "\n",
        "Consider the following plot:"
      ],
      "metadata": {
        "id": "dxYXmfpj8zoW"
      }
    },
    {
      "cell_type": "code",
      "source": [
        "# @title\n",
        "plotQ1c()"
      ],
      "metadata": {
        "id": "t2_k303P-qlY",
        "cellView": "form"
      },
      "execution_count": null,
      "outputs": []
    },
    {
      "cell_type": "markdown",
      "source": [
        "Write down the Cartesian product of intervals for the following areas in the plot above:\n",
        "\n",
        "1.    The green crosshatched area;\n",
        "2.    The solid purple area;\n",
        "3.    The intersection of the green crosshatched and solid purple areas;\n",
        "4.    The union of the green crosshatched and solid purple areas.\n",
        "\n",
        "*8 Marks*"
      ],
      "metadata": {
        "id": "fd9liMiRJrq-"
      }
    },
    {
      "cell_type": "code",
      "source": [
        "#Enter part 1c answers here:\n",
        "Q1c_answer1 = \"\" #Enter answer between speech marks\n",
        "\n",
        "Q1c_answer2 = \"\" #Enter answer between speech marks\n",
        "\n",
        "Q1c_answer3 = \"\" #Enter answer between speech marks\n",
        "\n",
        "Q1c_answer4 = \"\" #Enter answer between speech marks"
      ],
      "metadata": {
        "id": "3sk56WzwLbPc"
      },
      "execution_count": null,
      "outputs": []
    },
    {
      "cell_type": "markdown",
      "source": [
        "\n",
        "$\\mbox{}$\n",
        "\n",
        "$\\mbox{}$\n",
        "\n",
        "$\\mbox{}$\n",
        "\n",
        "$\\mbox{}$\n",
        "\n",
        "$\\mbox{}$\n",
        "\n",
        "$\\mbox{}$\n",
        "\n",
        "$\\mbox{}$\n",
        "\n",
        "# Question 2\n"
      ],
      "metadata": {
        "id": "hGms4TVxN2Ph"
      }
    },
    {
      "cell_type": "markdown",
      "source": [
        "\n",
        "## Part a)\n",
        "\n",
        "Consider the relation $R$ on the set $N=\\{0,1,2,3,4,5,6,7,8,9\\}$, where $(x,y) \\in R$ if and only if $(x,y)$ is a point plotted in the plot below."
      ],
      "metadata": {
        "id": "1rpJwYWtv1qT"
      }
    },
    {
      "cell_type": "code",
      "source": [
        "# @title\n",
        "plotQ2a()"
      ],
      "metadata": {
        "id": "b6QyiJjQOrXG",
        "cellView": "form"
      },
      "execution_count": null,
      "outputs": []
    },
    {
      "cell_type": "markdown",
      "source": [
        "1.    What is the domain of $R$?\n",
        "2.    What is the image of $R$?\n",
        "3.    Is $R$ a function from $N$ to $N$?\n",
        "4.    Write down all pairs in the inverse of $R$.\n",
        "5.    Is $R$ an equivalence relation\n",
        "\n",
        "*5 Marks*"
      ],
      "metadata": {
        "id": "JEHbVlyrOv5u"
      }
    },
    {
      "cell_type": "code",
      "source": [
        "#Enter part 2a answers here:\n",
        "Q2a_answer1 = {} #Enter answer between {}, values separated by commas\n",
        "\n",
        "Q2a_answer2 = {} #Enter answer between {}, values separated by commas\n",
        "\n",
        "Q2a_answer3 = \"\" #Enter Yes or No between the speech marks\n",
        "\n",
        "Q2a_answer4 = {} #Enter answer between {}, writing each pair as a tuple (a,b), with the tuples separated by commas\n",
        "\n",
        "Q2a_answer5 = \"\" #Enter Yes or No between the speech marks"
      ],
      "metadata": {
        "id": "0p24SAfpPBYR"
      },
      "execution_count": null,
      "outputs": []
    },
    {
      "cell_type": "markdown",
      "source": [
        "$\\mbox{}$\n",
        "\n",
        "## Part b)\n",
        "\n",
        "Consider the two relations T and V on $\\{0,1,2,3,4\\}$ given below. One is an equivalence relation, and one is not."
      ],
      "metadata": {
        "id": "iggy7fnz37S1"
      }
    },
    {
      "cell_type": "code",
      "source": [
        "# @title\n",
        "runQ2b()"
      ],
      "metadata": {
        "id": "xe_gq_dXzdZy",
        "cellView": "form"
      },
      "execution_count": null,
      "outputs": []
    },
    {
      "cell_type": "markdown",
      "source": [
        "1.    Which relation is an equivalence relation?\n",
        "2.    What are the equivalence classes of the equivalence relation?\n",
        "3.    For the relation which is not an equivalence relation, which of the properties required to be an equivalence relation are not satisfied?\n",
        "\n",
        "*6 marks*"
      ],
      "metadata": {
        "id": "tmcl1TQZ3P05"
      }
    },
    {
      "cell_type": "code",
      "source": [
        "#Enter part 2b answers here:\n",
        "Q2b_answer1 = \"\" #Enter answer between speech marks\n",
        "\n",
        "Q2b_answer2 = [] #Enter each equivalence class as a set {a,b,c,...}, with the sets entered between [] and separated by commas\n",
        "\n",
        "Q2b_answer3 = (\"reflexive\", \"symmetric\", \"transitive\") #Delete properties which are satisifed"
      ],
      "metadata": {
        "id": "eUKSKiiq48Q1"
      },
      "execution_count": null,
      "outputs": []
    },
    {
      "cell_type": "markdown",
      "source": [
        "$\\mbox{}$\n",
        "\n",
        "## Part c)\n",
        "Let $f$ be a function with dom$(f) = [-50,50]$ and codom$(f) = [-40,60]$, given by the plot below."
      ],
      "metadata": {
        "id": "DmS2mdJnUKcR"
      }
    },
    {
      "cell_type": "code",
      "source": [
        "# @title\n",
        "plotQ2c()"
      ],
      "metadata": {
        "id": "IEcy9XG1VHS0",
        "cellView": "form"
      },
      "execution_count": null,
      "outputs": []
    },
    {
      "cell_type": "markdown",
      "source": [
        "1.    Is $f$ injective?\n",
        "2.    Is $f$ surjective?\n",
        "3.    Is $f$ bijective?\n",
        "4.    Does $f$ have an inverse?\n",
        "5.    What is the image of $f$?\n",
        "\n",
        "\n",
        "*5 Marks*"
      ],
      "metadata": {
        "id": "7oj5_EFrVJYG"
      }
    },
    {
      "cell_type": "code",
      "source": [
        "#Enter part 2c answers here:\n",
        "Q2c_answer1 = \"\" #Enter Yes or No between the speech marks\n",
        "\n",
        "Q2c_answer2 = \"\" #Enter Yes or No between the speech marks\n",
        "\n",
        "Q2c_answer3 = \"\" #Enter Yes or No between the speech marks\n",
        "\n",
        "Q2c_answer4 = \"\" #Enter Yes or No between the speech marks\n",
        "\n",
        "Q2c_answer5 = \"\" #Enter answer between speech marks"
      ],
      "metadata": {
        "id": "kqh3CKIqyjPW"
      },
      "execution_count": null,
      "outputs": []
    },
    {
      "cell_type": "markdown",
      "source": [
        "$\\mbox{}$\n",
        "\n",
        "## Part d)\n",
        "Consider the functions f and g from $\\mathbb{R}$ to $\\mathbb{R}$ given below."
      ],
      "metadata": {
        "id": "XmRDdFR3usQ5"
      }
    },
    {
      "cell_type": "code",
      "source": [
        "# @title\n",
        "runQ2d()"
      ],
      "metadata": {
        "cellView": "form",
        "id": "Lu5tyzvEvBzo"
      },
      "execution_count": null,
      "outputs": []
    },
    {
      "cell_type": "markdown",
      "source": [
        "Write down each of the following compositions of the functions, using the f and\n",
        " g given above (you do not need to simplify the answer)::\n",
        "1.    g$\\circ$f;\n",
        "2.    g$\\circ$g;\n",
        "3.    f$\\circ $g$^{-1}$.\n",
        "\n",
        "*4 Marks*"
      ],
      "metadata": {
        "id": "YNAMhNvqvVRU"
      }
    },
    {
      "cell_type": "code",
      "source": [
        "#Enter part 2d answers here:\n",
        "Q2d_answer1 = \"\" #Enter answer between the speech marks\n",
        "\n",
        "Q2d_answer2 = \"\" #Enter answer between the speech marks\n",
        "\n",
        "Q2d_answer3 = \"\" #Enter answer between the speech marks"
      ],
      "metadata": {
        "id": "cnAUVK77xG05"
      },
      "execution_count": null,
      "outputs": []
    },
    {
      "cell_type": "markdown",
      "source": [
        "$\\mbox{}$\n",
        "\n"
      ],
      "metadata": {
        "id": "brSp-nUtTkY_"
      }
    },
    {
      "cell_type": "markdown",
      "source": [
        "\n",
        "$\\mbox{}$\n",
        "\n",
        "$\\mbox{}$\n",
        "\n",
        "$\\mbox{}$\n",
        "\n",
        "$\\mbox{}$\n",
        "\n",
        "$\\mbox{}$\n",
        "\n",
        "$\\mbox{}$\n",
        "\n",
        "$\\mbox{}$\n",
        "\n",
        "# Question 3"
      ],
      "metadata": {
        "id": "z2qErKxH5kQG"
      }
    },
    {
      "cell_type": "markdown",
      "source": [
        "## Part a)\n",
        "\n"
      ],
      "metadata": {
        "id": "RT5rvRdBEAg1"
      }
    },
    {
      "cell_type": "markdown",
      "source": [
        "Consider the set A given below of permutations of length $3$ (so $A\\subseteq S_3$). Recall that e represents the identity permutation.\n",
        "\n",
        "For this question you can use the function composePerm(a,b) to compose permutations, for example to get the permutation (1,2,3)∘(2,3,1) use `composePerm((1,2,3),(2,3,1))`.\n"
      ],
      "metadata": {
        "id": "2EIMLmS6x2N-"
      }
    },
    {
      "cell_type": "code",
      "source": [
        "# @title\n",
        "runQ3a()"
      ],
      "metadata": {
        "id": "tn0jQ9zNyv-r",
        "cellView": "form"
      },
      "execution_count": null,
      "outputs": []
    },
    {
      "cell_type": "markdown",
      "source": [
        "\n",
        "1.   Is A closed under composition? i.e., for every pair $a,b \\in $A is $a\\star b \\in $A\n",
        "2.   Is A closed under inverses? i.e., for every $a \\in $ A is $a^{-1} \\in$ A\n",
        "3.    Is A a subgroup of the group $S_3$ of permutations of length $3$?  \n",
        "\n",
        "*9 marks*"
      ],
      "metadata": {
        "id": "LbmhwwdH5c2n"
      }
    },
    {
      "cell_type": "code",
      "source": [
        "# Space for workings\n",
        "print(composePerm((1,2,3),(2,3,1))) # example use of composePerm\n",
        "\n"
      ],
      "metadata": {
        "colab": {
          "base_uri": "https://localhost:8080/"
        },
        "id": "8UtIAPRR6thH",
        "outputId": "7ac4ae73-70d1-452f-b543-78c32e0c2ea7"
      },
      "execution_count": null,
      "outputs": [
        {
          "output_type": "stream",
          "name": "stdout",
          "text": [
            "[(1, 3, 2)]\n"
          ]
        }
      ]
    },
    {
      "cell_type": "code",
      "source": [
        "#AEnter part 3a answers here\n",
        "Q3a_answer1 = \"\" #Enter Yes or No between speech marks\n",
        "\n",
        "Q3a_answer2 = \"\" #Enter Yes or No between speech marks\n",
        "\n",
        "Q3a_answer3 = \"\" #Enter Yes or No between speech marks"
      ],
      "metadata": {
        "id": "YynnGoKEx7CW"
      },
      "execution_count": null,
      "outputs": []
    },
    {
      "cell_type": "markdown",
      "source": [
        "$\\mbox{}$\n",
        "\n",
        "##Part b)\n",
        "\n",
        "Let $G = (\\{0,1,2,3,4\\},$op$)$ be a group. You can determine the output of the binary operation a op b by typing `op(a,b)`.\n",
        "\n"
      ],
      "metadata": {
        "id": "bLv9PVjO7Be-"
      }
    },
    {
      "cell_type": "code",
      "source": [
        "# Space for workings\n",
        "print(op(4,4)) # example use of op\n",
        "\n",
        "\n"
      ],
      "metadata": {
        "id": "X_2vowphAgDD"
      },
      "execution_count": null,
      "outputs": []
    },
    {
      "cell_type": "markdown",
      "source": [
        "1.    What is the identity element of $G$?\n",
        "2.    What is the order of $G$?\n",
        "3.    What is the inverse of $1$ in $G$?\n",
        "4.    Is $G$ Abelian?\n",
        "5.    Does $G$ have a subgroup of order 2?\n",
        "6.    Give an isomorphism $f$ from the cyclic group of order $5$ to $G$.\n",
        "\n",
        "*11 Marks*"
      ],
      "metadata": {
        "id": "g1m9ks6FCIsd"
      }
    },
    {
      "cell_type": "code",
      "source": [
        "# Enter part 3b answers here:\n",
        "Q3b_answer1 = ReplaceWithAnswer\n",
        "\n",
        "Q3b_answer2 = ReplaceWithAnswer\n",
        "\n",
        "Q3b_answer3 = ReplaceWithAnswer\n",
        "\n",
        "Q3b_answer4 = \"\" #Enter Yes or No between speech marks\n",
        "\n",
        "Q3b_answer5 = \"\" #Enter Yes or No between speech marks\n",
        "\n",
        "Q3b_answer6 = \"f(e)= ,f(g)= ,f(g^2)= ,f(g^3)= ,f(g^4)= \" #After each = enter the output of the isomorphism"
      ],
      "metadata": {
        "id": "JoCMV9CRCoyY"
      },
      "execution_count": null,
      "outputs": []
    }
  ]
}